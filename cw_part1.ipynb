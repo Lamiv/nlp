{
  "nbformat": 4,
  "nbformat_minor": 0,
  "metadata": {
    "colab": {
      "name": "cw_part1.ipynb",
      "provenance": [],
      "collapsed_sections": [
        "ts8xvjHJcDwU"
      ],
      "machine_shape": "hm",
      "include_colab_link": true
    },
    "kernelspec": {
      "name": "python3",
      "display_name": "Python 3"
    },
    "accelerator": "GPU"
  },
  "cells": [
    {
      "cell_type": "markdown",
      "metadata": {
        "id": "view-in-github",
        "colab_type": "text"
      },
      "source": [
        "<a href=\"https://colab.research.google.com/github/Lamiv/nlp/blob/master/cw_part1.ipynb\" target=\"_parent\"><img src=\"https://colab.research.google.com/assets/colab-badge.svg\" alt=\"Open In Colab\"/></a>"
      ]
    },
    {
      "cell_type": "markdown",
      "metadata": {
        "id": "ts8xvjHJcDwU",
        "colab_type": "text"
      },
      "source": [
        "<h1>Amazon fine foods review analysis"
      ]
    },
    {
      "cell_type": "markdown",
      "metadata": {
        "id": "tInQhod1dyJy",
        "colab_type": "text"
      },
      "source": [
        "Part 1 \n",
        "\n",
        "1.   Preprocessing\n",
        "2.   Normalization\n",
        "\n"
      ]
    },
    {
      "cell_type": "code",
      "metadata": {
        "id": "mUHYGVgNa56k",
        "colab_type": "code",
        "outputId": "219a3736-0ff0-43d9-d5b5-ead8b1db9b1e",
        "colab": {
          "base_uri": "https://localhost:8080/",
          "height": 72
        }
      },
      "source": [
        "pip install pandarallel"
      ],
      "execution_count": 0,
      "outputs": [
        {
          "output_type": "stream",
          "text": [
            "Requirement already satisfied: pandarallel in /usr/local/lib/python3.6/dist-packages (1.4.5)\n",
            "Requirement already satisfied: dill in /usr/local/lib/python3.6/dist-packages (from pandarallel) (0.3.1.1)\n"
          ],
          "name": "stdout"
        }
      ]
    },
    {
      "cell_type": "code",
      "metadata": {
        "id": "IkB-CbqM4V5W",
        "colab_type": "code",
        "outputId": "4af0522c-db4b-492f-fa39-a0685186d233",
        "colab": {
          "base_uri": "https://localhost:8080/",
          "height": 194
        }
      },
      "source": [
        "import nltk\n",
        "import re\n",
        "import numpy as np\n",
        "import sklearn\n",
        "import pandas as pd\n",
        "import matplotlib as mpl\n",
        "import matplotlib.pyplot as plt\n",
        "from sklearn.datasets import load_files\n",
        "\n",
        "nltk.download('stopwords')\n",
        "nltk.download('punkt')\n",
        "nltk.download('averaged_perceptron_tagger')\n",
        "nltk.download('wordnet')\n",
        "from nltk.corpus import stopwords\n",
        "from nltk.tokenize import word_tokenize \n",
        "from nltk.stem import PorterStemmer\n",
        "from nltk.stem import LancasterStemmer\n",
        "from nltk.stem import SnowballStemmer\n",
        "from multiprocessing import  Pool\n",
        "from nltk.corpus import wordnet\n",
        "\n",
        "from pandarallel import pandarallel"
      ],
      "execution_count": 0,
      "outputs": [
        {
          "output_type": "stream",
          "text": [
            "[nltk_data] Downloading package stopwords to /root/nltk_data...\n",
            "[nltk_data]   Package stopwords is already up-to-date!\n",
            "[nltk_data] Downloading package punkt to /root/nltk_data...\n",
            "[nltk_data]   Package punkt is already up-to-date!\n",
            "[nltk_data] Downloading package averaged_perceptron_tagger to\n",
            "[nltk_data]     /root/nltk_data...\n",
            "[nltk_data]   Package averaged_perceptron_tagger is already up-to-\n",
            "[nltk_data]       date!\n",
            "[nltk_data] Downloading package wordnet to /root/nltk_data...\n",
            "[nltk_data]   Package wordnet is already up-to-date!\n"
          ],
          "name": "stdout"
        }
      ]
    },
    {
      "cell_type": "code",
      "metadata": {
        "id": "BlMu77gehU3t",
        "colab_type": "code",
        "outputId": "765fe2a2-0128-4362-ff7e-c13c572e8645",
        "colab": {
          "base_uri": "https://localhost:8080/",
          "height": 34
        }
      },
      "source": [
        "#Check number of processors.\n",
        "import multiprocessing as mp\n",
        "print(\"Number of processors: \", mp.cpu_count())"
      ],
      "execution_count": 0,
      "outputs": [
        {
          "output_type": "stream",
          "text": [
            "Number of processors:  4\n"
          ],
          "name": "stdout"
        }
      ]
    },
    {
      "cell_type": "code",
      "metadata": {
        "id": "Q3bduCy9hGaq",
        "colab_type": "code",
        "colab": {}
      },
      "source": [
        "# Function to run any function in parallel processing.\n",
        "def execute_in_parallel(df, func, n_cores=4):\n",
        "    df_split = np.array_split(df, n_cores)\n",
        "    pool = Pool(n_cores)\n",
        "    df = pd.concat(pool.map(func, df_split))\n",
        "    pool.close()\n",
        "    pool.join()\n",
        "    return df"
      ],
      "execution_count": 0,
      "outputs": []
    },
    {
      "cell_type": "markdown",
      "metadata": {
        "id": "dT7GNbw24Yle",
        "colab_type": "text"
      },
      "source": [
        "#**Data Loading and Exploration**"
      ]
    },
    {
      "cell_type": "markdown",
      "metadata": {
        "id": "c8h_1UnaOvCW",
        "colab_type": "text"
      },
      "source": [
        "### Load the data\n",
        "\n"
      ]
    },
    {
      "cell_type": "code",
      "metadata": {
        "id": "OmkqXxj4-eeb",
        "colab_type": "code",
        "colab": {}
      },
      "source": [
        "sourcefile = \"/content/drive/My Drive/Colab Notebooks/train.csv\"\n",
        "stemfile = \"/content/drive/My Drive/Colab Notebooks/train_stemmer.csv\"\n",
        "stemzip = \"/content/drive/My Drive/Colab Notebooks/train_stemmer.zip\"\n",
        "lemfile = \"/content/drive/My Drive/Colab Notebooks/train_lem.csv\"\n",
        "lemzip = \"/content/drive/My Drive/Colab Notebooks/train_lem.zip\""
      ],
      "execution_count": 0,
      "outputs": []
    },
    {
      "cell_type": "code",
      "metadata": {
        "id": "kYr9ngWg9xWg",
        "colab_type": "code",
        "colab": {}
      },
      "source": [
        "traindf = pd.read_csv(sourcefile)"
      ],
      "execution_count": 0,
      "outputs": []
    },
    {
      "cell_type": "code",
      "metadata": {
        "id": "6w2dcgp2iodX",
        "colab_type": "code",
        "colab": {}
      },
      "source": [
        "#save some time in re-processing. load the file from stemfile\n",
        "#traindf = pd.read_csv(stemfile)"
      ],
      "execution_count": 0,
      "outputs": []
    },
    {
      "cell_type": "code",
      "metadata": {
        "id": "x1n4se189FN6",
        "colab_type": "code",
        "outputId": "dc205288-2eac-4134-e62c-cea9fbdb22af",
        "colab": {
          "base_uri": "https://localhost:8080/",
          "height": 34
        }
      },
      "source": [
        "print(\"Type of traindf\" , type(traindf))\n"
      ],
      "execution_count": 0,
      "outputs": [
        {
          "output_type": "stream",
          "text": [
            "Type of traindf <class 'pandas.core.frame.DataFrame'>\n"
          ],
          "name": "stdout"
        }
      ]
    },
    {
      "cell_type": "markdown",
      "metadata": {
        "id": "-4c9UGUZ7Xxb",
        "colab_type": "text"
      },
      "source": [
        "### Exploration"
      ]
    },
    {
      "cell_type": "code",
      "metadata": {
        "id": "qZitenolD8yo",
        "colab_type": "code",
        "outputId": "da37d1c1-8763-4635-ef55-c8436f26b011",
        "colab": {
          "base_uri": "https://localhost:8080/",
          "height": 283
        }
      },
      "source": [
        "traindf.info()"
      ],
      "execution_count": 0,
      "outputs": [
        {
          "output_type": "stream",
          "text": [
            "<class 'pandas.core.frame.DataFrame'>\n",
            "RangeIndex: 426340 entries, 0 to 426339\n",
            "Data columns (total 10 columns):\n",
            "Id                        426340 non-null int64\n",
            "ProductId                 426340 non-null object\n",
            "UserId                    426340 non-null object\n",
            "ProfileName               426326 non-null object\n",
            "HelpfulnessNumerator      426340 non-null int64\n",
            "HelpfulnessDenominator    426340 non-null int64\n",
            "Score                     426340 non-null int64\n",
            "Time                      426340 non-null int64\n",
            "Summary                   426320 non-null object\n",
            "Text                      426340 non-null object\n",
            "dtypes: int64(5), object(5)\n",
            "memory usage: 32.5+ MB\n"
          ],
          "name": "stdout"
        }
      ]
    },
    {
      "cell_type": "code",
      "metadata": {
        "id": "UU4--3i0AC1G",
        "colab_type": "code",
        "outputId": "d96ac0cb-a8cc-462b-b9b0-8b603a4a1db8",
        "colab": {
          "base_uri": "https://localhost:8080/",
          "height": 617
        }
      },
      "source": [
        "traindf.head()"
      ],
      "execution_count": 0,
      "outputs": [
        {
          "output_type": "execute_result",
          "data": {
            "text/html": [
              "<div>\n",
              "<style scoped>\n",
              "    .dataframe tbody tr th:only-of-type {\n",
              "        vertical-align: middle;\n",
              "    }\n",
              "\n",
              "    .dataframe tbody tr th {\n",
              "        vertical-align: top;\n",
              "    }\n",
              "\n",
              "    .dataframe thead th {\n",
              "        text-align: right;\n",
              "    }\n",
              "</style>\n",
              "<table border=\"1\" class=\"dataframe\">\n",
              "  <thead>\n",
              "    <tr style=\"text-align: right;\">\n",
              "      <th></th>\n",
              "      <th>Id</th>\n",
              "      <th>ProductId</th>\n",
              "      <th>UserId</th>\n",
              "      <th>ProfileName</th>\n",
              "      <th>HelpfulnessNumerator</th>\n",
              "      <th>HelpfulnessDenominator</th>\n",
              "      <th>Score</th>\n",
              "      <th>Time</th>\n",
              "      <th>Summary</th>\n",
              "      <th>Text</th>\n",
              "    </tr>\n",
              "  </thead>\n",
              "  <tbody>\n",
              "    <tr>\n",
              "      <th>0</th>\n",
              "      <td>220291</td>\n",
              "      <td>B0034EDLS2</td>\n",
              "      <td>AVF82BC7S0IO7</td>\n",
              "      <td>Kbrown</td>\n",
              "      <td>0</td>\n",
              "      <td>0</td>\n",
              "      <td>5</td>\n",
              "      <td>1332806400</td>\n",
              "      <td>Very Good</td>\n",
              "      <td>I received this product early from the seller!...</td>\n",
              "    </tr>\n",
              "    <tr>\n",
              "      <th>1</th>\n",
              "      <td>225833</td>\n",
              "      <td>B001I7HJE4</td>\n",
              "      <td>A1YUL9PCJR3JTY</td>\n",
              "      <td>O. Brown \"Ms. O. Khannah-Brown\"</td>\n",
              "      <td>1</td>\n",
              "      <td>1</td>\n",
              "      <td>5</td>\n",
              "      <td>1190160000</td>\n",
              "      <td>Organic, Kosher, Tasty Assortment of Premium T...</td>\n",
              "      <td>*****&lt;br /&gt;Numi's Collection Assortment Melang...</td>\n",
              "    </tr>\n",
              "    <tr>\n",
              "      <th>2</th>\n",
              "      <td>350901</td>\n",
              "      <td>B000LKTB90</td>\n",
              "      <td>A1BBPP1EC75JX4</td>\n",
              "      <td>Johan Bollen \"gekhond\"</td>\n",
              "      <td>0</td>\n",
              "      <td>0</td>\n",
              "      <td>5</td>\n",
              "      <td>1285977600</td>\n",
              "      <td>excellent gluten-free spaghetti: great taste, ...</td>\n",
              "      <td>I was very careful not to overcook this pasta,...</td>\n",
              "    </tr>\n",
              "    <tr>\n",
              "      <th>3</th>\n",
              "      <td>299801</td>\n",
              "      <td>B001HXJPS2</td>\n",
              "      <td>A5QSI9MNS8NMS</td>\n",
              "      <td>M. Esaili</td>\n",
              "      <td>0</td>\n",
              "      <td>0</td>\n",
              "      <td>5</td>\n",
              "      <td>1338163200</td>\n",
              "      <td>Lindt is Lindt</td>\n",
              "      <td>Buying this multi-pack I was misled by the pic...</td>\n",
              "    </tr>\n",
              "    <tr>\n",
              "      <th>4</th>\n",
              "      <td>48472</td>\n",
              "      <td>B006H34CUS</td>\n",
              "      <td>A20IBAIRSNBEAQ</td>\n",
              "      <td>Chelsea</td>\n",
              "      <td>0</td>\n",
              "      <td>0</td>\n",
              "      <td>5</td>\n",
              "      <td>1343606400</td>\n",
              "      <td>YUM!!!!!</td>\n",
              "      <td>These bars are so good! I loved them warmed up...</td>\n",
              "    </tr>\n",
              "  </tbody>\n",
              "</table>\n",
              "</div>"
            ],
            "text/plain": [
              "       Id  ...                                               Text\n",
              "0  220291  ...  I received this product early from the seller!...\n",
              "1  225833  ...  *****<br />Numi's Collection Assortment Melang...\n",
              "2  350901  ...  I was very careful not to overcook this pasta,...\n",
              "3  299801  ...  Buying this multi-pack I was misled by the pic...\n",
              "4   48472  ...  These bars are so good! I loved them warmed up...\n",
              "\n",
              "[5 rows x 10 columns]"
            ]
          },
          "metadata": {
            "tags": []
          },
          "execution_count": 93
        }
      ]
    },
    {
      "cell_type": "code",
      "metadata": {
        "id": "kN0MnYF-MIQ2",
        "colab_type": "code",
        "colab": {}
      },
      "source": [
        "\n"
      ],
      "execution_count": 0,
      "outputs": []
    },
    {
      "cell_type": "code",
      "metadata": {
        "id": "aaSBq7hnMzhj",
        "colab_type": "code",
        "outputId": "fca7aa25-88b1-4bcb-860e-2bda9a37b468",
        "colab": {
          "base_uri": "https://localhost:8080/",
          "height": 283
        }
      },
      "source": [
        "traindf.info()"
      ],
      "execution_count": 0,
      "outputs": [
        {
          "output_type": "stream",
          "text": [
            "<class 'pandas.core.frame.DataFrame'>\n",
            "RangeIndex: 426340 entries, 0 to 426339\n",
            "Data columns (total 10 columns):\n",
            "Id                        426340 non-null int64\n",
            "ProductId                 426340 non-null object\n",
            "UserId                    426340 non-null object\n",
            "ProfileName               426326 non-null object\n",
            "HelpfulnessNumerator      426340 non-null int64\n",
            "HelpfulnessDenominator    426340 non-null int64\n",
            "Score                     426340 non-null int64\n",
            "Time                      426340 non-null int64\n",
            "Summary                   426320 non-null object\n",
            "Text                      426340 non-null object\n",
            "dtypes: int64(5), object(5)\n",
            "memory usage: 32.5+ MB\n"
          ],
          "name": "stdout"
        }
      ]
    },
    {
      "cell_type": "code",
      "metadata": {
        "id": "kJJ-gPcBFgod",
        "colab_type": "code",
        "outputId": "8f7014a8-526e-4ad4-e2ef-849119f43682",
        "colab": {
          "base_uri": "https://localhost:8080/",
          "height": 287
        }
      },
      "source": [
        "traindf.describe()"
      ],
      "execution_count": 0,
      "outputs": [
        {
          "output_type": "execute_result",
          "data": {
            "text/html": [
              "<div>\n",
              "<style scoped>\n",
              "    .dataframe tbody tr th:only-of-type {\n",
              "        vertical-align: middle;\n",
              "    }\n",
              "\n",
              "    .dataframe tbody tr th {\n",
              "        vertical-align: top;\n",
              "    }\n",
              "\n",
              "    .dataframe thead th {\n",
              "        text-align: right;\n",
              "    }\n",
              "</style>\n",
              "<table border=\"1\" class=\"dataframe\">\n",
              "  <thead>\n",
              "    <tr style=\"text-align: right;\">\n",
              "      <th></th>\n",
              "      <th>Id</th>\n",
              "      <th>HelpfulnessNumerator</th>\n",
              "      <th>HelpfulnessDenominator</th>\n",
              "      <th>Score</th>\n",
              "      <th>Time</th>\n",
              "    </tr>\n",
              "  </thead>\n",
              "  <tbody>\n",
              "    <tr>\n",
              "      <th>count</th>\n",
              "      <td>426340.000000</td>\n",
              "      <td>426340.000000</td>\n",
              "      <td>426340.000000</td>\n",
              "      <td>426340.000000</td>\n",
              "      <td>4.263400e+05</td>\n",
              "    </tr>\n",
              "    <tr>\n",
              "      <th>mean</th>\n",
              "      <td>284300.799618</td>\n",
              "      <td>1.733159</td>\n",
              "      <td>2.220244</td>\n",
              "      <td>4.183455</td>\n",
              "      <td>1.296222e+09</td>\n",
              "    </tr>\n",
              "    <tr>\n",
              "      <th>std</th>\n",
              "      <td>164012.600602</td>\n",
              "      <td>7.328184</td>\n",
              "      <td>8.014894</td>\n",
              "      <td>1.310577</td>\n",
              "      <td>4.808061e+07</td>\n",
              "    </tr>\n",
              "    <tr>\n",
              "      <th>min</th>\n",
              "      <td>1.000000</td>\n",
              "      <td>0.000000</td>\n",
              "      <td>0.000000</td>\n",
              "      <td>1.000000</td>\n",
              "      <td>9.408096e+08</td>\n",
              "    </tr>\n",
              "    <tr>\n",
              "      <th>25%</th>\n",
              "      <td>142363.750000</td>\n",
              "      <td>0.000000</td>\n",
              "      <td>0.000000</td>\n",
              "      <td>4.000000</td>\n",
              "      <td>1.271203e+09</td>\n",
              "    </tr>\n",
              "    <tr>\n",
              "      <th>50%</th>\n",
              "      <td>284308.500000</td>\n",
              "      <td>0.000000</td>\n",
              "      <td>1.000000</td>\n",
              "      <td>5.000000</td>\n",
              "      <td>1.311034e+09</td>\n",
              "    </tr>\n",
              "    <tr>\n",
              "      <th>75%</th>\n",
              "      <td>426183.250000</td>\n",
              "      <td>2.000000</td>\n",
              "      <td>2.000000</td>\n",
              "      <td>5.000000</td>\n",
              "      <td>1.332720e+09</td>\n",
              "    </tr>\n",
              "    <tr>\n",
              "      <th>max</th>\n",
              "      <td>568454.000000</td>\n",
              "      <td>844.000000</td>\n",
              "      <td>923.000000</td>\n",
              "      <td>5.000000</td>\n",
              "      <td>1.351210e+09</td>\n",
              "    </tr>\n",
              "  </tbody>\n",
              "</table>\n",
              "</div>"
            ],
            "text/plain": [
              "                  Id  HelpfulnessNumerator  ...          Score          Time\n",
              "count  426340.000000         426340.000000  ...  426340.000000  4.263400e+05\n",
              "mean   284300.799618              1.733159  ...       4.183455  1.296222e+09\n",
              "std    164012.600602              7.328184  ...       1.310577  4.808061e+07\n",
              "min         1.000000              0.000000  ...       1.000000  9.408096e+08\n",
              "25%    142363.750000              0.000000  ...       4.000000  1.271203e+09\n",
              "50%    284308.500000              0.000000  ...       5.000000  1.311034e+09\n",
              "75%    426183.250000              2.000000  ...       5.000000  1.332720e+09\n",
              "max    568454.000000            844.000000  ...       5.000000  1.351210e+09\n",
              "\n",
              "[8 rows x 5 columns]"
            ]
          },
          "metadata": {
            "tags": []
          },
          "execution_count": 95
        }
      ]
    },
    {
      "cell_type": "code",
      "metadata": {
        "id": "5n_YNkEe7owv",
        "colab_type": "code",
        "outputId": "c7a69277-53e3-407c-ee51-f573951246ab",
        "colab": {
          "base_uri": "https://localhost:8080/",
          "height": 158
        }
      },
      "source": [
        "print(\"Number of Reviews per Score: \\n {}\".format(traindf.groupby(['Score'])['Id'].count()))\n",
        "#traindf.groupby(['Score'])['Id'].count()"
      ],
      "execution_count": 0,
      "outputs": [
        {
          "output_type": "stream",
          "text": [
            "Number of Reviews per Score: \n",
            " Score\n",
            "1     39193\n",
            "2     22353\n",
            "3     31993\n",
            "4     60309\n",
            "5    272492\n",
            "Name: Id, dtype: int64\n"
          ],
          "name": "stdout"
        }
      ]
    },
    {
      "cell_type": "code",
      "metadata": {
        "id": "nXZIbZqH8laU",
        "colab_type": "code",
        "outputId": "3bf3b715-e31b-4b48-c91d-ad6340510f0d",
        "colab": {
          "base_uri": "https://localhost:8080/",
          "height": 352
        }
      },
      "source": [
        "#plot data\n",
        "fig, ax = plt.subplots(figsize=(7,5))\n",
        "traindf.groupby(['Score']).count()['Id'].plot(ax=ax)"
      ],
      "execution_count": 0,
      "outputs": [
        {
          "output_type": "execute_result",
          "data": {
            "text/plain": [
              "<matplotlib.axes._subplots.AxesSubplot at 0x7fba720aa6d8>"
            ]
          },
          "metadata": {
            "tags": []
          },
          "execution_count": 97
        },
        {
          "output_type": "display_data",
          "data": {
            "image/png": "[encoded data removed]",
            "text/plain": [
              "<Figure size 504x360 with 1 Axes>"
            ]
          },
          "metadata": {
            "tags": []
          }
        }
      ]
    },
    {
      "cell_type": "code",
      "metadata": {
        "id": "beIXFECJ9wnU",
        "colab_type": "code",
        "outputId": "57f0c8c6-19f7-455e-b012-2e07e4ba33e0",
        "colab": {
          "base_uri": "https://localhost:8080/",
          "height": 293
        }
      },
      "source": [
        "df = pd.DataFrame(data = traindf)\n",
        "df = df.replace(np.nan,0)\n",
        "df = df.groupby(['Score']).count()['Id']\n",
        "df.plot.bar()\n",
        "#ax = df.plot(kind='bar', figsize=(10,6), color=\"indigo\", fontsize=13);\n",
        "#ax.set_alpha(0.8)\n",
        "#ax.set_title(\"My Bar Plot\", fontsize=22)\n",
        "#ax.set_ylabel(\"Some Heading on Y-Axis\", fontsize=15);\n",
        "#plt.show()"
      ],
      "execution_count": 0,
      "outputs": [
        {
          "output_type": "execute_result",
          "data": {
            "text/plain": [
              "<matplotlib.axes._subplots.AxesSubplot at 0x7fba684ae7b8>"
            ]
          },
          "metadata": {
            "tags": []
          },
          "execution_count": 98
        },
        {
          "output_type": "display_data",
          "data": {
            "image/png": "[encoded data removed]",
            "text/plain": [
              "<Figure size 432x288 with 1 Axes>"
            ]
          },
          "metadata": {
            "tags": []
          }
        }
      ]
    },
    {
      "cell_type": "code",
      "metadata": {
        "id": "0AAyv17eChR3",
        "colab_type": "code",
        "outputId": "4fa378a0-d94d-4367-cd5e-a3b3f08ddad9",
        "colab": {
          "base_uri": "https://localhost:8080/",
          "height": 54
        }
      },
      "source": [
        "traindf.loc[1,'Text']"
      ],
      "execution_count": 0,
      "outputs": [
        {
          "output_type": "execute_result",
          "data": {
            "text/plain": [
              "'*****<br />Numi\\'s Collection Assortment Melange includes:<br />5 Herbal Teas (caffeine-free, also called \"teasans\"):<br />* Dry Desert Lime: Lime Herbal Teasan<br />* Fields of Gold: Lemongrass Herbal Teasan<br />* Red Mellow Bush: Rooibos Herbal Teasan<br />* Bushmen\\'s Brew: Honeybush Herbal Teasan<br />* Simply Mint: Moroccan Mint<br /><br />2 Green Teas (lower in caffeine):<br />* Temple of Heaven: Gunpowder Green Tea<br />* Monkey King: Jasmine Green Tea<br /><br />2 Black Teas (contain caffeine):<br />* Chinese Breakfast: Yunnan Black Tea<br />* Smoky Tarry: Lapsang Souchong Black Tea<br /><br />This is a total of nine different teas, two tea bags of each one in each box. Numi teas are known for their high-quality, organic and kosher ingredients, and in my opinion, are some of the tastiest and best teas I have ever tried. They do not include artificial ingredients or flavorings.<br /><br />On the box, the manufacturer writes: \"From mist-covered mountains to sun-drenched deserts to fertile fields, we proudly bring you our tea palette. The flavors range from smooth earthiness, and light floral scents, to refreshingly sweet and sour notes. What they all share is the recollection of how some Ancient One tamed fire and water to coexist harmoniously, and steeped in them the gifts of Nature. Since that distant past, people have soothed, roused, healed, explored and celebrated with these wonderful infusions. We encourage you to do the same with Numi\\'s finest.\"<br /><br />The price is perfect, a big savings over single boxes. If you like Numi teas and want to sample a wonderful assortment, get it---you won\\'t be sorry. There may be some you like and others you don\\'t, but sampling them will be a delightful experience. If you are new to Numi this is an excellent way to sample their high-quality teas. I do not think you could find a better source of premium tea than Numi.<br /><br />Highly recommended.<br />*****'"
            ]
          },
          "metadata": {
            "tags": []
          },
          "execution_count": 9
        }
      ]
    },
    {
      "cell_type": "code",
      "metadata": {
        "id": "4N7EnrbvCshW",
        "colab_type": "code",
        "outputId": "b365342a-51b6-4a7f-a923-8ba7f0483c4c",
        "colab": {
          "base_uri": "https://localhost:8080/",
          "height": 54
        }
      },
      "source": [
        "traindf.loc[0,'Text']"
      ],
      "execution_count": 0,
      "outputs": [
        {
          "output_type": "execute_result",
          "data": {
            "text/plain": [
              "'I received this product early from the seller! They are a very tastey & a Great mid-day snack. I have shared them with my Glutten Free Friends & they will be ordering this product & more very soon.'"
            ]
          },
          "metadata": {
            "tags": []
          },
          "execution_count": 100
        }
      ]
    },
    {
      "cell_type": "code",
      "metadata": {
        "id": "yk7xQSojCu1G",
        "colab_type": "code",
        "outputId": "c75219d3-60ab-42b9-eb71-7dc538790fe9",
        "colab": {
          "base_uri": "https://localhost:8080/",
          "height": 54
        }
      },
      "source": [
        "traindf.loc[100,'Text']"
      ],
      "execution_count": 0,
      "outputs": [
        {
          "output_type": "execute_result",
          "data": {
            "text/plain": [
              "'This review is for the Slim Jim .28oz (Pack of 100) Meat Snacks. Being a Type 2 diabetic, these are great snacks to have on hand since they are very low in carbs. The flavor is just spicy enough to make them interesting, but is certainly not overpowering.<br /><br />The casing is a little tough and it does seam a little more greasy than my favorite meat snack, <a href=\"http://www.amazon.com/gp/product/B000GW0UGG\">Jack Link\\'s X-Stick, Original, 0.5-Ounce X-Sticks (Pack of 50)</a>, but the smaller size makes Slim Jim good for a \"pocket snack\".<br /><br />Recommended!<br /><br />CFH'"
            ]
          },
          "metadata": {
            "tags": []
          },
          "execution_count": 101
        }
      ]
    },
    {
      "cell_type": "code",
      "metadata": {
        "id": "O9VFT1wNHxKC",
        "colab_type": "code",
        "outputId": "e39823a9-ad2b-46c5-accf-788916045021",
        "colab": {
          "base_uri": "https://localhost:8080/",
          "height": 52
        }
      },
      "source": [
        "print(\"Number of reviewed products: {}\".format(traindf[\"ProductId\"].nunique()))\n",
        "print(\"Number of users participated: {}\".format(traindf[\"UserId\"].nunique()))"
      ],
      "execution_count": 0,
      "outputs": [
        {
          "output_type": "stream",
          "text": [
            "Number of reviewed products: 65858\n",
            "Number of users participated: 210008\n"
          ],
          "name": "stdout"
        }
      ]
    },
    {
      "cell_type": "code",
      "metadata": {
        "id": "z1X5jER7IBb3",
        "colab_type": "code",
        "outputId": "58d3eab4-8f07-487c-d0e7-2b03d42804eb",
        "colab": {
          "base_uri": "https://localhost:8080/",
          "height": 247
        }
      },
      "source": [
        "pcount = traindf.groupby(['ProductId'])['Id'].count()\n",
        "pcount.sort_values(axis=0, ascending=False )"
      ],
      "execution_count": 0,
      "outputs": [
        {
          "output_type": "execute_result",
          "data": {
            "text/plain": [
              "ProductId\n",
              "B007JFMH8M    667\n",
              "B002QWP89S    478\n",
              "B002QWP8H0    477\n",
              "B002QWHJOU    477\n",
              "B0026RQTGE    466\n",
              "             ... \n",
              "B002W8LMH8      1\n",
              "B002W5OA8Y      1\n",
              "B002W51EWY      1\n",
              "B002W4IZ4K      1\n",
              "B001TP0EBA      1\n",
              "Name: Id, Length: 65858, dtype: int64"
            ]
          },
          "metadata": {
            "tags": []
          },
          "execution_count": 103
        }
      ]
    },
    {
      "cell_type": "markdown",
      "metadata": {
        "id": "5w5qw1ffOMTJ",
        "colab_type": "text"
      },
      "source": [
        "#**Normalization** \n",
        "Cleanup the data, then enrich it , stemming and lematization\n",
        "\n",
        "\n",
        "\n"
      ]
    },
    {
      "cell_type": "markdown",
      "metadata": {
        "id": "BVnnX6RN6ee7",
        "colab_type": "text"
      },
      "source": [
        "## Cleanup"
      ]
    },
    {
      "cell_type": "code",
      "metadata": {
        "id": "JlfXADyOsXJo",
        "colab_type": "code",
        "outputId": "bcd728e1-c437-4801-e3fc-696e36f1ab45",
        "colab": {
          "base_uri": "https://localhost:8080/",
          "height": 283
        }
      },
      "source": [
        "traindf.info()"
      ],
      "execution_count": 0,
      "outputs": [
        {
          "output_type": "stream",
          "text": [
            "<class 'pandas.core.frame.DataFrame'>\n",
            "RangeIndex: 426340 entries, 0 to 426339\n",
            "Data columns (total 10 columns):\n",
            "Id                        426340 non-null int64\n",
            "ProductId                 426340 non-null object\n",
            "UserId                    426340 non-null object\n",
            "ProfileName               426326 non-null object\n",
            "HelpfulnessNumerator      426340 non-null int64\n",
            "HelpfulnessDenominator    426340 non-null int64\n",
            "Score                     426340 non-null int64\n",
            "Time                      426340 non-null int64\n",
            "Summary                   426320 non-null object\n",
            "Text                      426340 non-null object\n",
            "dtypes: int64(5), object(5)\n",
            "memory usage: 32.5+ MB\n"
          ],
          "name": "stdout"
        }
      ]
    },
    {
      "cell_type": "code",
      "metadata": {
        "id": "TjLEwgQMsgUT",
        "colab_type": "code",
        "outputId": "efce2d1d-7b2b-4abd-b73a-7afe9c7d5fca",
        "colab": {
          "base_uri": "https://localhost:8080/",
          "height": 534
        }
      },
      "source": [
        "#sorting the data before removing duplicates\n",
        "sorted_data=traindf.sort_values([\"UserId\",\"Score\",\"Summary\",\"Text\"],ascending=True,inplace=False,kind='quicksort',na_position='last')\n",
        "sorted_data.head()\n"
      ],
      "execution_count": 0,
      "outputs": [
        {
          "output_type": "execute_result",
          "data": {
            "text/html": [
              "<div>\n",
              "<style scoped>\n",
              "    .dataframe tbody tr th:only-of-type {\n",
              "        vertical-align: middle;\n",
              "    }\n",
              "\n",
              "    .dataframe tbody tr th {\n",
              "        vertical-align: top;\n",
              "    }\n",
              "\n",
              "    .dataframe thead th {\n",
              "        text-align: right;\n",
              "    }\n",
              "</style>\n",
              "<table border=\"1\" class=\"dataframe\">\n",
              "  <thead>\n",
              "    <tr style=\"text-align: right;\">\n",
              "      <th></th>\n",
              "      <th>Id</th>\n",
              "      <th>ProductId</th>\n",
              "      <th>UserId</th>\n",
              "      <th>ProfileName</th>\n",
              "      <th>HelpfulnessNumerator</th>\n",
              "      <th>HelpfulnessDenominator</th>\n",
              "      <th>Score</th>\n",
              "      <th>Time</th>\n",
              "      <th>Summary</th>\n",
              "      <th>Text</th>\n",
              "    </tr>\n",
              "  </thead>\n",
              "  <tbody>\n",
              "    <tr>\n",
              "      <th>109293</th>\n",
              "      <td>136323</td>\n",
              "      <td>B006Q820X0</td>\n",
              "      <td>#oc-R103C0QSV1DF5E</td>\n",
              "      <td>C</td>\n",
              "      <td>1</td>\n",
              "      <td>2</td>\n",
              "      <td>5</td>\n",
              "      <td>1343088000</td>\n",
              "      <td>Great for the Price</td>\n",
              "      <td>I have to say I was a little apprehensive to b...</td>\n",
              "    </tr>\n",
              "    <tr>\n",
              "      <th>70602</th>\n",
              "      <td>516062</td>\n",
              "      <td>B008I1XPKA</td>\n",
              "      <td>#oc-R109MU5OBBZ59U</td>\n",
              "      <td>AayGee</td>\n",
              "      <td>0</td>\n",
              "      <td>1</td>\n",
              "      <td>5</td>\n",
              "      <td>1350086400</td>\n",
              "      <td>AWESOME Coffee!!!!</td>\n",
              "      <td>Received my free K cups as a sample promotion ...</td>\n",
              "    </tr>\n",
              "    <tr>\n",
              "      <th>80036</th>\n",
              "      <td>516079</td>\n",
              "      <td>B008I1XPKA</td>\n",
              "      <td>#oc-R10LFEMQEW6QGZ</td>\n",
              "      <td>Julie</td>\n",
              "      <td>0</td>\n",
              "      <td>1</td>\n",
              "      <td>5</td>\n",
              "      <td>1345939200</td>\n",
              "      <td>Brooklyn Bean Roastery Breakfast Blend K-Cups</td>\n",
              "      <td>Brooklyn Bean Roastery Blend K-Cups are great ...</td>\n",
              "    </tr>\n",
              "    <tr>\n",
              "      <th>89988</th>\n",
              "      <td>378693</td>\n",
              "      <td>B0026LJ3EA</td>\n",
              "      <td>#oc-R10LT57ZGIB140</td>\n",
              "      <td>dipr</td>\n",
              "      <td>0</td>\n",
              "      <td>0</td>\n",
              "      <td>3</td>\n",
              "      <td>1310601600</td>\n",
              "      <td>Some damage</td>\n",
              "      <td>The shipment of the dog food was quick.  Howev...</td>\n",
              "    </tr>\n",
              "    <tr>\n",
              "      <th>5800</th>\n",
              "      <td>136545</td>\n",
              "      <td>B006Q820X0</td>\n",
              "      <td>#oc-R10UA029WVWIUI</td>\n",
              "      <td>Kim D</td>\n",
              "      <td>0</td>\n",
              "      <td>0</td>\n",
              "      <td>1</td>\n",
              "      <td>1342483200</td>\n",
              "      <td>Less than satisfactory.  I gave the Brooklyn K...</td>\n",
              "      <td>Brooklyn \"French Roast\" K-Cup Coffee is not on...</td>\n",
              "    </tr>\n",
              "  </tbody>\n",
              "</table>\n",
              "</div>"
            ],
            "text/plain": [
              "            Id  ...                                               Text\n",
              "109293  136323  ...  I have to say I was a little apprehensive to b...\n",
              "70602   516062  ...  Received my free K cups as a sample promotion ...\n",
              "80036   516079  ...  Brooklyn Bean Roastery Blend K-Cups are great ...\n",
              "89988   378693  ...  The shipment of the dog food was quick.  Howev...\n",
              "5800    136545  ...  Brooklyn \"French Roast\" K-Cup Coffee is not on...\n",
              "\n",
              "[5 rows x 10 columns]"
            ]
          },
          "metadata": {
            "tags": []
          },
          "execution_count": 20
        }
      ]
    },
    {
      "cell_type": "markdown",
      "metadata": {
        "id": "pxJG7cmit0qy",
        "colab_type": "text"
      },
      "source": [
        "**1. De-Duplication**\n",
        "\n"
      ]
    },
    {
      "cell_type": "code",
      "metadata": {
        "id": "UI-95k0LsqQD",
        "colab_type": "code",
        "outputId": "cba1c053-9737-4c3f-cced-af4d3b3c0520",
        "colab": {
          "base_uri": "https://localhost:8080/",
          "height": 52
        }
      },
      "source": [
        "#drop_duplicates \n",
        "# ignore product id, look at if same user gave same score with same text\n",
        "# same Score, userid and text can help\n",
        "final=sorted_data.drop_duplicates(subset={\"UserId\",\"Score\",\"Summary\",\"Text\"},keep='first',inplace=False)\n",
        "print(final.shape)\n",
        "final=final[final.HelpfulnessNumerator<=final.HelpfulnessDenominator]\n",
        "final.shape"
      ],
      "execution_count": 0,
      "outputs": [
        {
          "output_type": "stream",
          "text": [
            "(309191, 10)\n"
          ],
          "name": "stdout"
        },
        {
          "output_type": "execute_result",
          "data": {
            "text/plain": [
              "(309190, 10)"
            ]
          },
          "metadata": {
            "tags": []
          },
          "execution_count": 21
        }
      ]
    },
    {
      "cell_type": "code",
      "metadata": {
        "id": "tg2FyOafs_5a",
        "colab_type": "code",
        "outputId": "d866ae8f-9b33-4fee-e494-40e90a38a456",
        "colab": {
          "base_uri": "https://localhost:8080/",
          "height": 70
        }
      },
      "source": [
        "#percentage of data remaining after removing duplicates to the data we initially took.\n",
        "duplicates = (traindf['Id'].size*1.0) - (final['Id'].size*1.0)\n",
        "percent = (final['Id'].size*1.0)/(traindf['Id'].size*1.0)*100\n",
        "print('Duplicate records: ', duplicates)\n",
        "print('Unique ratio: ', percent)\n",
        "print('Deduplicated data set len: ', final['Id'].size*1.0)\n",
        "traindf = final"
      ],
      "execution_count": 0,
      "outputs": [
        {
          "output_type": "stream",
          "text": [
            "Duplicate records:  117150.0\n",
            "Unique ratio:  72.52193085330957\n",
            "Deduplicated data set len:  309190.0\n"
          ],
          "name": "stdout"
        }
      ]
    },
    {
      "cell_type": "markdown",
      "metadata": {
        "id": "SlCC0pANujLf",
        "colab_type": "text"
      },
      "source": [
        "**Handling** **NA** "
      ]
    },
    {
      "cell_type": "code",
      "metadata": {
        "id": "K1XAoSw9uhpq",
        "colab_type": "code",
        "colab": {}
      },
      "source": [
        "traindf.Summary.fillna(' ', inplace=True)\n",
        "traindf.Text.fillna(' ', inplace=True)"
      ],
      "execution_count": 0,
      "outputs": []
    },
    {
      "cell_type": "markdown",
      "metadata": {
        "id": "4b4sscVuvUCd",
        "colab_type": "text"
      },
      "source": [
        "Merge Text and Summary to Form \"REVIEW\", then do cleanup on REVIEW\n",
        "\n",
        "1.   Remove HTML tags\n",
        "2.   Remove numbers\n",
        "3.   Remove [] \n",
        "4.   Remove &, -, '_'\n",
        "\n",
        "\n",
        "\n"
      ]
    },
    {
      "cell_type": "code",
      "metadata": {
        "id": "rTJKW1TqOVnk",
        "colab_type": "code",
        "colab": {}
      },
      "source": [
        "def remove_html(text):\n",
        "    from bs4 import BeautifulSoup\n",
        "    soup = BeautifulSoup(text, \"html.parser\")\n",
        "    return soup.get_text()"
      ],
      "execution_count": 0,
      "outputs": []
    },
    {
      "cell_type": "code",
      "metadata": {
        "id": "v79-hohPOkrq",
        "colab_type": "code",
        "colab": {}
      },
      "source": [
        "def remove_square(text):\n",
        "  return re.sub('\\[[^]]*\\]', '', text)\n",
        "  "
      ],
      "execution_count": 0,
      "outputs": []
    },
    {
      "cell_type": "code",
      "metadata": {
        "id": "LuvRn6gaPIdm",
        "colab_type": "code",
        "colab": {}
      },
      "source": [
        "def remove_number(text):\n",
        "  return re.sub(r'\\d+', '', text)"
      ],
      "execution_count": 0,
      "outputs": []
    },
    {
      "cell_type": "code",
      "metadata": {
        "id": "1l89gH98pM0g",
        "colab_type": "code",
        "colab": {}
      },
      "source": [
        "def extract_alpha(text):\n",
        "  #return re.sub(r'\\W+',' ', text)\n",
        "  return re.sub(r'[^A-Za-z]+',' ', text)\n"
      ],
      "execution_count": 0,
      "outputs": []
    },
    {
      "cell_type": "code",
      "metadata": {
        "id": "3JjUBxO4q4Si",
        "colab_type": "code",
        "colab": {}
      },
      "source": [
        "def meaningful_sub(text):\n",
        "  return re.sub(r'(?<= )&(?= )', \"and\", text)"
      ],
      "execution_count": 0,
      "outputs": []
    },
    {
      "cell_type": "code",
      "metadata": {
        "id": "xayu9QDBPfxU",
        "colab_type": "code",
        "colab": {}
      },
      "source": [
        "def do_some_cleaning(text):\n",
        "  text = remove_html(text)\n",
        "  text = remove_square(text)\n",
        "  #text = meaningful_sub(text)\n",
        "  text = extract_alpha(text)\n",
        "  #text = remove_number(text)\n",
        "  return text\n"
      ],
      "execution_count": 0,
      "outputs": []
    },
    {
      "cell_type": "code",
      "metadata": {
        "id": "Qymm7ykuPxbL",
        "colab_type": "code",
        "colab": {}
      },
      "source": [
        "def merge_then_clean(df):\n",
        "  df['Review'] = traindf[traindf.columns[8:]].apply(\n",
        "    lambda x: ' '.join(x.astype(str)),\n",
        "    axis=1\n",
        ")\n",
        "  df['Review'] = df.apply(lambda row: do_some_cleaning(row['Review']), axis=1)\n",
        "  return df"
      ],
      "execution_count": 0,
      "outputs": []
    },
    {
      "cell_type": "code",
      "metadata": {
        "id": "DRGMwYU5iG7d",
        "colab_type": "code",
        "outputId": "be4f718b-4e5c-4d8c-9038-71d52b4711da",
        "colab": {
          "base_uri": "https://localhost:8080/",
          "height": 52
        }
      },
      "source": [
        "#traindf = merge_then_clean(traindf)\n",
        "#traindf = execute_in_parallel(traindf, merge_then_clean, mp.cpu_count())\n",
        "pandarallel.initialize()\n",
        "traindf['Review'] = traindf[traindf.columns[8:]].parallel_apply(\n",
        "    lambda x: ' '.join(x.astype(str)),\n",
        "    axis=1\n",
        ")"
      ],
      "execution_count": 0,
      "outputs": [
        {
          "output_type": "stream",
          "text": [
            "INFO: Pandarallel will run on 4 workers.\n",
            "INFO: Pandarallel will use Memory file system to transfer data between the main process and workers.\n"
          ],
          "name": "stdout"
        }
      ]
    },
    {
      "cell_type": "code",
      "metadata": {
        "id": "JghmuvRUvLkH",
        "colab_type": "code",
        "outputId": "655c2375-49c9-4090-e49f-cda8fe14a98c",
        "colab": {
          "base_uri": "https://localhost:8080/",
          "height": 52
        }
      },
      "source": [
        "pandarallel.initialize()\n",
        "traindf['Review'] = traindf.parallel_apply(lambda row: do_some_cleaning(row['Review']), axis=1)"
      ],
      "execution_count": 0,
      "outputs": [
        {
          "output_type": "stream",
          "text": [
            "INFO: Pandarallel will run on 4 workers.\n",
            "INFO: Pandarallel will use Memory file system to transfer data between the main process and workers.\n"
          ],
          "name": "stdout"
        }
      ]
    },
    {
      "cell_type": "code",
      "metadata": {
        "id": "D6ddhGKvwd0p",
        "colab_type": "code",
        "colab": {}
      },
      "source": [
        "#drop some coloumns, as we do not need it now.\n",
        "originaldf = pd.DataFrame(traindf)\n",
        "traindf = traindf.drop(['ProductId','UserId','ProfileName','HelpfulnessNumerator','HelpfulnessDenominator','Summary','Text'], axis = 1)"
      ],
      "execution_count": 0,
      "outputs": []
    },
    {
      "cell_type": "code",
      "metadata": {
        "id": "eGfz6XrXU0ix",
        "colab_type": "code",
        "outputId": "a3c0c69a-31f9-4af8-f0b5-7fad7fb4be14",
        "colab": {
          "base_uri": "https://localhost:8080/",
          "height": 197
        }
      },
      "source": [
        "traindf.head()"
      ],
      "execution_count": 0,
      "outputs": [
        {
          "output_type": "execute_result",
          "data": {
            "text/html": [
              "<div>\n",
              "<style scoped>\n",
              "    .dataframe tbody tr th:only-of-type {\n",
              "        vertical-align: middle;\n",
              "    }\n",
              "\n",
              "    .dataframe tbody tr th {\n",
              "        vertical-align: top;\n",
              "    }\n",
              "\n",
              "    .dataframe thead th {\n",
              "        text-align: right;\n",
              "    }\n",
              "</style>\n",
              "<table border=\"1\" class=\"dataframe\">\n",
              "  <thead>\n",
              "    <tr style=\"text-align: right;\">\n",
              "      <th></th>\n",
              "      <th>Id</th>\n",
              "      <th>Score</th>\n",
              "      <th>Time</th>\n",
              "      <th>Review</th>\n",
              "    </tr>\n",
              "  </thead>\n",
              "  <tbody>\n",
              "    <tr>\n",
              "      <th>109293</th>\n",
              "      <td>136323</td>\n",
              "      <td>5</td>\n",
              "      <td>1343088000</td>\n",
              "      <td>Great for the Price I have to say I was a litt...</td>\n",
              "    </tr>\n",
              "    <tr>\n",
              "      <th>70602</th>\n",
              "      <td>516062</td>\n",
              "      <td>5</td>\n",
              "      <td>1350086400</td>\n",
              "      <td>AWESOME Coffee Received my free K cups as a sa...</td>\n",
              "    </tr>\n",
              "    <tr>\n",
              "      <th>80036</th>\n",
              "      <td>516079</td>\n",
              "      <td>5</td>\n",
              "      <td>1345939200</td>\n",
              "      <td>Brooklyn Bean Roastery Breakfast Blend K Cups ...</td>\n",
              "    </tr>\n",
              "    <tr>\n",
              "      <th>89988</th>\n",
              "      <td>378693</td>\n",
              "      <td>3</td>\n",
              "      <td>1310601600</td>\n",
              "      <td>Some damage The shipment of the dog food was q...</td>\n",
              "    </tr>\n",
              "    <tr>\n",
              "      <th>5800</th>\n",
              "      <td>136545</td>\n",
              "      <td>1</td>\n",
              "      <td>1342483200</td>\n",
              "      <td>Less than satisfactory I gave the Brooklyn K C...</td>\n",
              "    </tr>\n",
              "  </tbody>\n",
              "</table>\n",
              "</div>"
            ],
            "text/plain": [
              "            Id  ...                                             Review\n",
              "109293  136323  ...  Great for the Price I have to say I was a litt...\n",
              "70602   516062  ...  AWESOME Coffee Received my free K cups as a sa...\n",
              "80036   516079  ...  Brooklyn Bean Roastery Breakfast Blend K Cups ...\n",
              "89988   378693  ...  Some damage The shipment of the dog food was q...\n",
              "5800    136545  ...  Less than satisfactory I gave the Brooklyn K C...\n",
              "\n",
              "[5 rows x 4 columns]"
            ]
          },
          "metadata": {
            "tags": []
          },
          "execution_count": 42
        }
      ]
    },
    {
      "cell_type": "code",
      "metadata": {
        "id": "hV0rVO69U8D2",
        "colab_type": "code",
        "outputId": "81d23a48-f827-452c-917a-8934754b3b4e",
        "colab": {
          "base_uri": "https://localhost:8080/",
          "height": 197
        }
      },
      "source": [
        "traindf.tail()"
      ],
      "execution_count": 0,
      "outputs": [
        {
          "output_type": "execute_result",
          "data": {
            "text/html": [
              "<div>\n",
              "<style scoped>\n",
              "    .dataframe tbody tr th:only-of-type {\n",
              "        vertical-align: middle;\n",
              "    }\n",
              "\n",
              "    .dataframe tbody tr th {\n",
              "        vertical-align: top;\n",
              "    }\n",
              "\n",
              "    .dataframe thead th {\n",
              "        text-align: right;\n",
              "    }\n",
              "</style>\n",
              "<table border=\"1\" class=\"dataframe\">\n",
              "  <thead>\n",
              "    <tr style=\"text-align: right;\">\n",
              "      <th></th>\n",
              "      <th>Id</th>\n",
              "      <th>Score</th>\n",
              "      <th>Time</th>\n",
              "      <th>Review</th>\n",
              "    </tr>\n",
              "  </thead>\n",
              "  <tbody>\n",
              "    <tr>\n",
              "      <th>206340</th>\n",
              "      <td>338489</td>\n",
              "      <td>5</td>\n",
              "      <td>1329436800</td>\n",
              "      <td>Just what I needed This is a great addition to...</td>\n",
              "    </tr>\n",
              "    <tr>\n",
              "      <th>423327</th>\n",
              "      <td>190698</td>\n",
              "      <td>5</td>\n",
              "      <td>1268179200</td>\n",
              "      <td>pretty amazing i ve wanted one of these since ...</td>\n",
              "    </tr>\n",
              "    <tr>\n",
              "      <th>369037</th>\n",
              "      <td>222781</td>\n",
              "      <td>5</td>\n",
              "      <td>1309737600</td>\n",
              "      <td>I Have Spoken All of the chocolate arrived wit...</td>\n",
              "    </tr>\n",
              "    <tr>\n",
              "      <th>425126</th>\n",
              "      <td>131469</td>\n",
              "      <td>5</td>\n",
              "      <td>1337472000</td>\n",
              "      <td>Amazing flavor I use this all the time Good fo...</td>\n",
              "    </tr>\n",
              "    <tr>\n",
              "      <th>162126</th>\n",
              "      <td>183897</td>\n",
              "      <td>2</td>\n",
              "      <td>1333497600</td>\n",
              "      <td>Disappointed I ordered this cereal based on th...</td>\n",
              "    </tr>\n",
              "  </tbody>\n",
              "</table>\n",
              "</div>"
            ],
            "text/plain": [
              "            Id  ...                                             Review\n",
              "206340  338489  ...  Just what I needed This is a great addition to...\n",
              "423327  190698  ...  pretty amazing i ve wanted one of these since ...\n",
              "369037  222781  ...  I Have Spoken All of the chocolate arrived wit...\n",
              "425126  131469  ...  Amazing flavor I use this all the time Good fo...\n",
              "162126  183897  ...  Disappointed I ordered this cereal based on th...\n",
              "\n",
              "[5 rows x 4 columns]"
            ]
          },
          "metadata": {
            "tags": []
          },
          "execution_count": 43
        }
      ]
    },
    {
      "cell_type": "code",
      "metadata": {
        "id": "6LF_ERJPGKHr",
        "colab_type": "code",
        "outputId": "4533e13d-c382-44c9-c14d-aad3850930ad",
        "colab": {
          "base_uri": "https://localhost:8080/",
          "height": 54
        }
      },
      "source": [
        "traindf.loc[1,'Review']"
      ],
      "execution_count": 0,
      "outputs": [
        {
          "output_type": "execute_result",
          "data": {
            "text/plain": [
              "'Organic Kosher Tasty Assortment of Premium Teas Teasans Numi s Collection Assortment Melange includes Herbal Teas caffeine free also called teasans Dry Desert Lime Lime Herbal Teasan Fields of Gold Lemongrass Herbal Teasan Red Mellow Bush Rooibos Herbal Teasan Bushmen s Brew Honeybush Herbal Teasan Simply Mint Moroccan Mint Green Teas lower in caffeine Temple of Heaven Gunpowder Green Tea Monkey King Jasmine Green Tea Black Teas contain caffeine Chinese Breakfast Yunnan Black Tea Smoky Tarry Lapsang Souchong Black TeaThis is a total of nine different teas two tea bags of each one in each box Numi teas are known for their high quality organic and kosher ingredients and in my opinion are some of the tastiest and best teas I have ever tried They do not include artificial ingredients or flavorings On the box the manufacturer writes From mist covered mountains to sun drenched deserts to fertile fields we proudly bring you our tea palette The flavors range from smooth earthiness and light floral scents to refreshingly sweet and sour notes What they all share is the recollection of how some Ancient One tamed fire and water to coexist harmoniously and steeped in them the gifts of Nature Since that distant past people have soothed roused healed explored and celebrated with these wonderful infusions We encourage you to do the same with Numi s finest The price is perfect a big savings over single boxes If you like Numi teas and want to sample a wonderful assortment get it you won t be sorry There may be some you like and others you don t but sampling them will be a delightful experience If you are new to Numi this is an excellent way to sample their high quality teas I do not think you could find a better source of premium tea than Numi Highly recommended Organic Kosher Tasty Assortment of Premium Teas Teasans Numi s Collection Assortment Melange includes Herbal Teas caffeine free also called teasans Dry Desert Lime Lime Herbal Teasan Fields of Gold Lemongrass Herbal Teasan Red Mellow Bush Rooibos Herbal Teasan Bushmen s Brew Honeybush Herbal Teasan Simply Mint Moroccan Mint Green Teas lower in caffeine Temple of Heaven Gunpowder Green Tea Monkey King Jasmine Green Tea Black Teas contain caffeine Chinese Breakfast Yunnan Black Tea Smoky Tarry Lapsang Souchong Black TeaThis is a total of nine different teas two tea bags of each one in each box Numi teas are known for their high quality organic and kosher ingredients and in my opinion are some of the tastiest and best teas I have ever tried They do not include artificial ingredients or flavorings On the box the manufacturer writes From mist covered mountains to sun drenched deserts to fertile fields we proudly bring you our tea palette The flavors range from smooth earthiness and light floral scents to refreshingly sweet and sour notes What they all share is the recollection of how some Ancient One tamed fire and water to coexist harmoniously and steeped in them the gifts of Nature Since that distant past people have soothed roused healed explored and celebrated with these wonderful infusions We encourage you to do the same with Numi s finest The price is perfect a big savings over single boxes If you like Numi teas and want to sample a wonderful assortment get it you won t be sorry There may be some you like and others you don t but sampling them will be a delightful experience If you are new to Numi this is an excellent way to sample their high quality teas I do not think you could find a better source of premium tea than Numi Highly recommended '"
            ]
          },
          "metadata": {
            "tags": []
          },
          "execution_count": 44
        }
      ]
    },
    {
      "cell_type": "code",
      "metadata": {
        "id": "W10AxpjQGbZH",
        "colab_type": "code",
        "outputId": "f97ee60b-c501-4e46-ea2a-97539487a8d8",
        "colab": {
          "base_uri": "https://localhost:8080/",
          "height": 54
        }
      },
      "source": [
        "traindf.loc[0,'Review']"
      ],
      "execution_count": 0,
      "outputs": [
        {
          "output_type": "execute_result",
          "data": {
            "text/plain": [
              "'Very Good I received this product early from the seller They are a very tastey a Great mid day snack I have shared them with my Glutten Free Friends they will be ordering this product more very soon Very Good I received this product early from the seller They are a very tastey a Great mid day snack I have shared them with my Glutten Free Friends they will be ordering this product more very soon '"
            ]
          },
          "metadata": {
            "tags": []
          },
          "execution_count": 45
        }
      ]
    },
    {
      "cell_type": "code",
      "metadata": {
        "id": "sD3jUHU6JMZP",
        "colab_type": "code",
        "colab": {}
      },
      "source": [
        "originaldf.to_csv(stemfile)"
      ],
      "execution_count": 0,
      "outputs": []
    },
    {
      "cell_type": "markdown",
      "metadata": {
        "id": "mRE-EkFeIY01",
        "colab_type": "text"
      },
      "source": [
        "**Lets see how many reviews available against the scrores** \n"
      ]
    },
    {
      "cell_type": "code",
      "metadata": {
        "id": "1Zo4QpacIwG5",
        "colab_type": "code",
        "outputId": "1951c271-be42-48a2-c5fa-81f51980cecd",
        "colab": {
          "base_uri": "https://localhost:8080/",
          "height": 227
        }
      },
      "source": [
        "traindf.groupby('Score').count()"
      ],
      "execution_count": 0,
      "outputs": [
        {
          "output_type": "execute_result",
          "data": {
            "text/html": [
              "<div>\n",
              "<style scoped>\n",
              "    .dataframe tbody tr th:only-of-type {\n",
              "        vertical-align: middle;\n",
              "    }\n",
              "\n",
              "    .dataframe tbody tr th {\n",
              "        vertical-align: top;\n",
              "    }\n",
              "\n",
              "    .dataframe thead th {\n",
              "        text-align: right;\n",
              "    }\n",
              "</style>\n",
              "<table border=\"1\" class=\"dataframe\">\n",
              "  <thead>\n",
              "    <tr style=\"text-align: right;\">\n",
              "      <th></th>\n",
              "      <th>Id</th>\n",
              "      <th>Time</th>\n",
              "      <th>Review</th>\n",
              "    </tr>\n",
              "    <tr>\n",
              "      <th>Score</th>\n",
              "      <th></th>\n",
              "      <th></th>\n",
              "      <th></th>\n",
              "    </tr>\n",
              "  </thead>\n",
              "  <tbody>\n",
              "    <tr>\n",
              "      <th>1</th>\n",
              "      <td>28531</td>\n",
              "      <td>28531</td>\n",
              "      <td>28531</td>\n",
              "    </tr>\n",
              "    <tr>\n",
              "      <th>2</th>\n",
              "      <td>16290</td>\n",
              "      <td>16290</td>\n",
              "      <td>16290</td>\n",
              "    </tr>\n",
              "    <tr>\n",
              "      <th>3</th>\n",
              "      <td>23302</td>\n",
              "      <td>23302</td>\n",
              "      <td>23302</td>\n",
              "    </tr>\n",
              "    <tr>\n",
              "      <th>4</th>\n",
              "      <td>43879</td>\n",
              "      <td>43879</td>\n",
              "      <td>43879</td>\n",
              "    </tr>\n",
              "    <tr>\n",
              "      <th>5</th>\n",
              "      <td>197188</td>\n",
              "      <td>197188</td>\n",
              "      <td>197188</td>\n",
              "    </tr>\n",
              "  </tbody>\n",
              "</table>\n",
              "</div>"
            ],
            "text/plain": [
              "           Id    Time  Review\n",
              "Score                        \n",
              "1       28531   28531   28531\n",
              "2       16290   16290   16290\n",
              "3       23302   23302   23302\n",
              "4       43879   43879   43879\n",
              "5      197188  197188  197188"
            ]
          },
          "metadata": {
            "tags": []
          },
          "execution_count": 46
        }
      ]
    },
    {
      "cell_type": "markdown",
      "metadata": {
        "id": "qsnp81UK6udb",
        "colab_type": "text"
      },
      "source": [
        "## Enrich"
      ]
    },
    {
      "cell_type": "markdown",
      "metadata": {
        "id": "kOF5D8l-JXNT",
        "colab_type": "text"
      },
      "source": [
        "Introduce a new coloumn , so reviews with score more than 3 are positive, and below 3 are negative, 3 is neutral. Posive gets +1, negative -1 and neutral is 0"
      ]
    },
    {
      "cell_type": "code",
      "metadata": {
        "id": "HOBEe2-lJpWy",
        "colab_type": "code",
        "colab": {}
      },
      "source": [
        "traindf['Positivity'] = np.where(traindf['Score'] > 3, 1, np.where(traindf['Score'] < 3, -1, 0))"
      ],
      "execution_count": 0,
      "outputs": []
    },
    {
      "cell_type": "code",
      "metadata": {
        "id": "0oUmB3BgKjsV",
        "colab_type": "code",
        "outputId": "c247e9b4-5613-4a32-a251-20b60aaf9469",
        "colab": {
          "base_uri": "https://localhost:8080/",
          "height": 167
        }
      },
      "source": [
        "traindf.groupby('Positivity').count()"
      ],
      "execution_count": 0,
      "outputs": [
        {
          "output_type": "execute_result",
          "data": {
            "text/html": [
              "<div>\n",
              "<style scoped>\n",
              "    .dataframe tbody tr th:only-of-type {\n",
              "        vertical-align: middle;\n",
              "    }\n",
              "\n",
              "    .dataframe tbody tr th {\n",
              "        vertical-align: top;\n",
              "    }\n",
              "\n",
              "    .dataframe thead th {\n",
              "        text-align: right;\n",
              "    }\n",
              "</style>\n",
              "<table border=\"1\" class=\"dataframe\">\n",
              "  <thead>\n",
              "    <tr style=\"text-align: right;\">\n",
              "      <th></th>\n",
              "      <th>Id</th>\n",
              "      <th>Score</th>\n",
              "      <th>Time</th>\n",
              "      <th>Review</th>\n",
              "    </tr>\n",
              "    <tr>\n",
              "      <th>Positivity</th>\n",
              "      <th></th>\n",
              "      <th></th>\n",
              "      <th></th>\n",
              "      <th></th>\n",
              "    </tr>\n",
              "  </thead>\n",
              "  <tbody>\n",
              "    <tr>\n",
              "      <th>-1</th>\n",
              "      <td>44821</td>\n",
              "      <td>44821</td>\n",
              "      <td>44821</td>\n",
              "      <td>44821</td>\n",
              "    </tr>\n",
              "    <tr>\n",
              "      <th>0</th>\n",
              "      <td>23302</td>\n",
              "      <td>23302</td>\n",
              "      <td>23302</td>\n",
              "      <td>23302</td>\n",
              "    </tr>\n",
              "    <tr>\n",
              "      <th>1</th>\n",
              "      <td>241067</td>\n",
              "      <td>241067</td>\n",
              "      <td>241067</td>\n",
              "      <td>241067</td>\n",
              "    </tr>\n",
              "  </tbody>\n",
              "</table>\n",
              "</div>"
            ],
            "text/plain": [
              "                Id   Score    Time  Review\n",
              "Positivity                                \n",
              "-1           44821   44821   44821   44821\n",
              " 0           23302   23302   23302   23302\n",
              " 1          241067  241067  241067  241067"
            ]
          },
          "metadata": {
            "tags": []
          },
          "execution_count": 48
        }
      ]
    },
    {
      "cell_type": "code",
      "metadata": {
        "id": "TgYmQlGOC5hQ",
        "colab_type": "code",
        "outputId": "13111ab0-a5e3-475c-eb89-9934492e5e78",
        "colab": {
          "base_uri": "https://localhost:8080/",
          "height": 298
        }
      },
      "source": [
        "df = pd.DataFrame(data = traindf)\n",
        "df = df.replace(np.nan,0)\n",
        "df = df.groupby(['Positivity']).count()['Score']\n",
        "df.plot.bar()"
      ],
      "execution_count": 0,
      "outputs": [
        {
          "output_type": "execute_result",
          "data": {
            "text/plain": [
              "<matplotlib.axes._subplots.AxesSubplot at 0x7fd58efd2dd8>"
            ]
          },
          "metadata": {
            "tags": []
          },
          "execution_count": 49
        },
        {
          "output_type": "display_data",
          "data": {
            "image/png": "[encoded data removed]",
            "text/plain": [
              "<Figure size 432x288 with 1 Axes>"
            ]
          },
          "metadata": {
            "tags": []
          }
        }
      ]
    },
    {
      "cell_type": "code",
      "metadata": {
        "id": "iLQT9BVlDaE9",
        "colab_type": "code",
        "outputId": "aebc9310-57a1-4f0d-e3d7-1c60cb9f99fd",
        "colab": {
          "base_uri": "https://localhost:8080/",
          "height": 34
        }
      },
      "source": [
        "from numpy import array\n",
        "from sklearn.preprocessing import LabelEncoder\n",
        "from sklearn.preprocessing import OneHotEncoder\n",
        "\n",
        "positivity_label = ['Negative','Neutral','Positive']\n",
        "values = array(positivity_label)\n",
        "print(values)"
      ],
      "execution_count": 0,
      "outputs": [
        {
          "output_type": "stream",
          "text": [
            "['Negative' 'Neutral' 'Positive']\n"
          ],
          "name": "stdout"
        }
      ]
    },
    {
      "cell_type": "markdown",
      "metadata": {
        "id": "JjD_LfGSOZIT",
        "colab_type": "text"
      },
      "source": [
        "## **Stemming**"
      ]
    },
    {
      "cell_type": "markdown",
      "metadata": {
        "id": "iF2ZyngGvzsd",
        "colab_type": "text"
      },
      "source": [
        "**Tokenize**"
      ]
    },
    {
      "cell_type": "code",
      "metadata": {
        "id": "seu-Fe3IwNBU",
        "colab_type": "code",
        "colab": {}
      },
      "source": [
        "#tokenize and remove stop words\n",
        "def tokenize_wo_stop(text):\n",
        "  text1 = text\n",
        "  text1 = text1.lower()\n",
        "  stop_words = set(stopwords.words('english'))\n",
        "  words      = word_tokenize(text1)\n",
        "  filtered   = [] \n",
        "  #filter stop words from words\n",
        "  for word in words: \n",
        "    if word not in stop_words: \n",
        "        filtered.append(word) \n",
        "  \n",
        "  return words\n"
      ],
      "execution_count": 0,
      "outputs": []
    },
    {
      "cell_type": "code",
      "metadata": {
        "id": "y2N43mqwx5cA",
        "colab_type": "code",
        "outputId": "df1404e2-3a60-4b24-c7e7-6a9c8dc788c3",
        "colab": {
          "base_uri": "https://localhost:8080/",
          "height": 72
        }
      },
      "source": [
        "token1 = tokenize_wo_stop(traindf.loc[0,'Review'])\n",
        "print(traindf.loc[0,'Review'])\n",
        "print(token1)"
      ],
      "execution_count": 0,
      "outputs": [
        {
          "output_type": "stream",
          "text": [
            "Very Good I received this product early from the seller They are a very tastey a Great mid day snack I have shared them with my Glutten Free Friends they will be ordering this product more very soon Very Good I received this product early from the seller They are a very tastey a Great mid day snack I have shared them with my Glutten Free Friends they will be ordering this product more very soon \n",
            "['very', 'good', 'i', 'received', 'this', 'product', 'early', 'from', 'the', 'seller', 'they', 'are', 'a', 'very', 'tastey', 'a', 'great', 'mid', 'day', 'snack', 'i', 'have', 'shared', 'them', 'with', 'my', 'glutten', 'free', 'friends', 'they', 'will', 'be', 'ordering', 'this', 'product', 'more', 'very', 'soon', 'very', 'good', 'i', 'received', 'this', 'product', 'early', 'from', 'the', 'seller', 'they', 'are', 'a', 'very', 'tastey', 'a', 'great', 'mid', 'day', 'snack', 'i', 'have', 'shared', 'them', 'with', 'my', 'glutten', 'free', 'friends', 'they', 'will', 'be', 'ordering', 'this', 'product', 'more', 'very', 'soon']\n"
          ],
          "name": "stdout"
        }
      ]
    },
    {
      "cell_type": "code",
      "metadata": {
        "id": "oCOavlPAPSJ_",
        "colab_type": "code",
        "colab": {}
      },
      "source": [
        "porter = PorterStemmer()\n",
        "lancaster=LancasterStemmer()\n",
        "snowball = SnowballStemmer('english')"
      ],
      "execution_count": 0,
      "outputs": []
    },
    {
      "cell_type": "code",
      "metadata": {
        "id": "I07yOfqTL2Yk",
        "colab_type": "code",
        "colab": {}
      },
      "source": [
        "traindf.Review.fillna(' ', inplace=True)"
      ],
      "execution_count": 0,
      "outputs": []
    },
    {
      "cell_type": "code",
      "metadata": {
        "id": "bWHe7KnUQV1I",
        "colab_type": "code",
        "colab": {}
      },
      "source": [
        "# Stemming the tokens\n",
        "def stem_sentence(words, use=1):\n",
        "  if use==1:\n",
        "    stemmedTokens = [porter.stem(word) for word in words]\n",
        "  elif use==2:\n",
        "    stemmedTokens = [lancaster.stem(word) for word in words]\n",
        "  else:\n",
        "    stemmedTokens = [snowball.stem(word) for word in words]\n",
        "  return ' '.join(stemmedTokens)\n"
      ],
      "execution_count": 0,
      "outputs": []
    },
    {
      "cell_type": "code",
      "metadata": {
        "id": "KFZWSNad1qJF",
        "colab_type": "code",
        "colab": {}
      },
      "source": [
        "#Tokenize and then Apply various stemmers to the Tokens\n",
        "def tokenize(df):\n",
        "  df['Tokens'] =  df.apply(lambda row: tokenize_wo_stop(row['Review']), axis=1)\n",
        "  return df\n",
        "def portstem(df):\n",
        "   df['PortStem'] =  df.apply(lambda row: stem_sentence(row['Tokens'],1), axis=1)\n",
        "   return df\n",
        "def lanstem(df):\n",
        "  df['LancStem'] =  df.apply(lambda row: stem_sentence(row['Tokens'],2), axis=1)\n",
        "  return df\n",
        "def snowstem(df):\n",
        "  df['SnowStem'] =  df.apply(lambda row: stem_sentence(row['Tokens'],3), axis=1)\n",
        "  return df\n",
        "  "
      ],
      "execution_count": 0,
      "outputs": []
    },
    {
      "cell_type": "code",
      "metadata": {
        "id": "Kpmfj3VgHEzX",
        "colab_type": "code",
        "outputId": "9f1ef27b-3d57-45ab-f64d-cfaeb98ad6d7",
        "colab": {
          "base_uri": "https://localhost:8080/",
          "height": 197
        }
      },
      "source": [
        "traindf.head()"
      ],
      "execution_count": 0,
      "outputs": [
        {
          "output_type": "execute_result",
          "data": {
            "text/html": [
              "<div>\n",
              "<style scoped>\n",
              "    .dataframe tbody tr th:only-of-type {\n",
              "        vertical-align: middle;\n",
              "    }\n",
              "\n",
              "    .dataframe tbody tr th {\n",
              "        vertical-align: top;\n",
              "    }\n",
              "\n",
              "    .dataframe thead th {\n",
              "        text-align: right;\n",
              "    }\n",
              "</style>\n",
              "<table border=\"1\" class=\"dataframe\">\n",
              "  <thead>\n",
              "    <tr style=\"text-align: right;\">\n",
              "      <th></th>\n",
              "      <th>Id</th>\n",
              "      <th>Score</th>\n",
              "      <th>Time</th>\n",
              "      <th>Review</th>\n",
              "      <th>Positivity</th>\n",
              "    </tr>\n",
              "  </thead>\n",
              "  <tbody>\n",
              "    <tr>\n",
              "      <th>109293</th>\n",
              "      <td>136323</td>\n",
              "      <td>5</td>\n",
              "      <td>1343088000</td>\n",
              "      <td>Great for the Price I have to say I was a litt...</td>\n",
              "      <td>1</td>\n",
              "    </tr>\n",
              "    <tr>\n",
              "      <th>70602</th>\n",
              "      <td>516062</td>\n",
              "      <td>5</td>\n",
              "      <td>1350086400</td>\n",
              "      <td>AWESOME Coffee Received my free K cups as a sa...</td>\n",
              "      <td>1</td>\n",
              "    </tr>\n",
              "    <tr>\n",
              "      <th>80036</th>\n",
              "      <td>516079</td>\n",
              "      <td>5</td>\n",
              "      <td>1345939200</td>\n",
              "      <td>Brooklyn Bean Roastery Breakfast Blend K Cups ...</td>\n",
              "      <td>1</td>\n",
              "    </tr>\n",
              "    <tr>\n",
              "      <th>89988</th>\n",
              "      <td>378693</td>\n",
              "      <td>3</td>\n",
              "      <td>1310601600</td>\n",
              "      <td>Some damage The shipment of the dog food was q...</td>\n",
              "      <td>0</td>\n",
              "    </tr>\n",
              "    <tr>\n",
              "      <th>5800</th>\n",
              "      <td>136545</td>\n",
              "      <td>1</td>\n",
              "      <td>1342483200</td>\n",
              "      <td>Less than satisfactory I gave the Brooklyn K C...</td>\n",
              "      <td>-1</td>\n",
              "    </tr>\n",
              "  </tbody>\n",
              "</table>\n",
              "</div>"
            ],
            "text/plain": [
              "            Id  ...  Positivity\n",
              "109293  136323  ...           1\n",
              "70602   516062  ...           1\n",
              "80036   516079  ...           1\n",
              "89988   378693  ...           0\n",
              "5800    136545  ...          -1\n",
              "\n",
              "[5 rows x 5 columns]"
            ]
          },
          "metadata": {
            "tags": []
          },
          "execution_count": 56
        }
      ]
    },
    {
      "cell_type": "code",
      "metadata": {
        "id": "AiXTVYef3lFg",
        "colab_type": "code",
        "outputId": "ae4365dd-aabd-496a-dec5-5f2a63b9cfb5",
        "colab": {
          "base_uri": "https://localhost:8080/",
          "height": 52
        }
      },
      "source": [
        "#Tokenize and Stem\n",
        "#traindf = execute_in_parallel(traindf, tokenize, mp.cpu_count())\n",
        "pandarallel.initialize()\n",
        "traindf['Tokens'] =  traindf.parallel_apply(lambda row: tokenize_wo_stop(row['Review']), axis=1)"
      ],
      "execution_count": 0,
      "outputs": [
        {
          "output_type": "stream",
          "text": [
            "INFO: Pandarallel will run on 4 workers.\n",
            "INFO: Pandarallel will use Memory file system to transfer data between the main process and workers.\n"
          ],
          "name": "stdout"
        }
      ]
    },
    {
      "cell_type": "code",
      "metadata": {
        "id": "Wc458GNyPZ9P",
        "colab_type": "code",
        "colab": {}
      },
      "source": [
        "traindf = execute_in_parallel(traindf, portstem, mp.cpu_count())"
      ],
      "execution_count": 0,
      "outputs": []
    },
    {
      "cell_type": "code",
      "metadata": {
        "id": "vqX52BUJP3De",
        "colab_type": "code",
        "colab": {}
      },
      "source": [
        "traindf = execute_in_parallel(traindf, snowstem, mp.cpu_count())"
      ],
      "execution_count": 0,
      "outputs": []
    },
    {
      "cell_type": "code",
      "metadata": {
        "id": "qO1RuIy8QAoP",
        "colab_type": "code",
        "colab": {}
      },
      "source": [
        "traindf = execute_in_parallel(traindf, lanstem, mp.cpu_count())"
      ],
      "execution_count": 0,
      "outputs": []
    },
    {
      "cell_type": "markdown",
      "metadata": {
        "id": "i78Tuo6eMiOG",
        "colab_type": "text"
      },
      "source": [
        "*Using parallel processing, the stemming took 773 seconds*"
      ]
    },
    {
      "cell_type": "markdown",
      "metadata": {
        "id": "hGKPeOQeJFNn",
        "colab_type": "text"
      },
      "source": [
        "Original Text looks like this:"
      ]
    },
    {
      "cell_type": "markdown",
      "metadata": {
        "id": "D1UxtRJdIxc5",
        "colab_type": "text"
      },
      "source": [
        "**PorterStemmer** uses Suffix Stripping to produce stems. \n",
        "\n",
        "\n",
        ">PorterStemmer algorithm does not follow linguistics rather a set of 05 rules for different cases that are applied in phases (step by step) to generate stems\n",
        "\n",
        "---\n",
        "\n",
        "*`PorterStemmer is known for its simplicity and speed. It is commonly useful in Information Retrieval Environments known as IR Environments for fast recall and fetching of search queries.\n",
        " In a typical IR, environment documents are represented as vectors of words or terms. `*\n",
        "\n"
      ]
    },
    {
      "cell_type": "code",
      "metadata": {
        "id": "a99UK91LPas7",
        "colab_type": "code",
        "colab": {}
      },
      "source": [
        "#traindf['PortStem'] =  traindf.apply(lambda row: stem_sentence(row['Review'],1), axis=1)\n"
      ],
      "execution_count": 0,
      "outputs": []
    },
    {
      "cell_type": "code",
      "metadata": {
        "id": "U1OD93OLmeFn",
        "colab_type": "code",
        "colab": {}
      },
      "source": [
        "traindf.loc[1,'PortStem']"
      ],
      "execution_count": 0,
      "outputs": []
    },
    {
      "cell_type": "markdown",
      "metadata": {
        "id": "xwfr6b1kJS4I",
        "colab_type": "text"
      },
      "source": [
        "**The LancasterStemmer** (Paice-Husk stemmer) is an iterative algorithm with rules saved externally. One table containing about 120 rules indexed by the last letter of a suffix.\n",
        "\n",
        ">   On each iteration, it tries to find an applicable rule by the last character of the word. Each rule specifies either a deletion or replacement of an ending. If there is no such rule, it terminates. It also terminates if a word starts with a vowel and there are only two letters left or if a word starts with a consonant and there are only three characters left. Otherwise, the rule is applied, and the process repeats.\n",
        "\n",
        "---\n",
        "\n",
        "*`LancasterStemmer is simple, but heavy stemming due to iterations and over-stemming may occur. Over-stemming causes the stems to be not linguistic, or they may have no meaning.`*\n",
        "\n"
      ]
    },
    {
      "cell_type": "code",
      "metadata": {
        "id": "e1xpKSjXTO-t",
        "colab_type": "code",
        "colab": {}
      },
      "source": [
        "#traindf['LancStem'] =  traindf.apply(lambda row: stem_sentence(row['Review'],2), axis=1)"
      ],
      "execution_count": 0,
      "outputs": []
    },
    {
      "cell_type": "code",
      "metadata": {
        "id": "ewdpu3Ndm8XR",
        "colab_type": "code",
        "colab": {}
      },
      "source": [
        "traindf.loc[1,'LancStem']"
      ],
      "execution_count": 0,
      "outputs": []
    },
    {
      "cell_type": "code",
      "metadata": {
        "id": "Bo-5ApV7bpAg",
        "colab_type": "code",
        "colab": {}
      },
      "source": [
        "#split trainset, test set for Lancaster Stemmer\n",
        "#from sklearn.model_selection import train_test_split\n",
        "#X_lstrain, X_lstest, y_lstrain, y_lstest = train_test_split(df['Lanctem'], df['Score'], random_state = 0)\n"
      ],
      "execution_count": 0,
      "outputs": []
    },
    {
      "cell_type": "code",
      "metadata": {
        "colab_type": "code",
        "id": "S0KtjTFBqY7L",
        "colab": {}
      },
      "source": [
        "#save the dataframe to csv\n",
        "traindf.to_csv(stemfile, index=False)  "
      ],
      "execution_count": 0,
      "outputs": []
    },
    {
      "cell_type": "markdown",
      "metadata": {
        "id": "EgqmnSKl4FTz",
        "colab_type": "text"
      },
      "source": [
        "## **Lemmatization**"
      ]
    },
    {
      "cell_type": "markdown",
      "metadata": {
        "id": "i4QnxIOJ0Gh0",
        "colab_type": "text"
      },
      "source": [
        "###Lemmatization using NLTK"
      ]
    },
    {
      "cell_type": "code",
      "metadata": {
        "id": "JHbPIRx82DCQ",
        "colab_type": "code",
        "colab": {}
      },
      "source": [
        "from nltk.stem import WordNetLemmatizer\n",
        "lemmatizer = WordNetLemmatizer() "
      ],
      "execution_count": 0,
      "outputs": []
    },
    {
      "cell_type": "code",
      "metadata": {
        "id": "7s77bg5a6oz3",
        "colab_type": "code",
        "colab": {}
      },
      "source": [
        "def get_pos_tag(nltk_tag):\n",
        "  if nltk_tag.startswith('J'):\n",
        "    return wordnet.ADJ\n",
        "  elif nltk_tag.startswith('V'):\n",
        "    return wordnet.VERB\n",
        "  elif nltk_tag.startswith('N'):\n",
        "    return wordnet.NOUN\n",
        "  elif nltk_tag.startswith('R'):\n",
        "    return wordnet.ADV\n",
        "  else:          \n",
        "    return None"
      ],
      "execution_count": 0,
      "outputs": []
    },
    {
      "cell_type": "code",
      "metadata": {
        "id": "C_RcNz6P6roW",
        "colab_type": "code",
        "colab": {}
      },
      "source": [
        "def lemmatize(tokens):\n",
        "  nltk_tagged = nltk.pos_tag(tokens)  \n",
        "  wn_tagged = map(lambda x: (x[0], get_pos_tag(x[1])), nltk_tagged)\n",
        "  lem_words = []\n",
        "  for word, tag in wn_tagged:\n",
        "    if tag is None:            \n",
        "      lem_words.append(word)\n",
        "    else:\n",
        "      lem_words.append(lemmatizer.lemmatize(word, tag))\n",
        "  return \" \".join(lem_words)"
      ],
      "execution_count": 0,
      "outputs": []
    },
    {
      "cell_type": "code",
      "metadata": {
        "id": "VGXnvUl2EFSU",
        "colab_type": "code",
        "colab": {}
      },
      "source": [
        "def lemmatize_df(df) :\n",
        "  df['Lemmat'] =  df.apply(lambda row: lemmatize(row['Tokens']), axis=1)  "
      ],
      "execution_count": 0,
      "outputs": []
    },
    {
      "cell_type": "code",
      "metadata": {
        "id": "pyrFVHeTRoOE",
        "colab_type": "code",
        "outputId": "f6e9be9e-a2df-4395-8a54-073e91080857",
        "colab": {
          "base_uri": "https://localhost:8080/",
          "height": 54
        }
      },
      "source": [
        "sample = lemmatize(traindf.loc[1,'Tokens'])\n",
        "print(sample)"
      ],
      "execution_count": 0,
      "outputs": [
        {
          "output_type": "stream",
          "text": [
            "organic kosher tasty assortment of premium tea teasans numi s collection assortment melange include herbal tea caffeine free also call teasans dry desert lime lime herbal teasan field of gold lemongrass herbal teasan red mellow bush rooibos herbal teasan bushman s brew honeybush herbal teasan simply mint moroccan mint green tea lower in caffeine temple of heaven gunpowder green tea monkey king jasmine green tea black tea contain caffeine chinese breakfast yunnan black tea smoky tarry lapsang souchong black teathis be a total of nine different tea two tea bag of each one in each box numi tea be know for their high quality organic and kosher ingredient and in my opinion be some of the tastiest and best tea i have ever try they do not include artificial ingredient or flavoring on the box the manufacturer write from mist cover mountain to sun drenched desert to fertile field we proudly bring you our tea palette the flavor range from smooth earthiness and light floral scent to refreshingly sweet and sour note what they all share be the recollection of how some ancient one tame fire and water to coexist harmoniously and steep in them the gift of nature since that distant past people have soothe rouse heal explored and celebrate with these wonderful infusion we encourage you to do the same with numi s fine the price be perfect a big saving over single box if you like numi tea and want to sample a wonderful assortment get it you win t be sorry there may be some you like and others you don t but sample them will be a delightful experience if you be new to numi this be an excellent way to sample their high quality tea i do not think you could find a good source of premium tea than numi highly recommended organic kosher tasty assortment of premium tea teasans numi s collection assortment melange include herbal tea caffeine free also call teasans dry desert lime lime herbal teasan field of gold lemongrass herbal teasan red mellow bush rooibos herbal teasan bushman s brew honeybush herbal teasan simply mint moroccan mint green tea lower in caffeine temple of heaven gunpowder green tea monkey king jasmine green tea black tea contain caffeine chinese breakfast yunnan black tea smoky tarry lapsang souchong black teathis be a total of nine different tea two tea bag of each one in each box numi tea be know for their high quality organic and kosher ingredient and in my opinion be some of the tastiest and best tea i have ever try they do not include artificial ingredient or flavoring on the box the manufacturer write from mist cover mountain to sun drenched desert to fertile field we proudly bring you our tea palette the flavor range from smooth earthiness and light floral scent to refreshingly sweet and sour note what they all share be the recollection of how some ancient one tame fire and water to coexist harmoniously and steep in them the gift of nature since that distant past people have soothe rouse heal explored and celebrate with these wonderful infusion we encourage you to do the same with numi s fine the price be perfect a big saving over single box if you like numi tea and want to sample a wonderful assortment get it you win t be sorry there may be some you like and others you don t but sample them will be a delightful experience if you be new to numi this be an excellent way to sample their high quality tea i do not think you could find a good source of premium tea than numi highly recommend\n"
          ],
          "name": "stdout"
        }
      ]
    },
    {
      "cell_type": "code",
      "metadata": {
        "id": "J5TrleP-Eobl",
        "colab_type": "code",
        "outputId": "4bc1fa32-c649-48a6-8615-522fbd6ca40e",
        "colab": {
          "base_uri": "https://localhost:8080/",
          "height": 52
        }
      },
      "source": [
        "#traindf = execute_in_parallel(traindf, lemmatize_df, mp.cpu_count())\n",
        "pandarallel.initialize()\n",
        "tokendf = traindf.Tokens.parallel_apply(lemmatize)"
      ],
      "execution_count": 0,
      "outputs": [
        {
          "output_type": "stream",
          "text": [
            "INFO: Pandarallel will run on 4 workers.\n",
            "INFO: Pandarallel will use Memory file system to transfer data between the main process and workers.\n"
          ],
          "name": "stdout"
        }
      ]
    },
    {
      "cell_type": "code",
      "metadata": {
        "id": "IDkIC2OxfVGd",
        "colab_type": "code",
        "outputId": "191a2f85-3337-4b1f-9b93-2150657b2eea",
        "colab": {
          "base_uri": "https://localhost:8080/",
          "height": 105
        }
      },
      "source": [
        "tokendf.describe()"
      ],
      "execution_count": 0,
      "outputs": [
        {
          "output_type": "execute_result",
          "data": {
            "text/plain": [
              "count                                                309190\n",
              "unique                                               308795\n",
              "top       my th favorite flavor diamond almondsalmonds b...\n",
              "freq                                                      5\n",
              "Name: Tokens, dtype: object"
            ]
          },
          "metadata": {
            "tags": []
          },
          "execution_count": 65
        }
      ]
    },
    {
      "cell_type": "code",
      "metadata": {
        "id": "eQPuTenlE9IB",
        "colab_type": "code",
        "colab": {}
      },
      "source": [
        "tokendf['Tokens'] = pd.DataFrame(tokendf)\n",
        "tokendf['Score'] = traindf['Score']\n",
        "traindf['Lemmat'] = tokendf['Tokens']\n"
      ],
      "execution_count": 0,
      "outputs": []
    },
    {
      "cell_type": "code",
      "metadata": {
        "id": "XRtI8GclhJlR",
        "colab_type": "code",
        "colab": {}
      },
      "source": [
        "traindf.to_csv(lemfile)"
      ],
      "execution_count": 0,
      "outputs": []
    },
    {
      "cell_type": "markdown",
      "metadata": {
        "id": "ac_Ca6Cprj6u",
        "colab_type": "text"
      },
      "source": [
        "## Vectorization"
      ]
    },
    {
      "cell_type": "code",
      "metadata": {
        "id": "3oqgqMFUD-Of",
        "colab_type": "code",
        "colab": {}
      },
      "source": [
        "from sklearn.feature_extraction.text import CountVectorizer\n",
        "vect1 = CountVectorizer(min_df=10,stop_words=\"english\",lowercase=True,strip_accents='ascii').fit(traindf['Lemmat'])\n",
        "#vect1 is unigram "
      ],
      "execution_count": 0,
      "outputs": []
    },
    {
      "cell_type": "code",
      "metadata": {
        "id": "UV43zb_ZEQVI",
        "colab_type": "code",
        "outputId": "f1670578-f830-4b2f-b6c0-53f1c5e5ff4d",
        "colab": {
          "base_uri": "https://localhost:8080/",
          "height": 123
        }
      },
      "source": [
        "print(vect1)"
      ],
      "execution_count": 0,
      "outputs": [
        {
          "output_type": "stream",
          "text": [
            "CountVectorizer(analyzer='word', binary=False, decode_error='strict',\n",
            "                dtype=<class 'numpy.int64'>, encoding='utf-8', input='content',\n",
            "                lowercase=True, max_df=1.0, max_features=None, min_df=10,\n",
            "                ngram_range=(1, 1), preprocessor=None, stop_words='english',\n",
            "                strip_accents='ascii', token_pattern='(?u)\\\\b\\\\w\\\\w+\\\\b',\n",
            "                tokenizer=None, vocabulary=None)\n"
          ],
          "name": "stdout"
        }
      ]
    },
    {
      "cell_type": "code",
      "metadata": {
        "id": "Diqf3pvwEa5E",
        "colab_type": "code",
        "outputId": "1ceb27a4-c808-457a-fa2f-8a0c8418fd74",
        "colab": {
          "base_uri": "https://localhost:8080/",
          "height": 34
        }
      },
      "source": [
        "feature_names = vect1.get_feature_names()\n",
        "print('No. of features in Uni-gram Vect = ',len(feature_names))"
      ],
      "execution_count": 0,
      "outputs": [
        {
          "output_type": "stream",
          "text": [
            "No. of features in Uni-gram Vect =  17624\n"
          ],
          "name": "stdout"
        }
      ]
    },
    {
      "cell_type": "code",
      "metadata": {
        "id": "mypA805yFOcK",
        "colab_type": "code",
        "outputId": "823e9f87-000f-4eda-c5ef-34cb6e82df9a",
        "colab": {
          "base_uri": "https://localhost:8080/",
          "height": 72
        }
      },
      "source": [
        "print('First 2000 Features are: \\n{}'.format(feature_names[::2000]))"
      ],
      "execution_count": 0,
      "outputs": [
        {
          "output_type": "stream",
          "text": [
            "First 2000 Features are: \n",
            "['aa', 'abby', 'able', 'absence', 'absorbed', 'absurdly', 'abysmal', 'accentuate', 'accidentally', 'accomplished', 'accross', 'accustomed', 'achiote', 'ackee', 'acquisition', 'actively', 'acutally', 'adapt', 'addicted', 'additives', 'adjacent', 'administration', 'adolescent', 'adrenal', 'advent', 'advertised', 'advisable', 'aerator', 'aesthetically', 'afficionado', 'affordably', 'afterlife', 'afterwords', 'aggravate', 'ago', 'agricultural', 'ahhhh', 'aide', 'airbrush', 'aisles', 'al', 'alba', 'alcohol', 'alergies', 'algae', 'alittle', 'allege', 'allergies', 'allow', 'allure', 'aloe', 'alpo', 'alternative', 'altura', 'amaranth', 'amazing', 'ambien', 'amd', 'americanize', 'aminos', 'amoretti', 'amt', 'anal', 'ancho', 'andi', 'anecdotal', 'angie', 'ankle', 'anniversary', 'annually', 'anthon', 'antidote', 'antiperspirant', 'anxiously', 'anywho', 'apiece', 'appal', 'appease', 'applesauce', 'applies', 'appreciative', 'approx', 'apron', 'aquired', 'arbor', 'area', 'arguably', 'arm', 'aromatic', 'arrived', 'art', 'artichoke', 'artisana', 'asafoetida', 'ashamed', 'ask', 'aspergillus', 'assert', 'assist', 'assuage', 'astonish', 'astronaut', 'atleast', 'attachment', 'attic', 'attributable', 'augment', 'austrian', 'autistic', 'autumn', 'avaliable', 'avery', 'aw', 'awe', 'awhile', 'aztec', 'babysit', 'backcountry', 'backside', 'bad', 'baggie', 'bahlsen', 'bakes', 'baldwin', 'balm', 'bananas', 'banger', 'barb', 'barefoot', 'baristas', 'barnum', 'bars', 'basic', 'basmati', 'batch', 'battle', 'bb', 'beach', 'beans', 'beaten', 'becareful', 'bedtime', 'beekeeper', 'beggar', 'behalf', 'belch', 'believer', 'belly', 'bemoan', 'benedict', 'bent', 'berkeley', 'best', 'betray', 'bevmo', 'bhuja', 'bichon', 'bigs', 'billy', 'bio', 'biologically', 'bird', 'biscuit', 'bisquit', 'biter', 'bittman', 'blackcurrant', 'blah', 'blank', 'bleach', 'blemish', 'blessing', 'blister', 'blog', 'bloody', 'blox', 'blunt', 'board', 'bobo', 'bog', 'bok', 'bolster', 'bonanza', 'bonnet', 'booda', 'boonies', 'bordeaux', 'borne', 'botanical', 'bottomline', 'boullion', 'bout', 'bowser', 'boycott', 'br', 'braggs', 'brand', 'bratwurst', 'breadcrumbs', 'break', 'breakroom', 'breathies', 'brew', 'bribe', 'briefly', 'brim', 'brisling', 'brittany', 'brockeim', 'bronchitis', 'bros', 'brownies', 'brunch', 'brutally', 'bubblegum', 'buddhist', 'buffalo', 'builder', 'bulgogi', 'bullmastiff', 'bumpy', 'buon', 'burn', 'burrow', 'bust', 'butt', 'butterscotch', 'buys', 'bzzagent', 'cache', 'caesar', 'caffeinate', 'cairn', 'calbee', 'calibrate', 'called', 'calories', 'camel', 'campbell', 'canape', 'candybar', 'cannery', 'cap', 'capitalism', 'cappucinos', 'caption', 'caramelize', 'carber', 'carbonate', 'card', 'cardiovascular', 'caretaker', 'carmel', 'carnitine', 'carosel', 'carring', 'cartilage', 'cascadian', 'casina', 'castle', 'catalogue', 'caterer', 'cattle', 'caution', 'cavenders', 'cd', 'celebration', 'cello', 'center', 'ceo', 'cert', 'cesar', 'cha', 'chalk', 'chamomille', 'change', 'chap', 'charbucks', 'charles', 'chase', 'cheapest', 'chebe', 'chee', 'cheerios', 'cheesoning', 'chefs', 'chemotherapy', 'chesapeake', 'chewable', 'chewing', 'chic', 'chickpea', 'chik', 'chilihead', 'chinatown', 'chiropractor', 'chlorinated', 'choclate', 'chocolately', 'chocula', 'cholestrol', 'choosing', 'chorizo', 'choy', 'chronic', 'chummies', 'church', 'cigar', 'cincy', 'circuit', 'citiz', 'civil', 'clam', 'clarifying', 'classico', 'clay', 'cleanser', 'cleaver', 'click', 'clinic', 'clod', 'closely', 'clothe', 'cloves', 'clumped', 'coach', 'coaster', 'coca', 'cocktails', 'cocunut', 'coffeemaker', 'coffies', 'cointreau', 'cold', 'collander', 'college', 'colony', 'colossal', 'comb', 'comedian', 'comical', 'commenter', 'commit', 'communication', 'company', 'comparison', 'compete', 'complainer', 'completely', 'complication', 'composter', 'compromise', 'concede', 'concert', 'concoction', 'condiment', 'confection', 'confident', 'conflict', 'congest', 'conical', 'conquer', 'consequently', 'consideration', 'consisting', 'constipate', 'consult', 'consumption', 'contains', 'content', 'continually', 'contradiction', 'control', 'convention', 'convienant', 'convinient', 'cookies', 'cooler', 'cooperate', 'copycat', 'corker', 'cornstarch', 'correction', 'cos', 'costa', 'cotta', 'council', 'countertop', 'courier', 'cover', 'coworkers', 'crack', 'craftsmanship', 'cranberries', 'crate', 'craze', 'creaminess', 'creatively', 'creep', 'crevice', 'crinkly', 'crisped', 'critic', 'crocker', 'crostini', 'crud', 'crumbles', 'crunchers', 'cruncy', 'crystal', 'cu', 'cucina', 'cull', 'cumin', 'curb', 'curiousity', 'curry', 'customary', 'cutter', 'cyclone', 'dab', 'daiquiri', 'dallmayr', 'dampen', 'dang', 'dannon', 'darkest', 'dasani', 'dated', 'davinci', 'dazzle', 'deal', 'deathly', 'deborah', 'decaff', 'decant', 'decent', 'decipher', 'decor', 'dedicated', 'deeeelicious', 'deer', 'defend', 'deficit', 'definetely', 'definitly', 'deglaze', 'dehydrator', 'delecious', 'delicate', 'delievery', 'delites', 'deluca', 'demise', 'denature', 'density', 'denture', 'department', 'deplete', 'depressant', 'der', 'described', 'deserves', 'desireable', 'desperation', 'destiny', 'detailed', 'deteriorate', 'detoxification', 'devastate', 'devine', 'devours', 'dha', 'diagonally', 'diarhea', 'dickens', 'diehard', 'diff', 'differently', 'diffuser', 'digging', 'dilettante', 'dim', 'dingo', 'dioxide', 'direction', 'disabled', 'disappearance', 'disassemble', 'discerning', 'discolored', 'discourage', 'discriminating', 'diseases', 'dishearten', 'disinterested', 'disneyland', 'dispense', 'displeased', 'disproportionate', 'dissappointed', 'dissolve', 'distillation', 'distinguish', 'distribute', 'diuretic', 'divider', 'dizziness', 'dobie', 'dodge', 'dogfoods', 'dole', 'domatcha', 'domino', 'donor', 'door', 'doritos', 'dosent', 'dough', 'downgrade', 'downward', 'drag', 'drake', 'dravis', 'dreadful', 'dreg', 'drill', 'dripping', 'droop', 'drove', 'drunk', 'duane', 'dude', 'dulse', 'dundee', 'dura', 'dusting', 'dwell', 'dynamite', 'eagle', 'earth', 'easier', 'eaten', 'eboost', 'ecological', 'ect', 'edgy', 'educational', 'effect', 'efficiently', 'eggless', 'ehh', 'ekobrew', 'elder', 'electrolyte', 'elephant', 'eliminate', 'ellie', 'email', 'embarrassingly', 'emerald', 'emotion', 'employee', 'enable', 'enclosure', 'endangered', 'endurance', 'energizing', 'engine', 'enhancement', 'enlarge', 'enriched', 'enterprise', 'enthusiast', 'entitle', 'envelop', 'environmentally', 'epic', 'equal', 'eradicate', 'errand', 'escape', 'especial', 'essence', 'establishment', 'estrogen', 'ethic', 'eucalyptus', 'eva', 'evco', 'evergreen', 'evian', 'evoo', 'exactly', 'exceeded', 'excellently', 'exchange', 'exclusion', 'executive', 'exhaustion', 'exit', 'expecially', 'expedition', 'experation', 'expertise', 'explicit', 'expo', 'expressos', 'extensive', 'extra', 'extravagance', 'eye', 'ezekiel', 'facilitate', 'factual', 'failed', 'fairy', 'falcon', 'familia', 'fancy', 'fantasy', 'farro', 'fasten', 'fatigue', 'fav', 'favorful', 'fb', 'feather', 'fedex', 'feingold', 'female', 'feridies', 'ferret', 'feta', 'fi', 'fibre', 'field', 'fight', 'fil', 'filling', 'filtro', 'fine', 'finicky', 'finnish', 'firmly', 'fishing', 'fixation', 'fizzle', 'flaked', 'flank', 'flat', 'flaver', 'flavorfull', 'flavrz', 'fledge', 'flexibility', 'flip', 'flood', 'florence', 'flouride', 'flu', 'fluorescent', 'flynn', 'focus', 'foil', 'foliage', 'fomula', 'fontana', 'foojoy', 'footprint', 'fore', 'forest', 'forgot', 'forming', 'forthe', 'foster', 'fowler', 'fragrance', 'franchise', 'fransisco', 'frappucinos', 'freash', 'freezes', 'frequently', 'freshest', 'friction', 'frig', 'friskie', 'frizzy', 'frooties', 'frothy', 'fruitables', 'frustrating', 'ftw', 'fuji', 'fully', 'functioning', 'funk', 'furkids', 'fussiness', 'gabby', 'gal', 'gallery', 'gang', 'garcia', 'garlicky', 'gaseous', 'gastrointestinal', 'gauge', 'geat', 'gelato', 'generally', 'genetics', 'gentleman', 'gerd', 'getaway', 'ghee', 'gift', 'gilroy', 'gingerbread', 'girl', 'gj', 'gland', 'gleefully', 'glob', 'glory', 'glucose', 'glutenous', 'glycerin', 'gmonounsaturated', 'gnocchi', 'godiva', 'golden', 'golly', 'goodlife', 'google', 'goopy', 'gorgonzola', 'gouda', 'gov', 'gracefully', 'graduate', 'gram', 'grandchildren', 'grandparent', 'granulate', 'grapey', 'grated', 'gravel', 'grease', 'greece', 'greenfire', 'gret', 'grill', 'grinder', 'grittiness', 'groggy', 'ground', 'growl', 'grudgingly', 'gsd', 'guacamole', 'guarentee', 'guest', 'guinness', 'gulper', 'gumminess', 'gunnermay', 'gusto', 'gyp', 'habitat', 'hah', 'haircut', 'haley', 'hallway', 'hammer', 'handcraft', 'handler', 'hanger', 'hansen', 'happiness', 'hardcore', 'hardware', 'harm', 'harrison', 'harvest', 'hasty', 'havahart', 'hawaii', 'hazelnut', 'head', 'healer', 'healthfulness', 'heap', 'heartbroken', 'heartland', 'heathier', 'heavily', 'heel', 'heighten', 'hellmann', 'helps', 'henry', 'herbox', 'hero', 'hesitant', 'hfc', 'hidden', 'highland', 'hiker', 'hindsight', 'hips', 'history', 'hmmmm', 'hobo', 'hole', 'holmes', 'homeopathic', 'homogenize', 'honeybush', 'honor', 'hoot', 'hopelessly', 'horizon', 'horrendous', 'horse', 'hostess', 'hotter', 'housewife', 'hoy', 'hu', 'hug', 'hulless', 'humidity', 'hunch', 'hunting', 'husk', 'hydrating', 'hydrolyze', 'hyper', 'hypoglycemia', 'ibd', 'iced', 'id', 'identify', 'ignore', 'ikea', 'illustrate', 'imaginative', 'immaculate', 'immigrant', 'impatient', 'implication', 'importer', 'impressive', 'improves', 'inadvertently', 'incentive', 'inclination', 'incompetent', 'incorrect', 'incur', 'indescribably', 'indicates', 'indigestion', 'individualy', 'induction', 'ineffective', 'inexplicably', 'infest', 'inflammation', 'infomercial', 'infuse', 'ingenuity', 'ingridents', 'inhibits', 'injury', 'inner', 'inorganic', 'insanity', 'insipid', 'inspected', 'install', 'instinct', 'instrument', 'insure', 'intelligentsia', 'intent', 'interchangeably', 'intermittent', 'interrupt', 'intimate', 'intrigued', 'inulin', 'inventor', 'invisible', 'iodide', 'iq', 'irn', 'irregular', 'irritability', 'island', 'isotonic', 'italiano', 'itis', 'iwill', 'jackson', 'jail', 'jamacian', 'jane', 'jasmine', 'jbm', 'jell', 'jerk', 'jetblue', 'jiffy', 'jitter', 'jocalat', 'join', 'jones', 'journey', 'jrt', 'judicious', 'juicing', 'jumble', 'june', 'jura', 'jut', 'kahlua', 'kangaroo', 'kasha', 'katie', 'kc', 'keemun', 'keith', 'kennedy', 'kernals', 'keurigs', 'ki', 'kiddie', 'kikkoman', 'kimbo', 'kindness', 'kipper', 'kitchens', 'kluski', 'knob', 'knowledge', 'kohl', 'kongs', 'korea', 'kraft', 'krispies', 'kudos', 'kwan', 'labeled', 'labradoodle', 'lactation', 'ladies', 'lake', 'lancaster', 'lankan', 'lard', 'lasagna', 'later', 'laugh', 'lauric', 'lawn', 'layered', 'leach', 'leakage', 'learned', 'leavening', 'leek', 'legal', 'legs', 'lemonheads', 'lentils', 'lest', 'leukemia', 'liar', 'libre', 'lickins', 'life', 'lifewater', 'lighter', 'likeable', 'likey', 'lime', 'limp', 'liner', 'link', 'lipil', 'liquid', 'list', 'liter', 'litterbox', 'liver', 'll', 'loan', 'localy', 'loft', 'loli', 'lonely', 'looked', 'looooove', 'loosen', 'loser', 'lotta', 'lounge', 'lovin', 'lowest', 'lu', 'lucious', 'lugging', 'luna', 'lundberg', 'lusciously', 'luxurious', 'lyle', 'macadamias', 'machete', 'mad', 'maeda', 'magic', 'magnify', 'mahogony', 'mailman', 'maitland', 'makhani', 'malaysian', 'mallet', 'maltesers', 'mamma', 'manages', 'mange', 'manicotti', 'manner', 'manufacturing', 'maranatha', 'margaret', 'mariani', 'mario', 'marketplace', 'married', 'marshmellows', 'marvel', 'masa', 'masque', 'masterpiece', 'matching', 'matrix', 'max', 'maynard', 'mberry', 'mcdougall', 'mead', 'meaningful', 'measuring', 'mechanical', 'medically', 'mediocrity', 'meet', 'meijers', 'melinda', 'melt', 'memorable', 'menopause', 'mentioned', 'mercola', 'merlot', 'message', 'metal', 'method', 'mexgrocer', 'mgo', 'mic', 'microground', 'microwaving', 'midway', 'mike', 'mildly', 'milkfat', 'milliliter', 'minature', 'mineral', 'minimize', 'minority', 'mintues', 'miraculously', 'miserable', 'mishap', 'misread', 'missouri', 'misunderstand', 'mixed', 'mmm', 'mmmmmmmmmmmmm', 'mocha', 'mode', 'modification', 'moisterizer', 'mojito', 'moldy', 'moment', 'monde', 'mono', 'monounsaturated', 'monthly', 'moore', 'mori', 'morsel', 'moss', 'motivated', 'mount', 'mouthfeel', 'mozzerella', 'mt', 'mucus', 'muffins', 'mulling', 'multitude', 'munchos', 'murray', 'mushroom', 'muslim', 'mutant', 'myojo', 'myth', 'nacl', 'naked', 'nancy', 'napoleon', 'nasties', 'nationally', 'naturalness', 'nauseating', 'nc', 'neatly', 'necklace', 'needing', 'negative', 'neighborhood', 'neopolitan', 'nescaf', 'nestl', 'neurological', 'nevella', 'newly', 'ni', 'nicaraguan', 'nicotine', 'night', 'nineteen', 'nit', 'noble', 'noisy', 'nonexistent', 'noodle', 'norm', 'northwest', 'nostril', 'nothingness', 'notion', 'nov', 'np', 'nub', 'nuggets', 'numerous', 'nustevia', 'nutri', 'nutrisystem', 'nutrium', 'nuun', 'oahu', 'oaty', 'object', 'obliterate', 'observe', 'obstruction', 'occasional', 'occur', 'octavia', 'ode', 'oeuvre', 'officepro', 'oftentimes', 'ohio', 'ok', 'older', 'olive', 'omelette', 'onhand', 'ontime', 'oomph', 'open', 'operative', 'ops', 'orac', 'orbit', 'ordinary', 'orgain', 'organization', 'orginal', 'originally', 'orphan', 'osem', 'otis', 'outage', 'outfit', 'output', 'outshine', 'oval', 'overbear', 'overcooked', 'overflow', 'overload', 'overpoweringly', 'overs', 'overstock', 'overuse', 'owe', 'oxidative', 'oyster', 'pacific', 'packer', 'paddy', 'painless', 'palace', 'palette', 'pamela', 'panasonic', 'paneer', 'panni', 'papa', 'pappy', 'paragon', 'parboil', 'parisian', 'parmesean', 'partially', 'partly', 'passage', 'pastas', 'pastrami', 'patent', 'patricia', 'paul', 'paws', 'pcc', 'peach', 'peanuty', 'peasy', 'ped', 'peel', 'peg', 'pellegrino', 'pending', 'penzey', 'pepper', 'pepperoni', 'percentage', 'perfection', 'performer', 'period', 'permanently', 'perpetually', 'persian', 'personalized', 'perugina', 'pestle', 'petfooddirect', 'petroleum', 'pg', 'phd', 'phew', 'phoenix', 'photography', 'piana', 'picked', 'pickling', 'piece', 'pigment', 'pills', 'pinata', 'pinkish', 'pioneer', 'pissed', 'pitfall', 'pixy', 'pk', 'plague', 'plant', 'plasma', 'platinum', 'playtime', 'pleaser', 'plesantly', 'pls', 'plums', 'po', 'poem', 'poisonous', 'polish', 'pollinate', 'polyethylene', 'pomegranates', 'pong', 'pool', 'poos', 'popped', 'poptart', 'porcini', 'portability', 'portobello', 'possession', 'posting', 'potency', 'potted', 'pounding', 'pow', 'powered', 'practical', 'prawn', 'precede', 'precut', 'predominant', 'preferably', 'preground', 'premier', 'prepare', 'preschooler', 'preservation', 'pressure', 'pretentious', 'prevention', 'priceless', 'prilosec', 'primo', 'printed', 'privilege', 'probaly', 'proceeds', 'prod', 'producto', 'profile', 'progress', 'projected', 'promised', 'promptness', 'propaganda', 'proponent', 'prosobee', 'protein', 'prouduct', 'provision', 'pruning', 'psyllium', 'publix', 'puerh', 'puggle', 'pulse', 'pumpkin', 'pungent', 'pups', 'purchsed', 'purevia', 'purple', 'purrfectly', 'putty', 'pyrex', 'qid', 'quaility', 'quality', 'quasi', 'quenching', 'quiche', 'quietly', 'quirky', 'rabbi', 'racket', 'radioactive', 'rail', 'raiser', 'raley', 'rampant', 'rancidity', 'rant', 'rarely', 'raspberry', 'rationalize', 'rawhides', 'rds', 'reade', 'realistically', 'reap', 'reassure', 'rec', 'receipe', 'receptacle', 'recieve', 'reckless', 'recoil', 'recommend', 'reconsider', 'rectangle', 'red', 'redenbacher', 'redmill', 'reduces', 'reference', 'reflective', 'refreshed', 'refridgerator', 'refundable', 'reggie', 'regret', 'regulate', 'rehydrated', 'reinforce', 'rejuvenate', 'relaxation', 'reliability', 'religious', 'rely', 'remedied', 'reminiscent', 'removal', 'rendering', 'reoccurring', 'repeated', 'replaceable', 'replicate', 'reproduction', 'repute', 'resale', 'resell', 'reserve', 'residual', 'resolve', 'respective', 'responsibly', 'restless', 'restroom', 'resveratrol', 'retirement', 'retry', 'rev', 'revenue', 'revise', 'revolve', 'rhode', 'ribeye', 'rich', 'rico', 'ridge', 'right', 'rind', 'rip', 'rishi', 'ritter', 'rn', 'roar', 'roasty', 'robot', 'rock', 'rodent', 'role', 'roman', 'roobios', 'rooster', 'rosehip', 'rosso', 'rotisserie', 'roughly', 'routinely', 'rtf', 'rudy', 'rum', 'runner', 'russa', 'rusty', 'saag', 'saco', 'sadie', 'safety', 'sahara', 'salada', 'salesperson', 'salon', 'salting', 'sambazon', 'samsclub', 'sandwich', 'sans', 'saran', 'sassy', 'satifies', 'satisfy', 'sauce', 'sause', 'savannah', 'savvy', 'sb', 'scalp', 'scant', 'scary', 'scented', 'schnapps', 'scientist', 'scoopable', 'score', 'scotty', 'scratch', 'screwdriver', 'scuff', 'sealant', 'search', 'seasoning', 'secret', 'sedative', 'seeing', 'seize', 'selenium', 'semi', 'sends', 'senseo', 'sensual', 'separation', 'serendipity', 'serotonin', 'service', 'setback', 'seventh', 'sewage', 'sh', 'shakeology', 'sham', 'shank', 'sharkbanana', 'shasta', 'shea', 'sheet', 'shelties', 'shes', 'shihtzu', 'shingle', 'shippment', 'shitzu', 'shoestring', 'shoprite', 'shortening', 'shouldn', 'shred', 'shrub', 'shy', 'sicily', 'sicky', 'sifting', 'signify', 'silkier', 'similarity', 'simplify', 'sinew', 'singly', 'sipping', 'sits', 'sized', 'skepticism', 'skillets', 'skipjack', 'skyline', 'slat', 'sleepiness', 'slender', 'slighly', 'slimjim', 'slivered', 'slow', 'slurry', 'smarter', 'smell', 'smiley', 'smokin', 'smoothe', 'smore', 'snacker', 'snag', 'snappy', 'sneezing', 'snip', 'snort', 'snub', 'soak', 'sobe', 'socket', 'softball', 'softy', 'solar', 'solidifies', 'solution', 'somethings', 'sonoma', 'soooooooo', 'soothing', 'sorbitan', 'sorry', 'sounding', 'sourced', 'southerner', 'soyjoy', 'spagetti', 'sparingly', 'spatini', 'speaks', 'specialized', 'specimen', 'speechless', 'spenda', 'spicey', 'spill', 'spinning', 'splatter', 'spoilage', 'spontaneous', 'sporadically', 'spotty', 'spreadable', 'sprinkler', 'sprouters', 'spunky', 'squat', 'squeezed', 'squish', 'stability', 'staffordshire', 'stainless', 'stamp', 'standout', 'starbucks', 'starlight', 'starvation', 'statin', 'stayed', 'steam', 'steeped', 'step', 'steve', 'stick', 'stiffer', 'stimulate', 'stinkin', 'stock', 'stomachache', 'stood', 'store', 'stove', 'strained', 'strategic', 'stream', 'stretch', 'striking', 'stroll', 'structure', 'student', 'stumble', 'stupid', 'styrofoam', 'subdued', 'subscribe', 'subsitute', 'substitute', 'suburb', 'succumb', 'sucrose', 'sufferer', 'sugarfree', 'suicide', 'sulfite', 'sumatran', 'sun', 'sunflower', 'sunset', 'superficial', 'supermarket', 'supple', 'support', 'supremely', 'surely', 'surmise', 'surprize', 'survivor', 'suspicion', 'suttle', 'swanson', 'sweater', 'sweet', 'sweeter', 'sweetners', 'swiftly', 'swirl', 'swollen', 'sympathize', 'synthesize', 'szeged', 'tablespoonful', 'tacky', 'taffy', 'tai', 'taj', 'talkingrain', 'tamer', 'tangible', 'tannin', 'tapatio', 'tarragon', 'tasing', 'tasteful', 'tastic', 'tasy', 'tax', 'tblsp', 'teach', 'teasan', 'technical', 'tee', 'teensy', 'teisseire', 'tempeh', 'tempted', 'tenderloin', 'tentacle', 'terminal', 'terrify', 'test', 'tetley', 'texture', 'thankful', 'thaw', 'theese', 'theory', 'thermometer', 'thia', 'thickly', 'think', 'thirst', 'thompson', 'thousand', 'thrill', 'throw', 'thumbs', 'ti', 'tie', 'tightly', 'till', 'timeliness', 'timothys', 'tinker', 'tiramisu', 'tit', 'tm', 'tobacco', 'todd', 'togethers', 'tolerant', 'tomatoey', 'tonic', 'tooooo', 'toothsome', 'tops', 'toronto', 'toscana', 'totaly', 'tought', 'tower', 'trace', 'trader', 'tragically', 'tranquil', 'transit', 'transport', 'trauma', 'trays', 'treatment', 'trend', 'triathlete', 'trident', 'trinity', 'triscuits', 'trophy', 'trout', 'trully', 'trusty', 'tso', 'tubs', 'tully', 'tumor', 'turd', 'turned', 'tuxedo', 'twice', 'twinnings', 'twizzlers', 'typo', 'udon', 'ulcer', 'umbrella', 'unacceptable', 'unassuming', 'unbalanced', 'unbiased', 'unclear', 'unconventional', 'undeniable', 'underlie', 'understate', 'underwhelmed', 'undissolved', 'uneatable', 'unexciting', 'unfermented', 'unfortunatley', 'unharmed', 'unidentified', 'uninspired', 'unit', 'unknown', 'unlucky', 'unnatural', 'unofficial', 'unpleasent', 'unprotected', 'unrefined', 'unroll', 'unscented', 'unsophisticated', 'unsure', 'unto', 'unwanted', 'upc', 'upload', 'upstairs', 'urge', 'usa', 'used', 'usualy', 'uti', 'utterly', 'vacu', 'valentina', 'value', 'vanishes', 'varietal', 'vascular', 'veal', 'vegatable', 'vegetarian', 'vegtable', 'vend', 'venison', 'veranda', 'veritable', 'verry', 'vertical', 'vf', 'vibration', 'victory', 'vietnam', 'vigorously', 'vinaigrette', 'vintage', 'virbac', 'visable', 'visitor', 'vitalicious', 'vizsla', 'volcanic', 'vomit', 'voss', 'vulnerable', 'wadi', 'wagon', 'waitress', 'walgreens', 'wallop', 'wan', 'war', 'warming', 'warrant', 'washcloth', 'wast', 'watercress', 'watt', 'waxy', 'weaker', 'weather', 'wedderspoon', 'weekend', 'wegman', 'weim', 'welch', 'wendy', 'western', 'wf', 'whatsoever', 'wheel', 'whiff', 'whipped', 'whisker', 'whitish', 'wholesaler', 'whop', 'widely', 'wifes', 'wild', 'williamsburg', 'wilt', 'windmill', 'wing', 'wintergreen', 'wisdom', 'wisk', 'withstand', 'woah', 'wolfgang', 'wondering', 'wooden', 'wool', 'worked', 'worlds', 'worsen', 'woud', 'wp', 'wrench', 'wrist', 'wt', 'ww', 'xantham', 'xtra', 'yacon', 'yams', 'ye', 'yech', 'yep', 'yin', 'yogi', 'yorkers', 'youngster', 'yowza', 'yuck', 'yummie', 'yummmmmmy', 'yunnan', 'zap', 'zest', 'zing', 'zippy', 'zone', 'zukes']\n"
          ],
          "name": "stdout"
        }
      ]
    },
    {
      "cell_type": "code",
      "metadata": {
        "id": "QA4E0fPfGh-K",
        "colab_type": "code",
        "outputId": "181da685-fbab-403e-c557-76fa68982ca4",
        "colab": {
          "base_uri": "https://localhost:8080/",
          "height": 72
        }
      },
      "source": [
        "print(\"Last 2000 Features:\\n{}\".format(feature_names[2000:]))"
      ],
      "execution_count": 0,
      "outputs": [
        {
          "output_type": "stream",
          "text": [
            "Last 2000 Features:\n",
            "['burner', 'burning', 'burnt', 'burp', 'burr', 'burrito', 'burritos', 'burrow', 'burst', 'bursting', 'burton', 'bury', 'bus', 'bush', 'bushy', 'business', 'bust', 'busted', 'bustello', 'bustelo', 'buster', 'busy', 'butcher', 'buti', 'butler', 'butt', 'butter', 'buttercream', 'buttered', 'butterfinger', 'butterfingers', 'butterfly', 'buttermilk', 'butternut', 'butterscotch', 'butterworth', 'buttery', 'butthe', 'button', 'bux', 'buy', 'buyer', 'buying', 'buys', 'buzz', 'buzzworthy', 'bye', 'bypass', 'byproduct', 'byproducts', 'byzantine', 'bzz', 'bzzagent', 'ca', 'cab', 'cabbage', 'cabernet', 'cabin', 'cabinet', 'cable', 'cacao', 'cache', 'cachet', 'cacoa', 'cactus', 'cadbury', 'cadburys', 'caddy', 'cadet', 'cadillac', 'caesar', 'caf', 'cafe', 'cafes', 'cafeteria', 'caff', 'caffe', 'caffee', 'caffein', 'caffeinate', 'caffeinated', 'caffeine', 'caffienated', 'caffiene', 'caffinated', 'caffine', 'cafix', 'cage', 'cairn', 'cajole', 'cajun', 'cake', 'cakesters', 'cakey', 'cal', 'calabria', 'calamari', 'calbee', 'calcium', 'calculate', 'calculation', 'calculator', 'calendar', 'calf', 'cali', 'caliber', 'calibrate', 'calico', 'caliente', 'calif', 'california', 'californian', 'calimyrna', 'callard', 'callebaut', 'called', 'calm', 'calmer', 'calming', 'calmly', 'calmness', 'caloric', 'calorically', 'calorie', 'calories', 'caloriestotal', 'calory', 'cals', 'calypso', 'calzones', 'cam', 'camano', 'cambodian', 'camel', 'camellia', 'camera', 'cameron', 'camerons', 'camomile', 'camouflage', 'camp', 'campaign', 'campbell', 'campbells', 'camper', 'campfire', 'camping', 'campus', 'canada', 'canadian', 'canal', 'canape', 'cancel', 'cancelled', 'cancer', 'candida', 'candidate', 'candied', 'candle', 'candy', 'candybar', 'candycane', 'cane', 'canidae', 'canin', 'canine', 'canister', 'canned', 'cannellini', 'cannery', 'canning', 'cannister', 'cannoli', 'canola', 'cantaloupe', 'canterbury', 'canvas', 'canyon', 'cap', 'capability', 'capable', 'capacity', 'cape', 'capelin', 'caper', 'capful', 'capital', 'capitalism', 'capitalize', 'capp', 'cappaccino', 'cappacino', 'cappuccino', 'cappuccinos', 'cappuchino', 'cappucino', 'cappucinos', 'caprese', 'capresso', 'capri', 'capsaicin', 'capsicum', 'capsule', 'capt', 'captain', 'caption', 'captivate', 'capture', 'capuccino', 'caputo', 'car', 'carafe', 'carageenan', 'caramel', 'caramelize', 'caramelized', 'caramello', 'caramelly', 'caramely', 'caravan', 'caraway', 'carb', 'carba', 'carber', 'carbers', 'carbing', 'carbo', 'carboard', 'carbohydrate', 'carbohydrates', 'carbon', 'carbonara', 'carbonate', 'carbonated', 'carbonation', 'carboy', 'carbquik', 'carbs', 'carcass', 'carcinogen', 'carcinogenic', 'card', 'cardamom', 'cardamon', 'cardboard', 'cardboardy', 'cardiac', 'cardinal', 'cardio', 'cardiologist', 'cardiovascular', 'care', 'career', 'careful', 'carefull', 'carefully', 'caregiver', 'careless', 'carelessly', 'caretaker', 'cargill', 'cargo', 'caribbean', 'caribou', 'caries', 'caring', 'carl', 'carlton', 'carmel', 'carmelina', 'carmelized', 'carmellini', 'carmels', 'carnaroli', 'carnation', 'carnauba', 'carne', 'carnitine', 'carnival', 'carnivore', 'carnivores', 'carnivorous', 'carob', 'carol', 'carolina', 'carolyn', 'carosel', 'carotene', 'carousel', 'carpet', 'carpeting', 'carr', 'carrageenan', 'carribean', 'carrier', 'carring', 'carroll', 'carrot', 'carrots', 'carrs', 'carry', 'carrying', 'cart', 'carte', 'cartilage', 'carton', 'cartoon', 'cartridge', 'carve', 'cary', 'casa', 'casbah', 'cascade', 'cascadian', 'case', 'casei', 'casein', 'caseinate', 'cash', 'cashew', 'cashews', 'cashier', 'casina', 'casing', 'casino', 'cask', 'casserole', 'casseroles', 'cassia', 'cast', 'caster', 'castle', 'castor', 'casual', 'casually', 'cat', 'catagory', 'catahoula', 'catalina', 'catalog', 'catalogue', 'catalyst', 'catch', 'catcher', 'catchy', 'catechin', 'categorize', 'category', 'cater', 'caterer', 'catering', 'catfish', 'catfood', 'catherine', 'catnip', 'cats', 'catsup', 'catsure', 'cattle', 'cattleman', 'caucasian', 'caught', 'cauliflower', 'cause', 'caused', 'causing', 'caustic', 'caution', 'cautionary', 'cautious', 'cautiously', 'cavalier', 'cave', 'caveat', 'caveman', 'cavender', 'cavenders', 'caviar', 'cavity', 'cayenne', 'cayman', 'cb', 'cbd', 'cbtl', 'cc', 'cd', 'cdm', 'ce', 'ceasar', 'cease', 'cecco', 'cedar', 'ceiling', 'celebrate', 'celebration', 'celebrity', 'celery', 'celestial', 'celiac', 'celiacs', 'cell', 'cella', 'cellar', 'cello', 'cellophane', 'cellular', 'cellulose', 'celophane', 'celsius', 'celtic', 'cement', 'cent', 'center', 'centerpiece', 'centimeter', 'centipede', 'cento', 'central', 'centre', 'centric', 'century', 'ceo', 'ceral', 'ceramic', 'cereal', 'cereals', 'cerelac', 'ceremonial', 'ceremony', 'cerial', 'cert', 'certain', 'certainly', 'certainty', 'certificate', 'certification', 'certified', 'certify', 'certo', 'cesar', 'cet', 'cetera', 'ceylon', 'cf', 'cfh', 'cfl', 'cfr', 'ch', 'cha', 'chachere', 'chaff', 'chagrin', 'chai', 'chain', 'chair', 'chais', 'chakra', 'chalk', 'chalkiness', 'chalky', 'challah', 'challange', 'challenge', 'challenging', 'chamber', 'chamomile', 'chamomille', 'champ', 'champagne', 'champion', 'championship', 'chan', 'chana', 'chance', 'chang', 'change', 'changed', 'changer', 'changing', 'channa', 'channel', 'chantea', 'chaokoh', 'chaos', 'chap', 'chapati', 'chapped', 'chapstick', 'chapter', 'char', 'character', 'characteristic', 'characterize', 'charbucks', 'charcoal', 'chard', 'chardonnay', 'charge', 'charger', 'charitable', 'charity', 'charlee', 'charles', 'charleston', 'charley', 'charlie', 'charlotte', 'charm', 'charming', 'charred', 'chart', 'chase', 'chaser', 'chat', 'chateau', 'chcolate', 'che', 'cheap', 'cheapen', 'cheaper', 'cheapest', 'cheapie', 'cheaply', 'cheapo', 'cheapskate', 'cheapy', 'cheat', 'cheated', 'cheating', 'chebe', 'check', 'checked', 'checking', 'checkout', 'checkup', 'cheddar', 'cheddary', 'chedder', 'chee', 'cheek', 'cheeky', 'cheep', 'cheeper', 'cheer', 'cheerful', 'cheerfully', 'cheerio', 'cheerios', 'cheery', 'chees', 'cheesburger', 'cheese', 'cheeseburger', 'cheesecake', 'cheesecloth', 'cheesey', 'cheesoning', 'cheesy', 'cheeto', 'cheetos', 'cheez', 'cheeze', 'cheezits', 'cheezy', 'chef', 'chefs', 'chelate', 'chem', 'chemex', 'chemical', 'chemically', 'chemist', 'chemistry', 'chemo', 'chemotherapy', 'cheri', 'cherish', 'cherished', 'cherries', 'cherrios', 'cherry', 'cherrybrook', 'cheryl', 'chesapeake', 'chesse', 'chest', 'chester', 'chestnut', 'chestnuts', 'chevre', 'chew', 'chewability', 'chewable', 'chewables', 'chewed', 'chewer', 'chewey', 'chewie', 'chewier', 'chewies', 'chewiness', 'chewing', 'chews', 'chewy', 'chewys', 'chex', 'chi', 'chia', 'chianti', 'chiavetta', 'chic', 'chicago', 'chicagoland', 'chichen', 'chick', 'chicken', 'chicklet', 'chicklets', 'chickory', 'chickpea', 'chickpeas', 'chiclet', 'chiclets', 'chico', 'chicory', 'chief', 'chihuahua', 'chihuahuas', 'chik', 'chiken', 'child', 'childhood', 'childrens', 'chile', 'chilean', 'chili', 'chilies', 'chilihead', 'chilis', 'chill', 'chilled', 'chilli', 'chilly', 'chime', 'chin', 'china', 'chinatown', 'chinese', 'chinotto', 'chip', 'chipmunk', 'chipolte', 'chipotle', 'chipped', 'chipper', 'chiropractor', 'chive', 'chiweenie', 'chix', 'chloe', 'chlorella', 'chlorhexidine', 'chloride', 'chlorinate', 'chlorinated', 'chlorine', 'chlorophyll', 'chobani', 'choc', 'chocaholic', 'chocalate', 'chocholate', 'chock', 'choclate', 'choco', 'chocoate', 'chococino', 'chocofudge', 'chocoholic', 'chocoholics', 'chocolat', 'chocolate', 'chocolately', 'chocolatemint', 'chocolates', 'chocolatey', 'chocolatier', 'chocolaty', 'chocoloate', 'chocolove', 'chocoperfection', 'chocula', 'choice', 'choices', 'choir', 'choke', 'chokecherry', 'choking', 'cholesteral', 'cholesterol', 'cholestrol', 'choline', 'cholula', 'chomp', 'chondroitin', 'choo', 'choose', 'chooser', 'choosey', 'choosing', 'choosy', 'chop', 'chopped', 'chopper', 'chopping', 'chopstick', 'chord', 'chore', 'chorizo', 'chorus', 'chose', 'chosen', 'chow', 'chowder', 'chowed', 'chowing', 'chows', 'choy', 'chreese', 'chris', 'christian', 'christine', 'christmas', 'christmastime', 'chrome', 'chromium', 'chronic', 'chronically', 'chronicle', 'chrysanthemum', 'chub', 'chubby', 'chuck', 'chuckle', 'chug', 'chummies', 'chun', 'chuncks', 'chunk', 'chunkier', 'chunkiness', 'chunky', 'chupa', 'chups', 'church', 'churn', 'chute', 'chutney', 'ci', 'ciabatta', 'ciao', 'cib', 'cider', 'cigar', 'cigarette', 'cigarettes', 'cigs', 'cilantro', 'cinammon', 'cinamon', 'cinch', 'cincinnati', 'cincy', 'cindy', 'cinn', 'cinnabon', 'cinnamin', 'cinnamon', 'cinnamony', 'cinnimon', 'circle', 'circuit', 'circular', 'circulate', 'circulation', 'circulatory', 'circumference', 'circumstance', 'circus', 'cite', 'citiz', 'citizen', 'citrate', 'citric', 'citris', 'citron', 'citrus', 'citrusy', 'city', 'civil', 'civilization', 'civilized', 'ck', 'cl', 'clad', 'claim', 'claimed', 'claiming', 'clam', 'clamato', 'clamor', 'clamp', 'clan', 'clap', 'clarification', 'clarified', 'clarify', 'clarifying', 'clarity', 'clark', 'clash', 'clasico', 'clasp', 'class', 'classic', 'classical', 'classico', 'classification', 'classify', 'classique', 'classmate', 'classroom', 'classy', 'claw', 'claxton', 'clay', 'clean', 'cleaned', 'cleaner', 'cleanest', 'cleaning', 'cleanliness', 'cleanly', 'cleanse', 'cleanser', 'cleansing', 'cleanup', 'clear', 'clearance', 'clearer', 'clearing', 'clearly', 'cleave', 'cleaver', 'clementine', 'clench', 'cleo', 'clerk', 'cleveland', 'clever', 'cleverly', 'cliche', 'click', 'clicker', 'clicking', 'client', 'clif', 'cliff', 'climate', 'climb', 'cling', 'clinic', 'clinical', 'clinically', 'clint', 'clip', 'clipper', 'clipping', 'clock', 'clockwork', 'clod', 'clog', 'clogged', 'clogging', 'clone', 'clorets', 'clorox', 'close', 'closed', 'closely', 'closeout', 'closer', 'closest', 'closet', 'closing', 'closure', 'clot', 'cloth', 'clothe', 'clothes', 'clothing', 'clotted', 'cloud', 'cloudiness', 'cloudy', 'clove', 'clover', 'cloves', 'clown', 'cloy', 'cloying', 'cloyingly', 'club', 'clue', 'clueless', 'clump', 'clumped', 'clumping', 'clumps', 'clumpy', 'clumsy', 'clunky', 'cluster', 'clutter', 'cm', 'coach', 'coagulate', 'coal', 'coarse', 'coarsely', 'coarseness', 'coarser', 'coast', 'coastal', 'coaster', 'coat', 'coated', 'coating', 'coax', 'cob', 'cobalt', 'cobbler', 'cobweb', 'coca', 'cocaine', 'cocao', 'cocina', 'cock', 'cockapoo', 'cocker', 'cockroach', 'cocktail', 'cocktails', 'cocnut', 'coco', 'cocoa', 'cocoanut', 'cocolate', 'coconut', 'coconuts', 'coconutty', 'cocunut', 'cod', 'code', 'cofee', 'coffe', 'coffee', 'coffeecake', 'coffeee', 'coffeehouse', 'coffeemaker', 'coffeemakers', 'coffeemate', 'coffeepot', 'coffees', 'coffer', 'coffes', 'cofffee', 'coffie', 'coffies', 'cognac', 'cognitive', 'coil', 'coin', 'coincide', 'coincidence', 'coincidental', 'coincidentally', 'cointreau', 'coke', 'cola', 'colada', 'coladas', 'colander', 'colas', 'colavita', 'colby', 'cold', 'colder', 'cole', 'coleman', 'coleslaw', 'coli', 'colic', 'colicky', 'colitis', 'collander', 'collapse', 'collar', 'collard', 'colleague', 'collect', 'collectible', 'collection', 'collector', 'college', 'collie', 'colman', 'cologne', 'colombia', 'colombian', 'colon', 'colonial', 'colonoscopy', 'colony', 'color', 'colorado', 'colorants', 'coloration', 'colored', 'colorful', 'coloring', 'colorless', 'colossal', 'colour', 'columbia', 'columbian', 'columbus', 'columela', 'column', 'com', 'coma', 'comb', 'combat', 'combination', 'combine', 'combined', 'combo', 'combustion', 'come', 'comeback', 'comedian', 'comedy', 'comfort', 'comfortable', 'comfortably', 'comforting', 'comfy', 'comi', 'comic', 'comical', 'comin', 'coming', 'command', 'commence', 'commend', 'commensurate', 'comment', 'commentary', 'commenter', 'commenters', 'commerce', 'commercial', 'commercially', 'commerical', 'comming', 'commissary', 'commission', 'commit', 'commitment', 'committed', 'committee', 'commodity', 'common', 'commonly', 'communal', 'communicate', 'communication', 'communion', 'community', 'commute', 'commuter', 'como', 'compact', 'compaired', 'companion', 'company', 'comparable', 'comparably', 'comparative', 'comparatively', 'compare', 'comparible', 'comparing', 'comparision', 'comparison', 'compartment', 'compassion', 'compatibility', 'compatible', 'compel', 'compelling', 'compensate', 'compensation', 'compete', 'competent', 'competes', 'competetive', 'competition', 'competitive', 'competitively', 'competitor', 'complain', 'complainer', 'complaining', 'complains', 'complaint', 'complaints', 'compleats', 'complement', 'complementary', 'complete', 'completely', 'completion', 'completly', 'complex', 'complexion', 'complexity', 'compliant', 'complicate', 'complicated', 'complication', 'compliment', 'complimentary', 'comply', 'component', 'compose', 'composition', 'compost', 'compostable', 'composter', 'composting', 'compote', 'compound', 'comprable', 'comprehensive', 'compress', 'compressed', 'comprise', 'compromise', 'compromised', 'compulsive', 'compute', 'computer', 'comvita', 'conagra', 'concave', 'conceal', 'concede', 'conceive', 'concentrate', 'concentrated', 'concentration', 'concept', 'conception', 'concern', 'concerned', 'concert', 'concession', 'conch', 'concious', 'concise', 'conclude', 'conclusion', 'conclusive', 'concoct', 'concoction', 'concord', 'concrete', 'concur', 'condemn', 'condensation', 'condense', 'condensed', 'condenser', 'condiment', 'condition', 'conditioner', 'conditioning', 'condo', 'conducive', 'conduct', 'cone', 'coney', 'confection', 'confectionary', 'confectioner', 'confectionery', 'conference', 'confess', 'confession', 'confetti', 'confidence', 'confident', 'confidently', 'configuration', 'confine', 'confirm', 'confirmation', 'confirmed', 'confiscate', 'confit', 'conflict', 'conform', 'confront', 'confuse', 'confused', 'confusing', 'confusion', 'congeal', 'congealed', 'congest', 'congested', 'congestion', 'congestive', 'conglomerate', 'congrats', 'congratulate', 'congratulation', 'congress', 'conical', 'conjunction', 'conjure', 'connect', 'connecticut', 'connection', 'connective', 'connie', 'connoisseur', 'conquer', 'conscience', 'conscientious', 'conscious', 'consciously', 'consciousness', 'consecutive', 'consensus', 'consequence', 'consequently', 'conservancy', 'conservation', 'conservative', 'conserve', 'consider', 'considerable', 'considerably', 'considerate', 'consideration', 'considers', 'consist', 'consistancy', 'consistant', 'consistantly', 'consistency', 'consistent', 'consistently', 'consisting', 'consists', 'console', 'consolidate', 'consomme', 'conspiracy', 'constancy', 'constant', 'constantly', 'constipate', 'constipated', 'constipation', 'constituent', 'constitute', 'constitution', 'constraint', 'construct', 'construction', 'consult', 'consultant', 'consumable', 'consumables', 'consume', 'consumed', 'consumer', 'consumes', 'consuming', 'consumption', 'contact', 'contadina', 'contain', 'contained', 'container', 'containers', 'containing', 'containment', 'contains', 'contaminant', 'contaminate', 'contaminated', 'contamination', 'contemplate', 'contemporary', 'contend', 'contender', 'content', 'contented', 'contention', 'contessa', 'contest', 'context', 'continent', 'continental', 'continual', 'continually', 'continue', 'continued', 'continuous', 'continuously', 'contract', 'contraction', 'contractor', 'contradict', 'contradiction', 'contradictory', 'contraption', 'contrary', 'contrast', 'contrasting', 'contribute', 'contribution', 'contributor', 'control', 'controlled', 'controversial', 'controversy', 'convection', 'convenience', 'convenient', 'conveniently', 'convent', 'convention', 'conventional', 'conventionally', 'conversation', 'conversely', 'conversion', 'convert', 'convey', 'conveyor', 'convienant', 'convience', 'convienence', 'convienent', 'convienient', 'convient', 'convince', 'convinced', 'convincing', 'convinient', 'coo', 'cook', 'cookbook', 'cookbooks', 'cooke', 'cooked', 'cooker', 'cookie', 'cookies', 'cookin', 'cooking', 'cookout', 'cooks', 'cookware', 'cooky', 'cool', 'cooled', 'cooler', 'coolest', 'cooling', 'coolness', 'coombs', 'coon', 'coonhound', 'coop', 'cooper', 'cooperate', 'cooperative', 'coordinate', 'coordination', 'cop', 'cope', 'copious', 'copper', 'copy', 'copycat', 'copyright', 'corazonas', 'cord', 'cordial', 'core', 'corgi', 'coriander', 'cork', 'corker', 'corkscrew', 'corn', 'cornbread', 'corned', 'corner', 'cornflakes', 'cornmeal', 'cornnuts', 'cornstarch', 'cornucopia', 'corny', 'coronary', 'corp', 'corporate', 'corporation', 'corral', 'correct', 'correction', 'correctly', 'correlate', 'correlation', 'correspond', 'corresponding', 'corrupt', 'corso', 'cortisone', 'cos', 'cosco', 'cosequin', 'cosmetic', 'cosmic', 'cosmo', 'cosmopolitan', 'cosmos', 'cost', 'costa', 'costco', 'costcos', 'costly', 'costo', 'costume', 'costumer', 'cote', 'coton', 'cotta', 'cottage', 'cotton', 'cottonseed', 'couch', 'cough', 'coughing', 'couldn', 'coumarin', 'council', 'counselor', 'count', 'counter', 'counteract', 'counterbalance', 'counterfeit', 'counterpart', 'counterpoint', 'countertop', 'counting', 'countless', 'country', 'countryside', 'county', 'couple', 'coupon', 'courage', 'courier', 'course', 'courser', 'court', 'courteous', 'courtesy', 'cous', 'couscous', 'cousin', 'cover', 'coverage', 'covered', 'covering', 'covet', 'coveted', 'cow', 'cowboy', 'coworker', 'coworkers', 'coyote', 'coz', 'cozy', 'cp', 'cr', 'crab', 'crabcakes', 'crabmeat', 'crack', 'cracked', 'cracker', 'crackers', 'cracking', 'crackle', 'cracklin', 'cradle', 'craft', 'craftsmanship', 'crafty', 'craig', 'craisins', 'crakers', 'cram', 'cramp', 'cramping', 'cran', 'cranberries', 'cranberry', 'crank', 'cranky', 'cranny', 'crap', 'crappy', 'crash', 'crashing', 'crate', 'crave', 'craves', 'craving', 'crawfish', 'crawford', 'crawl', 'crawler', 'crayon', 'craze', 'crazy', 'cream', 'creama', 'creamed', 'creamer', 'creamery', 'creamier', 'creamiest', 'creaminess', 'creamsicle', 'creamy', 'crease', 'create', 'creates', 'creatine', 'creation', 'creative', 'creatively', 'creativity', 'creator', 'creature', 'credential', 'credibility', 'credible', 'credit', 'creek', 'creep', 'creepy', 'crema', 'creme', 'cremes', 'creole', 'crepe', 'crescent', 'crest', 'crevice', 'crew', 'crf', 'cricket', 'crime', 'criminal', 'crimson', 'cringe', 'crinkle', 'crinkly', 'cripple', 'crips', 'cripsy', 'crisco', 'crisis', 'crisp', 'crispbread', 'crispbreads', 'crisped', 'crisper', 'crispier', 'crispies', 'crispiness', 'crispness', 'crisps', 'crispy', 'criterion', 'critic', 'critical', 'criticism', 'criticize', 'critique', 'critter', 'croatia', 'croccantini', 'crock', 'crocker', 'crockpot', 'crohn', 'croissant', 'crook', 'crooked', 'crop', 'cross', 'crosse', 'crostini', 'crouton', 'crow', 'crowd', 'crowded', 'crown', 'cruch', 'cruchy', 'crucial', 'crud', 'crude', 'cruel', 'cruelty', 'cruet', 'cruise', 'crumb', 'crumble', 'crumbled', 'crumbles', 'crumbling', 'crumbly', 'crumbs', 'crumby', 'crummy', 'crumpet', 'crumple', 'crunch', 'crunchers', 'crunchie', 'crunchier', 'crunchies', 'crunchiest', 'crunchiness', 'crunching', 'crunchmaster', 'crunchy', 'cruncy', 'crush', 'crushed', 'crushing', 'crust', 'crustacean', 'crusty', 'crutch', 'cruz', 'crystal', 'crystalize', 'crystalized', 'crystalline', 'crystallization', 'crystallize', 'crystallized', 'cs', 'ct', 'cu', 'cub', 'cuba', 'cuban', 'cube', 'cubed', 'cubes', 'cubic', 'cubicle', 'cucina', 'cucumber', 'cuddle', 'cue', 'cuervo', 'cuisinart', 'cuisine', 'cuke', 'culinary', 'cull', 'culprit', 'cult', 'cultivate', 'cultivation', 'cultural', 'culture', 'cultured', 'cumbersome', 'cumin', 'cumulative', 'cup', 'cupboard', 'cupcake', 'cupcakes', 'cupful', 'cuppa', 'cups', 'curb', 'curcumin', 'curd', 'curdle', 'cure', 'cured', 'curing', 'curiosity', 'curious', 'curiousity', 'curiously', 'curl', 'curly', 'currant', 'currency', 'current', 'currently', 'curried', 'curry', 'curse', 'curtain', 'curve', 'cushion', 'cushioning', 'cusine', 'custard', 'custom', 'customary', 'customer', 'customizable', 'customize', 'cut', 'cute', 'cuticle', 'cutlet', 'cutout', 'cutter', 'cutting', 'cuz', 'cv', 'cvs', 'cyanocobalamin', 'cycle', 'cycling', 'cyclist', 'cyclone', 'cylinder', 'cylindrical', 'cynical', 'cyst', 'cystitis', 'cytomax', 'cytosport', 'da', 'dab', 'dabble', 'dachshund', 'dachshunds', 'dad', 'daddy', 'dagoba', 'daily', 'dainty', 'daiquiri', 'dairy', 'daisy', 'daiya', 'dakota', 'dal', 'dale', 'dalfour', 'dallas', 'dallmayr', 'dalmatian', 'dam', 'damage', 'damaged', 'damaging', 'dammit', 'damn', 'damp', 'dampen', 'dampness', 'dan', 'dance', 'dandelion', 'dander', 'dandruff', 'dandy', 'dane', 'dang', 'danged', 'danger', 'dangerous', 'dangerously', 'dangle', 'daniel', 'danielle', 'danish', 'dannon', 'danny', 'dare', 'daresay', 'daring', 'darjeeling', 'dark', 'darken', 'darker', 'darkest', 'darkly', 'darkness', 'darling', 'darn', 'darned', 'darrell', 'dartmouth', 'das', 'dasani', 'daschund', 'dash', 'dashi', 'dassant', 'dasuquin', 'dat', 'data', 'date', 'dated', 'daughter', 'daugther', 'daunt', 'dave', 'daves', 'david', 'davidson', 'davidsons', 'davinci', 'davis', 'dawg', 'dawn', 'day', 'daybreak', 'daycare', 'daylight', 'daytime', 'dazzle', 'db', 'dc', 'dd', 'dead', 'deadline', 'deadly', 'deadman', 'deaf', 'deal', 'dealbreaker', 'dealer', 'dealing', 'dealt', 'dean', 'dear', 'dearly', 'death', 'deathly', 'deb', 'debacle', 'debatable', 'debate', 'debbie', 'debilitate', 'deboles', 'debone', 'deborah', 'debris', 'debut', 'dec', 'decade', 'decadence', 'decadent', 'decaf', 'decafe', 'decaff', 'decaffeinate', 'decaffeinated', 'decaffeination', 'decaffinated', 'decafinated', 'decafs', 'decal', 'decalf', 'decant', 'decanter', 'decay', 'decease', 'dececco', 'deceitful', 'deceive', 'deceiving', 'december', 'decent', 'decently', 'deception', 'deceptive', 'deceptively', 'decide', 'decided', 'decidedly', 'decides', 'decipher', 'decision', 'deck', 'decker', 'declaration', 'declare', 'declicious', 'decline', 'decompose', 'decor', 'decorate', 'decorating', 'decoration', 'decorative', 'decorator', 'decrease', 'decreased', 'dedicate', 'dedicated', 'dedication', 'deduce', 'deduct', 'deduction', 'dee', 'deed', 'deee', 'deeeeelicious', 'deeeelicious', 'deeelicious', 'deelish', 'deem', 'deen', 'deep', 'deepen', 'deeper', 'deeply', 'deer', 'deet', 'def', 'defatted', 'default', 'defeat', 'defecate', 'defect', 'defective', 'defend', 'defense', 'defensive', 'defer', 'deff', 'deffinately', 'defiantly', 'deficiency', 'deficient', 'deficit', 'definate', 'definately', 'definatley', 'definatly', 'define', 'defined', 'definently', 'defines', 'definetely', 'definetly', 'definintely', 'definite', 'definitely', 'definition', 'definitive', 'definitively', 'definitley', 'definitly', 'defintely', 'deflate', 'deform', 'defrost', 'defunct', 'defy', 'deg', 'degas', 'deglaze', 'degradable', 'degradation', 'degrade', 'degree', 'degrees', 'dehydrate', 'dehydrated', 'dehydration', 'dehydrator', 'deign', 'deja', 'del', 'delallo', 'delaware', 'delay', 'delayed', 'delcious', 'delecious', 'delectable', 'delectible', 'delete', 'delhi', 'deli', 'deliberate', 'deliberately', 'delicacy', 'delicate', 'delicately', 'delicioso', 'delicious', 'deliciously', 'deliciousness', 'deliciuos', 'delicous', 'delievered', 'delievery', 'delight', 'delighted', 'delightful', 'delightfully', 'delious', 'deliscious', 'delish', 'delite', 'delites', 'deliver', 'deliverd', 'delivered', 'delivers', 'delivery', 'dell', 'delonghi', 'delta', 'deluca', 'deluxe', 'delve', 'demand', 'demanding', 'demeanor', 'dementia', 'demerara', 'demi', 'demise', 'demitri', 'demo', 'demographic', 'demolish', 'demon', 'demonstrate', 'demonstration', 'den', 'denature', 'denial', 'denmark', 'dennis', 'denny', 'denote', 'dense', 'densely', 'denser', 'density', 'dent', 'denta', 'dental', 'dentashield', 'dentastix', 'dente', 'dented', 'dentist', 'denture', 'dentyne', 'denver', 'deny', 'deoderant', 'deodorant', 'deodorize', 'deodorizer', 'depart', 'department', 'departure', 'depend', 'dependable', 'dependant', 'dependent', 'depending', 'depends', 'depict', 'deplete', 'depletion', 'deplorable', 'deploy', 'deployed', 'deployment', 'deposit', 'depot', 'depress', 'depressant', 'depressed', 'depressing', 'depression', 'deprivation', 'deprive', 'deprived', 'dept', 'depth', 'der', 'derail', 'derivative', 'derive', 'dermatitis', 'dermatologist', 'descale', 'descend', 'descent', 'described', 'describes', 'descript', 'description', 'descriptive', 'descriptor', 'desert', 'deserve', 'deserved', 'deserves', 'deserving', 'design', 'designate', 'designated', 'designation', 'designer', 'desirable', 'desire', 'desireable', 'desired', 'desk', 'desktop', 'desolve', 'despair', 'desparate', 'desperate', 'desperately', 'desperation', 'despicable', 'despise', 'despite', 'dessert', 'desserts', 'dessicated', 'destination', 'destine', 'destiny', 'destrooper', 'destroy', 'destroyed', 'destroyer', 'destroys', 'destruction', 'destructive', 'detach', 'detailed', 'detangle', 'detangling', 'detect', 'detectable', 'detective', 'detector', 'deter', 'detergent', 'deteriorate', 'deterioration', 'determination', 'determine', 'determined', 'deterrent', 'detest', 'detour', 'detox', 'detoxification', 'detoxify', 'detract', 'detractor', 'detracts', 'detriment', 'detrimental', 'detritus', 'detroit', 'devastate', 'develop', 'developed', 'developer', 'development', 'deviate', 'device', 'devil', 'deviled', 'devine', 'devise', 'devoid', 'devon', 'devote', 'devoted', 'devotee', 'devotion', 'devour', 'devours', 'devout', 'dew', 'dexter', 'dexterity', 'dextrin', 'dextrose', 'df', 'dh', 'dha', 'dhl', 'di', 'dia', 'diabetes', 'diabetic', 'diagnose', 'diagnosis', 'diagnostic', 'diagonally', 'dial', 'diameter', 'diamond', 'diamondgreen', 'diana', 'diane', 'diaper', 'diappointed', 'diarhea', 'diarreah', 'diarrhea', 'diary', 'dicalcium', 'dice', 'diced', 'dick', 'dickason', 'dickens', 'dictate', 'dictionary', 'didn', 'didnot', 'didnt', 'die', 'diedrich', 'diego', 'diehard', 'diesel', 'diet', 'dietary', 'dieter', 'dietetic', 'dietician', 'dieting', 'dietitian', 'diff', 'differ', 'differance', 'differant', 'difference', 'different', 'differential', 'differentiate', 'differentiation', 'differently', 'differnce', 'differnet', 'differnt', 'differs', 'difficult', 'difficulty', 'diffrent', 'diffuse', 'diffuser', 'dig', 'digest', 'digestable', 'digestibility', 'digestible', 'digestion', 'digestive', 'digestives', 'digging', 'diggity', 'digit', 'digital', 'diglycerides', 'digress', 'dijon', 'dilate', 'dilemma', 'dilettante', 'diligence', 'diligent', 'diligently', 'dill', 'dilmah', 'dilute', 'diluted', 'dilution', 'dim', 'dime', 'dimension', 'dimensional', 'diminish', 'din', 'dine', 'diner', 'ding', 'dingo', 'dining', 'dink', 'dinky', 'dinner', 'dinnertime', 'dino', 'dinosaur', 'dinty', 'dioxide', 'dip', 'dipotassium', 'dipped', 'dipper', 'dipping', 'dire', 'direct', 'directed', 'direction', 'directions', 'directly', 'director', 'dirt', 'dirty', 'dis', 'disability', 'disable', 'disabled', 'disadvantage', 'disagree', 'disagreeable', 'disagreement', 'disapointed', 'disapointing', 'disapointment', 'disappear', 'disappearance', 'disappeared', 'disappears', 'disappoint', 'disappointed', 'disappointing', 'disappointingly', 'disappointment', 'disappoints', 'disassemble', 'disaster', 'disastrous', 'disbelief', 'disc', 'discard', 'discern', 'discernable', 'discernible', 'discerning', 'discharge', 'discipline', 'disclaimer', 'disclose', 'disclosure', 'disco', 'discolor', 'discoloration', 'discolored', 'discomfort', 'disconcert', 'disconcerting', 'disconnect', 'discontinue', 'discontinued', 'discount', 'discounted', 'discourage', 'discover', 'discovery', 'discreet', 'discreetly', 'discrepancy', 'discretion', 'discribe', 'discriminate', 'discriminating', 'discription', 'discs', 'discuss', 'discussion', 'discusting', 'disdain', 'disease', 'diseased', 'diseases', 'disfigure', 'disgrace', 'disguise', 'disgust', 'disgusted', 'disgusting', 'disgustingly', 'dish', 'dishearten', 'dishonest', 'dishonesty', 'dishwasher', 'dishwashing', 'dishwater', 'disinfect', 'disingenuous', 'disintegrate', 'disinterested', 'disk', 'dislike', 'dislodge', 'dismal', 'dismay', 'dismayed', 'dismiss', 'disney', 'disneyland', 'disodium', 'disolve', 'disolved', 'disolves', 'disolving', 'disorder', 'disparity', 'dispel', 'dispense', 'dispenser', 'dispensing', 'disperse', 'dispite', 'displace', 'display', 'displayed', 'displease', 'displeased', 'displeasure', 'disposable', 'disposakup', 'disposakups', 'disposal', 'dispose', 'disposition', 'disppointed', 'disproportionate', 'dispute', 'disregard', 'disrupt', 'diss', 'dissapoint', 'dissapointed', 'dissapointing', 'dissapointment', 'dissappointed', 'dissappointing', 'dissappointment', 'dissatisfaction', 'dissatisfied', 'dissatisfy', 'dissect', 'disservice', 'dissipate', 'dissolve', 'dissolved', 'dissolving', 'dissuade', 'distance', 'distant', 'distaste', 'distasteful', 'distil', 'distillation', 'distilled', 'distiller', 'distillery', 'distinct', 'distinction', 'distinctive', 'distinctively', 'distinctly', 'distinguish', 'distinguishable', 'distort', 'distract', 'distracted', 'distraction', 'distraught', 'distress', 'distressed', 'distribute', 'distributer', 'distribution', 'distributor', 'district', 'disturb', 'disturbing', 'ditch', 'ditto', 'diuretic', 'diva', 'dive', 'diverse', 'diversify', 'diversion', 'diversity', 'diverticulitis', 'divide', 'divider', 'divine', 'divinely', 'divinity', 'division', 'divorce', 'divvy', 'dixie', 'diy', 'dizziness', 'dizzy', 'dl', 'dm', 'dme', 'dna', 'doa', 'doable', 'doberman', 'dobie', 'doc', 'dock', 'doctor', 'doctoring', 'document', 'documentary', 'documentation', 'documented', 'dodge', 'dodo', 'doen', 'doesn', 'doesnt', 'dog', 'dogfood', 'dogfoodadvisor', 'dogfoodanalysis', 'dogfoods', 'doggie', 'doggone', 'doggy', 'dogs', 'dogswell', 'doh', 'dolce', 'doldrums', 'dole', 'doling', 'doll', 'dollar', 'dollop', 'dollup', 'dolphin', 'dom', 'domain', 'domatcha', 'dome', 'domestic', 'domestically', 'domesticate', 'dominant', 'dominate', 'dominates', 'dominican', 'domino', 'don', 'donald', 'donate', 'donation', 'doneness', 'dong', 'donkey', 'donna', 'donor', 'donot', 'dont', 'donut', 'donuts', 'doo', 'doodle', 'doom', 'doone', 'door', 'doorbell', 'doorstep', 'doorway', 'dop', 'dope', 'dora', 'dorado', 'dorito', 'doritos', 'dorm', 'dormant', 'dorothy', 'dorset', 'dos', 'dosage', 'dose', 'dosen', 'dosent', 'dosn', 'dot', 'double', 'doubled', 'doubleshot', 'doubly', 'doubt', 'doubtful', 'dough', 'doughnut', 'doughy', 'douglas', 'douse', 'douwe', 'dove', 'downer', 'downfall', 'downgrade', 'downhill', 'download', 'downplay', 'downright', 'downside', 'downsize', 'downstairs', 'downtown', 'downward', 'doxie', 'doxy', 'doz', 'doze', 'dozen', 'dp', 'dr', 'drab', 'drag', 'dragee', 'dragon', 'dragonfruit', 'dragonwell', 'drain', 'drainage', 'drained', 'draining', 'drake', 'dram', 'drama', 'dramatic', 'dramatically', 'drank', 'drape', 'drastic', 'drastically', 'dravis', 'draw', 'drawback', 'drawer', 'drawing', 'drawn', 'drawstring', 'dread', 'dreaded', 'dreadful', 'dream', 'dreamfield', 'dreamfields', 'dreaming', 'dreamy', 'dreary', 'dreck', 'dredge', 'dreg', 'drench', 'dress', 'dresser', 'dressing', 'dribble', 'dried', 'drier', 'drift', 'drill', 'dring', 'drink', 'drinkability', 'drinkable', 'drinker', 'drinkin', 'drinking', 'drip', 'dripping', 'drippy', 'drive', 'driven', 'driver', 'driveway', 'driving', 'drizzle', 'drool', 'droop', 'drop', 'droplet', 'dropped', 'dropper', 'droppings', 'drops', 'droste', 'drought', 'drove', 'drown', 'drowsiness', 'drowsy', 'drs', 'drug', 'drugstore', 'drum', 'drumstick', 'drunk', 'drunken', 'dry', 'dryer', 'drying', 'dryness', 'dsh', 'du', 'dual', 'duane', 'dub', 'dubai', 'dubble', 'dubious', 'dublin', 'duck', 'duct', 'dud', 'dude', 'duds', 'duff', 'dug', 'duh', 'dukan', 'duke', 'dulce', 'dull', 'dulse', 'dum', 'dumb', 'dummy', 'dump', 'dumpling', 'dumplings', 'dumpster', 'duncan', 'dundee', 'dunk', 'dunkin', 'dunking', 'dunno', 'duo', 'dupe', 'duper', 'duplicate', 'dura', 'durability', 'durable', 'durachew', 'duration', 'durian', 'durkee', 'durum', 'dust', 'dusting', 'dusty', 'dutch', 'dutched', 'duty', 'dv', 'dvd', 'dvm', 'dwarf', 'dwell', 'dweller', 'dwindle', 'dy', 'dye', 'dyed', 'dyes', 'dying', 'dynamic', 'dynamite', 'dynasty', 'dysfunction', 'dysplasia', 'ea', 'eachother', 'eager', 'eagerly', 'eagerness', 'eagle', 'ear', 'earl', 'earlier', 'early', 'earn', 'earned', 'earnest', 'ears', 'earth', 'earthborn', 'earthiness', 'earthly', 'earthmate', 'earthquake', 'earths', 'earthy', 'ease', 'easier', 'easiest', 'easily', 'east', 'easter', 'eastern', 'easy', 'eat', 'eatable', 'eaten', 'eater', 'eatery', 'eatin', 'eating', 'eats', 'eatting', 'eb', 'ebay', 'eboost', 'ec', 'ecc', 'echinacea', 'echo', 'eclectic', 'eclipse', 'eco', 'ecobrew', 'ecological', 'ecologically', 'economic', 'economical', 'economically', 'economics', 'economy', 'ecstasy', 'ecstatic', 'ect', 'ecuador', 'eczema', 'ed', 'edamame', 'edema', 'eden', 'edensoy', 'edge', 'edgy', 'edible', 'edit', 'edition', 'editor', 'edta', 'educate', 'educated', 'education', 'educational', 'educator', 'edward', 'ee', 'eek', 'eel', 'efa', 'efagold', 'efendi', 'effect', 'effective', 'effectively', 'effectiveness', 'effervescence', 'effervescent', 'efficacy', 'efficiency', 'efficient', 'efficiently', 'effort', 'effortless', 'effortlessly', 'efs', 'egbert', 'egberts', 'egcg', 'egg', 'eggless', 'eggnog', 'eggplant', 'eggs', 'eggy', 'egregious', 'egypt', 'egyptian', 'eh', 'ehh', 'ehhh', 'eiermann', 'eighteen', 'eighth', 'eighty', 'einkorn', 'einstein', 'eject', 'ekobrew', 'ekojava', 'el', 'elaborate', 'elana', 'elastic', 'elasticity', 'elate', 'elbow', 'elder', 'elderberry', 'elderflower', 'elderly', 'eldest', 'elect', 'electric', 'electrical', 'electricity', 'electrolyte', 'electrolytes', 'electronic', 'electronics', 'elegance', 'elegant', 'elegantly', 'element', 'elementary', 'elephant', 'eleuthero', 'elevate', 'elevated', 'elevation', 'elf', 'elfman', 'elicit', 'eligible', 'eliminate', 'elimination', 'elite', 'elixir', 'elizabeth', 'elk', 'elkhound', 'ella', 'ellen', 'ellie', 'elm', 'elmer', 'elmo', 'elongate', 'elude', 'elusive', 'elvis', 'em', 'email', 'emanate', 'embarassed', 'embarassing', 'embark', 'embarrased', 'embarrass', 'embarrassed', 'embarrassing', 'embarrassingly', 'embarrassment', 'embed', 'embellish', 'embellishment', 'emblem', 'embody', 'emboss', 'embrace', 'emerald', 'emerge', 'emergen', 'emergency', 'emeril', 'emerils', 'emily', 'emission', 'emit', 'emotion', 'emotional', 'emotionally', 'empanadas', 'emperor', 'emphasis', 'emphasize', 'empire', 'employ', 'employee', 'employer', 'employment', 'emporium', 'emptor', 'emulate', 'emulsifier', 'emulsion', 'en', 'enable', 'enamel', 'enamor', 'encase', 'enchant', 'enchilada', 'enchiladas', 'enclose', 'enclosed', 'enclosure', 'encompass', 'encounter', 'encourage', 'encouragement', 'encouraging', 'encrust', 'end', 'endanger', 'endangered', 'endear', 'endeavor', 'endless', 'endlessly', 'endocrine', 'endorphin', 'endorse', 'endorsement', 'endurance', 'endure', 'enemy', 'ener', 'energ', 'energetic', 'energize', 'energized', 'energizer', 'energizing', 'energy', 'enery', 'enfamil', 'enflora', 'enforce', 'enforcement', 'engage', 'engagement', 'engine', 'engineer', 'engineering', 'england', 'english', 'englishman', 'engorge', 'enhance', 'enhanced', 'enhancement', 'enhancer', 'enhances', 'enjoy', 'enjoyable', 'enjoyably', 'enjoyed', 'enjoyment', 'enjoys', 'enlarge', 'enlarged', 'enlighten', 'enlist', 'enliven', 'enormous', 'enormously', 'enought', 'enrich', 'enriched', 'enrobe', 'enrol', 'ensue', 'ensure', 'ensures', 'entail', 'enter', 'enterococcus', 'enterprise', 'entertain', 'entertained', 'entertaining', 'entertainment', 'enthral', 'enthuse', 'enthused', 'enthusiasm', 'enthusiast', 'enthusiastic', 'enthusiastically', 'entice', 'enticement', 'enticing', 'entire', 'entirely', 'entirety', 'entitle', 'entity', 'entr', 'entrance', 'entree', 'entrees', 'entrepreneur', 'entry', 'enuf', 'envelop', 'envelope', 'envious', 'enviro', 'envirokids', 'envirokidz', 'enviroment', 'environment', 'environmental', 'environmentally', 'envision', 'envy', 'enzymatic', 'enzyme', 'enzymes', 'eon', 'epa', 'epcot', 'epic', 'epidemic', 'epigen', 'epilepsy', 'epileptic', 'episode', 'epitome', 'epoxy', 'epsom', 'equal', 'equally', 'equate', 'equation', 'equip', 'equipment', 'equivalent', 'er', 'era', 'eradicate', 'erase', 'eraser', 'erewhon', 'ergo', 'erh', 'eric', 'erin', 'err', 'errand', 'erroneous', 'erroneously', 'error', 'ersatz', 'erupt', 'erythritol', 'es', 'escalate', 'escape', 'escargot', 'eschew', 'ese', 'eskimo', 'esophageal', 'esophagus', 'esp', 'espcially', 'especial', 'especially', 'espressione', 'espressivo', 'espresso', 'espressos', 'esq', 'esque', 'essay', 'essence', 'essense', 'essentia', 'essential', 'essentially', 'essiac', 'esspresso', 'est', 'establish', 'establishment', 'estate', 'estatic', 'este', 'esteem', 'ester', 'estimate', 'estimated', 'estimation', 'estrogen', 'et', 'eta', 'eternal', 'eternally', 'eternity', 'ethan', 'ether', 'ethereal', 'ethic', 'ethical', 'ethically', 'ethiopia', 'ethiopian', 'ethnic', 'ethoxyquin', 'ethylene', 'eu', 'eucalyptus', 'eukanuba', 'euphoric', 'eureka', 'euro', 'europe', 'european', 'euthanized', 'ev', 'eva', 'evacuate', 'evaluate', 'evaluation', 'evanger', 'evangers', 'evaporate', 'evaporated', 'evaporation', 'evco', 'eve', 'evenflo', 'evening', 'evenly', 'event', 'eventhough', 'eventually', 'everday', 'evergreen', 'everlasting', 'everthing', 'everybody', 'everyday', 'everynight', 'everyones', 'everytime', 'evey', 'evian', 'evidence', 'evident', 'evidently', 'evil', 'evo', 'evoke', 'evolution', 'evolve', 'evoo', 'ew', 'eww', 'ewww', 'ewwww', 'ewwwww', 'ex', 'exacerbate', 'exact', 'exactly', 'exaggerate', 'exaggerated', 'exaggeration', 'exam', 'examination', 'examine', 'example', 'exceed', 'exceeded', 'exceedingly', 'exceeds', 'excel', 'excelent', 'excelente', 'excellant', 'excellence', 'excellent', 'excellently', 'exception', 'exceptional', 'exceptionally', 'excercise', 'excerpt', 'excess', 'excessive', 'excessively', 'exchange', 'excite', 'excited', 'excitedly', 'excitement', 'exciting', 'exclaim', 'exclamation', 'exclude', 'exclusion', 'exclusive', 'exclusively', 'excruciate', 'excursion', 'excuse', 'execellent', 'execute', 'execution', 'executive', 'exellent', 'exercise', 'exert', 'exertion', 'exfoliate', 'exhale', 'exhaust', 'exhausted', 'exhaustion', 'exhaustive', 'exhibit', 'exhorbitant', 'exist', 'existant', 'existence', 'existent', 'exists', 'exit', 'exorbitant', 'exorbitantly', 'exorcist', 'exotic', 'exp', 'expand', 'expansion', 'expat', 'expecially', 'expect', 'expectancy', 'expectation', 'expected', 'expecting', 'expedient', 'expedite', 'expedited', 'expedition', 'expel', 'expeller', 'expencive', 'expend', 'expenditure', 'expense', 'expensive', 'expensively', 'experation', 'experiance', 'experience', 'experienced', 'experiment', 'experimental', 'experimentation', 'experimenting', 'expert', 'expertise', 'expertly', 'expiration', 'expire', 'expired', 'expires', 'expiry', 'explain', 'explanation', 'explicit', 'explicitly', 'explode', 'explodes', 'exploration', 'explore', 'explorer', 'explosion', 'explosive', 'expo', 'exponentially', 'export', 'expose', 'exposed', 'exposure', 'express', 'expression', 'expresso', 'expressos', 'exquisite', 'exquisitely', 'exspensive', 'extemely', 'extend', 'extended', 'extender', 'extension', 'extensive', 'extensively', 'extent', 'exterior', 'exterminator', 'external', 'externally', 'extinct', 'extol', 'extra', 'extract', 'extraction', 'extractives', 'extraneous', 'extraordinaire', 'extraordinarily', 'extraordinary', 'extras', 'extravagance', 'extravagant', 'extreme', 'extremely', 'extremly', 'extrude', 'exuberant', 'exude', 'ey', 'eye', 'eyeball', 'eyebrow', 'eyed', 'eyelash', 'eyelid', 'eyes', 'eyesight', 'ez', 'ezekiel', 'fa', 'fab', 'fabric', 'fabulous', 'fabulously', 'face', 'facebook', 'facial', 'facilitate', 'facility', 'facing', 'facsimile', 'fact', 'factor', 'factory', 'facts', 'factsserving', 'factual', 'fad', 'fade', 'faded', 'faecium', 'faerie', 'fage', 'fahrenheit', 'fail', 'failed', 'fails', 'failure', 'faint', 'faintly', 'fair', 'fairly', 'fairness', 'fairway', 'fairy', 'faith', 'faithful', 'faithfully', 'fajita', 'fajitas', 'fake', 'fakey', 'falafel', 'falcon', 'fall', 'false', 'falsely', 'falvor', 'fam', 'fame', 'famed', 'familar', 'familia', 'familiar', 'familiarity', 'family', 'famish', 'famous', 'fan', 'fanatic', 'fancier', 'fancy', 'fannings', 'fanny', 'fanta', 'fantabulous', 'fantasic', 'fantasicakes', 'fantastic', 'fantastically', 'fantasy', 'faq', 'far', 'fare', 'farina', 'farm', 'farmer', 'farmhouse', 'farming', 'farro', 'fart', 'farther', 'fascinate', 'fascinating', 'fascination', 'fashion', 'fashioned', 'fast', 'fasten', 'faster', 'fasting', 'fat', 'fatal', 'fatality', 'fate', 'father', 'fathom', 'fatigue', 'fatten', 'fattening', 'fatter', 'fatty', 'faucet', 'fault', 'faulty', 'faux', 'fav', 'fava', 'fave', 'faves', 'favor', 'favorable', 'favorably', 'favorate', 'favored', 'favorful', 'favorit', 'favorite', 'favorites', 'favour', 'favourite', 'favs', 'faygo', 'fazer', 'fb', 'fd', 'fda', 'fe', 'fear', 'fearful', 'feasible', 'feast', 'feat', 'feather', 'feature', 'featured', 'feb', 'february', 'fecal', 'feces', 'fed', 'federal', 'fedex', 'fee', 'feed', 'feedback', 'feeder', 'feeding', 'feel', 'feeling', 'feels', 'feingold', 'feisty', 'felidae', 'feline', 'felix', 'fell', 'fella', 'fellow', 'felt', 'female', 'feminine', 'fence', 'fend', 'fennel', 'fenugreek', 'fer', 'feral', 'ferals', 'feridies', 'ferment', 'fermentation', 'fermented', 'fermenter', 'fermenting', 'fern', 'ferrara', 'ferrero', 'ferret', 'ferrous', 'ferry', 'fertile', 'fertilize', 'fertilizer', 'fest', 'festival', 'festive', 'feta', 'fetch', 'fettuccine', 'fettuccini', 'fettucine', 'fettucini', 'fever', 'ff', 'fg', 'fi', 'fianc', 'fiance', 'fiancee', 'fiasco', 'fiber', 'fibergourmet', 'fiberone', 'fiberplus', 'fibre', 'fibromyalgia', 'fibrous', 'fickle', 'fiction', 'ficus', 'fiddle', 'fide', 'fido', 'field', 'fiend', 'fierce', 'fiery', 'fiesta', 'fife', 'fifth', 'fig', 'figgy', 'fight', 'fighter', 'fighting', 'figs', 'figure', 'figured', 'figurine', 'figuring', 'fiji', 'fil', 'filbert', 'file', 'filet', 'filing', 'filipino', 'filled', 'filler', 'fillet', 'filling', 'film', 'filmy', 'filter', 'filtered', 'filtering', 'filth', 'filthy', 'filtration', 'filtro', 'fin', 'final', 'finally', 'finaly', 'finance', 'financial', 'financially', 'finding', 'fine', 'finely', 'fineness', 'finer', 'finesse', 'finest', 'finger', 'fingernail', 'fingertip', 'finicky', 'finiky', 'finish', 'finished', 'finisher', 'finishing', 'finland', 'finn', 'finnicky', 'finnish', 'finum', 'fir', 'fireball', 'firehouse', 'fireplace', 'firework', 'firm', 'firmer', 'firmly', 'firmness', 'firsthand', 'firstly', 'fish', 'fisher', 'fisherman', 'fishies', 'fishiness', 'fishing', 'fishy', 'fist', 'fistful', 'fit', 'fitness', 'fitting', 'fix', 'fixate', 'fixation', 'fixed', 'fixing', 'fixins', 'fixture', 'fizz', 'fizzie', 'fizzies', 'fizziness', 'fizzle', 'fizzy', 'fl', 'fla', 'flabbergast', 'flag', 'flagship', 'flair', 'flake', 'flaked', 'flakes', 'flakey', 'flakiness', 'flaking', 'flaky', 'flame', 'flamin', 'flan', 'flank', 'flap', 'flapjack', 'flare', 'flash', 'flashback', 'flashlight', 'flashy', 'flask', 'flat', 'flatbread', 'flatly', 'flatten', 'flattened', 'flatter', 'flatulence', 'flav', 'flavacol', 'flaver', 'flavers', 'flavia', 'flavonoid', 'flavor', 'flavorable', 'flavorand', 'flavored', 'flavorful', 'flavorfull', 'flavori', 'flavoring', 'flavorless', 'flavorwise', 'flavour', 'flavoured', 'flavourful', 'flavouring', 'flavrz', 'flaw', 'flawless', 'flawlessly', 'flax', 'flaxseed', 'flea', 'fleas', 'fleck', 'fledge', 'flee', 'fleet', 'fleeting', 'fleischmann', 'flesh', 'fleshy', 'fleur', 'flex', 'flexibility', 'flexible', 'flick', 'flight', 'flimsy', 'flinch', 'fling', 'flint', 'flintstone', 'flip', 'flippin', 'flipside', 'float', 'floater', 'floaties', 'floating', 'flock', 'flocken', 'flood', 'floor', 'flooring', 'flop', 'floppy', 'flops', 'flor', 'flora', 'floral', 'florence', 'florentine', 'floret', 'florida', 'florist', 'floss', 'flossie', 'flossies', 'flour', 'flouride', 'flourish', 'flourless', 'floury', 'flovor', 'flow', 'flower', 'flowering', 'flowery', 'flu', 'fluctuate', 'fluctuates', 'fluctuation', 'fluff', 'fluffier', 'fluffy', 'fluid', 'fluke', 'fluorescent', 'fluoride', 'flush', 'flushable', 'flute', 'flutter', 'fly', 'flyaway', 'flyer', 'flynn', 'flytrap', 'fm', 'fnb', 'fo', 'foam', 'foaming', 'foamy', 'focaccia', 'focus', 'focused', 'foe', 'fog', 'fogbuster', 'fogchaser', 'foggy', 'foglifter', 'foie', 'foil', 'foist', 'folate', 'fold', 'folded', 'folder', 'foldgers', 'folger', 'folgers', 'foliage', 'folic', 'folk', 'folks', 'follow', 'follower', 'following', 'followup', 'fom', 'fomula', 'fond', 'fondant', 'fondarific', 'fondly', 'fondness', 'fondue', 'fong', 'font', 'fontana', 'foo', 'food', 'foodie', 'foodist', 'foods', 'foodsaver', 'foodshouldtastegood', 'foodstuff', 'foojoy', 'fool', 'foolish', 'foolishly', 'foolishness', 'foolproof', 'foot', 'football', 'foothill', 'footprint', 'fop', 'forage', 'foray', 'forbid', 'forbidden', 'force', 'forcefully', 'ford', 'fore', 'forefront', 'forego', 'forehead', 'foreign', 'foreman', 'foremost', 'foresee', 'foreseeable', 'forest', 'forever', 'forewarn', 'forge', 'forget', 'forgettable', 'forgive', 'forgiving', 'forgo', 'forgot', 'forgotten', 'fork', 'form', 'formal', 'formaldehyde', 'formally', 'format', 'formation', 'forming', 'formula', 'formulas', 'formulate', 'formulation', 'fort', 'forte', 'forth', 'forthcoming', 'forthe', 'fortification', 'fortified', 'fortify', 'fortunate', 'fortunately', 'fortune', 'forum', 'forward', 'foster', 'foul', 'foundation', 'founder', 'fountain', 'fourteen', 'fourth', 'foward', 'fowl', 'fowler', 'fox', 'fpo', 'fr', 'fraction', 'fracture', 'fragile', 'fragility', 'fragment', 'fragrance', 'fragrant', 'fraiche', 'frail', 'frame', 'fran', 'francais', 'francaise', 'france', 'franchise', 'francis', 'francisco', 'frangrance', 'frank', 'franken', 'frankie', 'franklin', 'frankly', 'fransisco', 'frantic', 'frantically', 'frantoia', 'frappacino', 'frappe', 'frappuccino', 'frappuccinos', 'frappucino', 'frappucinos', 'fraps', 'fraud', 'fraudulent', 'fray', 'freak', 'freakin', 'freaking', 'freaky', 'freash', 'fred', 'free', 'freebie', 'freedent', 'freedom', 'freely', 'freeze', 'freezer', 'freezes', 'freezing', 'freight', 'freinds', 'french', 'frenchie', 'frenzy', 'frequency', 'frequent', 'frequently', 'fresca', 'fresco', 'fresh', 'freshen', 'freshener', 'freshening', 'freshens', 'fresher', 'freshest', 'freshly', 'freshman', 'freshner', 'freshness', 'fret', 'fri', 'frichik', 'frickin', 'friction', 'friday', 'fridge', 'fried', 'friend', 'friendliness', 'friendly', 'friends', 'friendship', 'frig', 'frige', 'friggin', 'frighten', 'frightening', 'frill', 'fringe', 'frisbee', 'frise', 'friskie', 'friskies', 'frisky', 'frites', 'frito', 'fritos', 'fritter', 'frizz', 'frizzies', 'frizzy', 'fro', 'frog', 'fromm', 'fromthe', 'fron', 'frontera', 'frontier', 'froot', 'frooties', 'frost', 'frosted', 'frosting', 'frosty', 'froth', 'frothed', 'frother', 'frothing', 'frothy', 'frown', 'froze', 'frozen', 'frs', 'fructis', 'fructose', 'frugal', 'fruit', 'fruitables', 'fruitcake', 'fruitful', 'fruitiness', 'fruition', 'fruitless', 'fruity', 'frustrate', 'frustrated', 'frustrating', 'frustration', 'fruta', 'frutose', 'frutti', 'fry', 'fryer', 'frying', 'ft', 'ftw', 'fu', 'fudge', 'fudgey', 'fudgy', 'fuel', 'fuhgeddaboudit', 'fuhgeddaboutit', 'fuit', 'fuji', 'fujian', 'ful', 'fulfil', 'fulfill', 'fulfilling', 'fulfillment', 'fuller', 'fullness', 'fully', 'fulvic', 'fumble', 'fume', 'fun', 'funbites', 'function', 'functional', 'functionality', 'functioning', 'fund', 'fundamental', 'fundraiser', 'funeral', 'fungal', 'fungicide', 'fungus', 'fungusamongus', 'funk', 'funky', 'funnel', 'funny', 'funyuns', 'fur', 'furbabies', 'furikake', 'furious', 'furkids', 'furniture', 'furry', 'furthermore', 'fuse', 'fusilli', 'fusion', 'fuss', 'fussie', 'fussiness', 'fussy', 'futile', 'future', 'fuzz', 'fuzzy', 'fwiw', 'fyi', 'ga', 'gabby', 'gabriella', 'gadget', 'gag', 'gaga', 'gaggia', 'gagging', 'gail', 'gain', 'gal', 'gala', 'galangal', 'galaxy', 'galil', 'galileo', 'gall', 'gallate', 'gallbladder', 'gallery', 'gallo', 'gallon', 'galore', 'gamble', 'game', 'gamey', 'gamut', 'ganache', 'gang', 'gano', 'ganocafe', 'ganoderma', 'gap', 'garage', 'garam', 'garbage', 'garbanzo', 'garcia', 'garden', 'gardener', 'gardenia', 'gardening', 'gardetto', 'gargle', 'garibaldi', 'garlic', 'garlicky', 'garlicy', 'garner', 'garnier', 'garnish', 'garten', 'garvey', 'gary', 'gas', 'gaseous', 'gasket', 'gasoline', 'gasp', 'gassiness', 'gassy', 'gastric', 'gastritis', 'gastro', 'gastrointestinal', 'gastronomic', 'gastronomy', 'gate', 'gateway', 'gather', 'gathering', 'gator', 'gatorade', 'gauge', 'gawd', 'gazillion', 'gb', 'gcalcium', 'gcholesterol', 'gdietary', 'ge', 'gear', 'geat', 'gee', 'geek', 'geena', 'geez', 'gel', 'gelatin', 'gelatine', 'gelatinous', 'gelato', 'gelee', 'gem', 'gems', 'gen', 'genco', 'gender', 'gene', 'general', 'generally', 'generate', 'generation', 'generic', 'generous', 'generously', 'genesis', 'genetic', 'genetically', 'genetics', 'genisoy', 'genius', 'genmai', 'genmaicha', 'genova', 'genre', 'gentle', 'gentlease', 'gentleman', 'gentler', 'gently', 'genuine', 'genuinely', 'genus', 'george', 'georgia', 'gerber', 'gerd', 'geriatric', 'germ', 'german', 'germany', 'germinate', 'germination', 'gestational', 'gesture', 'getaway', 'gettin', 'gevalia', 'geyser', 'gf', 'gfcf', 'gfiber', 'gg', 'ghastly', 'ghee', 'ghiradelli', 'ghirardelli', 'ghost', 'gi', 'gia', 'giant', 'giblet', 'giddy', 'gift', 'gifting', 'gifts', 'gig', 'gigantic', 'giggle', 'gilbert', 'gild', 'gill', 'gilroy', 'gim', 'gimbal', 'gimmick', 'gimmicky', 'gin', 'giner', 'ginger', 'gingerale', 'gingerbread', 'gingerly', 'gingersnap', 'gingery', 'gingivitis', 'gingredients', 'ginkgo', 'ginormous', 'ginseng', 'girl', 'girlfriend', 'girls', 'girly', 'girth', 'giveaway', 'giver', 'gizmo', 'gizzard', 'gj', 'gjetost', 'glace', 'glaceau', 'glaces', 'glacier', 'glad', 'gladly', 'glance', 'gland', 'glare', 'glass', 'glassware', 'glaze', 'glazed', 'gleam', 'glean', 'glee', 'gleefully', 'glen', 'glenn', 'glenny', 'glide', 'glisten', 'glitch', 'glitter', 'glo', 'glob', 'global', 'globe', 'glop', 'gloppy', 'gloria', 'glorified', 'glorify', 'glorious', 'glory', 'gloss', 'glossary', 'glossy', 'glove', 'glow', 'glowing', 'gluconate', 'glucosamine', 'glucose', 'glucosomine', 'glue', 'gluey', 'glutamate', 'glutamic', 'gluten', 'glutenfree', 'glutenfreeda', 'glutenous', 'glutin', 'glutino', 'glutinous', 'gluton', 'glutten', 'glutton', 'gluttonous', 'glycemic', 'glycerin', 'glycerine', 'glycol', 'glyphosate', 'gm', 'gmail', 'gmc', 'gmcr', 'gmo', 'gmonounsaturated', 'gmos', 'gms', 'gnarly', 'gnat', 'gnaw', 'gnawhide', 'gnawing', 'gnc', 'gnocchi', 'gnome', 'goal', 'goat', 'gob', 'gobble', 'gochujang', 'god', 'goddess', 'godiva', 'godsend', 'gogi', 'gogo', 'goin', 'goji', 'gojis', 'golazo', 'gold', 'golden', 'goldendoodle', 'goldens', 'goldfish', 'goldie', 'goldilocks', 'golean', 'golf', 'golightly', 'golly', 'gon', 'gonaturally', 'gong', 'goo', 'goober', 'good', 'goodbye', 'goodie', 'goodlife', 'goodly', 'goodness', 'goodwill', 'goody', 'gooey', 'gooeyness', 'goof', 'goofy', 'google', 'googling', 'googly', 'goood', 'gooood', 'goooood', 'gooooood', 'goooooood', 'goop', 'goopy', 'goose', 'gooseberry', 'gopher', 'gopicnic', 'gordon', 'goreng', 'gorge', 'gorgeous', 'gorgonzola', 'gorilla', 'gormet', 'gosh', 'got', 'gotcha', 'goth', 'goto', 'gotten', 'gouda', 'gouge', 'gouging', 'goulash', 'gourd', 'gourmand', 'gourment', 'gourmet', 'gout', 'gov', 'government', 'goya', 'gp', 'gprotein', 'gr', 'grab', 'grace', 'graceful', 'gracefully', 'gracie', 'gracious', 'graciously', 'grad', 'grade', 'grader', 'gradual', 'gradually', 'graduate', 'graduation', 'graham', 'grahams', 'grail', 'grain', 'graininess', 'grainless', 'grainy', 'gram', 'gramma', 'grammy', 'grams', 'gran', 'grand', 'grandaughter', 'grandbabies', 'grandchild', 'grandchildren', 'granddaughter', 'grande', 'grandfather', 'grandkids', 'grandma', 'grandmas', 'grandmother', 'grandpa', 'grandparent', 'grandson', 'granite', 'granny', 'granola', 'grant', 'granted', 'granuals', 'granular', 'granulate', 'granulated', 'granule', 'granules', 'grape', 'grapefruit', 'grapenuts', 'grapeseed', 'grapevine', 'grapey', 'graphic', 'gras', 'grasp', 'grass', 'grasshopper', 'grassy', 'grat', 'grate', 'grated', 'grateful', 'gratefully', 'grater', 'gratification', 'gratify', 'gratin', 'gratitude', 'grave', 'gravel', 'graveyard', 'gravitate', 'gravity', 'gravy', 'gray', 'grayish', 'graze', 'grea', 'grease', 'greased', 'greasiness', 'greasy', 'great', 'greate', 'greatful', 'greatly', 'greatness', 'greece', 'greed', 'greedily', 'greedy', 'greek', 'green', 'greenbox', 'greener', 'greenery', 'greenfire', 'greenhouse', 'greenie', 'greenies', 'greenish', 'greet', 'greeting', 'greg', 'grenadine', 'gret', 'greta', 'grey', 'greyhound', 'greyish', 'grid', 'griddle', 'grief', 'griffon', 'grill', 'grilled', 'grillers', 'grillin', 'grilling', 'grimace', 'grime', 'grin', 'grind', 'grinder', 'grinding', 'gringo', 'grip', 'gripe', 'grissini', 'gristedes', 'gristle', 'grit', 'grittiness', 'gritty', 'grizzly', 'gro', 'groan', 'groat', 'grocer', 'grocery', 'grogg', 'groggy', 'groom', 'groomer', 'grooming', 'groove', 'gross', 'grossly', 'grossness', 'grouchy', 'ground', 'grounded', 'groundhog', 'group', 'groupon', 'grove', 'grow', 'grower', 'growing', 'growl', 'growling', 'grown', 'grownup', 'grows', 'growth', 'grrrr', 'grrrreat', 'grub', 'grudgingly', 'gruel', 'grueling', 'grumble', 'grumpy', 'grunt', 'gruyere', 'gsat', 'gsaturated', 'gsd', 'gsodium', 'gsugar', 'gsugars', 'gt', 'gtotal', 'gtrans', 'gu', 'guac', 'guacamole', 'guam', 'guan', 'guanylate', 'guar', 'guarana', 'guarantee', 'guaranteed', 'guard', 'guarentee', 'guatemala', 'guatemalan', 'guava', 'guayaki', 'guayusa', 'guess', 'guessing', 'guesswork', 'guest', 'guests', 'guidance', 'guide', 'guideline', 'guilt', 'guiltless', 'guilty', 'guinea', 'guinness', 'guise', 'guitar', 'guittard', 'gulden', 'gulf', 'gullet', 'gullible', 'gulp', 'gulper', 'gum', 'gumball', 'gumballs', 'gumbo', 'gumdrop', 'gummi', 'gummie', 'gummies', 'gumminess', 'gummis', 'gummy', 'gummys', 'gumpaste', 'gun', 'gunk', 'gunky', 'gunner', 'gunnermay', 'gunpowder', 'guo', 'gurgle', 'guru', 'gush', 'gusher', 'gustaf', 'gustatory', 'gusto', 'gut', 'guy', 'guylian', 'guys', 'guzzle', 'gvitamin', 'gym', 'gyokuro', 'gyp', 'gypsy', 'gyro', 'ha', 'haagen', 'habanero', 'habaneros', 'habenero', 'habit', 'habitat', 'habitual', 'hachez', 'hack', 'hadn', 'hadnt', 'hagen', 'haggis', 'hagman', 'hah', 'haha', 'hahaha', 'haiku', 'hail', 'hain', 'hair', 'hairball', 'hairballs', 'haircut', 'hairdresser', 'haired', 'hairless', 'hairline', 'hairspray', 'hairy', 'halal', 'haldiram', 'haley', 'half', 'halfway', 'halibut', 'hall', 'hallelujah', 'hallmark', 'hallow', 'halloween', 'hallway', 'halo', 'halt', 'halva', 'halvah', 'halve', 'ham', 'hamburger', 'hamilton', 'hammer', 'hamper', 'hampshire', 'hampton', 'hamster', 'han', 'hand', 'handbag', 'handbook', 'handcraft', 'handedly', 'handful', 'handfull', 'handfulls', 'handfuls', 'handicap', 'handily', 'handle', 'handler', 'handling', 'handmade', 'handout', 'handpresso', 'handsome', 'handwritten', 'handy', 'hang', 'hanger', 'hanging', 'hangover', 'hank', 'hanker', 'hankering', 'hannaford', 'hanout', 'hanover', 'hansen', 'hansens', 'haphazardly', 'hapi', 'happen', 'happend', 'happens', 'happier', 'happily', 'happiness', 'happy', 'happybaby', 'happybellies', 'happytot', 'hara', 'harass', 'harbor', 'hard', 'hardcore', 'harden', 'hardened', 'hardens', 'harder', 'hardest', 'hardly', 'hardness', 'hardship', 'hardware', 'hardwood', 'hardy', 'hare', 'haribo', 'haribos', 'harina', 'harissa', 'harley', 'harm', 'harmful', 'harmless', 'harmonious', 'harmonize', 'harmony', 'harney', 'harold', 'harris', 'harrison', 'harrogate', 'harry', 'harsh', 'harsher', 'harshly', 'harshness', 'hartz', 'harvard', 'harvest', 'harvey', 'hash', 'hashbrowns', 'hasn', 'hassel', 'hassle', 'haste', 'hastily', 'hasty', 'hat', 'hatch', 'hate', 'hater', 'haul', 'haunt', 'haute', 'hav', 'havahart', 'havanese', 'havarti', 'haven', 'havent', 'havn', 'havoc', 'haw', 'hawai', 'hawaii', 'hawaiian', 'hawk', 'hawthorn', 'hay', 'hazard', 'hazardous', 'haze', 'hazel', 'hazelnut', 'hazelnuts', 'hazer', 'hazlenut', 'hazzard', 'hc', 'hcg', 'hd', 'hdl', 'head', 'headache', 'headaches', 'heading', 'headline', 'headquarters', 'headway', 'heady', 'heal', 'healer', 'healing', 'heals', 'health', 'healthcare', 'healther', 'healthfood', 'healthful', 'healthfully', 'healthfulness', 'healthier', 'healthiest', 'healthily', 'healthiness', 'healthly', 'healthwise', 'healthy', 'healty', 'heap', 'heaping', 'hear', 'heard', 'hearing', 'heart', 'heartache', 'heartbeat', 'heartbreaking', 'heartbroken', 'heartburn', 'hearted', 'heartedly', 'heartfelt', 'hearth', 'heartier', 'heartily', 'heartiness', 'heartland', 'hearts', 'heartworm', 'hearty', 'heat', 'heated', 'heater', 'heath', 'heather', 'heathier', 'heathly', 'heathy', 'heating', 'heave', 'heaven', 'heavenly', 'heavens', 'heavier', 'heavily', 'heaviness', 'heavy', 'heb', 'heck', 'hectic', 'hedge', 'hedgehog', 'heed', 'heel', 'heeler', 'heft', 'hefty', 'heh', 'hehe', 'hehehe', 'heidi', 'height', 'heighten', 'heimlich', 'heinous', 'heinz', 'heirloom', 'helen', 'hell', 'hella', 'hellman', 'hellmann', 'hello', 'help', 'helped', 'helper', 'helpful', 'helpfull', 'helping', 'helpless', 'helps', 'hem', 'hemorrhoid', 'hemp', 'hempseed', 'hempseeds', 'hen', 'henceforth', 'henna', 'henry', 'herald', 'herb', 'herbal', 'herbalist', 'herbamare', 'herbed', 'herbes', 'herbicide', 'herbox', 'herbs', 'herby', 'herd', 'herdez', 'heres', 'heretofore', 'heritage', 'hermetically', 'hero', 'heroin', 'herpes', 'herr', 'herring', 'hersey', 'hershey', 'hersheys', 'hes', 'hesitant', 'hesitantly', 'hesitate', 'hesitation', 'hexametaphosphate', 'hexane', 'hextra', 'hey', 'hf', 'hfc', 'hfcs', 'hg', 'hh', 'hi', 'hiatus', 'hibiscus', 'hiccup', 'hickory', 'hidden', 'hide', 'hideous', 'hideously', 'hiding', 'higgins', 'high', 'highchair', 'higher', 'highland', 'highlander', 'highlight', 'highly', 'hight', 'hightly', 'highway', 'higly', 'hike', 'hiker', 'hiking', 'hilarious', 'hill', 'hilton', 'himalaya', 'himalayan', 'hind', 'hinder', 'hindsight', 'hines', 'hing', 'hinge', 'hint', 'hip', 'hippie', 'hippo', 'hippy', 'hips', 'hipster', 'hire', 'hirt', 'hirts', 'hispanic', 'hiss', 'historical', 'historically', 'history', 'hit', 'hitch', 'hiv', 'hive', 'hk', 'hm', 'hmm', 'hmmm', 'hmmmm', 'hmmmmm', 'hmmmmmm', 'ho', 'hoard', 'hoarder', 'hoax', 'hobby', 'hobnobs', 'hobo', 'hock', 'hockey', 'hodgson', 'hog', 'hoisin', 'hojicha', 'hold', 'holder', 'hole', 'holic', 'holiday', 'holistic', 'holland', 'hollandaise', 'hollow', 'holly', 'hollywood', 'holmes', 'holy', 'home', 'homeade', 'homebrew', 'homegrown', 'homeland', 'homeless', 'homemade', 'homeopathic', 'homerun', 'homesick', 'homestyle', 'hometown', 'homework', 'homey', 'hominy', 'homogeneous', 'homogenize', 'hon', 'honduras', 'hone', 'honees', 'honest', 'honestly', 'honesty', 'honey', 'honeybush', 'honeycomb', 'honeydew', 'honeyed', 'honeymoon', 'honeysuckle', 'honeyville', 'hong', 'honolulu', 'honor', 'hoo', 'hood', 'hoof', 'hook', 'hooked', 'hoop', 'hoopla', 'hooray', 'hoot', 'hoover', 'hooves', 'hop', 'hope', 'hoped', 'hopeful', 'hopefully', 'hopeless', 'hopelessly', 'hoping', 'hopkins', 'hopper', 'hoppin', 'hoppy', 'horchata', 'horde', 'horehound', 'horizon', 'horizontal', 'horizontally', 'horlicks', 'hormel', 'hormonal', 'hormone', 'hormones', 'horn', 'horrendous', 'horrendously', 'horrible', 'horribly', 'horrid', 'horrific', 'horrify', 'horror', 'hors', 'horse', 'horseradish', 'horton', 'hortons', 'hose', 'hospital', 'hospitality', 'hospitalize', 'host', 'hostess', 'hot', 'hotdog', 'hotdogs', 'hotel', 'hotness', 'hots', 'hotsauce', 'hotspot', 'hotter', 'hottest', 'hound', 'hour', 'house', 'household', 'housemate', 'houseplant', 'housewarming', 'housewife', 'housework', 'housing', 'houston', 'houtte', 'hover', 'howard', 'howdy', 'howl', 'hoy', 'hoyos', 'hp', 'hr', 'hrs', 'hte', 'html', 'htp', 'http', 'hu', 'hub', 'hubba', 'hubbard', 'hubbie', 'hubby', 'huckleberry', 'hudson', 'hue', 'hug', 'huge', 'hugely', 'hugger', 'hugh', 'huh', 'hulk', 'hull', 'hulled', 'hulless', 'hum', 'human', 'humane', 'humanely', 'humanity', 'humans', 'humble', 'humid', 'humidity', 'hummingbird', 'hummm', 'hummus', 'humongous', 'humor', 'humorous', 'hump', 'humus', 'hunch', 'hung', 'hungarian', 'hungary', 'hunger', 'hungry', 'hunk', 'hunt', 'hunter', 'hunting', 'hurdle', 'hurl', 'hurrah', 'hurray', 'hurricane', 'hurry', 'hurt', 'husband', 'husk', 'husky', 'hut', 'huy', 'huzzah', 'hy', 'hybrid', 'hydrate', 'hydrated', 'hydrating', 'hydration', 'hydrator', 'hydro', 'hydrochloride', 'hydrogen', 'hydrogenate', 'hydrogenated', 'hydrogenation', 'hydrolyze', 'hydrolyzed', 'hydrometer', 'hydroponic', 'hygiene', 'hygienic', 'hygienist', 'hype', 'hyped', 'hyper', 'hyperactive', 'hyperactivity', 'hyperbole', 'hypertension', 'hyperthyroidism', 'hypnotic', 'hypo', 'hypoallergenic', 'hypoglycemia', 'hypoglycemic', 'hypoglycemics', 'hypothyroidism', 'hysterical', 'ia', 'iam', 'iams', 'ian', 'ibd', 'ibs', 'ibuprofen', 'ic', 'ice', 'iceberg', 'icebox', 'icebreaker', 'icecream', 'iced', 'ichiban', 'icicle', 'icing', 'ick', 'icky', 'icon', 'iconic', 'icy', 'id', 'idaho', 'idahoan', 'idea', 'ideal', 'ideally', 'identical', 'identifiable', 'identification', 'identify', 'identity', 'idiot', 'idiotic', 'idk', 'iffy', 'ig', 'ignorance', 'ignorant', 'ignore', 'igourmet', 'ihave', 'iherb', 'ihop', 'ii', 'iii', 'ik', 'ike', 'ikea', 'il', 'ilk', 'ill', 'illegal', 'illinois', 'illness', 'illuminate', 'illusion', 'illustrate', 'illustrated', 'illustration', 'illy', 'im', 'image', 'imaginable', 'imaginary', 'imagination', 'imaginative', 'imagine', 'imbalance', 'imbibe', 'img', 'imho', 'imitate', 'imitation', 'imitator', 'immaculate', 'immature', 'immediate', 'immediately', 'immediatly', 'immense', 'immensely', 'immerse', 'immersion', 'immigrant', 'immune', 'immunity', 'imo', 'impact', 'impair', 'impaired', 'impart', 'imparts', 'impatient', 'impatiently', 'impeccable', 'imperative', 'imperfect', 'imperfection', 'imperial', 'implement', 'implicate', 'implication', 'implies', 'implore', 'imply', 'import', 'importance', 'important', 'importantly', 'imported', 'importer', 'impose', 'impossible', 'impossibly', 'imposter', 'impractical', 'impress', 'impressed', 'impression', 'impressive', 'impressively', 'imprint', 'impromptu', 'improper', 'improperly', 'improve', 'improved', 'improvement', 'improves', 'improvise', 'impulse', 'impurity', 'ina', 'inability', 'inaccurate', 'inactive', 'inadequate', 'inadvertently', 'inappropriate', 'inbetween', 'inca', 'incandescent', 'incapable', 'incarnation', 'incase', 'incense', 'incentive', 'incessantly', 'inch', 'inches', 'incidence', 'incident', 'incidental', 'incidentally', 'incl', 'inclination', 'incline', 'inclined', 'include', 'included', 'inclusion', 'inclusive', 'income', 'incomparable', 'incompetent', 'incomplete', 'inconclusive', 'inconsistant', 'inconsistency', 'inconsistent', 'inconvenience', 'inconvenient', 'incorporate', 'incorrect', 'incorrectly', 'increase', 'increased', 'increasingly', 'incredible', 'incredibly', 'increment', 'incubate', 'incur', 'indefinitely', 'indent', 'indentation', 'indention', 'independence', 'independent', 'independently', 'indescribable', 'indescribably', 'indestructable', 'indestructible', 'index', 'india', 'indian', 'indiana', 'indicate', 'indicated', 'indicates', 'indicating', 'indication', 'indicative', 'indicator', 'indie', 'indifferent', 'indigenous', 'indigestible', 'indigestion', 'indigo', 'indirect', 'indirectly', 'indispensable', 'indispensible', 'indistinguishable', 'individual', 'individually', 'individualy', 'indomie', 'indonesia', 'indonesian', 'indoor', 'indoors', 'induce', 'induced', 'inducing', 'induction', 'indulge', 'indulgence', 'indulgent', 'indulging', 'indus', 'industrial', 'industry', 'inedible', 'ineffective', 'inefficient', 'inert', 'inevitable', 'inevitably', 'inexcusable', 'inexpensive', 'inexpensively', 'inexperienced', 'inexplicably', 'infact', 'infamous', 'infant', 'infect', 'infected', 'infection', 'infer', 'inferior', 'infest', 'infestation', 'infested', 'infinite', 'infinitely', 'infinity', 'inflamation', 'inflame', 'inflamed', 'inflammation', 'inflammatory', 'inflate', 'inflated', 'inflation', 'inflict', 'influence', 'influenster', 'info', 'infomercial', 'inform', 'informal', 'information', 'informative', 'informed', 'infrequent', 'infrequently', 'infuriate', 'infuse', 'infused', 'infuser', 'infusers', 'infusion', 'ing', 'ingedients', 'ingenious', 'ingenuitea', 'ingenuity', 'ingest', 'ingestion', 'inglehoffer', 'ingredents', 'ingrediant', 'ingrediants', 'ingredient', 'ingredients', 'ingridents', 'ingridients', 'inhale', 'inhaler', 'inherent', 'inherently', 'inherit', 'inhibit', 'inhibitor', 'inhibits', 'initally', 'initial', 'initially', 'initiate', 'initiative', 'inject', 'injection', 'injure', 'injury', 'ink', 'inka', 'inkling', 'inlaw', 'inlaws', 'inline', 'inn', 'innards', 'inner', 'innocent', 'innocently', 'innocuous', 'innova', 'innovation', 'innovative', 'inoffensive', 'inordinate', 'inorganic', 'inosinate', 'inositol', 'input', 'inquire', 'inquiry', 'ins', 'insane', 'insanely', 'insanity', 'insatiable', 'insect', 'insecticide', 'insert', 'insertion', 'inside', 'insight', 'insignificant', 'insipid', 'insist', 'insistent', 'insists', 'insofar', 'insoluble', 'insomnia', 'insomniac', 'inspect', 'inspected', 'inspection', 'inspiration', 'inspirational', 'inspire', 'inspired', 'inspiring', 'insta', 'instal', 'install', 'installation', 'instance', 'instant', 'instantaneous', 'instantaneously', 'instantly', 'instead', 'instill', 'instinct', 'instinctively', 'institute', 'institution', 'institutional', 'instruct', 'instructed', 'instruction', 'instructor', 'instrument', 'insufficient', 'insulate', 'insulated', 'insulation', 'insulin', 'insult', 'insulting', 'insurance', 'insure', 'int', 'intact', 'intake', 'integral', 'integrate', 'integrity', 'intelligence', 'intelligent', 'intelligentsia', 'intend', 'intended', 'intense', 'intensely', 'intensify', 'intensity', 'intensive', 'intenso', 'intent', 'intention', 'intentional', 'intentionally', 'inter', 'interact', 'interaction', 'interactive', 'interchangeable', 'interchangeably', 'interested', 'interesting', 'interestingly', 'interface', 'interfere', 'interim', 'interior', 'intermediate', 'intermittent', 'intermittently', 'internal', 'internally', 'international', 'internationally', 'internet', 'interpret', 'interpretation', 'interrupt', 'interruption', 'intersperse', 'interval', 'intervention', 'interview', 'intestinal', 'intestine', 'inthe', 'intimate', 'intimidate', 'intolerable', 'intolerance', 'intolerant', 'intollerant', 'intoxicate', 'intoxicating', 'intrigue', 'intrigued', 'intriguing', 'intro', 'introduce', 'introduction', 'introductory', 'intrusive', 'intuitive', 'inu', 'inulin', 'invade', 'invaluable', 'invariably', 'invasion', 'invasive', 'invent', 'invention', 'inventive', 'inventor', 'inventory', 'invert', 'invest', 'investigate', 'investigation', 'investment', 'invigorate', 'invigorating', 'invisible', 'invitation', 'invite', 'inviting', 'invoice', 'invoke', 'involve', 'involved', 'iodate', 'iodide', 'iodine', 'iodize', 'iodized', 'ion', 'ionic', 'iowa', 'iperespresso', 'iphone', 'iq', 'ir', 'iran', 'iranian', 'iraq', 'ireland', 'iris', 'irish', 'irk', 'irn', 'iron', 'ironic', 'ironically', 'ironman', 'irony', 'irradiate', 'irradiated', 'irradiation', 'irregular', 'irregularity', 'irregularly', 'irrelevant', 'irreplaceable', 'irresistable', 'irresistible', 'irresponsible', 'irrigation', 'irritability', 'irritable', 'irritant', 'irritate', 'irritated', 'irritating', 'irritation', 'isa', 'ish', 'island', 'islands', 'isle', 'isn', 'isnt', 'isolate', 'isolated', 'isomalt', 'isomil', 'isotonic', 'israel', 'israeli', 'issimo', 'issue', 'ist', 'istanbul', 'italia', 'italian', 'italiano', 'italy', 'itch', 'itchiness', 'itching', 'itchy', 'item', 'iteration', 'itin', 'itis', 'ito', 'itty', 'itwas', 'iu', 'iv', 'ive', 'ivory', 'ivy', 'iwill', 'izze', 'izzy', 'ja', 'jac', 'jack', 'jacket', 'jackie', 'jackpot', 'jackson', 'jacob', 'jacobs', 'jacques', 'jade', 'jaffa', 'jag', 'jagged', 'jaggery', 'jail', 'jaipur', 'jake', 'jalape', 'jalapeno', 'jalapenos', 'jalepeno', 'jalepenos', 'jam', 'jamacian', 'jamaica', 'jamaican', 'jamba', 'jambalaya', 'james', 'jammy', 'jan', 'jana', 'jane', 'janet', 'january', 'japan', 'japanese', 'jar', 'jarred', 'jarrow', 'jasmin', 'jasmine', 'jason', 'java', 'jaw', 'jawbreaker', 'jay', 'jazz', 'jazzy', 'jb', 'jbm', 'jd', 'je', 'jealous', 'jean', 'jeez', 'jeff', 'jeffrey', 'jel', 'jell', 'jello', 'jelly', 'jellybean', 'jellybeans', 'jemima', 'jennie', 'jenny', 'jeremiah', 'jerk', 'jerkey', 'jerky', 'jerquee', 'jerry', 'jersey', 'jerusalem', 'jesus', 'jet', 'jetblue', 'jewel', 'jewell', 'jewelry', 'jewish', 'jfc', 'jfg', 'jif', 'jiff', 'jiffy', 'jigger', 'jiggle', 'jill', 'jim', 'jimmy', 'jims', 'jingle', 'jipped', 'jitter', 'jittery', 'jive', 'jj', 'jk', 'jo', 'joan', 'joanne', 'job', 'jocalat', 'joe', 'joel', 'joes', 'joey', 'jog', 'john', 'johnny', 'johnson', 'join', 'joint', 'jojoba', 'joke', 'jokingly', 'jolly', 'jolokia', 'jolt', 'jon', 'jones', 'jonesing', 'jordan', 'jorge', 'jose', 'joseph', 'josh', 'jostle', 'journal', 'journey', 'jovial', 'joy', 'joyful', 'joyfully', 'joyous', 'joyva', 'jp', 'jr', 'jrt', 'jsut', 'jtg', 'juan', 'jubilee', 'judge', 'judgement', 'judging', 'judgment', 'judicious', 'judy', 'jug', 'juggle', 'juice', 'juiced', 'juicer', 'juices', 'juiciness', 'juicing', 'juicy', 'jujube', 'jul', 'jules', 'julia', 'julian', 'julie', 'july', 'jumble', 'jumbled', 'jumbo', 'jumbone', 'jump', 'jumping', 'jumpstart', 'jumpy', 'jun', 'june', 'jungle', 'junior', 'juniper', 'junk', 'junket', 'junkfood', 'junkie', 'junky', 'jura', 'jury', 'jus', 'just', 'justice', 'justification', 'justified', 'justify', 'justin', 'jut', 'juvenile', 'jv', 'jyoti', 'ka', 'kabob', 'kadoya', 'kaf', 'kaffir', 'kahlua', 'kaia', 'kal', 'kalamata', 'kaldi', 'kale', 'kalua', 'kame', 'kamut', 'kangaroo', 'kansa', 'kansas', 'kap', 'kaps', 'kar', 'karen', 'karma', 'karo', 'kasha', 'kashi', 'kashmiri', 'kasia', 'kasugai', 'kat', 'kate', 'katharena', 'kathy', 'katie', 'katrina', 'katz', 'kauai', 'kava', 'kaviar', 'kavli', 'kay', 'kayak', 'kc', 'kcal', 'kcup', 'kcups', 'kd', 'keaton', 'kee', 'keebler', 'keel', 'keemun', 'keen', 'keenan', 'keenwa', 'keeper', 'keeps', 'keepsake', 'kefir', 'keg', 'keith', 'kellog', 'kellogg', 'kelloggs', 'kellogs', 'kelly', 'kelp', 'ken', 'kenco', 'kennedy', 'kennel', 'kentucky', 'kenya', 'kenyan', 'kept', 'kerig', 'kern', 'kernal', 'kernals', 'kernel', 'kernels', 'keruig', 'ketchup', 'keto', 'ketogenic', 'kettle', 'keurig', 'keurigs', 'keuring', 'kevin', 'kewpie', 'key', 'keyboard', 'keywords', 'kfc', 'kg', 'ki', 'kibble', 'kibbles', 'kick', 'kicker', 'kickin', 'kicking', 'kickstarter', 'kid', 'kiddie', 'kidding', 'kiddo', 'kiddos', 'kiddy', 'kidney', 'kidneys', 'kidz', 'kielbasa', 'kikkoman', 'kikoman', 'kili', 'kill', 'killer', 'killing', 'kilo', 'kilogram', 'kim', 'kimbo', 'kimchee', 'kimchi', 'kind', 'kinda', 'kinder', 'kindergarten', 'kindle', 'kindly', 'kindness', 'kindof', 'kinds', 'king', 'kingdom', 'kink', 'kinky', 'kinnikinnick', 'kiosk', 'kipper', 'kippered', 'kirkland', 'kirsch', 'kiss', 'kit', 'kitamu', 'kitchen', 'kitchenaid', 'kitchens', 'kitkat', 'kitten', 'kittie', 'kitties', 'kitty', 'kiwi', 'kix', 'klein', 'kluski', 'kmart', 'knack', 'knaw', 'knead', 'knee', 'knew', 'knife', 'knight', 'knob', 'knock', 'knockoff', 'knockout', 'knorr', 'knot', 'know', 'knowing', 'knowingly', 'knowledge', 'knowledgeable', 'known', 'knox', 'knuckle', 'knudsen', 'koala', 'kobe', 'kodiak', 'kohl', 'koi', 'kola', 'koma', 'kombu', 'kombucha', 'komodo', 'kona', 'kong', 'kongs', 'konjac', 'kookaburra', 'kool', 'koolaid', 'kopali', 'kopi', 'kopiko', 'koppers', 'korea', 'korean', 'korintje', 'korma', 'korn', 'kort', 'kosher', 'kovacichauthor', 'kracker', 'kraft', 'kramer', 'kraut', 'krave', 'krazy', 'kringle', 'krinkle', 'krinos', 'krispie', 'krispies', 'krispy', 'kroger', 'krogers', 'kronung', 'krups', 'krusteaz', 'kuan', 'kudo', 'kudos', 'kuerig', 'kukicha', 'kum', 'kung', 'kup', 'kups', 'kurig', 'kusmi', 'kwan', 'kwazulu', 'ky', 'kyjen', 'kyle', 'kyoto', 'la', 'lab', 'label', 'labeled', 'labeling', 'labelling', 'lable', 'labled', 'lables', 'labor', 'laboratory', 'labrada', 'labradoodle', 'labrador', 'labs', 'lace', 'lack', 'lacking', 'lackluster', 'lactaid', 'lactate', 'lactation', 'lactic', 'lacto', 'lactobacillus', 'lactose', 'lad', 'ladder', 'lade', 'laden', 'ladies', 'ladle', 'lady', 'ladybug', 'ladyfinger', 'laffy', 'lag', 'lager', 'lait', 'lake', 'lakes', 'lakewood', 'laksa', 'lamb', 'lame', 'lament', 'lamp', 'lana', 'lancaster', 'lance', 'land', 'landfill', 'landscape', 'landslide', 'lane', 'language', 'lanka', 'lankan', 'lansinoh', 'lap', 'lapsang', 'lapse', 'laptop', 'lara', 'larabar', 'larabars', 'lard', 'larder', 'large', 'largely', 'lark', 'larry', 'larva', 'larvae', 'las', 'lasagna', 'lasagne', 'laser', 'lasted', 'lasting', 'lastly', 'latch', 'late', 'lately', 'later', 'laters', 'latex', 'lather', 'latin', 'latino', 'latte', 'lattes', 'laud', 'laugh', 'laughable', 'laughing', 'laughter', 'launch', 'laundry', 'laura', 'laurel', 'laureth', 'lauric', 'laurie', 'lauryl', 'lava', 'lavazza', 'lavendar', 'lavender', 'lavish', 'law', 'lawn', 'lawry', 'lawsuit', 'lawyer', 'lax', 'laxative', 'laxatone', 'lay', 'layer', 'layered', 'laziness', 'lazy', 'lb', 'lbs', 'lc', 'ldl', 'le', 'lea', 'leach', 'leaching', 'lead', 'leader', 'leading', 'leaf', 'leafy', 'league', 'leak', 'leakage', 'leaked', 'leaking', 'leaks', 'leaky', 'lean', 'leaner', 'leap', 'learn', 'learned', 'learning', 'leary', 'lease', 'leash', 'leather', 'leathery', 'leave', 'leaven', 'leavening', 'lebanese', 'lebanon', 'lebkuchen', 'leche', 'lecithin', 'lecture', 'lee', 'leech', 'leek', 'leeks', 'leeper', 'leepers', 'leery', 'left', 'leftover', 'leg', 'legacy', 'legal', 'legally', 'legend', 'legendary', 'legged', 'legion', 'legit', 'legitimate', 'lego', 'legs', 'legume', 'leisure', 'leisurely', 'lem', 'lemon', 'lemonade', 'lemonaid', 'lemongrass', 'lemonheads', 'lemony', 'lend', 'length', 'lengths', 'lengthwise', 'lengthy', 'lenny', 'lentil', 'lentils', 'leo', 'leonard', 'leonidas', 'les', 'lesion', 'lessen', 'lesser', 'lesson', 'lest', 'let', 'letdown', 'lethal', 'lethargic', 'lethargy', 'letter', 'lettering', 'lettuce', 'leukemia', 'level', 'lever', 'lewis', 'lg', 'lhasa', 'li', 'liability', 'liable', 'liar', 'libation', 'libby', 'liberal', 'liberally', 'liberate', 'liberty', 'libido', 'library', 'libre', 'license', 'licensing', 'licious', 'lick', 'licked', 'lickety', 'lickin', 'licking', 'lickins', 'licorice', 'lid', 'lidded', 'lids', 'lie', 'liege', 'liek', 'lieu', 'life', 'lifeboat', 'lifeless', 'lifelong', 'lifesaver', 'lifesource', 'lifespan', 'lifestyle', 'lifetime', 'lifewater', 'lift', 'lifter', 'lifting', 'ligament', 'light', 'lightbulb', 'lighten', 'lightening', 'lighter', 'lighting', 'lightly', 'lightness', 'lightning', 'lightweight', 'lignans', 'liitle', 'like', 'likeable', 'liked', 'likelihood', 'likely', 'liken', 'likeness', 'likes', 'likethe', 'likewise', 'likey', 'liking', 'lil', 'lilac', 'lilly', 'lily', 'lima', 'limb', 'limbaugh', 'lime', 'limeade', 'limey', 'limit', 'limitation', 'limited', 'limitless', 'limon', 'limonata', 'limp', 'lincoln', 'linda', 'linden', 'lindor', 'lindt', 'line', 'lined', 'linen', 'liner', 'lineup', 'linger', 'lingering', 'lingers', 'lingonberry', 'linguine', 'linguini', 'lining', 'link', 'linketts', 'linoleic', 'linolenic', 'linoleum', 'lint', 'lion', 'lip', 'lipid', 'lipil', 'lipitor', 'lipped', 'lips', 'lipton', 'liptons', 'liquefy', 'liquer', 'liqueur', 'liquid', 'liquids', 'liquidy', 'liquified', 'liquify', 'liquor', 'liquorice', 'lisa', 'lish', 'list', 'listed', 'listen', 'listerine', 'listing', 'listless', 'listmania', 'lit', 'lite', 'liter', 'literal', 'literally', 'literature', 'litle', 'litre', 'litte', 'litter', 'litterally', 'litterbox', 'little', 'littler', 'littles', 'liv', 'live', 'lived', 'lively', 'liven', 'liver', 'liverwurst', 'livestock', 'livestrong', 'living', 'lizano', 'lizard', 'lizzie', 'lke', 'll', 'llc', 'lo', 'loa', 'loacker', 'load', 'loaded', 'loading', 'loaf', 'loan', 'loathe', 'loaves', 'lobby', 'lobster', 'loc', 'local', 'locale', 'locally', 'localy', 'locate', 'location', 'locator', 'lock', 'locker', 'loco', 'locust', 'lodge', 'loft', 'log', 'logic', 'logical', 'logically', 'logistics', 'logo', 'loin', 'lol', 'loli', 'lolipops', 'lollipop', 'lollipops', 'lolly', 'lollypops', 'loma', 'london', 'lone', 'lonely', 'long', 'longer', 'longevity', 'longhi', 'longing', 'longtime', 'longum', 'look', 'looked', 'lookin', 'lookout', 'looks', 'loom', 'looong', 'loooong', 'looooong', 'loooooove', 'looooove', 'loooove', 'looooves', 'looove', 'loop', 'loos', 'loose', 'looseleaf', 'loosely', 'loosen', 'looser', 'lopsided', 'lorann', 'lord', 'lorenzo', 'lorna', 'los', 'lose', 'loser', 'loses', 'losing', 'loss', 'lost', 'lot', 'lotion', 'lots', 'lotsa', 'lotta', 'lottery', 'lotus', 'lou', 'loud', 'loudly', 'louie', 'louis', 'louisiana', 'lounge', 'lous', 'lousy', 'lovable', 'love', 'loved', 'lovely', 'lover', 'lovers', 'lovin', 'loving', 'lovingly', 'low', 'lowe', 'lower', 'lowered', 'lowery', 'lowes', 'lowest', 'lowfat', 'lowrey', 'lox', 'loyal', 'loyalist', 'loyalty', 'lozenge', 'lt', 'lu', 'luau', 'lube', 'lubricant', 'lubricate', 'lucaffe', 'lucia', 'lucid', 'lucini', 'lucious', 'luck', 'lucked', 'luckily', 'lucky', 'lucy', 'ludicrous', 'lug', 'luggage', 'lugging', 'luke', 'lukewarm', 'lull', 'lulu', 'lump', 'lumpfish', 'lumps', 'lumpy', 'luna', 'lunch', 'lunchables', 'lunchbag', 'lunchbox', 'lunchboxes', 'luncheon', 'lunchmeat', 'lunchtime', 'lundberg', 'lung', 'lungo', 'luo', 'lupus', 'lure', 'lurk', 'lurking', 'luscious', 'lusciously', 'lush', 'lust', 'luster', 'lustrous', 'luv', 'luvs', 'luwak', 'luxardo', 'luxurious', 'luxuriously', 'luxury', 'luzianne', 'ly', 'lychee', 'lycopene', 'lydia', 'lye', 'lyle', 'lymphoma', 'lynn', 'lyon', 'lysine', 'ma', 'mac', 'maca', 'macadamia', 'macadamias', 'macaron', 'macaroni', 'macarons', 'macaroon', 'macchiato', 'mace', 'macha', 'mache', 'machete', 'machine', 'machinery', 'macho', 'mack', 'mackerel', 'macro', 'macrobiotic', 'macy', 'mad', 'madagascar', 'madhava', 'madhouse', 'madison', 'madly', 'madness', 'madras', 'mae', 'maeda', 'maestro', 'mafia', 'mag', 'magazine', 'magenta', 'maggi', 'maggie', 'maggot', 'magic', 'magical', 'magically', 'magicother', 'magma', 'magnesium', 'magnet', 'magnificent', 'magnifico', 'magnify', 'magnifying', 'magnitude', 'magnolia', 'magnum', 'mahal', 'mahalo', 'mahatma', 'mahogany', 'mahogony', 'mai', 'maid', 'maiden', 'mail', 'mailbox', 'mailer', 'mailing', 'maille', 'mailman', 'main', 'maine', 'mainland', 'mainly', 'mainstay', 'mainstream', 'maintain', 'maintenance', 'maitland', 'majic', 'major', 'majority', 'majorly', 'mak', 'make', 'maker', 'makeup', 'makhani', 'maki', 'makin', 'making', 'mal', 'malabar', 'malady', 'malamute', 'malaysia', 'malaysian', 'maldon', 'male', 'malfunction', 'malibu', 'malic', 'malitol', 'mall', 'malleable', 'mallet', 'mallo', 'mallomar', 'mallomars', 'mallow', 'malt', 'malta', 'malted', 'maltese', 'maltesers', 'maltiness', 'maltipoo', 'maltitol', 'maltodextrin', 'maltose', 'malty', 'mama', 'maman', 'mamma', 'mammal', 'mammoth', 'man', 'mana', 'manage', 'manageable', 'management', 'manager', 'manages', 'manchego', 'mandarin', 'mandate', 'mandatory', 'mandheling', 'maneuver', 'manganese', 'manganous', 'mange', 'mangia', 'mangle', 'mango', 'mangos', 'mangosteen', 'manhattan', 'mania', 'maniac', 'manicotti', 'manifest', 'manila', 'manipulate', 'manischewitz', 'manitoba', 'mankind', 'manly', 'manna', 'manner', 'mannered', 'mannitol', 'manor', 'manual', 'manually', 'manufacture', 'manufactured', 'manufacturer', 'manufacturing', 'manuka', 'manure', 'manx', 'map', 'maple', 'mapleine', 'mapley', 'mar', 'maranatha', 'maraschino', 'marathon', 'marble', 'march', 'marcona', 'mardoll', 'mare', 'mareblu', 'margaret', 'margarine', 'margarita', 'margaritas', 'margerine', 'margin', 'marginal', 'marginally', 'maria', 'mariani', 'marie', 'marigold', 'marilyn', 'marinade', 'marinara', 'marinate', 'marinated', 'marine', 'mario', 'marjoram', 'mark', 'marked', 'markedly', 'marker', 'market', 'marketer', 'marketing', 'marketplace', 'marketspice', 'marking', 'markup', 'marley', 'marmalade', 'marmite', 'marnier', 'marriage', 'married', 'marrons', 'marrow', 'marry', 'marsala', 'marshall', 'marshmallow', 'marshmallows', 'marshmellow', 'marshmellows', 'mart', 'martek', 'martha', 'martin', 'martinelli', 'martini', 'martinson', 'maruchan', 'marvel', 'marvellous', 'marvelous', 'marvelously', 'mary', 'maryland', 'marzano', 'marzanos', 'marzipan', 'masa', 'masala', 'mascarpone', 'masculine', 'mash', 'mashed', 'mashups', 'mask', 'mason', 'masque', 'masquerade', 'mass', 'massachusetts', 'massage', 'massey', 'massive', 'massively', 'master', 'masterpiece', 'mastic', 'masticate', 'mastiff', 'mastro', 'mat', 'match', 'matcha', 'matchas', 'matching', 'mate', 'mater', 'material', 'maternity', 'math', 'matic', 'matiz', 'matouk', 'matrix', 'matt', 'matte', 'matter', 'mature', 'maturity', 'matzo', 'maui', 'mauna', 'max', 'maxi', 'maximize', 'maximum', 'maxwell', 'maxx', 'maya', 'mayan', 'maybe', 'maynard', 'maynards', 'mayo', 'mayonaise', 'mayonaisse', 'mayonnaise', 'maypo', 'mays', 'mazing', 'mberry', 'mc', 'mccann', 'mccanns', 'mccormick', 'mccoy', 'mcd', 'mcdonald', 'mcdonalds', 'mcdougall', 'mcdougalls', 'mcg', 'mcilhenny', 'mclib', 'mct', 'mcvitie', 'mcvities', 'md', 'mead', 'meadow', 'meager', 'meal', 'meals', 'mealtime', 'mealy', 'mean', 'meaning', 'meaningful', 'meaningless', 'meant', 'meantime', 'measly', 'measurable', 'measure', 'measured', 'measurement', 'measuring', 'meat', 'meatball', 'meatier', 'meatless', 'meatloaf', 'meats', 'meaty', 'mechanic', 'mechanical', 'mechanically', 'mechanism', 'med', 'medaglia', 'medal', 'medallion', 'medela', 'medical', 'medically', 'medicate', 'medication', 'medicinal', 'medicinals', 'medicine', 'mediciney', 'medifast', 'mediocre', 'mediocrity', 'meditation', 'mediterranean', 'medium', 'medjool', 'medley', 'medora', 'meds', 'meek', 'meet', 'meeting', 'mef', 'mega', 'megafudge', 'meh', 'mehmet', 'mei', 'meijer', 'meijers', 'meiji', 'mein', 'mejor', 'melamine', 'melange', 'melatonin', 'melba', 'meld', 'melinda', 'melissa', 'melita', 'melitta', 'mello', 'mellow', 'mellower', 'melody', 'melon', 'melt', 'meltdown', 'melted', 'melting', 'melts', 'melty', 'member', 'membership', 'membrane', 'memorable', 'memorial', 'memories', 'memory', 'memphis', 'men', 'menadione', 'mend', 'menhaden', 'menopause', 'menstrual', 'ment', 'mental', 'mentality', 'mentally', 'menthe', 'menthol', 'mention', 'mentioned', 'mentioning', 'mentos', 'menu', 'meow', 'meowing', 'mercedes', 'merchandise', 'merchant', 'mercola', 'mercury', 'mercy', 'mere', 'merely', 'merge', 'merguez', 'meringue', 'merit', 'merlot', 'merrick', 'merricks', 'merry', 'mesa', 'mesh', 'mesmerize', 'mesquite', 'mess', 'message', 'messenger', 'messy', 'mestemacher', 'met', 'metabisulfite', 'metabolic', 'metabolism', 'metabolize', 'metal', 'metalic', 'metallic', 'metamucil', 'metaphor', 'meter', 'meth', 'methinks', 'methionine', 'method', 'methodology', 'meticulously', 'metric', 'metro', 'metromint', 'metropolitan', 'mew', 'mex', 'mexgrocer', 'mexican', 'mexico', 'meyenberg', 'meyer', 'mezze', 'mfg', 'mfr', 'mg', 'mgo', 'mgpotassium', 'mgs', 'mgsodium', 'mgtotal', 'mh', 'mi', 'mia', 'miami', 'mic', 'mice', 'michael', 'micheal', 'michelle', 'michigan', 'mickey', 'micro', 'microbrews', 'microground', 'microorganism', 'microphone', 'microscope', 'microscopic', 'microwavable', 'microwave', 'microwaveable', 'microwaved', 'microwaving', 'mid', 'midday', 'middle', 'middling', 'midland', 'midmorning', 'midnight', 'midst', 'midway', 'midwest', 'midwestern', 'midwife', 'miff', 'mighty', 'mignon', 'migraine', 'migrate', 'mike', 'mikels', 'mikey', 'mil', 'milan', 'milano', 'mild', 'milder', 'mildew', 'mildly', 'mildness', 'mile', 'mileage', 'military', 'milk', 'milka', 'milkbone', 'milkbones', 'milkfat', 'milkshake', 'milky', 'milled', 'millennium', 'miller', 'millet', 'milligram', 'milligrams', 'milliliter', 'milling', 'million', 'millstone', 'milo', 'milton', 'milwaukee', 'mimic', 'min', 'minature', 'mince', 'minced', 'mincemeat', 'mind', 'mindful', 'mindless', 'mindlessly', 'mindset', 'mineral', 'minestrone', 'mingle', 'mini', 'miniature', 'minicongo', 'minimal', 'minimalist', 'minimally', 'minimize', 'minimum', 'minis', 'miniscule', 'ministry', 'minneapolis', 'minnesota', 'minnie', 'minor', 'minority', 'minpin', 'mins', 'minsi', 'minsmy', 'minsthe', 'minsthis', 'mint', 'mintier', 'mintues', 'minty', 'minus', 'minuscule', 'minute', 'mio', 'mir', 'miracle', 'miraculous', 'miraculously', 'mirin', 'mirror', 'mis', 'misc', 'miscarriage', 'miscellaneous', 'mischief', 'misconception', 'miserable', 'miserably', 'misery', 'misfortune', 'misgiving', 'misguide', 'misguided', 'mish', 'mishandle', 'mishap', 'misinformation', 'mislabeled', 'mislead', 'misleading', 'misnomer', 'miso', 'misplace', 'misprint', 'misread', 'misrepresent', 'misrepresentation', 'miss', 'missed', 'misshapen', 'missing', 'mission', 'mississippi', 'missouri', 'missy', 'mist', 'mistake', 'mistaken', 'mistakenly', 'mister', 'misto', 'misty', 'misunderstand', 'misunderstanding', 'misunderstood', 'mitchell', 'mite', 'mitigate', 'mitt', 'mix', 'mixable', 'mixed', 'mixer', 'mixes', 'mixing', 'mixture', 'mj', 'ml', 'mm', 'mma', 'mmm', 'mmmm', 'mmmmm', 'mmmmmm', 'mmmmmmm', 'mmmmmmmm', 'mmmmmmmmm', 'mmmmmmmmmm', 'mmmmmmmmmmm', 'mmmmmmmmmmmmm', 'mn', 'mo', 'moan', 'mob', 'mobile', 'mobility', 'moca', 'mocafe', 'mocha', 'mochaccino', 'mochas', 'mochi', 'mock', 'mocktail', 'mocktails', 'moctail', 'moctails', 'mode', 'model', 'modena', 'moderate', 'moderately', 'moderation', 'modern', 'modest', 'modestly', 'modification', 'modified', 'modify', 'moe', 'moi', 'moist', 'moisten', 'moistened', 'moister', 'moisterizer', 'moistness', 'moisture', 'moisturize', 'moisturized', 'moisturizer', 'moisturizers', 'moisturizes', 'moisturizing', 'mojito', 'mojitos', 'mojo', 'moka', 'molar', 'molassas', 'molasses', 'mold', 'molded', 'moldy', 'mole', 'molecular', 'molecule', 'molly', 'molten', 'molto', 'moly', 'mom', 'moment', 'momentarily', 'momma', 'mommy', 'moms', 'momvoxbox', 'mon', 'mona', 'monday', 'monde', 'monetary', 'money', 'monica', 'moniker', 'monin', 'monitor', 'monk', 'monkey', 'mono', 'monocalcium', 'monohydrochloride', 'mononitrate', 'monopoly', 'monosodium', 'monostearate', 'monotonous', 'monotony', 'monounsaturated', 'monsanto', 'monster', 'monstrosity', 'monstrous', 'montana', 'monte', 'monterey', 'month', 'monthly', 'montmorency', 'montmorillonite', 'montreal', 'moo', 'mooch', 'mood', 'moody', 'moon', 'moore', 'moose', 'moot', 'mop', 'mor', 'moral', 'morel', 'mores', 'moreso', 'mori', 'morkie', 'morn', 'morning', 'morningstar', 'moroccan', 'morocco', 'moron', 'morph', 'morsel', 'mortal', 'mortar', 'mortgage', 'morton', 'mos', 'moscato', 'moscow', 'mosquito', 'moss', 'motel', 'moth', 'mothball', 'mother', 'moths', 'motif', 'motion', 'motivate', 'motivated', 'motivation', 'motivator', 'motor', 'motorcycle', 'mott', 'motto', 'mound', 'mounds', 'mount', 'mountain', 'mountains', 'mountian', 'mourn', 'mouse', 'mousse', 'moutain', 'mouth', 'mouthfeel', 'mouthful', 'mouthwash', 'mouthwatering', 'movement', 'movie', 'mow', 'moxie', 'mozzarella', 'mozzerella', 'mph', 'mr', 'mre', 'mrs', 'ms', 'msg', 'msm', 'msrp', 'mt', 'mth', 'mths', 'mtn', 'mtr', 'mu', 'mucho', 'muck', 'mucous', 'mucus', 'mud', 'muddle', 'muddy', 'mudslide', 'mueller', 'muesli', 'mueslix', 'muffin', 'muffins', 'mug', 'mui', 'muir', 'mulberry', 'mulch', 'mule', 'mull', 'mullein', 'mulling', 'multi', 'multibran', 'multigrain', 'multinational', 'multipack', 'multiple', 'multiply', 'multipurpose', 'multitude', 'multivitamin', 'mum', 'mumbo', 'munch', 'munchie', 'munchies', 'munching', 'munchkin', 'munchos', 'munchy', 'mundane', 'mung', 'munich', 'municipal', 'murder', 'murky', 'murphy', 'murray', 'mus', 'muscle', 'muscovado', 'muscular', 'museli', 'museum', 'mush', 'mushiness', 'mushroom', 'mushroomy', 'mushy', 'music', 'musical', 'musician', 'musk', 'musketeer', 'musky', 'muslim', 'muslin', 'mussel', 'mustache', 'mustard', 'mustardy', 'muster', 'musty', 'mut', 'mutant', 'mute', 'muted', 'mutt', 'mutter', 'muy', 'mw', 'mylar', 'myocardial', 'myojo', 'myriad', 'myrtle', 'mysterious', 'mysteriously', 'mystery', 'mystic', 'mystical', 'mystify', 'myth', 'mythical', 'na', 'naan', 'nab', 'nabisco', 'nabob', 'nacho', 'nachos', 'nacl', 'nada', 'nag', 'naga', 'nagging', 'nah', 'nail', 'nails', 'naive', 'naked', 'nalgene', 'nam', 'namaste', 'nameless', 'names', 'namesake', 'nan', 'nana', 'nancy', 'nando', 'nanny', 'nano', 'nantucket', 'nap', 'napa', 'napkin', 'naples', 'napoleon', 'narcotic', 'narnia', 'narrow', 'nary', 'nas', 'nasa', 'nasal', 'nashville', 'nasties', 'nastiness', 'nasty', 'nat', 'natalie', 'natasha', 'nathan', 'nation', 'national', 'nationally', 'nationwide', 'nativas', 'native', 'natrual', 'natual', 'natura', 'natural', 'naturally', 'naturalness', 'nature', 'naturel', 'natures', 'naturopath', 'naughty', 'nausea', 'nauseate', 'nauseated', 'nauseating', 'nauseous', 'navel', 'navigate', 'navitas', 'navy', 'nay', 'naysayer', 'nb', 'nc', 'nd', 'ne', 'neapolitan', 'near', 'nearby', 'nearly', 'neat', 'neater', 'neatly', 'nebraska', 'necco', 'neccos', 'necessarily', 'necessary', 'necessitate', 'necessity', 'neck', 'necklace', 'necta', 'nectar', 'nectarine', 'nectasweet', 'nector', 'nectresse', 'need', 'needed', 'needing', 'needle', 'needless', 'needlessly', 'needn', 'needs', 'needy', 'neem', 'negate', 'negative', 'negatively', 'neglect', 'negligence', 'negligible', 'negotiate', 'negril', 'neice', 'neighbor', 'neighborhood', 'neighbour', 'neighbourhood', 'nell', 'nellie', 'neo', 'neocate', 'neoguri', 'neon', 'neopolitan', 'neosure', 'nepal', 'nephew', 'nephews', 'nerd', 'nerve', 'nervous', 'nervousness', 'nescaf', 'nescafe', 'nesco', 'nespresso', 'nesquick', 'nesquik', 'ness', 'nest', 'nestea', 'nestl', 'nestle', 'net', 'netherlands', 'neti', 'netrition', 'nettle', 'network', 'neuro', 'neurological', 'neurotic', 'neurotoxin', 'neuter', 'neutered', 'neutral', 'neutralize', 'neutrogena', 'nevada', 'nevella', 'nevermind', 'new', 'newbie', 'newborn', 'newcomer', 'newer', 'newfie', 'newfoundland', 'newly', 'newman', 'newmans', 'news', 'newsletter', 'newspaper', 'newton', 'nguyen', 'nh', 'ni', 'niacin', 'niacinamide', 'nib', 'nibble', 'nibbler', 'nibbling', 'niblets', 'nibs', 'nicaraguan', 'nice', 'nicely', 'nicer', 'niche', 'nick', 'nickel', 'nickle', 'nickname', 'nicotine', 'nicu', 'nido', 'niece', 'niederegger', 'nielsen', 'nifty', 'nigella', 'niger', 'night', 'nighter', 'nightly', 'nightmare', 'nightshade', 'nighttime', 'nile', 'nilla', 'nina', 'nineteen', 'ninety', 'ninja', 'nip', 'nipple', 'nirvana', 'nishiki', 'nissan', 'nissin', 'nit', 'nite', 'nitrate', 'nitrite', 'nitrogen', 'nix', 'nj', 'nm', 'nobel', 'noble', 'nod', 'noddle', 'nog', 'noh', 'noir', 'noire', 'noise', 'noisette', 'noisy', 'nola', 'nom', 'nominal', 'nominally', 'non', 'nondairy', 'nondescript', 'nonetheless', 'nonexistent', 'nonfat', 'nong', 'nongshim', 'nonni', 'nonpareil', 'nonsense', 'nonstick', 'nonstop', 'noodle', 'noodles', 'nook', 'noon', 'noooo', 'nope', 'nora', 'nordic', 'nori', 'norm', 'normal', 'normalize', 'normally', 'normaly', 'norman', 'north', 'northeast', 'northern', 'northwest', 'norway', 'norwegian', 'nos', 'nose', 'nosh', 'nostalgia', 'nostalgic', 'nostra', 'nostril', 'notable', 'notably', 'notation', 'notch', 'note', 'noted', 'noteworthy', 'nothin', 'nothingness', 'noticable', 'noticably', 'notice', 'noticeable', 'noticeably', 'noticed', 'notification', 'notify', 'notion', 'notorious', 'notoriously', 'notwithstanding', 'nougat', 'nourish', 'nourished', 'nourishing', 'nourishment', 'nov', 'nova', 'novel', 'novelty', 'november', 'novice', 'nowadays', 'noxious', 'nozzle', 'np', 'npr', 'nrg', 'ns', 'nt', 'nto', 'nu', 'nuance', 'nuanced', 'nub', 'nubs', 'nuclear', 'nudge', 'nueske', 'nueva', 'nuf', 'nuff', 'nugget', 'nuggets', 'nugo', 'nuisance', 'nuke', 'num', 'numb', 'number', 'numbing', 'numbness', 'numerous', 'numi', 'nummy', 'nunaturals', 'nurse', 'nursery', 'nursing', 'nurture', 'nurturme', 'nustevia', 'nut', 'nutcracker', 'nutella', 'nutiva', 'nutmeg', 'nutra', 'nutramigen', 'nutrasweet', 'nutri', 'nutricious', 'nutricity', 'nutrient', 'nutrigrain', 'nutrional', 'nutrious', 'nutrish', 'nutrisweet', 'nutrisystem', 'nutrition', 'nutritional', 'nutritionally', 'nutritionals', 'nutritionist', 'nutritious', 'nutritive', 'nutritous', 'nutrium', 'nutro', 'nuts', 'nutshell', 'nutter', 'nuttier', 'nuttiness', 'nutty', 'nuttzo', 'nuun', 'nv', 'nw', 'ny', 'nyc', 'nylabone', 'nylabones', 'nylon', 'nz', 'oahu', 'oak', 'oakland', 'oasis', 'oat', 'oatbran', 'oatcake', 'oatmeal', 'oats', 'oaty', 'ob', 'obama', 'obedience', 'obedient', 'oberto', 'obese', 'obesity', 'obey', 'object', 'objection', 'objectionable', 'objective', 'objectively', 'obligate', 'obligation', 'obligatory', 'oblige', 'obliterate', 'oblivion', 'oblong', 'obnoxious', 'obnoxiously', 'obscene', 'obscure', 'observant', 'observation', 'observe', 'obsess', 'obsessed', 'obsession', 'obsessive', 'obsessively', 'obsidian', 'obsolete', 'obstacle', 'obstruction', 'obtain', 'obtainable', 'obtrusive', 'obvious', 'obviously', 'ocassion', 'ocassional', 'occasion', 'occasional', 'occasionally', 'occasionaly', 'occassion', 'occassional', 'occassionally', 'occassions', 'occupied', 'occupy', 'occur', 'occurence', 'occurrence', 'ocd', 'ocean', 'ocha', 'oclock', 'oct', 'octane', 'octavia', 'october', 'octopus', 'od', 'odd', 'oddball', 'oddity', 'oddly', 'odds', 'ode', 'oder', 'odered', 'odor', 'odorless', 'odorous', 'odwalla', 'oelek', 'oetker', 'oeuvre', 'ofcourse', 'offend', 'offender', 'offense', 'offensive', 'offer', 'offering', 'office', 'officepro', 'officer', 'official', 'officially', 'offline', 'offputting', 'offs', 'offset', 'offspring', 'oftentimes', 'ofter', 'ofthe', 'og', 'oh', 'ohh', 'ohhh', 'ohhhh', 'ohhhhh', 'ohio', 'oi', 'oil', 'oiled', 'oiliness', 'oils', 'oily', 'ointment', 'oj', 'ok', 'okay', 'okc', 'okinawa', 'oklahoma', 'okra', 'ol', 'old', 'olde', 'older', 'oldest', 'oldie', 'olds', 'ole', 'oleic', 'oleoresin', 'olfactory', 'olio', 'olive', 'oliver', 'olives', 'olivier', 'olympic', 'om', 'omaha', 'omega', 'omelet', 'omelette', 'omg', 'omission', 'omit', 'omnivore', 'omnivorous', 'onecup', 'oneself', 'ongoing', 'onhand', 'onion', 'oniony', 'online', 'ono', 'ons', 'onset', 'ontario', 'onthe', 'ontime', 'ontop', 'onward', 'ony', 'oo', 'oodles', 'ooey', 'ooh', 'oolong', 'oomph', 'ooo', 'oooh', 'ooooh', 'ooops', 'oops', 'ooze', 'op', 'opaque', 'open', 'opened', 'opener', 'opening', 'openly', 'openned', 'operate', 'operating', 'operation', 'operative', 'operator', 'opinion', 'opinon', 'oppinion', 'opportunity', 'oppose', 'opposite', 'oprah', 'ops', 'opt', 'optimal', 'optimistic', 'optimize', 'optimum', 'option', 'optional', 'optionally', 'orac', 'oral', 'orally', 'orange', 'oranges', 'orangey', 'orangina', 'orangish', 'orangy', 'orbit', 'orchard', 'orchid', 'ordeal', 'order', 'orderd', 'ordered', 'ordering', 'ordinarily', 'ordinary', 'ording', 'ore', 'oredered', 'oregano', 'oregon', 'oreo', 'oreos', 'org', 'orgain', 'organ', 'organic', 'organically', 'organice', 'organicville', 'organism', 'organisms', 'organix', 'organization', 'organize', 'organized', 'organizer', 'organo', 'organs', 'orgasm', 'orgasmic', 'orgeat', 'orginal', 'orginally', 'orgran', 'orient', 'oriental', 'orig', 'origen', 'origin', 'original', 'originally', 'originate', 'origional', 'orignal', 'orijen', 'orlando', 'orleans', 'ornament', 'oro', 'orphan', 'ortega', 'ortho', 'orthodox', 'ortiz', 'orville', 'orzo', 'os', 'oscar', 'osem', 'oskri', 'osmosis', 'osteoporosis', 'oster', 'ostrich', 'ostrim', 'ot', 'otc', 'otis', 'otoh', 'otto', 'ou', 'ouch', 'ought', 'ounce', 'ounces', 'oustanding', 'outage', 'outback', 'outbreak', 'outcome', 'outdated', 'outdo', 'outdoor', 'outdoors', 'outer', 'outfit', 'outgrow', 'outing', 'outlandish', 'outlast', 'outlaw', 'outlet', 'outline', 'outlook', 'output', 'outrage', 'outrageous', 'outrageously', 'outragious', 'outragous', 'outright', 'outs', 'outset', 'outshine', 'outside', 'outsmart', 'outsource', 'outstanding', 'outstandingly', 'outta', 'outweigh', 'ovaeasy', 'oval', 'ovaltine', 'oven', 'overabundance', 'overactive', 'overal', 'overall', 'overbake', 'overbaked', 'overbear', 'overbearing', 'overbearingly', 'overblown', 'overboard', 'overbrew', 'overcharge', 'overcome', 'overcook', 'overcooked', 'overdo', 'overdone', 'overdose', 'overdrive', 'overdue', 'overeat', 'overfeed', 'overfill', 'overflow', 'overgrowth', 'overhead', 'overheat', 'overhyped', 'overindulge', 'overjoy', 'overkill', 'overlap', 'overload', 'overlook', 'overly', 'overnight', 'overnighted', 'overnite', 'overpay', 'overpower', 'overpowering', 'overpoweringly', 'overpowers', 'overprice', 'overpriced', 'overprocessed', 'overrate', 'overrated', 'override', 'overrun', 'overs', 'oversalted', 'overseas', 'overshadow', 'oversight', 'oversized', 'overstate', 'overstatement', 'oversteep', 'overstock', 'overstuff', 'oversweet', 'oversweetened', 'overt', 'overtake', 'overtime', 'overtly', 'overtone', 'overuse', 'overview', 'overweight', 'overwhelm', 'overwhelmed', 'overwhelming', 'overwhelmingly', 'overwhelms', 'ow', 'owe', 'owl', 'owner', 'ownership', 'ox', 'oxalate', 'oxford', 'oxidant', 'oxidation', 'oxidative', 'oxide', 'oxident', 'oxidents', 'oxidize', 'oxidized', 'oxo', 'oxygen', 'oxymoron', 'oyster', 'oz', 'ozarks', 'ozbo', 'ozi', 'ozs', 'pa', 'pac', 'pace', 'pacific', 'pacifier', 'pack', 'packable', 'package', 'packaged', 'packageing', 'packaging', 'packed', 'packer', 'packet', 'packets', 'packing', 'packs', 'pad', 'padded', 'padding', 'paddle', 'paddy', 'paella', 'page', 'paid', 'pail', 'pain', 'painful', 'painfully', 'painkiller', 'painless', 'paint', 'pair', 'pairing', 'pak', 'pakistan', 'pakistani', 'paks', 'pal', 'palace', 'palak', 'palatability', 'palatable', 'palate', 'pale', 'paleo', 'paler', 'palet', 'palette', 'pallet', 'palm', 'palmer', 'palmitate', 'palouse', 'palpable', 'palpitation', 'pam', 'pamela', 'pamelas', 'pamper', 'pampered', 'pamphlet', 'pan', 'panacea', 'panama', 'panang', 'panasonic', 'panax', 'pancake', 'pancakes', 'pancreas', 'pancreatic', 'pancreatitis', 'panda', 'pandan', 'paneer', 'panel', 'panera', 'panettone', 'pang', 'panhandle', 'panic', 'panini', 'panko', 'panni', 'pant', 'pantene', 'panther', 'pantothenate', 'pantothenic', 'pantry', 'panzanella', 'pao', 'papa', 'papain', 'papaya', 'paper', 'paperback', 'paperboard', 'paperwork', 'papery', 'papillon', 'pappy', 'paprika', 'papua', 'par', 'para', 'parachute', 'parade', 'paradise', 'paraffin', 'paragon', 'paragraph', 'parallel', 'parameter', 'paramount', 'paranoid', 'paraphrase', 'parasite', 'parasitic', 'parboil', 'parcel', 'parch', 'parchment', 'pardon', 'parent', 'pareve', 'parfait', 'paris', 'parisian', 'park', 'parker', 'parking', 'parkinson', 'parlor', 'parm', 'parma', 'parmesan', 'parmesean', 'parmigiano', 'parrot', 'parsely', 'parsley', 'parsnip', 'partake', 'parthenon', 'partial', 'partially', 'participant', 'participate', 'participation', 'particle', 'particular', 'particularly', 'particulary', 'particulate', 'partly', 'partner', 'partnership', 'party', 'parve', 'pas', 'paso', 'pass', 'passable', 'passage', 'passenger', 'passing', 'passion', 'passionate', 'passionfruit', 'passover', 'past', 'pasta', 'pastas', 'paste', 'pastel', 'pasteurization', 'pasteurize', 'pasteurized', 'pastey', 'pastille', 'pastor', 'pastrami', 'pastry', 'pasture', 'pasty', 'pat', 'patak', 'pataks', 'patch', 'pate', 'patent', 'patented', 'path', 'pathetic', 'pathogen', 'patience', 'patient', 'patiently', 'patio', 'patricia', 'patrick', 'patron', 'patronize', 'patten', 'pattern', 'pattie', 'patty', 'pau', 'paul', 'paula', 'pause', 'pav', 'pavement', 'pavilion', 'pavoni', 'paw', 'pawn', 'paws', 'pay', 'paycheck', 'payday', 'payment', 'payoff', 'pb', 'pbj', 'pc', 'pcc', 'pcos', 'pcs', 'pd', 'pea', 'peaberry', 'peace', 'peaceful', 'peacefully', 'peach', 'peachy', 'peacock', 'peak', 'peal', 'peanut', 'peanutbutter', 'peanuts', 'peanutty', 'peanuty', 'pear', 'pearl', 'pearled', 'pearls', 'pearly', 'pears', 'peas', 'peasant', 'peasy', 'peat', 'pebble', 'pebbles', 'pecan', 'pecans', 'pecorino', 'pectin', 'peculiar', 'ped', 'pedestrian', 'pedialyte', 'pediasure', 'pediatric', 'pediatrician', 'pedigree', 'pee', 'peek', 'peel', 'peeled', 'peeling', 'peep', 'peer', 'peet', 'peets', 'peeve', 'pefect', 'peg', 'peggy', 'pei', 'peice', 'peices', 'peke', 'pekinese', 'pekingese', 'pekoe', 'pellegrino', 'pellet', 'pellets', 'pembroke', 'pemmican', 'pen', 'penalty', 'penchant', 'pencil', 'pending', 'penetrate', 'penguin', 'peninsula', 'penn', 'penne', 'pennsylvania', 'penny', 'penta', 'penzey', 'peony', 'people', 'pep', 'pepcid', 'pepe', 'pepermint', 'pepitas', 'peppadew', 'pepper', 'peppercorn', 'peppercorns', 'peppered', 'pepperidge', 'pepperment', 'peppermill', 'peppermint', 'pepperminty', 'pepperoni', 'peppery', 'peppy', 'pepsi', 'pepsico', 'pepto', 'perceive', 'perceived', 'percent', 'percentage', 'percentile', 'perceptible', 'perception', 'perch', 'percolate', 'percolator', 'perennial', 'perfect', 'perfection', 'perfectly', 'perfecto', 'perfer', 'perforate', 'perforated', 'perforation', 'perform', 'performance', 'performer', 'performs', 'perfume', 'perfumed', 'perfumey', 'perfumy', 'peri', 'peril', 'perimeter', 'period', 'periodic', 'periodically', 'perishable', 'perk', 'perked', 'perky', 'perm', 'permanent', 'permanently', 'permeate', 'permission', 'permit', 'pernigotti', 'pero', 'peroni', 'peroxide', 'perpetual', 'perpetually', 'perpetuate', 'perplex', 'perplexed', 'perrier', 'perrins', 'perscription', 'perservatives', 'persevere', 'persian', 'persimmon', 'persist', 'persistent', 'persnickety', 'person', 'personal', 'personality', 'personalize', 'personalized', 'personally', 'personnel', 'perspective', 'perspirant', 'perspiration', 'persuade', 'pertain', 'peru', 'perugina', 'peruse', 'peruvian', 'pervasive', 'pesky', 'pest', 'pester', 'pesticide', 'pesticides', 'pestle', 'pesto', 'pet', 'petal', 'petco', 'pete', 'peter', 'peterson', 'petfood', 'petfooddirect', 'petguard', 'petit', 'petite', 'petition', 'petits', 'petrochemical', 'petrodex', 'petrolatum', 'petroleum', 'petsafe', 'petsmart', 'petstore', 'petty', 'petunia', 'peychaud', 'pez', 'pf', 'pg', 'pgpr', 'ph', 'phantom', 'pharma', 'pharmaceutical', 'pharmacist', 'pharmacy', 'phase', 'phd', 'pheasant', 'phenol', 'phenomenal', 'phenomenally', 'phenomenon', 'phenominal', 'phenylalanine', 'pheromone', 'phew', 'phil', 'philadelphia', 'philip', 'philippine', 'phillips', 'philly', 'philosophy', 'pho', 'phoenix', 'phone', 'phony', 'phosphate', 'phosphoric', 'phosphorous', 'phosphorus', 'photo', 'photograph', 'photography', 'phrase', 'phthalate', 'physical', 'physically', 'physician', 'phytochemical', 'phytoestrogens', 'pi', 'piana', 'pibb', 'pic', 'pica', 'picante', 'picard', 'pice', 'pick', 'pickapeppa', 'picked', 'picker', 'pickey', 'pickier', 'pickiest', 'pickiness', 'picking', 'pickle', 'pickled', 'pickling', 'pickup', 'pickwick', 'picky', 'picnic', 'pico', 'picture', 'pictured', 'pie', 'piece', 'pier', 'pierce', 'pies', 'pietro', 'pig', 'pigeon', 'piggy', 'piglet', 'pigment', 'pigs', 'pike', 'pikes', 'pilaf', 'pile', 'pill', 'pilling', 'pillow', 'pills', 'pillsbury', 'pilon', 'pilot', 'pimento', 'pimple', 'pin', 'pina', 'pinapple', 'pinata', 'pinch', 'pindi', 'pine', 'pineapple', 'piney', 'ping', 'pinhead', 'pink', 'pinkish', 'pinky', 'pinnacle', 'pinot', 'pinpoint', 'pinscher', 'pint', 'pinto', 'pinwheel', 'pioneer', 'pip', 'pipe', 'piper', 'piping', 'piquant', 'pique', 'pirate', 'piss', 'pissed', 'pistachio', 'pistachios', 'pistacios', 'pit', 'pita', 'pitbull', 'pitch', 'pitcher', 'pitfall', 'pith', 'pitiful', 'pitt', 'pitted', 'pittie', 'pittsburgh', 'pity', 'pixie', 'pixy', 'pizazz', 'pizza', 'pizzas', 'pizzaz', 'pizzazz', 'pizzeria', 'pizzle', 'pj', 'pk', 'pkg', 'pkgs', 'pks', 'pkt', 'pkts', 'place', 'placebo', 'placement', 'plague', 'plain', 'plainer', 'plainly', 'plan', 'plane', 'planet', 'plank', 'planning', 'plant', 'plantain', 'plantarum', 'plantation', 'planter', 'planters', 'planting', 'plaque', 'plasic', 'plasma', 'plaster', 'plastic', 'plasticky', 'plasticy', 'plat', 'plate', 'plateau', 'platform', 'platinum', 'plato', 'platter', 'play', 'playdough', 'player', 'playful', 'playground', 'playing', 'playtime', 'plaza', 'plea', 'plead', 'pleasant', 'pleasantly', 'pleased', 'pleasent', 'pleasently', 'pleaser', 'pleasing', 'pleasingly', 'pleasurable', 'pleasure', 'pledge', 'plentiful', 'plenty', 'plesant', 'plesantly', 'plethora', 'pliable', 'plier', 'plocky', 'plop', 'plot', 'plow', 'ploy', 'pls', 'pluck', 'plug', 'plum', 'plumb', 'plumbing', 'plummet', 'plump', 'plumper', 'plums', 'plunge', 'plunger', 'plunk', 'plus', 'plush', 'plz', 'pm', 'pms', 'po', 'poach', 'poached', 'poblano', 'pocket', 'pocketbook', 'pocky', 'pod', 'pods', 'poem', 'poetic', 'poetry', 'point', 'pointer', 'pointless', 'pointy', 'poison', 'poisoning', 'poisonous', 'poke', 'poker', 'poland', 'polar', 'pole', 'polenta', 'police', 'policy', 'polish', 'polished', 'polite', 'politely', 'political', 'politically', 'politician', 'politics', 'pollen', 'pollinate', 'pollo', 'pollutant', 'pollute', 'polluted', 'pollution', 'pollux', 'polo', 'poly', 'polyethylene', 'polynesian', 'polyphenols', 'polyphosphate', 'polysorbate', 'polyunsaturated', 'pom', 'pomace', 'pomegranate', 'pomegranates', 'pomegranite', 'pomegrante', 'pomeranian', 'pomi', 'pomodoro', 'pomona', 'pond', 'ponder', 'pong', 'pony', 'ponzu', 'poo', 'pooch', 'poodle', 'poodles', 'poof', 'pooh', 'pool', 'poop', 'pooped', 'pooper', 'pooping', 'poops', 'poopy', 'poor', 'poorly', 'poos', 'pop', 'popchip', 'popchips', 'popcorn', 'popcorners', 'popcornopolis', 'popeye', 'popover', 'popped', 'popper', 'poppin', 'popping', 'poppy', 'poppycock', 'poppyseed', 'pops', 'popsicle', 'poptart', 'poptarts', 'popular', 'popularity', 'populate', 'population', 'por', 'porcelain', 'porch', 'porcini', 'porcinis', 'pore', 'pork', 'porkchop', 'porky', 'porous', 'porridge', 'port', 'portability', 'portable', 'portafilter', 'porterhouse', 'portfolio', 'portion', 'portioned', 'portland', 'portly', 'portobello', 'portray', 'portugal', 'portuguese', 'pose', 'position', 'positive', 'positively', 'possess', 'possession', 'possibility', 'possible', 'possibly', 'possum', 'post', 'postage', 'postal', 'poster', 'posting', 'postman', 'postpone', 'postum', 'pot', 'potassium', 'potato', 'potatoe', 'potatoes', 'potency', 'potent', 'potential', 'potentially', 'potful', 'potion', 'potluck', 'potpourri', 'potstickers', 'potted', 'potter', 'potting', 'potty', 'pouch', 'poultry', 'pounce', 'pound', 'pounder', 'pounding', 'poupon', 'pour', 'pourable', 'poured', 'pouring', 'pours', 'pout', 'poverty', 'pow', 'powder', 'powdered', 'powdery', 'poweder', 'power', 'powerade', 'powerbar', 'powerbars', 'powered', 'powerful', 'powerfully', 'powerhouse', 'powering', 'pp', 'ppl', 'ppm', 'pr', 'practical', 'practically', 'practice', 'practitioner', 'prairie', 'praise', 'praline', 'prance', 'prank', 'prawn', 'pray', 'prayer', 'prduct', 'pre', 'preach', 'prebiotic', 'prebiotics', 'precaution', 'precede', 'precious', 'precise', 'precisely', 'precision', 'preclude', 'precook', 'precooked', 'precursor', 'precut', 'predator', 'predecessor', 'predicament', 'predict', 'predictable', 'predictably', 'predispose', 'prednisone', 'predominant', 'predominantly', 'predominate', 'predominately', 'preemie', 'preface', 'prefect', 'prefer', 'preferable', 'preferably', 'preferance', 'preference', 'preferences', 'preferred', 'prefers', 'pregnancy', 'pregnant', 'prego', 'preground', 'preheat', 'preheated', 'prejudice', 'preliminary', 'premade', 'premature', 'prematurely', 'premeasured', 'premier', 'premise', 'premium', 'premix', 'premixed', 'prep', 'prepackaged', 'prepacked', 'preparation', 'prepare', 'prepared', 'preparedness', 'prepares', 'preparing', 'preperation', 'prepped', 'prepping', 'preschool', 'preschooler', 'prescribe', 'prescribed', 'prescription', 'presence', 'present', 'presentable', 'presentation', 'presently', 'preservation', 'preservative', 'preservatives', 'preserve', 'preserved', 'president', 'press', 'pressed', 'pressing', 'pressure', 'pressurize', 'pressurized', 'presto', 'presumably', 'presume', 'presweetened', 'pretend', 'pretending', 'pretentious', 'pretty', 'pretzel', 'pretzels', 'pretzles', 'prevail', 'prevalent', 'prevent', 'preventative', 'prevention', 'preventive', 'prevents', 'preview', 'previous', 'previously', 'prey', 'price', 'pricei', 'priceless', 'pricer', 'pricewise', 'pricey', 'pricier', 'pricing', 'prickly', 'pricy', 'pride', 'prilosec', 'prim', 'prima', 'primal', 'primarily', 'primary', 'primavera', 'prime', 'primitive', 'primo', 'primula', 'prince', 'princess', 'principal', 'principle', 'pringle', 'pringles', 'print', 'printed', 'printer', 'printing', 'prior', 'priority', 'prison', 'pristine', 'privacy', 'private', 'privilege', 'prize', 'prized', 'pro', 'proactive', 'prob', 'probability', 'probable', 'probably', 'probaly', 'probar', 'probe', 'probiotic', 'problem', 'problematic', 'probs', 'procedure', 'proceed', 'proceeds', 'process', 'processed', 'processing', 'processor', 'proclaim', 'proctor', 'procuct', 'procure', 'prod', 'prodcut', 'prodomo', 'produce', 'produced', 'producer', 'product', 'production', 'productive', 'producto', 'produt', 'prof', 'profess', 'profession', 'professional', 'professionalism', 'professionally', 'professor', 'profile', 'profit', 'profitable', 'proflowers', 'profound', 'profoundly', 'profusely', 'program', 'programmable', 'progress', 'progression', 'progressive', 'progressively', 'progresso', 'prohibit', 'prohibitive', 'prohibitively', 'project', 'projected', 'projectile', 'prolific', 'prolly', 'prolong', 'prolonged', 'prominent', 'prominently', 'promise', 'promised', 'promising', 'promo', 'promote', 'promotes', 'promotion', 'promotional', 'prompt', 'promptly', 'promptness', 'promtly', 'prone', 'pronounce', 'pronounceable', 'pronounced', 'pronto', 'proof', 'prop', 'propaganda', 'propel', 'propensity', 'proper', 'properly', 'property', 'propionate', 'proplan', 'propolis', 'proponent', 'proportion', 'propose', 'proposition', 'proprietary', 'proprietor', 'propylene', 'pros', 'prosciutto', 'prosobee', 'prospect', 'prospective', 'prosper', 'prostate', 'protect', 'protection', 'protective', 'protector', 'protein', 'proteinate', 'proteins', 'protest', 'protien', 'protocol', 'protrude', 'proud', 'proudly', 'prouduct', 'prove', 'proven', 'provence', 'proverbial', 'provide', 'provided', 'provider', 'province', 'provision', 'provoke', 'provolone', 'prowl', 'proximity', 'prudent', 'prudhomme', 'pruduct', 'prune', 'pruning', 'pry', 'ps', 'pseudo', 'psoriasis', 'psyched', 'psycho', 'psychological', 'psychologically', 'psyllium', 'pt', 'pu', 'pub', 'public', 'publication', 'publicity', 'publicly', 'publish', 'publix', 'puchase', 'puchased', 'puck', 'pucker', 'pudding', 'puddle', 'pudge', 'pudgy', 'puerh', 'puerto', 'puff', 'puffed', 'puffin', 'puffiness', 'puffs', 'puffy', 'pug', 'puggle', 'pugs', 'puke', 'puking', 'pull', 'pulled', 'pulling', 'pulp', 'pulpy', 'pulse', 'pulverize', 'pulverized', 'pumkin', 'pump', 'pumped', 'pumpernickel', 'pumpernickle', 'pumping', 'pumpkin', 'pumpking', 'pumpkinseed', 'pun', 'punch', 'punchy', 'puncture', 'punctured', 'pungency', 'pungent', 'punish', 'punishment', 'punjabi', 'puny', 'pup', 'pupperoni', 'puppy', 'puppyhood', 'pups', 'pur', 'purchace', 'purchaed', 'purchase', 'purchased', 'purchaser', 'purchasing', 'purchse', 'purchsed', 'pure', 'purebites', 'purebred', 'puree', 'pureed', 'purely', 'purer', 'purest', 'purevia', 'purge', 'purification', 'purified', 'purify', 'purina', 'purist', 'purity', 'puroast', 'purple', 'purplish', 'purport', 'purported', 'purportedly', 'purpose', 'purposely', 'purr', 'purrfect', 'purrfectly', 'purse', 'pursue', 'pursuit', 'purveyor', 'push', 'pusher', 'putrid', 'puttanesca', 'putty', 'puzzle', 'puzzled', 'pvc', 'px', 'pylorus', 'pyramid', 'pyramidal', 'pyrenees', 'pyrex', 'pyridoxine', 'pyrithione', 'pyrophosphate', 'qa', 'qai', 'qaulity', 'qc', 'qfc', 'qid', 'qt', 'qts', 'qty', 'quadratini', 'quadruple', 'quaff', 'quai', 'quail', 'quaility', 'quailty', 'quaint', 'quake', 'quaker', 'qualification', 'qualifies', 'qualify', 'qualita', 'quality', 'qualm', 'quanity', 'quantify', 'quantity', 'quart', 'quarter', 'quarterly', 'quarts', 'quasi', 'que', 'queasy', 'quebec', 'queen', 'quell', 'quench', 'quencher', 'quenches', 'quenching', 'quercetin', 'query', 'quesadilla', 'queso', 'quest', 'question', 'questionable', 'quibble', 'quiche', 'quick', 'quicker', 'quickie', 'quickly', 'quickness', 'quicky', 'quiet', 'quieter', 'quietly', 'quik', 'quilt', 'quince', 'quinine', 'quinn', 'quinoa', 'quintessential', 'quirk', 'quirky', 'quit', 'quite', 'quota', 'quotation', 'quote', 'quotient', 'qvc', 'ra', 'rabbi', 'rabbit', 'rabid', 'raccoon', 'race', 'rachael', 'rachel', 'racing', 'rack', 'racket', 'racoon', 'radar', 'radiant', 'radiate', 'radiation', 'radical', 'radically', 'radio', 'radioactive', 'radish', 'radius', 'raf', 'rag', 'ragdoll', 'rage', 'ragu', 'raid', 'rail', 'rain', 'rainbow', 'rainfall', 'rainforest', 'rainy', 'raise', 'raisen', 'raisens', 'raiser', 'raisin', 'raisinets', 'raisins', 'raison', 'raisons', 'raita', 'rajma', 'rake', 'raley', 'rally', 'ralph', 'ralphs', 'raman', 'ramble', 'ramen', 'ramens', 'ramp', 'rampant', 'ramune', 'ramyun', 'ran', 'ranch', 'rancher', 'ranchero', 'ranchers', 'rancid', 'rancidity', 'rancilio', 'random', 'randomly', 'randy', 'range', 'ranger', 'rank', 'ranking', 'rant', 'rao', 'rap', 'rapadura', 'rapeseed', 'rapid', 'rapidly', 'rapunzel', 'rare', 'rarely', 'rarity', 'rasberries', 'rasberry', 'rash', 'rasin', 'rasins', 'rasp', 'raspberries', 'raspberry', 'rat', 'ratatouille', 'rate', 'raters', 'rating', 'ratio', 'ration', 'rational', 'rationalize', 'rattle', 'rave', 'raven', 'ravenous', 'raving', 'ravioli', 'raw', 'rawhide', 'rawhides', 'ray', 'raya', 'razor', 'razzle', 'razzmatazz', 'rc', 'rd', 'rda', 'rds', 'reach', 'react', 'reaction', 'reactive', 'reactor', 'reacts', 'read', 'readable', 'reade', 'reader', 'readily', 'reading', 'ready', 'real', 'realemon', 'realise', 'realistic', 'realistically', 'reality', 'realization', 'realize', 'realizing', 'reall', 'really', 'realm', 'realy', 'reap', 'reappear', 'reapply', 'rear', 'reason', 'reasonable', 'reasonably', 'reasoning', 'reassess', 'reassure', 'rebate', 'rebecca', 'rebel', 'rebiana', 'rebound', 'rebranded', 'rebuild', 'rebuy', 'rec', 'recall', 'recalled', 'recap', 'reccomend', 'reccomended', 'reccommend', 'reccommended', 'receieved', 'receipe', 'receipes', 'receipt', 'receive', 'received', 'receiver', 'receiving', 'recent', 'recently', 'receptacle', 'reception', 'receptionist', 'receptive', 'receptor', 'recess', 'recession', 'recevied', 'recharge', 'recieve', 'recieved', 'recieving', 'recipe', 'recipes', 'recipie', 'recipient', 'recipies', 'recived', 'reckless', 'reckon', 'recliner', 'reclosable', 'reclose', 'recloseable', 'recognition', 'recognizable', 'recognize', 'recoil', 'recollection', 'recomend', 'recomendation', 'recomended', 'recomiendo', 'recommand', 'recommed', 'recommeded', 'recommend', 'recommendable', 'recommendation', 'recommended', 'recommends', 'recommened', 'recomment', 'recommmend', 'recommned', 'reconsider', 'reconstitute', 'reconstituted', 'record', 'recording', 'recourse', 'recover', 'recovery', 'recreate', 'rectangle', 'rectangular', 'rectify', 'recuperate', 'recur', 'recyclable', 'recycle', 'recycled', 'recycling', 'red', 'redbarn', 'redbull', 'redbush', 'reddenbacher', 'reddish', 'redeem', 'redeeming', 'redefine', 'redenbacher', 'redenbacker', 'redesign', 'redfish', 'redhot', 'redi', 'rediculous', 'redirect', 'rediscover', 'redmill', 'redmond', 'redness', 'redo', 'redolent', 'redskin', 'reduce', 'reduced', 'reducer', 'reduces', 'reduction', 'redundant', 'reed', 'reek', 'reese', 'reeses', 'ref', 'refer', 'reference', 'refers', 'refill', 'refillable', 'refine', 'refined', 'refinement', 'reflect', 'reflection', 'reflective', 'reflex', 'reflux', 'reform', 'reformulate', 'reformulated', 'reformulation', 'refrain', 'refresh', 'refreshed', 'refresher', 'refreshes', 'refreshing', 'refreshingly', 'refreshment', 'refridgerate', 'refridgerated', 'refridgeration', 'refridgerator', 'refried', 'refrig', 'refrigerate', 'refrigerated', 'refrigeration', 'refrigerator', 'refuel', 'refund', 'refundable', 'refuse', 'reg', 'regain', 'regal', 'regan', 'regard', 'regardless', 'reggiano', 'reggie', 'regime', 'regimen', 'regiment', 'region', 'regional', 'register', 'registered', 'registry', 'regret', 'regretfully', 'regrettably', 'regualar', 'regualr', 'regular', 'regularity', 'regularly', 'regulary', 'regulate', 'regulation', 'regulator', 'regulatory', 'regurgitate', 'rehab', 'reheat', 'reheats', 'rehydrate', 'rehydrated', 'rehydrates', 'rehydrating', 'rehydration', 'rei', 'reign', 'reimburse', 'reimbursement', 'reincarnation', 'reinforce', 'reinforcement', 'reintroduce', 'reinvent', 'reishi', 'reiterate', 'reject', 'rejection', 'rejoice', 'rejuvenate', 'relate', 'related', 'relation', 'relationship', 'relative', 'relatively', 'relatives', 'relax', 'relaxation', 'relaxed', 'relaxer', 'relaxes', 'relaxing', 'relay', 'release', 'relegate', 'relevant', 'reliability', 'reliable', 'reliably', 'relief', 'relies', 'relieve', 'relieved', 'reliever', 'religion', 'religious', 'religiously', 'relish', 'relive', 'reload', 'relocate', 'reluctance', 'reluctant', 'reluctantly', 'rely', 'remain', 'remainder', 'remaining', 'remains', 'remake', 'remark', 'remarkable', 'remarkably', 'remedied', 'remedy', 'remember', 'remembers', 'remind', 'reminder', 'reminds', 'remineralize', 'reminisce', 'reminiscent', 'remission', 'remix', 'remnant', 'remodel', 'remorse', 'remote', 'remotely', 'removable', 'removal', 'remove', 'remover', 'ren', 'renal', 'rename', 'rendang', 'render', 'rendered', 'rendering', 'rendition', 'renew', 'renewable', 'renewal', 'renfro', 'renowned', 'rent', 'rental', 'reoccurring', 'reorder', 'rep', 'repack', 'repackage', 'repackaged', 'repackaging', 'repair', 'repeat', 'repeated', 'repeatedly', 'repel', 'repellant', 'repellent', 'repertoire', 'repetition', 'repetitive', 'replace', 'replaceable', 'replaced', 'replacement', 'replacer', 'replaces', 'replant', 'replenish', 'replenishment', 'replica', 'replicate', 'reply', 'report', 'reportedly', 'repot', 'represent', 'representation', 'representative', 'reproduce', 'reproduction', 'reproductive', 'republic', 'repugnant', 'repulse', 'repulsive', 'repurchase', 'reputable', 'reputation', 'repute', 'request', 'requested', 'require', 'required', 'requirement', 'requiring', 'requisite', 'reread', 'resale', 'rescue', 'rescued', 'reseal', 'resealable', 'reseals', 'research', 'researcher', 'researching', 'resell', 'reseller', 'resellers', 'resemblance', 'resemble', 'resembles', 'resend', 'resent', 'reservation', 'reserve', 'reservegreen', 'reservoir', 'reset', 'reship', 'reshipped', 'reside', 'residence', 'resident', 'residual', 'residue', 'resign', 'resilient', 'resin', 'resist', 'resistance', 'resistant', 'resolution', 'resolve', 'resonable', 'resonate', 'resort', 'resounding', 'resource', 'respect', 'respectable', 'respectfully', 'respective', 'respectively', 'respiratory', 'respite', 'respond', 'responds', 'response', 'responsibility', 'responsible', 'responsibly', 'responsive', 'responsiveness', 'rest', 'restaraunt', 'restart', 'restaurant', 'restaurants', 'restful', 'restless', 'restock', 'restore', 'restrain', 'restraint', 'restrict', 'restricted', 'restriction', 'restrictive', 'restroom', 'restructure', 'restuarant', 'resturant', 'resturants', 'result', 'resultant', 'resulting', 'resume', 'resveratrol', 'retail', 'retailer', 'retain', 'retch', 'retention', 'rethink', 'retire', 'retired', 'retirement', 'retort', 'retract', 'retrain', 'retreat', 'retrieve', 'retriever', 'retro', 'retrospect', 'retry', 'return', 'returnable', 'returning', 'reunion', 'reunite', 'reusable', 'reuse', 'reuseable', 'rev', 'revamp', 'reveal', 'reveals', 'reveiw', 'reveiws', 'revel', 'revelation', 'revenge', 'revenue', 'revere', 'reversal', 'reverse', 'revert', 'review', 'reviewer', 'reviewing', 'reviews', 'revise', 'revision', 'revisit', 'revitalize', 'revive', 'revolt', 'revolting', 'revolution', 'revolutionary', 'revolve', 'revv', 'revvgreen', 'reward', 'rewarding', 'rework', 'rex', 'reynard', 'rheumatoid', 'rhode', 'rhodesian', 'rhubarb', 'rhyme', 'rhythm', 'ri', 'rib', 'ribbon', 'ribena', 'ribeye', 'riboflavin', 'ribs', 'rica', 'rican', 'rice', 'riceselect', 'riceworks', 'ricey', 'rich', 'richard', 'richards', 'richardson', 'richer', 'richest', 'richly', 'richness', 'rick', 'rico', 'ricochet', 'ricotta', 'rid', 'ridden', 'ridder', 'riddle', 'ride', 'rider', 'ridge', 'ridgeback', 'ridiculous', 'ridiculously', 'riedel', 'riesling', 'rig', 'rigate', 'rigatoni', 'right', 'rightfully', 'rightly', 'rigid', 'rigorous', 'rihanna', 'riley', 'rim', 'rinaldi', 'rind', 'rinds', 'ring', 'ringer', 'rinse', 'rinsed', 'rinsing', 'rio', 'riot', 'rip', 'ripe', 'ripen', 'ripeness', 'ripoff', 'ripped', 'ripple', 'rise', 'riserva', 'rishi', 'rising', 'risk', 'risky', 'risotto', 'ristretto', 'rita', 'rite', 'rition', 'ritter', 'ritual', 'ritz', 'rival', 'river', 'riviera', 'rizzo', 'rj', 'rk', 'rn', 'ro', 'roach', 'road', 'roadhouse', 'roadkill', 'roadside', 'roadtrip', 'roam', 'roar', 'roast', 'roastaroma', 'roasted', 'roaster', 'roastery', 'roastgreen', 'roasting', 'roaststarbucks', 'roasty', 'rob', 'robbery', 'robbins', 'robby', 'robert', 'robin', 'robinson', 'robitussin', 'robot', 'robust', 'robusta', 'robustly', 'robustness', 'robusto', 'roca', 'rocher', 'rochester', 'rock', 'rocket', 'rockies', 'rockin', 'rockstar', 'rockstars', 'rocky', 'rod', 'rodelle', 'rodent', 'rodeo', 'roe', 'rogan', 'roger', 'rogers', 'rogue', 'roland', 'rolands', 'role', 'roll', 'rolled', 'roller', 'rollerball', 'rolling', 'rollups', 'rom', 'romaine', 'roman', 'romance', 'romano', 'romantic', 'rome', 'romp', 'ron', 'roni', 'ronzoni', 'roobios', 'rood', 'roof', 'rooibos', 'rooibus', 'room', 'roommate', 'roomy', 'roosevelt', 'rooster', 'root', 'rootbeer', 'rope', 'rosa', 'rosamonte', 'rose', 'rosebud', 'rosebuds', 'rosehip', 'rosehips', 'rosemary', 'roses', 'rosewater', 'rosie', 'ross', 'rossa', 'rossi', 'rosso', 'rosy', 'rot', 'rotate', 'rotation', 'rotel', 'rotelle', 'roti', 'rotini', 'rotisserie', 'rotten', 'rottie', 'rotting', 'rottweiler', 'rouge', 'rough', 'roughage', 'rougher', 'roughly', 'roulette', 'round', 'rounded', 'rounder', 'roundness', 'roundup', 'route', 'routine', 'routinely', 'roux', 'row', 'roy', 'royal', 'royale', 'royalty', 'royce', 'rtd', 'rtf', 'rub', 'rubbed', 'rubber', 'rubbermaid', 'rubbery', 'rubbish', 'ruby', 'rude', 'rudy', 'rue', 'ruff', 'ruffle', 'rug', 'rugged', 'ruin', 'ruined', 'rule', 'rum', 'rumble', 'rumbling', 'rumford', 'rummage', 'rumor', 'run', 'runa', 'rundown', 'runner', 'running', 'runny', 'runt', 'rupture', 'rural', 'rush', 'rushed', 'rusk', 'russa', 'russel', 'russell', 'russet', 'russia', 'russian', 'rust', 'rustic', 'rustle', 'rusty', 'ruth', 'rv', 'rx', 'ryan', 'ryder', 'rye', 'ryvita', 'sa', 'saag', 'sabor', 'sabotage', 'sac', 'saccharin', 'saccharine', 'saccharomyces', 'sachet', 'sack', 'saco', 'sacramento', 'sacred', 'sacrifice', 'sacrilege', 'sad', 'sadaf', 'sadden', 'saddle', 'sadie', 'sadly', 'sadness', 'saeco', 'saf', 'safari', 'safe', 'safely', 'safer', 'safety', 'safeway', 'safeways', 'safflower', 'saffron', 'sag', 'sage', 'sago', 'sahale', 'sahara', 'saigon', 'sail', 'sailor', 'saint', 'sais', 'sake', 'sal', 'salad', 'salada', 'saladitos', 'salads', 'salame', 'salami', 'salary', 'salba', 'sale', 'salesman', 'salesperson', 'saline', 'salisbury', 'saliva', 'salivate', 'sally', 'salmiak', 'salmon', 'salmonella', 'salon', 'salsa', 'salsas', 'salsitas', 'salt', 'salted', 'saltier', 'saltine', 'saltiness', 'salting', 'saltwater', 'salty', 'salute', 'salvage', 'salvation', 'sam', 'sambal', 'sambar', 'sambazon', 'sammy', 'samoa', 'samosa', 'samoyed', 'sample', 'sampler', 'sampling', 'sams', 'samsclub', 'samurai', 'san', 'sand', 'sandies', 'sandpaper', 'sandra', 'sandwhich', 'sandwhiches', 'sandwich', 'sandy', 'sane', 'sangria', 'sanitary', 'sanitation', 'sanitize', 'sanity', 'sanka', 'sans', 'santa', 'santo', 'santos', 'sap', 'saponin', 'sapporo', 'sara', 'sarah', 'saran', 'sarcasm', 'sarcastic', 'sardine', 'sardines', 'sarsaparilla', 'sasha', 'sashimi', 'sassafras', 'sassy', 'sat', 'satan', 'satay', 'satchel', 'sate', 'satiate', 'satiety', 'satified', 'satifies', 'satify', 'satifying', 'satin', 'satisfaction', 'satisfactory', 'satisfied', 'satisfies', 'satisfing', 'satisfy', 'satisfying', 'satisfyingly', 'satisifed', 'satisified', 'saturate', 'saturated', 'saturation', 'saturday', 'sauce', 'saucebut', 'saucepan', 'saucer', 'saucy', 'sauerbraten', 'sauerkraut', 'sausage', 'sausages', 'sause', 'sauses', 'saut', 'saute', 'sautee', 'sauteed', 'sauteeing', 'sauvignon', 'savage', 'savannah', 'save', 'saved', 'saver', 'saving', 'savior', 'savor', 'savory', 'savoury', 'savvy', 'saw', 'sawdust', 'say', 'sayers', 'sayin', 'saying', 'sazerac', 'sazon', 'sb', 'sbux', 'sc', 'scab', 'scald', 'scale', 'scallion', 'scallop', 'scalloped', 'scalp', 'scaly', 'scam', 'scammed', 'scampi', 'scan', 'scandal', 'scandinavia', 'scandinavian', 'scant', 'scar', 'scarce', 'scarcely', 'scare', 'scared', 'scarf', 'scarlet', 'scarpetta', 'scary', 'scatter', 'scattered', 'scavenge', 'scavenger', 'scd', 'scenario', 'scene', 'scent', 'scented', 'sceptical', 'schar', 'scharffen', 'schedule', 'scheduled', 'scheme', 'schidigera', 'schipperke', 'schnapps', 'schnauzer', 'schnoodle', 'school', 'schultz', 'schweppes', 'science', 'scientific', 'scientifically', 'scientist', 'scissor', 'scissors', 'scoff', 'scold', 'scone', 'scones', 'scooby', 'scoop', 'scoopable', 'scooper', 'scoopful', 'scooping', 'scoops', 'scoot', 'scooter', 'scope', 'scorch', 'score', 'scorpion', 'scot', 'scotch', 'scotia', 'scotland', 'scott', 'scottie', 'scottish', 'scotty', 'scour', 'scout', 'scoville', 'scovilles', 'scramble', 'scrambled', 'scrap', 'scrape', 'scratch', 'scratcher', 'scratching', 'scratchy', 'scrawny', 'scream', 'screaming', 'screen', 'screw', 'screwdriver', 'scrimp', 'script', 'scroll', 'scrub', 'scrumptious', 'scrumptous', 'scrunch', 'scrutinize', 'scuff', 'scum', 'sd', 'se', 'sea', 'seabear', 'seafood', 'seal', 'sealable', 'sealant', 'sealed', 'sealer', 'sealing', 'seam', 'seamless', 'seamlessly', 'seapoint', 'sear', 'search', 'searching', 'sears', 'seasalt', 'seasame', 'season', 'seasonal', 'seasonally', 'seasoned', 'seasoning', 'seat', 'seattle', 'seaweed', 'sec', 'second', 'secondary', 'secondly', 'seconds', 'secret', 'secretary', 'secretion', 'secretly', 'section', 'secure', 'securely', 'security', 'sedate', 'sedative', 'sedentary', 'sediment', 'seduce', 'seductive', 'seed', 'seedless', 'seedling', 'seedy', 'seeing', 'seek', 'seeker', 'seemingly', 'seep', 'segment', 'seinfeld', 'seitan', 'seitenbacher', 'seize', 'seizure', 'sel', 'seldom', 'select', 'selection', 'selective', 'selects', 'selenite', 'selenium', 'self', 'selfish', 'sell', 'seller', 'selling', 'seltzer', 'semblance', 'semester', 'semi', 'semisweet', 'semolina', 'sempio', 'sen', 'sencha', 'send', 'sender', 'sending', 'sends', 'seneca', 'senior', 'senna', 'sens', 'sensation', 'sensational', 'sensative', 'sense', 'senseo', 'sensibility', 'sensible', 'sensibly', 'sensitive', 'sensitivity', 'senso', 'sensor', 'sensory', 'sensual', 'sent', 'sentence', 'sentiment', 'sentimental', 'sep', 'separate', 'separated', 'separately', 'separation', 'seperate', 'seperated', 'seperately', 'sept', 'september', 'septic', 'sequence', 'serendipitea', 'serendipity', 'serene', 'serenity', 'serf', 'sergeant', 'serial', 'series', 'seriously', 'seriousness', 'serotonin', 'serrano', 'serranos', 'serrated', 'serum', 'serve', 'served', 'server', 'serveral', 'service', 'serviceable', 'serving', 'servingcalories', 'servings', 'sesame', 'sesmark', 'session', 'set', 'setback', 'setter', 'setting', 'settle', 'settlement', 'settling', 'setup', 'seven', 'seventeen', 'seventh', 'seventy', 'sever', 'severe', 'severely', 'severity', 'severly', 'seville', 'sew', 'sewage', 'sewer', 'sewn', 'sex', 'sexual', 'sexy', 'sf', 'sfb', 'sg', 'sh', 'shabby', 'shack', 'shade', 'shadow', 'shady', 'shaft', 'shake', 'shaken', 'shakeology', 'shaker', 'shakey', 'shakiness', 'shaking', 'shaky', 'shall', 'shallot', 'shallow', 'sham', 'shame', 'shameful', 'shamelessly', 'shampoo', 'shampoos', 'shamrock', 'shan', 'shanghai', 'shank', 'shape', 'shaped', 'shar', 'shard', 'share', 'shared', 'sharing', 'shark', 'sharkbanana', 'sharkies', 'sharon', 'sharp', 'sharpei', 'sharpen', 'sharpie', 'sharply', 'sharpness', 'shasta', 'shatila', 'shatter', 'shattered', 'shave', 'shaved', 'shaving', 'shaw', 'shawn', 'shea', 'shear', 'shed', 'shedding', 'sheen', 'sheep', 'sheepdog', 'sheer', 'sheesh', 'sheet', 'shelby', 'shelf', 'shell', 'shelled', 'shellfish', 'shelnuttauthor', 'shelter', 'sheltie', 'shelties', 'shelve', 'shep', 'shepard', 'shephard', 'shepherd', 'sheppard', 'sherbet', 'sherry', 'shes', 'shetland', 'shhh', 'shhhh', 'shi', 'shiba', 'shield', 'shift', 'shih', 'shihtzu', 'shiitake', 'shill', 'shim', 'shimmer', 'shin', 'shine', 'shiner', 'shiney', 'shingle', 'shinier', 'shinny', 'shiny', 'ship', 'shipment', 'shipped', 'shipper', 'shipping', 'shippment', 'shirataki', 'shiraz', 'shiritaki', 'shirley', 'shiro', 'shirt', 'shit', 'shitake', 'shitzu', 'shiver', 'shock', 'shocked', 'shocker', 'shocking', 'shockingly', 'shoddy', 'shoe', 'shoestring', 'shook', 'shoot', 'shooter', 'shop', 'shoppe', 'shopper', 'shoppes', 'shopping', 'shoprite', 'shore', 'short', 'shortage', 'shortbread', 'shortcake', 'shortcoming', 'shortcut', 'shorten', 'shortening', 'shorter', 'shorthair', 'shorthaired', 'shortly', 'shot', 'shots', 'shoulda', 'shoulder', 'shouldn', 'shouldnt', 'shout', 'shove', 'shovel', 'showcase', 'shower', 'showing', 'shoyu', 'shred', 'shredded', 'shredder', 'shrimp', 'shrink', 'shrinkage', 'shrinkwrapped', 'shrivel', 'shrooms', 'shrub', 'shrug', 'shu', 'shuck', 'shudder', 'shuffle', 'shun', 'shure', 'shut', 'shy', 'si', 'siamese', 'siberian', 'sibling', 'sic', 'sichuan', 'sicilia', 'sicilian', 'sicily', 'sick', 'sicken', 'sickening', 'sickeningly', 'sickenly', 'sicker', 'sickly', 'sickness', 'sicky', 'sidedish', 'sidenote', 'sidewalk', 'sideways', 'sierra', 'sieve', 'sift', 'sifter', 'sifting', 'sigh', 'sight', 'sign', 'signal', 'signature', 'significance', 'significant', 'significantly', 'signify', 'silence', 'silent', 'silica', 'silicon', 'silicone', 'siljans', 'silk', 'silken', 'silkier', 'silky', 'sill', 'silly', 'silver', 'silverware', 'silvia', 'similac', 'similar', 'similarity', 'similarly', 'similiar', 'simmer', 'simon', 'simple', 'simplebites', 'simpler', 'simplicity', 'simplify', 'simply', 'simpson', 'simular', 'simulate', 'simultaneously', 'sin', 'sincerely', 'sinensis', 'sinew', 'sinful', 'sinfully', 'sing', 'singapore', 'singaporean', 'singer', 'singing', 'single', 'singly', 'singular', 'sink', 'sinus', 'sinusitis', 'sip', 'siphon', 'sipper', 'sippin', 'sipping', 'sippy', 'sir', 'siracha', 'sirloin', 'sissy', 'sister', 'sit', 'site', 'sits', 'sitter', 'sitting', 'situation', 'siu', 'sixteen', 'sixth', 'sizable', 'size', 'sized', 'sizes', 'sizing', 'sizzle', 'skate', 'skeletal', 'skeptic', 'skeptical', 'skeptically', 'skepticism', 'sketchy', 'skew', 'skewer', 'ski', 'skiing', 'skill', 'skilled', 'skillet', 'skillets', 'skim', 'skimp', 'skimpy', 'skin', 'skinless', 'skinner', 'skinny', 'skip', 'skipjack', 'skippy', 'skirt', 'skittle', 'sku', 'skull', 'skunk', 'skunky', 'sky', 'skyline', 'skyrocket', 'sl', 'slab', 'slack', 'slam', 'slant', 'slap', 'slash', 'slat', 'slather', 'slaughter', 'slaughterhouse', 'slave', 'slaw', 'sled', 'sleek', 'sleep', 'sleepiness', 'sleeping', 'sleepless', 'sleeplessness', 'sleepover', 'sleepy', 'sleepytime', 'sleeve', 'sleigh', 'slender', 'slept', 'slew', 'slice', 'sliced', 'slicer', 'slick', 'slide', 'slider', 'slighly', 'slight', 'slightest', 'slightly', 'slighty', 'slim', 'slime', 'slimey', 'slimfast', 'slimjim', 'slimmed', 'slimming', 'slimy', 'slip', 'slipper', 'slippery', 'slit', 'sliver', 'slivered', 'slobber', 'slobbery', 'slogan', 'slop', 'slope', 'sloppy', 'slosh', 'slot', 'slow', 'slower', 'slowly', 'sludge', 'sludgy', 'slug', 'sluggish', 'slump', 'slurp', 'slurry', 'slush', 'slushy', 'sm', 'smack', 'small', 'smallish', 'smart', 'smartbones', 'smarter', 'smartfood', 'smarties', 'smartly', 'smartwater', 'smash', 'smashed', 'smattering', 'smear', 'smell', 'smelled', 'smelling', 'smells', 'smelly', 'smelt', 'smidge', 'smidgen', 'smile', 'smiley', 'smite', 'smith', 'smoke', 'smoked', 'smokehouse', 'smoker', 'smokey', 'smokies', 'smokin', 'smokiness', 'smoking', 'smoky', 'smooooth', 'smoooth', 'smoosh', 'smooshed', 'smooth', 'smoothe', 'smoother', 'smoothest', 'smoothie', 'smoothies', 'smoothing', 'smoothly', 'smoothness', 'smoothy', 'smore', 'smores', 'smother', 'smucker', 'smuckers', 'smudge', 'smuggle', 'smushed', 'snack', 'snacker', 'snackimals', 'snackin', 'snacking', 'snackmasters', 'snacktime', 'snackwell', 'snackwells', 'snacky', 'snag', 'snail', 'snak', 'snake', 'snap', 'snapea', 'snapeas', 'snapper', 'snapple', 'snappy', 'snarf', 'snatch', 'snax', 'sneak', 'sneaker', 'sneakily', 'sneaky', 'sneeze', 'sneezing', 'snicker', 'snickerdoodle', 'snickerdoodles', 'sniff', 'sniffed', 'sniffer', 'sniffle', 'snikiddy', 'snip', 'snitch', 'sno', 'snob', 'snobbery', 'snobby', 'snobs', 'snoopy', 'snooty', 'snort', 'snot', 'snout', 'snow', 'snowball', 'snowflake', 'snowman', 'snowstorm', 'snowy', 'snub', 'snuck', 'snuff', 'snug', 'snuggle', 'snuggly', 'snugly', 'snyder', 'snyders', 'soak', 'soaked', 'soaking', 'soap', 'soapbox', 'soapy', 'soar', 'sob', 'soba', 'sobe', 'sober', 'socal', 'soccer', 'social', 'socialize', 'socially', 'society', 'sock', 'socket', 'sockeye', 'sod', 'soda', 'sodas', 'sodastream', 'sodium', 'sofa', 'soft', 'softball', 'soften', 'softened', 'softener', 'softens', 'softer', 'softly', 'softness', 'software', 'softy', 'sogginess', 'soggy', 'soi', 'soil', 'soiled', 'sojo', 'sojos', 'sol', 'solar', 'solder', 'soldier', 'sole', 'soledad', 'solely', 'soley', 'solid', 'solidified', 'solidifies', 'solidify', 'solidly', 'solids', 'solo', 'solofill', 'soluable', 'soluble', 'solubles', 'solution', 'solve', 'solvent', 'solves', 'somebody', 'someday', 'someplace', 'somersault', 'somethin', 'somethings', 'someting', 'somewhat', 'somthing', 'somtimes', 'son', 'song', 'sonic', 'sonny', 'sonoma', 'soo', 'soon', 'sooner', 'sooo', 'soooo', 'sooooo', 'soooooo', 'sooooooo', 'soooooooo', 'sooooooooo', 'soooooooooo', 'sooooooooooo', 'sooooooooooooo', 'sooth', 'soothe', 'soother', 'soothes', 'soothing', 'sop', 'sophie', 'sophisticate', 'sophisticated', 'sophistication', 'sorbate', 'sorbet', 'sorbic', 'sorbitan', 'sorbitol', 'sore', 'sorely', 'soreness', 'sores', 'sorghum', 'sorrel', 'sorrento', 'sorry', 'sort', 'sorta', 'souce', 'souchong', 'sought', 'soul', 'soulistic', 'sound', 'sounding', 'soundly', 'soundtrack', 'soup', 'souper', 'soups', 'soupy', 'sour', 'source', 'sourced', 'sourcing', 'sourdough', 'sourness', 'soursop', 'south', 'southeast', 'southeastern', 'southern', 'southerner', 'southwest', 'southwestern', 'souvenir', 'sow', 'soy', 'soya', 'soybean', 'soybutter', 'soyjoy', 'soymilk', 'soynut', 'soynuts', 'sp', 'spa', 'space', 'spade', 'spaetzle', 'spagetti', 'spaghetti', 'spain', 'spam', 'span', 'spaniel', 'spanish', 'spar', 'spare', 'sparingly', 'spark', 'sparking', 'sparkle', 'sparkling', 'sparkly', 'sparse', 'spasm', 'spat', 'spatini', 'spatula', 'spawn', 'spay', 'spayed', 'spca', 'speak', 'speaker', 'speaking', 'speaks', 'spear', 'spearment', 'spearmint', 'spec', 'special', 'specialist', 'speciality', 'specialize', 'specialized', 'specially', 'specialty', 'specie', 'specific', 'specifically', 'specification', 'specified', 'specify', 'specimen', 'speck', 'speckle', 'spectacular', 'spectacularly', 'spectrum', 'speculate', 'speculation', 'speech', 'speechless', 'speed', 'speedily', 'speedy', 'speghetti', 'spell', 'spelling', 'spelt', 'spend', 'spenda', 'spending', 'spendy', 'spent', 'spew', 'spf', 'sphere', 'spice', 'spiced', 'spicey', 'spicier', 'spiciness', 'spicing', 'spicy', 'spicyness', 'spider', 'spigot', 'spike', 'spill', 'spillage', 'spilled', 'spilling', 'spin', 'spinach', 'spinal', 'spine', 'spinner', 'spinning', 'spiral', 'spirit', 'spiritual', 'spirulina', 'spit', 'spite', 'spitz', 'splash', 'splatter', 'splenda', 'splendid', 'splendor', 'splice', 'splinter', 'split', 'splurge', 'spoil', 'spoilage', 'spoiled', 'spoke', 'spokesperson', 'sponge', 'spongebob', 'spongey', 'spongy', 'sponsor', 'spontaneous', 'spontaneously', 'spooky', 'spoon', 'spoonable', 'spoonful', 'spoonfull', 'spoonfuls', 'sporadic', 'sporadically', 'spore', 'spork', 'sport', 'sportea', 'sporting', 'spot', 'spotless', 'spotted', 'spotty', 'spouse', 'spout', 'sprat', 'spray', 'sprayed', 'sprayer', 'spraying', 'spread', 'spreadable', 'spreader', 'spreading', 'spree', 'sprig', 'spring', 'springer', 'springy', 'sprinkle', 'sprinkler', 'sprinkling', 'sprint', 'sprite', 'spritz', 'spritzer', 'sprout', 'sprouted', 'sprouter', 'sprouters', 'sprouting', 'sprouts', 'spruce', 'sprue', 'sprung', 'spry', 'spud', 'spunk', 'spunky', 'spur', 'spurt', 'spy', 'sq', 'sqeeze', 'square', 'squarely', 'squash', 'squat', 'squeak', 'squeaker', 'squeaky', 'squeal', 'squeamish', 'squeez', 'squeezable', 'squeeze', 'squeezed', 'squeezer', 'squeezing', 'squeezy', 'squid', 'squint', 'squirrel', 'squirrels', 'squirt', 'squish', 'squished', 'squishy', 'sr', 'sri', 'sriracha', 'ss', 'st', 'stab', 'stability', 'stabilize', 'stabilizer', 'stable', 'stack', 'stackable', 'stacy', 'stadium', 'staff', 'staffordshire', 'stag', 'stage', 'stagg', 'stagger', 'stagnant', 'stain', 'stained', 'staining', 'stainless', 'stair', 'stake', 'stale', 'staleness', 'stalk', 'stall', 'stamen', 'stamina', 'stamp', 'stampede', 'stance', 'stand', 'standalone', 'standard', 'standardize', 'standby', 'standing', 'standout', 'standpoint', 'stank', 'stanley', 'stanols', 'staph', 'staple', 'star', 'starbuck', 'starbucks', 'starburst', 'starbursts', 'starch', 'starchy', 'stare', 'starfish', 'stark', 'starkist', 'starlight', 'starmark', 'stars', 'start', 'started', 'starter', 'starting', 'startle', 'startling', 'starvation', 'starve', 'starving', 'stash', 'state', 'stated', 'statement', 'stateside', 'static', 'statin', 'station', 'statistic', 'stats', 'status', 'staunch', 'stave', 'stawberry', 'stay', 'stayed', 'stays', 'stead', 'steadily', 'steady', 'steak', 'steakhouse', 'steaks', 'steal', 'steam', 'steamed', 'steamer', 'steaming', 'steamy', 'stearate', 'steaz', 'steel', 'steep', 'steeped', 'steeper', 'steeping', 'steepings', 'steer', 'stella', 'stellar', 'stem', 'stench', 'step', 'stephen', 'stereotype', 'sterile', 'sterilize', 'sterling', 'stern', 'steroid', 'sterol', 'steve', 'steven', 'stevia', 'steviaclear', 'stevita', 'stew', 'stewart', 'stewed', 'stews', 'stick', 'sticker', 'stickier', 'stickiness', 'sticking', 'stickler', 'sticky', 'stiff', 'stiffen', 'stiffer', 'stiffness', 'stigma', 'stik', 'stiks', 'stil', 'stila', 'stilton', 'stimulant', 'stimulate', 'stimulating', 'stimulation', 'sting', 'stinger', 'stingy', 'stink', 'stinker', 'stinkier', 'stinkin', 'stinky', 'stint', 'stir', 'stirfry', 'stirrer', 'stirring', 'stitch', 'stix', 'stock', 'stocked', 'stocking', 'stockpile', 'stok', 'stoke', 'stole', 'stollen', 'stomach', 'stomachache', 'stomache', 'stomachs', 'stomp', 'stone', 'stoneridge', 'stonewall', 'stong', 'stonger', 'stood', 'stool', 'stools', 'stoop', 'stop', 'stopped', 'stopper', 'stopping', 'storage', 'store', 'storebought', 'stored', 'storefront', 'storing', 'storm', 'stormy', 'story', 'stout', 'stove', 'stover', 'stovetop', 'stow', 'straddle', 'straight', 'straighten', 'straightforward', 'strain', 'strained', 'strainer', 'straining', 'strait', 'strand', 'strange', 'strangely', 'stranger', 'strap', 'strategic', 'strategically', 'strategy', 'straw', 'strawberries', 'strawberry', 'straws', 'stray', 'streak', 'stream', 'street', 'strenght', 'strength', 'strengthen', 'strenuous', 'stress', 'stressed', 'stressful', 'stretch', 'stretchy', 'streusel', 'strew', 'stricken', 'strict', 'strictly', 'stride', 'strike', 'striking', 'string', 'stringent', 'stringy', 'strip', 'stripe', 'strive', 'stroganoff', 'stroke', 'stroll', 'stroller', 'strong', 'stronger', 'strongest', 'strongly', 'stroopwafels', 'struck', 'structural', 'structure', 'strudel', 'struggle', 'strung', 'struvite', 'stubb', 'stubborn', 'stuck', 'stud', 'student', 'studio', 'study', 'stuf', 'stuff', 'stuffed', 'stuffer', 'stuffing', 'stuffy', 'stumble', 'stump', 'stun', 'stung', 'stunk', 'stunning', 'stunningly', 'stunt', 'stupendous', 'stupid', 'stupidity', 'stupidly', 'sturdier', 'sturdy', 'style', 'styling', 'stylish', 'stylist', 'styrofoam', 'styrofoamy', 'su', 'suace', 'suave', 'sub', 'subcribe', 'subcription', 'subdue', 'subdued', 'subject', 'subjective', 'subjectively', 'sublime', 'submerge', 'submit', 'subpar', 'subscibe', 'subscribe', 'subscribed', 'subscriber', 'subscription', 'subsequent', 'subsequently', 'subside', 'subsidiary', 'subsist', 'subsitute', 'subsribe', 'substance', 'substandard', 'substantial', 'substantially', 'substantiate', 'substantive', 'substitue', 'substitute', 'substitution', 'subtilis', 'subtle', 'subtleness', 'subtler', 'subtlety', 'subtly', 'subtract', 'suburb', 'suburban', 'subway', 'sucanat', 'succeed', 'success', 'successful', 'successfully', 'succulent', 'succumb', 'suchard', 'suck', 'sucker', 'suckered', 'suckin', 'sucralose', 'sucre', 'sucrolose', 'sucrose', 'suction', 'sudden', 'suddenly', 'sudoku', 'suds', 'sue', 'suet', 'suffer', 'sufferer', 'suffering', 'suffers', 'suffice', 'sufficient', 'sufficiently', 'suffocate', 'sugar', 'sugared', 'sugarfree', 'sugarless', 'sugarworks', 'sugary', 'suger', 'suggest', 'suggested', 'suggestion', 'suggests', 'suicide', 'suisse', 'suit', 'suitable', 'suitably', 'suitcase', 'suite', 'suited', 'sulfate', 'sulfite', 'sulfites', 'sulfur', 'sulphate', 'sulphites', 'sulphur', 'sum', 'sumac', 'sumatra', 'sumatran', 'summarize', 'summary', 'summation', 'summer', 'summertime', 'summery', 'summit', 'sumptuous', 'sun', 'sunbeam', 'sunburn', 'sunbutter', 'sundae', 'sunday', 'sundew', 'sundried', 'sundry', 'sunflower', 'sunfood', 'sunkist', 'sunlight', 'sunmaid', 'sunny', 'sunridge', 'sunrise', 'sunscreen', 'sunset', 'sunshine', 'sunsweet', 'super', 'superautomatic', 'superb', 'superbly', 'superbowl', 'supercenter', 'superficial', 'superfine', 'superfood', 'superfoods', 'superfruit', 'superior', 'superiority', 'superlative', 'superman', 'supermarket', 'supermarkets', 'supernatural', 'supersaver', 'superstore', 'supervise', 'supervision', 'supervisor', 'supper', 'supple', 'supplement', 'supplemental', 'supplementation', 'supplied', 'supplier', 'suppliment', 'suppliments', 'supply', 'support', 'supporter', 'supportive', 'suppose', 'supposed', 'supposedly', 'suppress', 'suppressant', 'supreme', 'supremely', 'supremo', 'suprise', 'suprised', 'suprising', 'suprisingly', 'supurb', 'sur', 'sure', 'surely', 'surf', 'surface', 'surgar', 'surge', 'surgeon', 'surgery', 'surgical', 'surly', 'surmise', 'surpass', 'surpasses', 'surpised', 'surplus', 'surprise', 'surprised', 'surprising', 'surprisingly', 'surprize', 'surprized', 'surprizingly', 'surrender', 'surround', 'surroundings', 'survey', 'survival', 'survive', 'survivor', 'susan', 'susceptible', 'suscribe', 'sushi', 'susie', 'suspect', 'suspend', 'suspension', 'suspicion', 'suspicious', 'suspiciously', 'sustain', 'sustainability', 'sustainable', 'sustainably', 'sustained', 'sustenance', 'suttle', 'suzanne', 'suzie', 'svelte', 'sw', 'swallow', 'swallowing', 'swamp', 'swampy', 'swanson', 'swap', 'swarm', 'swat', 'swatter', 'sway', 'swear', 'swears', 'sweat', 'sweater', 'sweating', 'sweaty', 'swede', 'sweden', 'swedish', 'sweeney', 'sweep', 'sweeping', 'sweet', 'sweetarts', 'sweeten', 'sweetend', 'sweetened', 'sweetener', 'sweeteners', 'sweetening', 'sweetens', 'sweeter', 'sweetest', 'sweetgourmet', 'sweetheart', 'sweetie', 'sweetish', 'sweetleaf', 'sweetly', 'sweetner', 'sweetners', 'sweetness', 'sweets', 'sweettarts', 'sweetz', 'swell', 'swelling', 'swheat', 'swift', 'swiftly', 'swig', 'swill', 'swim', 'swimmer', 'swimming', 'swine', 'swing', 'swipe', 'swirl', 'swirling', 'swish', 'swiss', 'swissgold', 'switch', 'switching', 'switzerland', 'swizzle', 'swollen', 'swoon', 'swoop', 'sword', 'swore', 'sydney', 'syllable', 'sylvia', 'symbol', 'sympathize', 'sympathy', 'symphony', 'symptom', 'symptoms', 'syndrome', 'synergy', 'synonymous', 'synthesis', 'synthesize', 'synthetic', 'synthetically', 'syringe', 'syrup', 'syrups', 'syrupy', 'systemic', 'szechuan', 'szeged', 'ta', 'tab', 'tabanero', 'tabasco', 'tabbouleh', 'tabby', 'table', 'tablespoon', 'tablespoonful', 'tablet', 'tabletop', 'tablets', 'tabouli', 'tabs', 'tac', 'tack', 'tackle', 'tacky', 'taco', 'tacoma', 'tacos', 'tacs', 'tact', 'tactic', 'tad', 'tada', 'taffy', 'tag', 'tagalong', 'tagine', 'tagline', 'tahina', 'tahini', 'tahitian', 'taht', 'tai', 'taibi', 'tail', 'tailgate', 'tailor', 'taint', 'tainted', 'taiwan', 'taiwanese', 'taj', 'takeout', 'taker', 'taking', 'tale', 'talent', 'talented', 'talk', 'talkin', 'talkingrain', 'tall', 'taller', 'tallow', 'tam', 'tamale', 'tamari', 'tamarind', 'tame', 'tamer', 'tamp', 'tampa', 'tamper', 'tan', 'tandoor', 'tandoori', 'tang', 'tangerine', 'tangible', 'tanginess', 'tangle', 'tangled', 'tango', 'tangy', 'tank', 'tanka', 'tannic', 'tannin', 'tantalize', 'tantalizing', 'tantrum', 'tanzania', 'tanzanian', 'tao', 'tap', 'tapa', 'tapatio', 'tape', 'tapenade', 'taper', 'tapioca', 'tar', 'target', 'tarnish', 'taro', 'tarragon', 'tarrazu', 'tart', 'tartar', 'tarter', 'tartness', 'tarts', 'tarty', 'tase', 'tasing', 'task', 'tassimo', 'tast', 'taste', 'tastebud', 'tastebuds', 'tasted', 'tastee', 'tasteful', 'tastefully', 'tastei', 'tasteing', 'tasteless', 'taster', 'tastes', 'tastewise', 'tastey', 'tastic', 'tastier', 'tastiest', 'tastiness', 'tasting', 'tastless', 'tasts', 'tasty', 'tastykake', 'tasy', 'tat', 'tata', 'tate', 'tater', 'tatse', 'taught', 'taurine', 'tavern', 'tax', 'taylor', 'taza', 'tazo', 'tb', 'tbe', 'tbhq', 'tbl', 'tbls', 'tblsp', 'tbs', 'tbsp', 'tbsps', 'tchibo', 'te', 'tea', 'teabag', 'teabags', 'teach', 'teacher', 'teacup', 'teal', 'team', 'teapot', 'tear', 'tearing', 'teas', 'teasan', 'tease', 'teaser', 'teaspoon', 'teaspoonful', 'teat', 'teatime', 'teavana', 'tech', 'technical', 'technically', 'technician', 'technique', 'techno', 'technology', 'tecture', 'teddy', 'tedious', 'tee', 'teeccino', 'teecino', 'teen', 'teenage', 'teenaged', 'teenager', 'teenie', 'teenies', 'teensy', 'teeny', 'teeter', 'teeth', 'teethe', 'teething', 'teff', 'teflon', 'teh', 'teisseire', 'tek', 'tel', 'telephone', 'television', 'tell', 'tellicherry', 'telltale', 'temp', 'tempeh', 'temper', 'temperament', 'temperature', 'temple', 'temporarily', 'temporary', 'tempt', 'temptation', 'tempted', 'tempting', 'tempura', 'tend', 'tendancy', 'tendency', 'tender', 'tenderize', 'tenderizer', 'tenderloin', 'tenderness', 'tendon', 'tends', 'tennessee', 'tennis', 'tense', 'tension', 'tent', 'tentacle', 'tentative', 'tentatively', 'tenth', 'tepid', 'tequila', 'teriffic', 'teriyaki', 'term', 'terminal', 'terminology', 'terra', 'terrarium', 'terrible', 'terribly', 'terrier', 'terrific', 'terrifically', 'terrify', 'territorial', 'territory', 'terriyaki', 'terro', 'terroir', 'terror', 'terry', 'teryaki', 'test', 'testament', 'tested', 'tester', 'testify', 'testimonial', 'testimony', 'testing', 'testy', 'tetley', 'tetra', 'tex', 'texan', 'texas', 'texmati', 'text', 'textural', 'texturally', 'texture', 'textured', 'textures', 'th', 'tha', 'thai', 'thailand', 'tham', 'thank', 'thankful', 'thankfully', 'thanks', 'thanksgiving', 'thankyou', 'thanx', 'thati', 'thatis', 'thats', 'thaw', 'thawed', 'thay', 'thc', 'thd', 'theanine', 'theater', 'theatre', 'thee', 'theese', 'theft', 'theirs', 'theme', 'themed', 'themself', 'theo', 'theobromine', 'theoretically', 'theory', 'ther', 'therapeutic', 'therapist', 'therapy', 'therefor', 'thereof', 'theres', 'thermal', 'thermometer', 'thermos', 'thes', 'theses', 'thesis', 'thew', 'theyare', 'theyre', 'thi', 'thia', 'thiamin', 'thiamine', 'thicken', 'thickened', 'thickener', 'thickening', 'thickens', 'thicker', 'thickly', 'thickness', 'thief', 'thier', 'thigh', 'thighs', 'thing', 'thingies', 'thingy', 'think', 'thinker', 'thinking', 'thinkthin', 'thinly', 'thinner', 'thinness', 'thins', 'thirdly', 'thirst', 'thirsty', 'thirteen', 'thirty', 'thisis', 'thisproduct', 'thistle', 'tho', 'thomas', 'thompson', 'thor', 'thorough', 'thoroughly', 'thou', 'thought', 'thoughtful', 'thoughtfully', 'thouroughly', 'thousand', 'thr', 'thread', 'threat', 'threaten', 'threshold', 'threw', 'thrift', 'thrifty', 'thrill', 'thrilled', 'thrive', 'thrives', 'thriving', 'throat', 'throttle', 'throughly', 'throught', 'throw', 'throwback', 'thrown', 'ths', 'thse', 'thsi', 'thst', 'tht', 'thumb', 'thumbs', 'thunder', 'thunderstorm', 'thunk', 'thursday', 'thx', 'thy', 'thyme', 'thyroid', 'ti', 'tibetan', 'tic', 'tick', 'ticket', 'tickle', 'tidbit', 'tide', 'tidy', 'tie', 'tienda', 'tiene', 'tier', 'tierra', 'tiger', 'tight', 'tighten', 'tighter', 'tightly', 'tightness', 'tiki', 'tikka', 'til', 'tilapia', 'tilda', 'tile', 'tilia', 'till', 'tillamook', 'tilt', 'tilth', 'tim', 'time', 'timeframe', 'timeless', 'timeline', 'timeliness', 'timely', 'timer', 'times', 'timesaver', 'timid', 'timing', 'timmy', 'timothy', 'timothys', 'tin', 'tincture', 'tine', 'ting', 'tinge', 'tingle', 'tingling', 'tingly', 'tinker', 'tinkyada', 'tinned', 'tinny', 'tint', 'tiny', 'tip', 'tipsy', 'tiptree', 'tiramisu', 'tire', 'tired', 'tiredness', 'tiresome', 'tis', 'tisane', 'tisano', 'tissue', 'tit', 'titan', 'titanium', 'title', 'tj', 'tjmaxx', 'tjs', 'tl', 'tlc', 'tm', 'tmi', 'tmj', 'tn', 'toast', 'toasted', 'toaster', 'toasting', 'toasty', 'tobacco', 'tobasco', 'toblerone', 'toby', 'tocopherol', 'tocopherols', 'tocopheryl', 'today', 'todays', 'todd', 'toddler', 'toddy', 'toe', 'toenail', 'toffee', 'tofu', 'tofurky', 'togarashi', 'togethers', 'toil', 'toilet', 'toiletry', 'token', 'tokyo', 'told', 'tolerable', 'tolerance', 'tolerant', 'tolerate', 'toll', 'tollhouse', 'tom', 'tomatillo', 'tomato', 'tomatoe', 'tomatoes', 'tomatoey', 'tommy', 'tomorrow', 'ton', 'tone', 'toned', 'toner', 'tongs', 'tongue', 'tonic', 'tonight', 'tonnino', 'tonno', 'tony', 'tooberry', 'tool', 'tooo', 'toooo', 'tooooo', 'toooooo', 'toot', 'tooth', 'toothbrush', 'toothed', 'toothless', 'toothpaste', 'toothpick', 'toothsome', 'toothy', 'tootsie', 'topic', 'topical', 'topically', 'topped', 'topper', 'topping', 'tops', 'tor', 'torani', 'torch', 'tore', 'torino', 'torment', 'torn', 'tornado', 'toronto', 'torrone', 'torte', 'tortellini', 'tortilla', 'tortillas', 'tortuga', 'torture', 'torula', 'toscana', 'toss', 'tossed', 'tossing', 'tostada', 'tostitos', 'tot', 'total', 'totally', 'totaly', 'tote', 'totonac', 'totw', 'touch', 'touchy', 'tough', 'tougher', 'toughness', 'tought', 'tounge', 'tour', 'tourangelle', 'tourist', 'tournament', 'tout', 'tow', 'towel', 'tower', 'town', 'toxic', 'toxicity', 'toxin', 'toxins', 'toy', 'toys', 'tr', 'trace', 'trachea', 'track', 'tracking', 'tract', 'tractor', 'trade', 'trademark', 'tradeoff', 'trader', 'trading', 'tradition', 'traditional', 'traditionalist', 'traditionally', 'traffic', 'tragedy', 'tragic', 'tragically', 'trail', 'trailer', 'trailmix', 'train', 'trained', 'trainer', 'training', 'trait', 'tranquil', 'trans', 'transaction', 'transcend', 'transfat', 'transfats', 'transfer', 'transform', 'transformation', 'transit', 'transition', 'transitional', 'translate', 'translation', 'translucent', 'transmission', 'transparent', 'transplant', 'transport', 'transportable', 'transportation', 'trap', 'trapper', 'trappist', 'traps', 'trash', 'trashcan', 'trauma', 'traumatic', 'traumatize', 'travel', 'traveler', 'traveling', 'traverse', 'travesty', 'tray', 'trays', 'treacle', 'tread', 'treadmill', 'treasure', 'treasured', 'treat', 'treated', 'treater', 'treatment', 'treats', 'tree', 'treenuts', 'trek', 'tremble', 'tremendous', 'tremendously', 'tremor', 'trend', 'trendy', 'trepidation', 'tres', 'tresemme', 'tri', 'trial', 'triangle', 'triangular', 'triathlete', 'triathlons', 'tribe', 'tribute', 'tricalcium', 'trick', 'trickery', 'trickle', 'tricky', 'trident', 'tried', 'trifle', 'trigger', 'triglyceride', 'trim', 'trimester', 'trimming', 'trinidad', 'trinity', 'trinket', 'trio', 'trip', 'tripe', 'triple', 'triplet', 'tripping', 'triscuit', 'triscuits', 'triumph', 'trivedi', 'trivia', 'trivial', 'trix', 'troll', 'trolli', 'troop', 'trophy', 'tropic', 'tropical', 'tropicana', 'trot', 'trouble', 'troubled', 'troublesome', 'trough', 'trout', 'tru', 'truck', 'truckload', 'true', 'truely', 'truer', 'truffle', 'truffles', 'trully', 'truly', 'trump', 'trumpet', 'trung', 'trunk', 'trust', 'trusted', 'trustworthy', 'trusty', 'truth', 'truthful', 'truthfully', 'truvia', 'try', 'tryptophan', 'ts', 'tsa', 'tso', 'tsp', 'tsps', 'tt', 'tu', 'tub', 'tube', 'tuber', 'tubes', 'tubs', 'tuck', 'tucson', 'tuesday', 'tuff', 'tuffy', 'tug', 'tulear', 'tulip', 'tully', 'tullys', 'tulsa', 'tulsi', 'tum', 'tumble', 'tumbler', 'tumeric', 'tummy', 'tumor', 'tuna', 'tunafish', 'tune', 'tunnel', 'tupelo', 'tupperware', 'turbinado', 'turbo', 'turd', 'turducken', 'turf', 'turk', 'turkey', 'turkish', 'turmeric', 'turn', 'turnaround', 'turned', 'turning', 'turnip', 'turnoff', 'turnover', 'turtle', 'tuscan', 'tuscany', 'tutti', 'tuxedo', 'tv', 'tvp', 'twain', 'twang', 'tweak', 'tweaking', 'tween', 'tweezer', 'twice', 'twig', 'twilight', 'twin', 'twine', 'twinge', 'twinings', 'twinkie', 'twinkle', 'twinnings', 'twirl', 'twist', 'twisted', 'twisty', 'twitch', 'twitter', 'twix', 'twizzler', 'twizzlers', 'tx', 'ty', 'tylenol', 'tyler', 'type', 'typhoo', 'typical', 'typically', 'typo', 'tyrosine', 'tyson', 'tzu', 'tzus', 'uber', 'ubiquitous', 'uc', 'udi', 'udon', 'ugh', 'ugly', 'uh', 'uhhh', 'uhm', 'uht', 'uk', 'ukraine', 'ulcer', 'ulcerative', 'ultimate', 'ultimately', 'ultra', 'ultramix', 'ultrasound', 'um', 'umami', 'umbrella', 'umeboshi', 'umf', 'umm', 'ummm', 'ummmm', 'umph', 'una', 'unable', 'unacceptable', 'unadorned', 'unadulterated', 'unaffected', 'unanimous', 'unanimously', 'unanswered', 'unappealing', 'unappetizing', 'unassuming', 'unattended', 'unattractive', 'unauthorized', 'unavailability', 'unavailable', 'unavoidable', 'unaware', 'unbaked', 'unbalanced', 'unbearable', 'unbearably', 'unbeatable', 'unbeknownst', 'unbelievable', 'unbelievably', 'unbelieveable', 'unbelieveably', 'unbiased', 'unbleached', 'unbreakable', 'unbroken', 'uncanny', 'uncertain', 'unchanged', 'unchewable', 'uncle', 'unclear', 'unclog', 'uncomfortable', 'uncomfortably', 'uncommon', 'uncomplicated', 'unconditionally', 'uncontrollable', 'uncontrollably', 'unconventional', 'uncooked', 'uncover', 'unctuous', 'uncut', 'und', 'undamaged', 'undecided', 'undeliverable', 'undeniable', 'undeniably', 'undented', 'undercook', 'undercooked', 'underdone', 'underestimate', 'undergo', 'underground', 'underlie', 'underlying', 'underneath', 'underrated', 'underside', 'understand', 'understandable', 'understandably', 'understanding', 'understate', 'understated', 'understatement', 'understood', 'undertaste', 'undertone', 'undertones', 'underwear', 'underweight', 'underwhelmed', 'underwhelming', 'undesirable', 'undesired', 'undetectable', 'undeveloped', 'undigested', 'undiluted', 'undisclosed', 'undissolved', 'undistinguished', 'undisturbed', 'undivided', 'undo', 'undone', 'undoubtedly', 'undrinkable', 'uneasy', 'uneatable', 'uneaten', 'unedible', 'uneducated', 'unequivocally', 'unethical', 'uneven', 'unevenly', 'uneventful', 'unexciting', 'unexpected', 'unexpectedly', 'unexplainable', 'unexplained', 'unfair', 'unfairly', 'unfamiliar', 'unfavorable', 'unfermented', 'unfiltered', 'unfinished', 'unfit', 'unflavored', 'unfold', 'unforgettable', 'unfortunate', 'unfortunately', 'unfortunatley', 'unfortunatly', 'unfounded', 'unfriendly', 'unfrosted', 'unfurl', 'ungodly', 'unground', 'unhappy', 'unharmed', 'unhealthy', 'unheard', 'unheated', 'unhelpful', 'unholy', 'unhulled', 'unicorn', 'unidentifiable', 'unidentified', 'uniform', 'uniformity', 'uniformly', 'unilever', 'unimpressed', 'unimpressive', 'uninformed', 'uninitiated', 'uninspired', 'uninspiring', 'unintentionally', 'uninterested', 'uninteresting', 'union', 'unique', 'uniquely', 'uniqueness', 'unit', 'unite', 'united', 'universal', 'universally', 'universe', 'university', 'unknowing', 'unknowingly', 'unknown', 'unlabeled', 'unleash', 'unless', 'unlike', 'unlikely', 'unlimited', 'unload', 'unlock', 'unlucky', 'unmanageable', 'unmarked', 'unmatched', 'unmelted', 'unmistakable', 'unmistakably', 'unmixed', 'unnamed', 'unnatural', 'unnaturally', 'unnecessarily', 'unnecessary', 'unneeded', 'unnoticeable', 'unnoticed', 'uno', 'unobtrusive', 'unofficial', 'unopened', 'unpack', 'unpalatable', 'unparalleled', 'unpasteurized', 'unpleasant', 'unpleasantly', 'unpleasantness', 'unpleasent', 'unpleasing', 'unplug', 'unpopped', 'unpredictable', 'unprepared', 'unprocessed', 'unprofessional', 'unpronounceable', 'unprotected', 'unqualified', 'unquestionably', 'unravel', 'unreal', 'unrealistic', 'unreasonable', 'unreasonably', 'unrecognizable', 'unrefined', 'unrefrigerated', 'unrelated', 'unreliable', 'unremarkable', 'unreturnable', 'unripe', 'unrivaled', 'unroasted', 'unroll', 'unsafe', 'unsalted', 'unsatisfactory', 'unsatisfied', 'unsatisfying', 'unsaturated', 'unsavory', 'unscathed', 'unscented', 'unscrew', 'unseal', 'unsealed', 'unseasoned', 'unseen', 'unsettling', 'unshelled', 'unsightly', 'unsophisticated', 'unspecified', 'unstable', 'unsuccessful', 'unsuccessfully', 'unsuitable', 'unsulfured', 'unsulphured', 'unsupervised', 'unsure', 'unsurpassed', 'unsurprisingly', 'unsuspecting', 'unsweet', 'unsweetened', 'untasty', 'untested', 'untill', 'unto', 'untoasted', 'untouched', 'untreated', 'untrue', 'unusable', 'unused', 'unusual', 'unusually', 'unwanted', 'unwashed', 'unwelcome', 'unwieldy', 'unwilling', 'unwind', 'unwittingly', 'unwrap', 'unwrapped', 'upc', 'upcoming', 'update', 'updated', 'upfront', 'upgrade', 'upgraded', 'uplift', 'uplifting', 'upload', 'uploaded', 'upper', 'upright', 'ups', 'upscale', 'upset', 'upsetting', 'upside', 'upstairs', 'upstate', 'uptake', 'upto', 'upward', 'upwards', 'ur', 'urban', 'urbani', 'urge', 'urgent', 'uric', 'urinary', 'urinate', 'urination', 'urine', 'url', 'uruguay', 'usa', 'usable', 'usage', 'usally', 'usb', 'usd', 'usda', 'use', 'useable', 'used', 'useful', 'usefulness', 'useless', 'user', 'usps', 'usrda', 'usual', 'usually', 'usualy', 'ususally', 'ut', 'utah', 'utensil', 'utensils', 'uterine', 'uterus', 'utf', 'uti', 'utilitarian', 'utility', 'utilize', 'utilized', 'utilizes', 'utis', 'utmost', 'utter', 'utterly', 'utz', 'uv', 'uwajimaya', 'va', 'vac', 'vacation', 'vaccum', 'vaccuum', 'vacu', 'vacume', 'vacuum', 'vague', 'vaguely', 'vain', 'valdez', 'valdosta', 'valencia', 'valentina', 'valentine', 'valerian', 'valid', 'validate', 'validity', 'valley', 'valrhona', 'valuable', 'value', 'valve', 'vampire', 'van', 'vancouver', 'vanila', 'vanilla', 'vanillin', 'vanish', 'vanishes', 'vapor', 'variability', 'variable', 'variance', 'variant', 'variation', 'varied', 'varies', 'varietal', 'varieties', 'variety', 'various', 'varities', 'varity', 'vary', 'varying', 'vas', 'vascular', 'vase', 'vaseline', 'vast', 'vastly', 'vat', 'vault', 'vco', 've', 'veal', 'vee', 'veer', 'veg', 'vega', 'vegan', 'vegancompassion', 'vegans', 'vegas', 'vegatable', 'vegatables', 'vege', 'vegemite', 'veges', 'vegeta', 'vegetable', 'vegetables', 'vegetal', 'vegetarian', 'vegetation', 'vegetative', 'veggie', 'veggiedent', 'veggies', 'vegi', 'vegie', 'vegies', 'vegtable', 'vegtables', 'vehicle', 'vein', 'velcro', 'velveeta', 'velvet', 'velveta', 'velvety', 'vend', 'vender', 'vending', 'vendor', 'veneer', 'venerable', 'veneziane', 'venezuela', 'venice', 'venison', 'vent', 'venti', 'ventresca', 'venture', 'venue', 'venus', 'ver', 'vera', 'veranda', 'verbena', 'verde', 'verdict', 'verge', 'veri', 'verification', 'verified', 'verify', 'veritable', 'verity', 'vermicelli', 'vermont', 'vermouth', 'vernor', 'vernors', 'verona', 'veronastarbucks', 'verry', 'versa', 'versatile', 'versatility', 'verse', 'version', 'versitile', 'versitle', 'versus', 'vertical', 'vertically', 'vertigo', 'vessel', 'vet', 'veteran', 'veterinarian', 'veterinary', 'vey', 'vf', 'vi', 'viability', 'viable', 'vial', 'vibe', 'vibrant', 'vibrantly', 'vibrate', 'vibration', 'vice', 'vicinity', 'vicious', 'vicks', 'victim', 'victor', 'victoria', 'victorian', 'victory', 'vida', 'vidalia', 'video', 'videos', 'vie', 'vienna', 'viennese', 'viet', 'vietnam', 'vietnamese', 'view', 'viewer', 'viewpoint', 'vigilant', 'vigo', 'vigor', 'vigorous', 'vigorously', 'viking', 'vile', 'villa', 'village', 'vin', 'vinacafe', 'vinager', 'vinagrette', 'vinaigrette', 'vinci', 'vindaloo', 'vine', 'vinegar', 'vinegary', 'vinegrette', 'vineyard', 'vino', 'vintage', 'vinturi', 'viola', 'violate', 'violation', 'violent', 'violently', 'violet', 'viral', 'virbac', 'virgil', 'virgin', 'virginia', 'virginity', 'virtually', 'virtue', 'virtuous', 'virus', 'visable', 'viscosity', 'viscous', 'visible', 'visibly', 'vision', 'visit', 'visited', 'visiting', 'visitor', 'visual', 'visualize', 'visually', 'vit', 'vita', 'vitacoco', 'vitacost', 'vital', 'vitalicious', 'vitality', 'vitamin', 'vitamins', 'vitamix', 'viva', 'vivani', 'vivid', 'vividly', 'vizsla', 'vocal', 'vodka', 'voice', 'voicemail', 'void', 'voil', 'voila', 'volatile', 'volcanic', 'volcano', 'voltage', 'volume', 'volumizing', 'voluntarily', 'voluntary', 'volunteer', 'volvic', 'vomit', 'vomiting', 'vomitting', 'von', 'vons', 'voodoo', 'voracious', 'voraciously', 'vosges', 'voss', 'vote', 'vouch', 'vow', 'vox', 'voxbox', 'vs', 'vt', 'vue', 'vulnerable', 'wa', 'waaaaaay', 'waaaaay', 'waaaay', 'waaay', 'wabash', 'wacky', 'wad', 'wadi', 'wafer', 'waffies', 'waffle', 'waft', 'wag', 'wage', 'wager', 'waggin', 'wagon', 'wah', 'wahoo', 'waist', 'waistline', 'wait', 'waited', 'waiter', 'waiting', 'waitress', 'wakame', 'wake', 'wakeup', 'waking', 'wal', 'walden', 'wale', 'walgreen', 'walgreens', 'walk', 'walker', 'walkerswood', 'walking', 'wall', 'walla', 'wallet', 'wallmart', 'wallop', 'wallpaper', 'wally', 'walmart', 'walmarts', 'walnut', 'walnuts', 'walter', 'waltz', 'wan', 'wand', 'wander', 'wane', 'wang', 'wannabe', 'want', 'wanted', 'wanting', 'war', 'ward', 'ware', 'warehouse', 'warhead', 'waring', 'warm', 'warmed', 'warmer', 'warming', 'warmly', 'warms', 'warmth', 'warn', 'warner', 'warning', 'warp', 'warped', 'warrant', 'warranty', 'warrior', 'wart', 'wary', 'wasa', 'wasabi', 'wash', 'washable', 'washcloth', 'washed', 'washer', 'washing', 'washington', 'washy', 'wasn', 'wasnt', 'wasp', 'wast', 'waste', 'wasted', 'wasteful', 'wasting', 'watch', 'watcher', 'watching', 'water', 'watercress', 'watered', 'watering', 'wateringly', 'watermelon', 'waterproof', 'watery', 'watkins', 'watson', 'watt', 'wattage', 'wave', 'waver', 'wavy', 'wawa', 'wax', 'waxed', 'waxiness', 'waxy', 'way', 'wayne', 'wayside', 'wayyy', 'wayyyy', 'wayyyyy', 'weak', 'weaken', 'weaker', 'weakly', 'weakness', 'wealth', 'wealthy', 'wean', 'weapon', 'wear', 'weary', 'weather', 'weave', 'weaver', 'web', 'weber', 'webpage', 'website', 'websites', 'wed', 'wedderspoon', 'wedding', 'wedge', 'wednesday', 'wee', 'weed', 'weedy', 'week', 'weekday', 'weekend', 'weekly', 'weeknight', 'ween', 'weenie', 'weening', 'weep', 'weetabix', 'weevil', 'wegman', 'wegmans', 'weigh', 'weighs', 'weight', 'weightless', 'weightloss', 'weightwatchers', 'weil', 'weim', 'weimaraner', 'weiner', 'weiners', 'weird', 'weirdly', 'weirdo', 'weiss', 'wel', 'welch', 'welches', 'welcome', 'welcomed', 'weld', 'welfare', 'wellbeing', 'wellness', 'welsh', 'wendy', 'weren', 'werent', 'werther', 'werthers', 'weruva', 'wesselmann', 'west', 'westbrae', 'western', 'westerner', 'westie', 'westies', 'weston', 'westsoy', 'wet', 'wether', 'wetter', 'wf', 'wh', 'wha', 'whack', 'whale', 'wham', 'whammy', 'whatnot', 'whats', 'whatsoever', 'whe', 'wheat', 'wheaten', 'wheatena', 'wheatgrass', 'wheaties', 'wheats', 'wheaty', 'wheel', 'wheeze', 'whelm', 'whereever', 'wheres', 'whet', 'whew', 'whey', 'whichever', 'whiff', 'whilst', 'whim', 'whimper', 'whimpy', 'whimsical', 'whine', 'whining', 'whip', 'whipped', 'whippet', 'whipping', 'whirl', 'whirley', 'whirly', 'whisk', 'whiska', 'whiskas', 'whisker', 'whiskey', 'whisky', 'whisper', 'whistle', 'white', 'whitefish', 'whiten', 'whiter', 'whitish', 'whitman', 'whiz', 'whoa', 'wholefoods', 'wholegrain', 'wholeheartedly', 'wholeness', 'wholesale', 'wholesaler', 'wholesome', 'wholesomeness', 'wholewheat', 'wholly', 'whomever', 'whoo', 'whoop', 'whoopie', 'whop', 'whopper', 'whopping', 'wi', 'wich', 'wick', 'wicked', 'wicker', 'wide', 'widely', 'widen', 'wider', 'widespread', 'width', 'wieght', 'wiener', 'wierd', 'wife', 'wifes', 'wifey', 'wiggle', 'wih', 'wii', 'wiki', 'wikipedia', 'wil', 'wilbur', 'wild', 'wildberry', 'wilderness', 'wildflower', 'wildlife', 'wildly', 'wiley', 'william', 'williams', 'williamsburg', 'williamson', 'willing', 'willingly', 'willingness', 'willow', 'willpower', 'willy', 'wilson', 'wilt', 'wilted', 'wilton', 'wimp', 'wimpy', 'win', 'wince', 'winco', 'wind', 'windmill', 'window', 'windows', 'windowsill', 'windsor', 'windy', 'wine', 'winery', 'winey', 'wing', 'wink', 'winn', 'winner', 'winnie', 'winning', 'winona', 'wint', 'winter', 'wintergreen', 'wintermint', 'wintertime', 'wipe', 'wire', 'wired', 'wireless', 'wiry', 'wisconsin', 'wisdom', 'wise', 'wisecrackers', 'wisely', 'wiser', 'wish', 'wishbone', 'wishlist', 'wishy', 'wisk', 'wisp', 'wit', 'witch', 'withdraw', 'withdrawal', 'wither', 'withhold', 'withing', 'withstand', 'withthe', 'witness', 'witty', 'wizard', 'wk', 'wks', 'wls', 'wm', 'woah', 'wobble', 'wobbler', 'woe', 'woeber', 'woefully', 'wok', 'wold', 'wolf', 'wolfgang', 'woman', 'won', 'wondeful', 'wonder', 'wonderful', 'wonderfull', 'wonderfully', 'wonderfulness', 'wondering', 'wonderland', 'wondrous', 'wonka', 'wont', 'wonton', 'woo', 'wood', 'wooded', 'wooden', 'woodpecker', 'woodstock', 'woodsy', 'woody', 'woof', 'woofed', 'woofs', 'woohoo', 'wool', 'woot', 'worcestershire', 'word', 'wording', 'wore', 'work', 'workable', 'workday', 'worked', 'worker', 'working', 'workout', 'workouts', 'workplace', 'works', 'workshop', 'world', 'worlds', 'worldwide', 'worm', 'worn', 'worried', 'worrisome', 'worry', 'worrying', 'worse', 'worsen', 'worship', 'worst', 'wort', 'worth', 'worthington', 'worthless', 'worthwhile', 'worthy', 'woud', 'woulda', 'wouldn', 'wouldnt', 'wouldve', 'wound', 'woven', 'wow', 'wowbutter', 'wp', 'wrap', 'wrapped', 'wrapper', 'wrapping', 'wrath', 'wreak', 'wreath', 'wreck', 'wrench', 'wrestle', 'wrestling', 'wretched', 'wright', 'wrigley', 'wrigleys', 'wring', 'wrinkle', 'wrist', 'write', 'writer', 'writeup', 'writhe', 'writing', 'wrong', 'wrongly', 'ws', 'wt', 'wtf', 'wth', 'wu', 'wulong', 'wurly', 'wuss', 'wuyi', 'wv', 'ww', 'wwii', 'www', 'wylde', 'wyler', 'wyoming', 'wysong', 'xagave', 'xango', 'xantham', 'xanthan', 'xanthum', 'xd', 'xl', 'xlear', 'xlr', 'xmas', 'xo', 'xtra', 'xx', 'xxx', 'xyla', 'xylichew', 'xylitol', 'xyloburst', 'xylosweet', 'ya', 'yacon', 'yadda', 'yah', 'yahoo', 'yak', 'yakisoba', 'yam', 'yama', 'yamamotoyama', 'yams', 'yang', 'yank', 'yankee', 'yap', 'yard', 'yarn', 'yawn', 'yay', 'ye', 'yea', 'yeah', 'year', 'yearly', 'yearn', 'yearning', 'yeast', 'yeasty', 'yech', 'yeh', 'yehuda', 'yell', 'yelling', 'yellow', 'yellowfin', 'yellowish', 'yen', 'yep', 'yer', 'yerba', 'yes', 'yesterday', 'yesteryear', 'yi', 'yield', 'yikes', 'yin', 'yip', 'yippee', 'yirgacheffe', 'ymmv', 'yo', 'yoga', 'yogart', 'yoghurt', 'yogi', 'yogourmet', 'yogurt', 'yolk', 'yoo', 'yoohoo', 'yoplait', 'york', 'yorker', 'yorkers', 'yorkie', 'yorkies', 'yorkshire', 'yoshida', 'yougurt', 'youll', 'young', 'younger', 'youngster', 'youre', 'yous', 'youself', 'youth', 'youthful', 'youtube', 'youve', 'yowl', 'yowza', 'yr', 'yrs', 'ys', 'yu', 'yuban', 'yucatan', 'yucateco', 'yucca', 'yuck', 'yucky', 'yuk', 'yukky', 'yukon', 'yum', 'yumm', 'yummers', 'yummi', 'yummie', 'yummies', 'yumminess', 'yummm', 'yummmm', 'yummmmm', 'yummmmmm', 'yummmmmmm', 'yummmmmmmm', 'yummmmmmy', 'yummmmmy', 'yummmmy', 'yummmy', 'yummo', 'yummy', 'yummyearth', 'yummyness', 'yums', 'yunnan', 'yup', 'yuppie', 'yuzu', 'zagnut', 'zamouri', 'zang', 'zantac', 'zante', 'zap', 'zatarain', 'zatarains', 'zeal', 'zealand', 'zebra', 'zen', 'zensoy', 'zero', 'zest', 'zesty', 'zevia', 'zhena', 'zico', 'ziggies', 'zillion', 'zinc', 'zinfandel', 'zing', 'zinger', 'zingy', 'zip', 'zipfizz', 'ziploc', 'ziplock', 'ziplocs', 'zipper', 'zippy', 'zit', 'ziti', 'ziwi', 'ziwipeak', 'zoe', 'zojirushi', 'zola', 'zombie', 'zone', 'zoo', 'zoom', 'zots', 'zotz', 'zsweet', 'zucchini', 'zuccini', 'zuke', 'zukes', 'zylitol']\n"
          ],
          "name": "stdout"
        }
      ]
    },
    {
      "cell_type": "code",
      "metadata": {
        "id": "TQuEwYHELvru",
        "colab_type": "code",
        "colab": {}
      },
      "source": [
        "vect2 = CountVectorizer(min_df=10,lowercase=True,strip_accents='ascii', ngram_range=(1,2)).fit(traindf['Lemmat'])\n",
        "#vect2 is bi-gram \n"
      ],
      "execution_count": 0,
      "outputs": []
    },
    {
      "cell_type": "code",
      "metadata": {
        "id": "Swj5zeY-M0b8",
        "colab_type": "code",
        "colab": {}
      },
      "source": [
        "feature_names_2 = vect2.get_feature_names()\n",
        "print('Bigram features are total of : ', len(feature_names_2))\n",
        "print('First 2000 Features are: \\n {}', feature_names_2[::2000])"
      ],
      "execution_count": 0,
      "outputs": []
    },
    {
      "cell_type": "code",
      "metadata": {
        "id": "eebiP0UBVY36",
        "colab_type": "code",
        "colab": {}
      },
      "source": [
        "vect3 = CountVectorizer(min_df=10,stop_words=\"english\",lowercase=True,strip_accents='ascii', ngram_range=(1,3)).fit(traindf['Lemmat'])\n",
        "#vect3 is tri-gram "
      ],
      "execution_count": 0,
      "outputs": []
    },
    {
      "cell_type": "code",
      "metadata": {
        "id": "F3yMx7nQWX-s",
        "colab_type": "code",
        "colab": {}
      },
      "source": [
        "feature_names_3 = vect3.get_feature_names()\n",
        "print('Trigram features are total of : ', len(feature_names_3))\n",
        "print('First 2000 Features are: \\n {}', feature_names_3[::2000])"
      ],
      "execution_count": 0,
      "outputs": []
    },
    {
      "cell_type": "code",
      "metadata": {
        "id": "Z8Lv0zwNXeIr",
        "colab_type": "code",
        "colab": {}
      },
      "source": [
        "y_train = traindf['Score']"
      ],
      "execution_count": 0,
      "outputs": []
    },
    {
      "cell_type": "code",
      "metadata": {
        "id": "_P_haakFXd-t",
        "colab_type": "code",
        "colab": {}
      },
      "source": [
        "x_train1 = vect1.fit_transform(traindf['Review']) #uni gram\n",
        "x_train2 = vect2.fit_transform(traindf['Review']) #bi gram\n",
        "x_train3 = vect3.fit_transform(traindf['Review']) #tri gram"
      ],
      "execution_count": 0,
      "outputs": []
    },
    {
      "cell_type": "markdown",
      "metadata": {
        "id": "fW87erCGZY8W",
        "colab_type": "text"
      },
      "source": [
        "Some sample from the transform:"
      ]
    },
    {
      "cell_type": "code",
      "metadata": {
        "id": "tsqoW4E6ZctO",
        "colab_type": "code",
        "colab": {}
      },
      "source": [
        "#print('X_Train1 NZ: ', x_train1.getnnz())\n",
        "#print('X_Train2 NZ: ', x_train2.getnnz())\n",
        "#print('X_Train3 NZ: ', x_train3.getnnz())"
      ],
      "execution_count": 0,
      "outputs": []
    }
  ]
}