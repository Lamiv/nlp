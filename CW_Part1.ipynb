{
  "nbformat": 4,
  "nbformat_minor": 0,
  "metadata": {
    "colab": {
      "name": "CW_Part1.ipynb",
      "provenance": [],
      "collapsed_sections": [],
      "toc_visible": true,
      "machine_shape": "hm",
      "include_colab_link": true
    },
    "kernelspec": {
      "name": "python3",
      "display_name": "Python 3"
    },
    "accelerator": "GPU"
  },
  "cells": [
    {
      "cell_type": "markdown",
      "metadata": {
        "id": "view-in-github",
        "colab_type": "text"
      },
      "source": [
        "<a href=\"https://colab.research.google.com/github/intellisol/amazon_nlp/blob/master/CW_Part1.ipynb\" target=\"_parent\"><img src=\"https://colab.research.google.com/assets/colab-badge.svg\" alt=\"Open In Colab\"/></a>"
      ]
    },
    {
      "cell_type": "markdown",
      "metadata": {
        "id": "ts8xvjHJcDwU",
        "colab_type": "text"
      },
      "source": [
        "<h1>Amazon fine foods review analysis"
      ]
    },
    {
      "cell_type": "code",
      "metadata": {
        "id": "LXuuKqSO4sz9",
        "colab_type": "code",
        "colab": {
          "base_uri": "https://localhost:8080/",
          "height": 34
        },
        "outputId": "c76d4798-63ba-4354-ec3e-5567085cccee"
      },
      "source": [
        "from google.colab import drive\n",
        "drive.mount('/content/drive')"
      ],
      "execution_count": 8,
      "outputs": [
        {
          "output_type": "stream",
          "text": [
            "Drive already mounted at /content/drive; to attempt to forcibly remount, call drive.mount(\"/content/drive\", force_remount=True).\n"
          ],
          "name": "stdout"
        }
      ]
    },
    {
      "cell_type": "code",
      "metadata": {
        "id": "ArlRnBbr44sN",
        "colab_type": "code",
        "colab": {}
      },
      "source": [
        ""
      ],
      "execution_count": 0,
      "outputs": []
    },
    {
      "cell_type": "markdown",
      "metadata": {
        "id": "tInQhod1dyJy",
        "colab_type": "text"
      },
      "source": [
        "Part 1 \n",
        "\n",
        "1.   Preprocessing\n",
        "2.   Normalization\n",
        "\n"
      ]
    },
    {
      "cell_type": "code",
      "metadata": {
        "id": "mUHYGVgNa56k",
        "colab_type": "code",
        "outputId": "e61ff0fd-4509-4b95-f22c-34318638e0cc",
        "colab": {
          "base_uri": "https://localhost:8080/",
          "height": 52
        }
      },
      "source": [
        "pip install pandarallel"
      ],
      "execution_count": 9,
      "outputs": [
        {
          "output_type": "stream",
          "text": [
            "Requirement already satisfied: pandarallel in /usr/local/lib/python3.6/dist-packages (1.4.6)\n",
            "Requirement already satisfied: dill in /usr/local/lib/python3.6/dist-packages (from pandarallel) (0.3.1.1)\n"
          ],
          "name": "stdout"
        }
      ]
    },
    {
      "cell_type": "code",
      "metadata": {
        "id": "IkB-CbqM4V5W",
        "colab_type": "code",
        "outputId": "5d8162e1-ece6-4a61-8204-25feaf76fe5a",
        "colab": {
          "base_uri": "https://localhost:8080/",
          "height": 194
        }
      },
      "source": [
        "import nltk\n",
        "import re\n",
        "import numpy as np\n",
        "import sklearn\n",
        "import pandas as pd\n",
        "import matplotlib as mpl\n",
        "import matplotlib.pyplot as plt\n",
        "from sklearn.datasets import load_files\n",
        "\n",
        "nltk.download('stopwords')\n",
        "nltk.download('punkt')\n",
        "nltk.download('averaged_perceptron_tagger')\n",
        "nltk.download('wordnet')\n",
        "from nltk.corpus import stopwords\n",
        "from nltk.tokenize import word_tokenize \n",
        "from nltk.stem import PorterStemmer\n",
        "from nltk.stem import LancasterStemmer\n",
        "from nltk.stem import SnowballStemmer\n",
        "from multiprocessing import  Pool\n",
        "from nltk.corpus import wordnet\n",
        "\n",
        "from pandarallel import pandarallel"
      ],
      "execution_count": 10,
      "outputs": [
        {
          "output_type": "stream",
          "text": [
            "[nltk_data] Downloading package stopwords to /root/nltk_data...\n",
            "[nltk_data]   Package stopwords is already up-to-date!\n",
            "[nltk_data] Downloading package punkt to /root/nltk_data...\n",
            "[nltk_data]   Package punkt is already up-to-date!\n",
            "[nltk_data] Downloading package averaged_perceptron_tagger to\n",
            "[nltk_data]     /root/nltk_data...\n",
            "[nltk_data]   Package averaged_perceptron_tagger is already up-to-\n",
            "[nltk_data]       date!\n",
            "[nltk_data] Downloading package wordnet to /root/nltk_data...\n",
            "[nltk_data]   Package wordnet is already up-to-date!\n"
          ],
          "name": "stdout"
        }
      ]
    },
    {
      "cell_type": "code",
      "metadata": {
        "id": "BlMu77gehU3t",
        "colab_type": "code",
        "outputId": "a4d3edb1-aee9-49cd-f0fe-0e588041ed26",
        "colab": {
          "base_uri": "https://localhost:8080/",
          "height": 34
        }
      },
      "source": [
        "#Check number of processors.\n",
        "import multiprocessing as mp\n",
        "print(\"Number of processors: \", mp.cpu_count())"
      ],
      "execution_count": 11,
      "outputs": [
        {
          "output_type": "stream",
          "text": [
            "Number of processors:  4\n"
          ],
          "name": "stdout"
        }
      ]
    },
    {
      "cell_type": "code",
      "metadata": {
        "id": "Q3bduCy9hGaq",
        "colab_type": "code",
        "colab": {}
      },
      "source": [
        "# Function to run any function in parallel processing.\n",
        "def execute_in_parallel(df, func, n_cores=4):\n",
        "    df_split = np.array_split(df, n_cores)\n",
        "    pool = Pool(n_cores)\n",
        "    df = pd.concat(pool.map(func, df_split))\n",
        "    pool.close()\n",
        "    pool.join()\n",
        "    return df"
      ],
      "execution_count": 0,
      "outputs": []
    },
    {
      "cell_type": "markdown",
      "metadata": {
        "id": "dT7GNbw24Yle",
        "colab_type": "text"
      },
      "source": [
        "#**Data Loading and Exploration**"
      ]
    },
    {
      "cell_type": "markdown",
      "metadata": {
        "id": "c8h_1UnaOvCW",
        "colab_type": "text"
      },
      "source": [
        "### Load the data\n",
        "\n"
      ]
    },
    {
      "cell_type": "code",
      "metadata": {
        "id": "OmkqXxj4-eeb",
        "colab_type": "code",
        "colab": {}
      },
      "source": [
        "sourcefile = \"/content/drive/My Drive/Colab Notebooks/train.csv\"\n",
        "stemfile = \"/content/drive/My Drive/Colab Notebooks/train_stemmer.csv\"\n",
        "lemfile = \"/content/drive/My Drive/Colab Notebooks/train_lem.csv\""
      ],
      "execution_count": 0,
      "outputs": []
    },
    {
      "cell_type": "code",
      "metadata": {
        "id": "kYr9ngWg9xWg",
        "colab_type": "code",
        "colab": {}
      },
      "source": [
        "traindf = pd.read_csv(sourcefile)"
      ],
      "execution_count": 0,
      "outputs": []
    },
    {
      "cell_type": "code",
      "metadata": {
        "id": "x1n4se189FN6",
        "colab_type": "code",
        "outputId": "651d0ae0-cbbb-4f58-9f88-f1f792ed2d1c",
        "colab": {
          "base_uri": "https://localhost:8080/",
          "height": 34
        }
      },
      "source": [
        "print(\"Type of traindf\" , type(traindf))\n"
      ],
      "execution_count": 15,
      "outputs": [
        {
          "output_type": "stream",
          "text": [
            "Type of traindf <class 'pandas.core.frame.DataFrame'>\n"
          ],
          "name": "stdout"
        }
      ]
    },
    {
      "cell_type": "markdown",
      "metadata": {
        "id": "-4c9UGUZ7Xxb",
        "colab_type": "text"
      },
      "source": [
        "### Exploration"
      ]
    },
    {
      "cell_type": "code",
      "metadata": {
        "id": "qZitenolD8yo",
        "colab_type": "code",
        "outputId": "a2e69001-e239-4f74-91f7-74524caadec4",
        "colab": {
          "base_uri": "https://localhost:8080/",
          "height": 283
        }
      },
      "source": [
        "traindf.info()"
      ],
      "execution_count": 16,
      "outputs": [
        {
          "output_type": "stream",
          "text": [
            "<class 'pandas.core.frame.DataFrame'>\n",
            "RangeIndex: 426340 entries, 0 to 426339\n",
            "Data columns (total 10 columns):\n",
            "Id                        426340 non-null int64\n",
            "ProductId                 426340 non-null object\n",
            "UserId                    426340 non-null object\n",
            "ProfileName               426326 non-null object\n",
            "HelpfulnessNumerator      426340 non-null int64\n",
            "HelpfulnessDenominator    426340 non-null int64\n",
            "Score                     426340 non-null int64\n",
            "Time                      426340 non-null int64\n",
            "Summary                   426320 non-null object\n",
            "Text                      426340 non-null object\n",
            "dtypes: int64(5), object(5)\n",
            "memory usage: 32.5+ MB\n"
          ],
          "name": "stdout"
        }
      ]
    },
    {
      "cell_type": "code",
      "metadata": {
        "id": "UU4--3i0AC1G",
        "colab_type": "code",
        "outputId": "bc704825-5b71-431e-d0c6-8ba07d782f96",
        "colab": {
          "base_uri": "https://localhost:8080/",
          "height": 597
        }
      },
      "source": [
        "traindf.head()"
      ],
      "execution_count": 17,
      "outputs": [
        {
          "output_type": "execute_result",
          "data": {
            "text/html": [
              "<div>\n",
              "<style scoped>\n",
              "    .dataframe tbody tr th:only-of-type {\n",
              "        vertical-align: middle;\n",
              "    }\n",
              "\n",
              "    .dataframe tbody tr th {\n",
              "        vertical-align: top;\n",
              "    }\n",
              "\n",
              "    .dataframe thead th {\n",
              "        text-align: right;\n",
              "    }\n",
              "</style>\n",
              "<table border=\"1\" class=\"dataframe\">\n",
              "  <thead>\n",
              "    <tr style=\"text-align: right;\">\n",
              "      <th></th>\n",
              "      <th>Id</th>\n",
              "      <th>ProductId</th>\n",
              "      <th>UserId</th>\n",
              "      <th>ProfileName</th>\n",
              "      <th>HelpfulnessNumerator</th>\n",
              "      <th>HelpfulnessDenominator</th>\n",
              "      <th>Score</th>\n",
              "      <th>Time</th>\n",
              "      <th>Summary</th>\n",
              "      <th>Text</th>\n",
              "    </tr>\n",
              "  </thead>\n",
              "  <tbody>\n",
              "    <tr>\n",
              "      <th>0</th>\n",
              "      <td>220291</td>\n",
              "      <td>B0034EDLS2</td>\n",
              "      <td>AVF82BC7S0IO7</td>\n",
              "      <td>Kbrown</td>\n",
              "      <td>0</td>\n",
              "      <td>0</td>\n",
              "      <td>5</td>\n",
              "      <td>1332806400</td>\n",
              "      <td>Very Good</td>\n",
              "      <td>I received this product early from the seller!...</td>\n",
              "    </tr>\n",
              "    <tr>\n",
              "      <th>1</th>\n",
              "      <td>225833</td>\n",
              "      <td>B001I7HJE4</td>\n",
              "      <td>A1YUL9PCJR3JTY</td>\n",
              "      <td>O. Brown \"Ms. O. Khannah-Brown\"</td>\n",
              "      <td>1</td>\n",
              "      <td>1</td>\n",
              "      <td>5</td>\n",
              "      <td>1190160000</td>\n",
              "      <td>Organic, Kosher, Tasty Assortment of Premium T...</td>\n",
              "      <td>*****&lt;br /&gt;Numi's Collection Assortment Melang...</td>\n",
              "    </tr>\n",
              "    <tr>\n",
              "      <th>2</th>\n",
              "      <td>350901</td>\n",
              "      <td>B000LKTB90</td>\n",
              "      <td>A1BBPP1EC75JX4</td>\n",
              "      <td>Johan Bollen \"gekhond\"</td>\n",
              "      <td>0</td>\n",
              "      <td>0</td>\n",
              "      <td>5</td>\n",
              "      <td>1285977600</td>\n",
              "      <td>excellent gluten-free spaghetti: great taste, ...</td>\n",
              "      <td>I was very careful not to overcook this pasta,...</td>\n",
              "    </tr>\n",
              "    <tr>\n",
              "      <th>3</th>\n",
              "      <td>299801</td>\n",
              "      <td>B001HXJPS2</td>\n",
              "      <td>A5QSI9MNS8NMS</td>\n",
              "      <td>M. Esaili</td>\n",
              "      <td>0</td>\n",
              "      <td>0</td>\n",
              "      <td>5</td>\n",
              "      <td>1338163200</td>\n",
              "      <td>Lindt is Lindt</td>\n",
              "      <td>Buying this multi-pack I was misled by the pic...</td>\n",
              "    </tr>\n",
              "    <tr>\n",
              "      <th>4</th>\n",
              "      <td>48472</td>\n",
              "      <td>B006H34CUS</td>\n",
              "      <td>A20IBAIRSNBEAQ</td>\n",
              "      <td>Chelsea</td>\n",
              "      <td>0</td>\n",
              "      <td>0</td>\n",
              "      <td>5</td>\n",
              "      <td>1343606400</td>\n",
              "      <td>YUM!!!!!</td>\n",
              "      <td>These bars are so good! I loved them warmed up...</td>\n",
              "    </tr>\n",
              "  </tbody>\n",
              "</table>\n",
              "</div>"
            ],
            "text/plain": [
              "       Id  ...                                               Text\n",
              "0  220291  ...  I received this product early from the seller!...\n",
              "1  225833  ...  *****<br />Numi's Collection Assortment Melang...\n",
              "2  350901  ...  I was very careful not to overcook this pasta,...\n",
              "3  299801  ...  Buying this multi-pack I was misled by the pic...\n",
              "4   48472  ...  These bars are so good! I loved them warmed up...\n",
              "\n",
              "[5 rows x 10 columns]"
            ]
          },
          "metadata": {
            "tags": []
          },
          "execution_count": 17
        }
      ]
    },
    {
      "cell_type": "code",
      "metadata": {
        "id": "aaSBq7hnMzhj",
        "colab_type": "code",
        "outputId": "0f5626ca-1565-458b-d8f8-be4b1ca094a2",
        "colab": {
          "base_uri": "https://localhost:8080/",
          "height": 283
        }
      },
      "source": [
        "traindf.info()"
      ],
      "execution_count": 18,
      "outputs": [
        {
          "output_type": "stream",
          "text": [
            "<class 'pandas.core.frame.DataFrame'>\n",
            "RangeIndex: 426340 entries, 0 to 426339\n",
            "Data columns (total 10 columns):\n",
            "Id                        426340 non-null int64\n",
            "ProductId                 426340 non-null object\n",
            "UserId                    426340 non-null object\n",
            "ProfileName               426326 non-null object\n",
            "HelpfulnessNumerator      426340 non-null int64\n",
            "HelpfulnessDenominator    426340 non-null int64\n",
            "Score                     426340 non-null int64\n",
            "Time                      426340 non-null int64\n",
            "Summary                   426320 non-null object\n",
            "Text                      426340 non-null object\n",
            "dtypes: int64(5), object(5)\n",
            "memory usage: 32.5+ MB\n"
          ],
          "name": "stdout"
        }
      ]
    },
    {
      "cell_type": "code",
      "metadata": {
        "id": "kJJ-gPcBFgod",
        "colab_type": "code",
        "outputId": "17ae59d0-0555-4b58-f0f0-b44f1fcdd8b6",
        "colab": {
          "base_uri": "https://localhost:8080/",
          "height": 287
        }
      },
      "source": [
        "traindf.describe()"
      ],
      "execution_count": 19,
      "outputs": [
        {
          "output_type": "execute_result",
          "data": {
            "text/html": [
              "<div>\n",
              "<style scoped>\n",
              "    .dataframe tbody tr th:only-of-type {\n",
              "        vertical-align: middle;\n",
              "    }\n",
              "\n",
              "    .dataframe tbody tr th {\n",
              "        vertical-align: top;\n",
              "    }\n",
              "\n",
              "    .dataframe thead th {\n",
              "        text-align: right;\n",
              "    }\n",
              "</style>\n",
              "<table border=\"1\" class=\"dataframe\">\n",
              "  <thead>\n",
              "    <tr style=\"text-align: right;\">\n",
              "      <th></th>\n",
              "      <th>Id</th>\n",
              "      <th>HelpfulnessNumerator</th>\n",
              "      <th>HelpfulnessDenominator</th>\n",
              "      <th>Score</th>\n",
              "      <th>Time</th>\n",
              "    </tr>\n",
              "  </thead>\n",
              "  <tbody>\n",
              "    <tr>\n",
              "      <th>count</th>\n",
              "      <td>426340.000000</td>\n",
              "      <td>426340.000000</td>\n",
              "      <td>426340.000000</td>\n",
              "      <td>426340.000000</td>\n",
              "      <td>4.263400e+05</td>\n",
              "    </tr>\n",
              "    <tr>\n",
              "      <th>mean</th>\n",
              "      <td>284300.799618</td>\n",
              "      <td>1.733159</td>\n",
              "      <td>2.220244</td>\n",
              "      <td>4.183455</td>\n",
              "      <td>1.296222e+09</td>\n",
              "    </tr>\n",
              "    <tr>\n",
              "      <th>std</th>\n",
              "      <td>164012.600602</td>\n",
              "      <td>7.328184</td>\n",
              "      <td>8.014894</td>\n",
              "      <td>1.310577</td>\n",
              "      <td>4.808061e+07</td>\n",
              "    </tr>\n",
              "    <tr>\n",
              "      <th>min</th>\n",
              "      <td>1.000000</td>\n",
              "      <td>0.000000</td>\n",
              "      <td>0.000000</td>\n",
              "      <td>1.000000</td>\n",
              "      <td>9.408096e+08</td>\n",
              "    </tr>\n",
              "    <tr>\n",
              "      <th>25%</th>\n",
              "      <td>142363.750000</td>\n",
              "      <td>0.000000</td>\n",
              "      <td>0.000000</td>\n",
              "      <td>4.000000</td>\n",
              "      <td>1.271203e+09</td>\n",
              "    </tr>\n",
              "    <tr>\n",
              "      <th>50%</th>\n",
              "      <td>284308.500000</td>\n",
              "      <td>0.000000</td>\n",
              "      <td>1.000000</td>\n",
              "      <td>5.000000</td>\n",
              "      <td>1.311034e+09</td>\n",
              "    </tr>\n",
              "    <tr>\n",
              "      <th>75%</th>\n",
              "      <td>426183.250000</td>\n",
              "      <td>2.000000</td>\n",
              "      <td>2.000000</td>\n",
              "      <td>5.000000</td>\n",
              "      <td>1.332720e+09</td>\n",
              "    </tr>\n",
              "    <tr>\n",
              "      <th>max</th>\n",
              "      <td>568454.000000</td>\n",
              "      <td>844.000000</td>\n",
              "      <td>923.000000</td>\n",
              "      <td>5.000000</td>\n",
              "      <td>1.351210e+09</td>\n",
              "    </tr>\n",
              "  </tbody>\n",
              "</table>\n",
              "</div>"
            ],
            "text/plain": [
              "                  Id  HelpfulnessNumerator  ...          Score          Time\n",
              "count  426340.000000         426340.000000  ...  426340.000000  4.263400e+05\n",
              "mean   284300.799618              1.733159  ...       4.183455  1.296222e+09\n",
              "std    164012.600602              7.328184  ...       1.310577  4.808061e+07\n",
              "min         1.000000              0.000000  ...       1.000000  9.408096e+08\n",
              "25%    142363.750000              0.000000  ...       4.000000  1.271203e+09\n",
              "50%    284308.500000              0.000000  ...       5.000000  1.311034e+09\n",
              "75%    426183.250000              2.000000  ...       5.000000  1.332720e+09\n",
              "max    568454.000000            844.000000  ...       5.000000  1.351210e+09\n",
              "\n",
              "[8 rows x 5 columns]"
            ]
          },
          "metadata": {
            "tags": []
          },
          "execution_count": 19
        }
      ]
    },
    {
      "cell_type": "code",
      "metadata": {
        "id": "cnSv-pzzkolN",
        "colab_type": "code",
        "outputId": "ea2993df-49dc-488e-f36d-7283d4ad5f88",
        "colab": {
          "base_uri": "https://localhost:8080/",
          "height": 70
        }
      },
      "source": [
        "print('No. of Reviews :', len(traindf))\n",
        "print('No. of Products :', len(traindf.groupby(['ProductId'])))\n",
        "print('No. of Users :', len(traindf.groupby(['UserId'])))"
      ],
      "execution_count": 20,
      "outputs": [
        {
          "output_type": "stream",
          "text": [
            "No. of Reviews : 426340\n",
            "No. of Products : 65858\n",
            "No. of Users : 210008\n"
          ],
          "name": "stdout"
        }
      ]
    },
    {
      "cell_type": "code",
      "metadata": {
        "id": "5n_YNkEe7owv",
        "colab_type": "code",
        "outputId": "37251b45-2689-4efc-feaf-509dfbc7ec12",
        "colab": {
          "base_uri": "https://localhost:8080/",
          "height": 158
        }
      },
      "source": [
        "print(\"Number of Reviews per Score: \\n {}\".format(traindf.groupby(['Score'])['Id'].count()))\n",
        "#traindf.groupby(['Score'])['Id'].count()"
      ],
      "execution_count": 21,
      "outputs": [
        {
          "output_type": "stream",
          "text": [
            "Number of Reviews per Score: \n",
            " Score\n",
            "1     39193\n",
            "2     22353\n",
            "3     31993\n",
            "4     60309\n",
            "5    272492\n",
            "Name: Id, dtype: int64\n"
          ],
          "name": "stdout"
        }
      ]
    },
    {
      "cell_type": "code",
      "metadata": {
        "id": "nXZIbZqH8laU",
        "colab_type": "code",
        "outputId": "13f9cd96-66b5-4563-a925-4247c942b4b4",
        "colab": {
          "base_uri": "https://localhost:8080/",
          "height": 352
        }
      },
      "source": [
        "#plot data\n",
        "fig, ax = plt.subplots(figsize=(7,5))\n",
        "traindf.groupby(['Score']).count()['Id'].plot(ax=ax)"
      ],
      "execution_count": 22,
      "outputs": [
        {
          "output_type": "execute_result",
          "data": {
            "text/plain": [
              "<matplotlib.axes._subplots.AxesSubplot at 0x7fa2c0d80518>"
            ]
          },
          "metadata": {
            "tags": []
          },
          "execution_count": 22
        },
        {
          "output_type": "display_data",
          "data": {
            "image/png": "[encoded data removed]",
            "text/plain": [
              "<Figure size 504x360 with 1 Axes>"
            ]
          },
          "metadata": {
            "tags": []
          }
        }
      ]
    },
    {
      "cell_type": "code",
      "metadata": {
        "id": "beIXFECJ9wnU",
        "colab_type": "code",
        "outputId": "663a5001-d201-4ba2-f505-51fbb083691d",
        "colab": {
          "base_uri": "https://localhost:8080/",
          "height": 293
        }
      },
      "source": [
        "df = pd.DataFrame(data = traindf)\n",
        "df = df.replace(np.nan,0)\n",
        "df = df.groupby(['Score']).count()['Id']\n",
        "df.plot.bar()\n",
        "#ax = df.plot(kind='bar', figsize=(10,6), color=\"indigo\", fontsize=13);\n",
        "#ax.set_alpha(0.8)\n",
        "#ax.set_title(\"My Bar Plot\", fontsize=22)\n",
        "#ax.set_ylabel(\"Some Heading on Y-Axis\", fontsize=15);\n",
        "#plt.show()"
      ],
      "execution_count": 23,
      "outputs": [
        {
          "output_type": "execute_result",
          "data": {
            "text/plain": [
              "<matplotlib.axes._subplots.AxesSubplot at 0x7fa2b6606710>"
            ]
          },
          "metadata": {
            "tags": []
          },
          "execution_count": 23
        },
        {
          "output_type": "display_data",
          "data": {
            "image/png": "[encoded data removed]",
            "text/plain": [
              "<Figure size 432x288 with 1 Axes>"
            ]
          },
          "metadata": {
            "tags": []
          }
        }
      ]
    },
    {
      "cell_type": "code",
      "metadata": {
        "id": "0AAyv17eChR3",
        "colab_type": "code",
        "outputId": "f4a92c26-29fc-4ab2-be9b-5c686875d11d",
        "colab": {
          "base_uri": "https://localhost:8080/",
          "height": 54
        }
      },
      "source": [
        "traindf.loc[1,'Text']"
      ],
      "execution_count": 24,
      "outputs": [
        {
          "output_type": "execute_result",
          "data": {
            "text/plain": [
              "'*****<br />Numi\\'s Collection Assortment Melange includes:<br />5 Herbal Teas (caffeine-free, also called \"teasans\"):<br />* Dry Desert Lime: Lime Herbal Teasan<br />* Fields of Gold: Lemongrass Herbal Teasan<br />* Red Mellow Bush: Rooibos Herbal Teasan<br />* Bushmen\\'s Brew: Honeybush Herbal Teasan<br />* Simply Mint: Moroccan Mint<br /><br />2 Green Teas (lower in caffeine):<br />* Temple of Heaven: Gunpowder Green Tea<br />* Monkey King: Jasmine Green Tea<br /><br />2 Black Teas (contain caffeine):<br />* Chinese Breakfast: Yunnan Black Tea<br />* Smoky Tarry: Lapsang Souchong Black Tea<br /><br />This is a total of nine different teas, two tea bags of each one in each box. Numi teas are known for their high-quality, organic and kosher ingredients, and in my opinion, are some of the tastiest and best teas I have ever tried. They do not include artificial ingredients or flavorings.<br /><br />On the box, the manufacturer writes: \"From mist-covered mountains to sun-drenched deserts to fertile fields, we proudly bring you our tea palette. The flavors range from smooth earthiness, and light floral scents, to refreshingly sweet and sour notes. What they all share is the recollection of how some Ancient One tamed fire and water to coexist harmoniously, and steeped in them the gifts of Nature. Since that distant past, people have soothed, roused, healed, explored and celebrated with these wonderful infusions. We encourage you to do the same with Numi\\'s finest.\"<br /><br />The price is perfect, a big savings over single boxes. If you like Numi teas and want to sample a wonderful assortment, get it---you won\\'t be sorry. There may be some you like and others you don\\'t, but sampling them will be a delightful experience. If you are new to Numi this is an excellent way to sample their high-quality teas. I do not think you could find a better source of premium tea than Numi.<br /><br />Highly recommended.<br />*****'"
            ]
          },
          "metadata": {
            "tags": []
          },
          "execution_count": 24
        }
      ]
    },
    {
      "cell_type": "code",
      "metadata": {
        "id": "4N7EnrbvCshW",
        "colab_type": "code",
        "outputId": "de117269-ea10-4a8a-dca6-724a5c82c3d4",
        "colab": {
          "base_uri": "https://localhost:8080/",
          "height": 54
        }
      },
      "source": [
        "traindf.loc[0,'Text']"
      ],
      "execution_count": 25,
      "outputs": [
        {
          "output_type": "execute_result",
          "data": {
            "text/plain": [
              "'I received this product early from the seller! They are a very tastey & a Great mid-day snack. I have shared them with my Glutten Free Friends & they will be ordering this product & more very soon.'"
            ]
          },
          "metadata": {
            "tags": []
          },
          "execution_count": 25
        }
      ]
    },
    {
      "cell_type": "code",
      "metadata": {
        "id": "yk7xQSojCu1G",
        "colab_type": "code",
        "outputId": "8ff93dff-f612-4f17-961a-d294769e1f91",
        "colab": {
          "base_uri": "https://localhost:8080/",
          "height": 54
        }
      },
      "source": [
        "traindf.loc[100,'Text']"
      ],
      "execution_count": 26,
      "outputs": [
        {
          "output_type": "execute_result",
          "data": {
            "text/plain": [
              "'This review is for the Slim Jim .28oz (Pack of 100) Meat Snacks. Being a Type 2 diabetic, these are great snacks to have on hand since they are very low in carbs. The flavor is just spicy enough to make them interesting, but is certainly not overpowering.<br /><br />The casing is a little tough and it does seam a little more greasy than my favorite meat snack, <a href=\"http://www.amazon.com/gp/product/B000GW0UGG\">Jack Link\\'s X-Stick, Original, 0.5-Ounce X-Sticks (Pack of 50)</a>, but the smaller size makes Slim Jim good for a \"pocket snack\".<br /><br />Recommended!<br /><br />CFH'"
            ]
          },
          "metadata": {
            "tags": []
          },
          "execution_count": 26
        }
      ]
    },
    {
      "cell_type": "code",
      "metadata": {
        "id": "O9VFT1wNHxKC",
        "colab_type": "code",
        "outputId": "ec3d361e-e928-4609-c8c6-f25b40ee4727",
        "colab": {
          "base_uri": "https://localhost:8080/",
          "height": 52
        }
      },
      "source": [
        "print(\"Number of reviewed products: {}\".format(traindf[\"ProductId\"].nunique()))\n",
        "print(\"Number of users participated: {}\".format(traindf[\"UserId\"].nunique()))"
      ],
      "execution_count": 27,
      "outputs": [
        {
          "output_type": "stream",
          "text": [
            "Number of reviewed products: 65858\n",
            "Number of users participated: 210008\n"
          ],
          "name": "stdout"
        }
      ]
    },
    {
      "cell_type": "code",
      "metadata": {
        "id": "z1X5jER7IBb3",
        "colab_type": "code",
        "outputId": "52a15d36-1c14-4a71-a363-88c6b01c0142",
        "colab": {
          "base_uri": "https://localhost:8080/",
          "height": 247
        }
      },
      "source": [
        "pcount = traindf.groupby(['ProductId'])['Id'].count()\n",
        "pcount.sort_values(axis=0, ascending=False )"
      ],
      "execution_count": 28,
      "outputs": [
        {
          "output_type": "execute_result",
          "data": {
            "text/plain": [
              "ProductId\n",
              "B007JFMH8M    667\n",
              "B002QWP89S    478\n",
              "B002QWP8H0    477\n",
              "B002QWHJOU    477\n",
              "B0026RQTGE    466\n",
              "             ... \n",
              "B002W8LMH8      1\n",
              "B002W5OA8Y      1\n",
              "B002W51EWY      1\n",
              "B002W4IZ4K      1\n",
              "B001TP0EBA      1\n",
              "Name: Id, Length: 65858, dtype: int64"
            ]
          },
          "metadata": {
            "tags": []
          },
          "execution_count": 28
        }
      ]
    },
    {
      "cell_type": "markdown",
      "metadata": {
        "id": "5w5qw1ffOMTJ",
        "colab_type": "text"
      },
      "source": [
        "#**Normalization** \n",
        "Cleanup the data, then enrich it , stemming and lematization\n",
        "\n",
        "\n",
        "\n"
      ]
    },
    {
      "cell_type": "markdown",
      "metadata": {
        "id": "BVnnX6RN6ee7",
        "colab_type": "text"
      },
      "source": [
        "## Cleanup"
      ]
    },
    {
      "cell_type": "code",
      "metadata": {
        "id": "JlfXADyOsXJo",
        "colab_type": "code",
        "outputId": "6dfb4448-82ac-4fbb-8d3a-ed29bd0af2e6",
        "colab": {
          "base_uri": "https://localhost:8080/",
          "height": 283
        }
      },
      "source": [
        "traindf.info()"
      ],
      "execution_count": 29,
      "outputs": [
        {
          "output_type": "stream",
          "text": [
            "<class 'pandas.core.frame.DataFrame'>\n",
            "RangeIndex: 426340 entries, 0 to 426339\n",
            "Data columns (total 10 columns):\n",
            "Id                        426340 non-null int64\n",
            "ProductId                 426340 non-null object\n",
            "UserId                    426340 non-null object\n",
            "ProfileName               426326 non-null object\n",
            "HelpfulnessNumerator      426340 non-null int64\n",
            "HelpfulnessDenominator    426340 non-null int64\n",
            "Score                     426340 non-null int64\n",
            "Time                      426340 non-null int64\n",
            "Summary                   426320 non-null object\n",
            "Text                      426340 non-null object\n",
            "dtypes: int64(5), object(5)\n",
            "memory usage: 32.5+ MB\n"
          ],
          "name": "stdout"
        }
      ]
    },
    {
      "cell_type": "code",
      "metadata": {
        "id": "TjLEwgQMsgUT",
        "colab_type": "code",
        "outputId": "84ac13dd-c45c-4419-ce92-41c1786e13dc",
        "colab": {
          "base_uri": "https://localhost:8080/",
          "height": 534
        }
      },
      "source": [
        "#sorting the df then remove duplicates\n",
        "sorted=traindf.sort_values([\"UserId\",\"Score\",\"Summary\",\"Text\"],ascending=True,inplace=False,kind='quicksort',na_position='last')\n",
        "sorted.head()\n"
      ],
      "execution_count": 30,
      "outputs": [
        {
          "output_type": "execute_result",
          "data": {
            "text/html": [
              "<div>\n",
              "<style scoped>\n",
              "    .dataframe tbody tr th:only-of-type {\n",
              "        vertical-align: middle;\n",
              "    }\n",
              "\n",
              "    .dataframe tbody tr th {\n",
              "        vertical-align: top;\n",
              "    }\n",
              "\n",
              "    .dataframe thead th {\n",
              "        text-align: right;\n",
              "    }\n",
              "</style>\n",
              "<table border=\"1\" class=\"dataframe\">\n",
              "  <thead>\n",
              "    <tr style=\"text-align: right;\">\n",
              "      <th></th>\n",
              "      <th>Id</th>\n",
              "      <th>ProductId</th>\n",
              "      <th>UserId</th>\n",
              "      <th>ProfileName</th>\n",
              "      <th>HelpfulnessNumerator</th>\n",
              "      <th>HelpfulnessDenominator</th>\n",
              "      <th>Score</th>\n",
              "      <th>Time</th>\n",
              "      <th>Summary</th>\n",
              "      <th>Text</th>\n",
              "    </tr>\n",
              "  </thead>\n",
              "  <tbody>\n",
              "    <tr>\n",
              "      <th>109293</th>\n",
              "      <td>136323</td>\n",
              "      <td>B006Q820X0</td>\n",
              "      <td>#oc-R103C0QSV1DF5E</td>\n",
              "      <td>C</td>\n",
              "      <td>1</td>\n",
              "      <td>2</td>\n",
              "      <td>5</td>\n",
              "      <td>1343088000</td>\n",
              "      <td>Great for the Price</td>\n",
              "      <td>I have to say I was a little apprehensive to b...</td>\n",
              "    </tr>\n",
              "    <tr>\n",
              "      <th>70602</th>\n",
              "      <td>516062</td>\n",
              "      <td>B008I1XPKA</td>\n",
              "      <td>#oc-R109MU5OBBZ59U</td>\n",
              "      <td>AayGee</td>\n",
              "      <td>0</td>\n",
              "      <td>1</td>\n",
              "      <td>5</td>\n",
              "      <td>1350086400</td>\n",
              "      <td>AWESOME Coffee!!!!</td>\n",
              "      <td>Received my free K cups as a sample promotion ...</td>\n",
              "    </tr>\n",
              "    <tr>\n",
              "      <th>80036</th>\n",
              "      <td>516079</td>\n",
              "      <td>B008I1XPKA</td>\n",
              "      <td>#oc-R10LFEMQEW6QGZ</td>\n",
              "      <td>Julie</td>\n",
              "      <td>0</td>\n",
              "      <td>1</td>\n",
              "      <td>5</td>\n",
              "      <td>1345939200</td>\n",
              "      <td>Brooklyn Bean Roastery Breakfast Blend K-Cups</td>\n",
              "      <td>Brooklyn Bean Roastery Blend K-Cups are great ...</td>\n",
              "    </tr>\n",
              "    <tr>\n",
              "      <th>89988</th>\n",
              "      <td>378693</td>\n",
              "      <td>B0026LJ3EA</td>\n",
              "      <td>#oc-R10LT57ZGIB140</td>\n",
              "      <td>dipr</td>\n",
              "      <td>0</td>\n",
              "      <td>0</td>\n",
              "      <td>3</td>\n",
              "      <td>1310601600</td>\n",
              "      <td>Some damage</td>\n",
              "      <td>The shipment of the dog food was quick.  Howev...</td>\n",
              "    </tr>\n",
              "    <tr>\n",
              "      <th>5800</th>\n",
              "      <td>136545</td>\n",
              "      <td>B006Q820X0</td>\n",
              "      <td>#oc-R10UA029WVWIUI</td>\n",
              "      <td>Kim D</td>\n",
              "      <td>0</td>\n",
              "      <td>0</td>\n",
              "      <td>1</td>\n",
              "      <td>1342483200</td>\n",
              "      <td>Less than satisfactory.  I gave the Brooklyn K...</td>\n",
              "      <td>Brooklyn \"French Roast\" K-Cup Coffee is not on...</td>\n",
              "    </tr>\n",
              "  </tbody>\n",
              "</table>\n",
              "</div>"
            ],
            "text/plain": [
              "            Id  ...                                               Text\n",
              "109293  136323  ...  I have to say I was a little apprehensive to b...\n",
              "70602   516062  ...  Received my free K cups as a sample promotion ...\n",
              "80036   516079  ...  Brooklyn Bean Roastery Blend K-Cups are great ...\n",
              "89988   378693  ...  The shipment of the dog food was quick.  Howev...\n",
              "5800    136545  ...  Brooklyn \"French Roast\" K-Cup Coffee is not on...\n",
              "\n",
              "[5 rows x 10 columns]"
            ]
          },
          "metadata": {
            "tags": []
          },
          "execution_count": 30
        }
      ]
    },
    {
      "cell_type": "markdown",
      "metadata": {
        "id": "pxJG7cmit0qy",
        "colab_type": "text"
      },
      "source": [
        "**1. De-Duplication**\n",
        "\n"
      ]
    },
    {
      "cell_type": "code",
      "metadata": {
        "id": "UI-95k0LsqQD",
        "colab_type": "code",
        "outputId": "77bcb13c-a3df-4aa8-80aa-7dbad0f1d406",
        "colab": {
          "base_uri": "https://localhost:8080/",
          "height": 52
        }
      },
      "source": [
        "#drop_duplicates \n",
        "# ignore product id, look at if same user gave same score with same text\n",
        "# same Score, userid and text can help\n",
        "sorted=sorted.drop_duplicates(subset={\"UserId\",\"Score\",\"Summary\",\"Text\"},keep='first',inplace=False)\n",
        "print(sorted.shape)\n",
        "#remove any reviews that is marked as less helpful\n",
        "sorted=sorted[sorted.HelpfulnessNumerator<=sorted.HelpfulnessDenominator]\n",
        "sorted.shape"
      ],
      "execution_count": 31,
      "outputs": [
        {
          "output_type": "stream",
          "text": [
            "(309191, 10)\n"
          ],
          "name": "stdout"
        },
        {
          "output_type": "execute_result",
          "data": {
            "text/plain": [
              "(309190, 10)"
            ]
          },
          "metadata": {
            "tags": []
          },
          "execution_count": 31
        }
      ]
    },
    {
      "cell_type": "code",
      "metadata": {
        "id": "tg2FyOafs_5a",
        "colab_type": "code",
        "outputId": "f56c43d6-9efe-4945-be0c-9e1a67d09d94",
        "colab": {
          "base_uri": "https://localhost:8080/",
          "height": 70
        }
      },
      "source": [
        "#percentage of data remaining after removing duplicates to the data we initially took.\n",
        "duplicates = (traindf['Id'].size*1.0) - (sorted['Id'].size*1.0)\n",
        "percent = (sorted['Id'].size*1.0)/(traindf['Id'].size*1.0)*100\n",
        "print('Duplicate records: ', duplicates)\n",
        "print('Unique ratio: ', percent)\n",
        "print('Deduplicated data set len: ', sorted['Id'].size*1.0)\n",
        "traindf = sorted"
      ],
      "execution_count": 32,
      "outputs": [
        {
          "output_type": "stream",
          "text": [
            "Duplicate records:  117150.0\n",
            "Unique ratio:  72.52193085330957\n",
            "Deduplicated data set len:  309190.0\n"
          ],
          "name": "stdout"
        }
      ]
    },
    {
      "cell_type": "markdown",
      "metadata": {
        "id": "SlCC0pANujLf",
        "colab_type": "text"
      },
      "source": [
        "**Handling** **NA** "
      ]
    },
    {
      "cell_type": "code",
      "metadata": {
        "id": "K1XAoSw9uhpq",
        "colab_type": "code",
        "colab": {}
      },
      "source": [
        "traindf.Summary.fillna(' ', inplace=True)\n",
        "traindf.Text.fillna(' ', inplace=True)"
      ],
      "execution_count": 0,
      "outputs": []
    },
    {
      "cell_type": "markdown",
      "metadata": {
        "id": "4b4sscVuvUCd",
        "colab_type": "text"
      },
      "source": [
        "Merge Text and Summary to Form \"REVIEW\", then do cleanup on REVIEW\n",
        "\n",
        "1.   Remove HTML tags\n",
        "2.   Remove numbers\n",
        "3.   Remove [] \n",
        "4.   Remove &, -, '_'\n",
        "\n",
        "\n",
        "\n"
      ]
    },
    {
      "cell_type": "code",
      "metadata": {
        "id": "rTJKW1TqOVnk",
        "colab_type": "code",
        "colab": {}
      },
      "source": [
        "def remove_html(text):\n",
        "    from bs4 import BeautifulSoup\n",
        "    soup = BeautifulSoup(text, \"html.parser\")\n",
        "    return soup.get_text()"
      ],
      "execution_count": 0,
      "outputs": []
    },
    {
      "cell_type": "code",
      "metadata": {
        "id": "v79-hohPOkrq",
        "colab_type": "code",
        "colab": {}
      },
      "source": [
        "def remove_square(text):\n",
        "  return re.sub('\\[[^]]*\\]', '', text)\n",
        "  "
      ],
      "execution_count": 0,
      "outputs": []
    },
    {
      "cell_type": "code",
      "metadata": {
        "id": "LuvRn6gaPIdm",
        "colab_type": "code",
        "colab": {}
      },
      "source": [
        "def remove_number(text):\n",
        "  return re.sub(r'\\d+', '', text)"
      ],
      "execution_count": 0,
      "outputs": []
    },
    {
      "cell_type": "code",
      "metadata": {
        "id": "1l89gH98pM0g",
        "colab_type": "code",
        "colab": {}
      },
      "source": [
        "def extract_alpha(text):\n",
        "  #return re.sub(r'\\W+',' ', text)\n",
        "  return re.sub(r'[^A-Za-z]+',' ', text)\n"
      ],
      "execution_count": 0,
      "outputs": []
    },
    {
      "cell_type": "code",
      "metadata": {
        "id": "3JjUBxO4q4Si",
        "colab_type": "code",
        "colab": {}
      },
      "source": [
        "def meaningful_sub(text):\n",
        "  return re.sub(r'(?<= )&(?= )', \"and\", text)"
      ],
      "execution_count": 0,
      "outputs": []
    },
    {
      "cell_type": "code",
      "metadata": {
        "id": "xayu9QDBPfxU",
        "colab_type": "code",
        "colab": {}
      },
      "source": [
        "def do_some_cleaning(text):\n",
        "  text = remove_html(text)\n",
        "  text = remove_square(text)\n",
        "  #text = meaningful_sub(text)\n",
        "  text = extract_alpha(text)\n",
        "  #text = remove_number(text)\n",
        "  return text\n"
      ],
      "execution_count": 0,
      "outputs": []
    },
    {
      "cell_type": "code",
      "metadata": {
        "id": "Qymm7ykuPxbL",
        "colab_type": "code",
        "colab": {}
      },
      "source": [
        "def merge_then_clean(df):\n",
        "  df['Review'] = traindf[traindf.columns[8:]].apply(\n",
        "    lambda x: ' '.join(x.astype(str)),\n",
        "    axis=1\n",
        ")\n",
        "  df['Review'] = df.apply(lambda row: do_some_cleaning(row['Review']), axis=1)\n",
        "  return df"
      ],
      "execution_count": 0,
      "outputs": []
    },
    {
      "cell_type": "code",
      "metadata": {
        "id": "DRGMwYU5iG7d",
        "colab_type": "code",
        "outputId": "05c8f33f-9de0-4067-e35c-3cd4d0a324f8",
        "colab": {
          "base_uri": "https://localhost:8080/",
          "height": 52
        }
      },
      "source": [
        "#traindf = merge_then_clean(traindf)\n",
        "#traindf = execute_in_parallel(traindf, merge_then_clean, mp.cpu_count())\n",
        "pandarallel.initialize()\n",
        "traindf['Review'] = traindf[traindf.columns[8:]].parallel_apply(\n",
        "    lambda x: ' '.join(x.astype(str)),\n",
        "    axis=1\n",
        ")"
      ],
      "execution_count": 41,
      "outputs": [
        {
          "output_type": "stream",
          "text": [
            "INFO: Pandarallel will run on 4 workers.\n",
            "INFO: Pandarallel will use Memory file system to transfer data between the main process and workers.\n"
          ],
          "name": "stdout"
        }
      ]
    },
    {
      "cell_type": "code",
      "metadata": {
        "id": "JghmuvRUvLkH",
        "colab_type": "code",
        "outputId": "544b073c-e2ed-4c1f-88c1-3e71e97680bc",
        "colab": {
          "base_uri": "https://localhost:8080/",
          "height": 52
        }
      },
      "source": [
        "pandarallel.initialize()\n",
        "traindf['Review'] = traindf.parallel_apply(lambda row: do_some_cleaning(row['Review']), axis=1)"
      ],
      "execution_count": 42,
      "outputs": [
        {
          "output_type": "stream",
          "text": [
            "INFO: Pandarallel will run on 4 workers.\n",
            "INFO: Pandarallel will use Memory file system to transfer data between the main process and workers.\n"
          ],
          "name": "stdout"
        }
      ]
    },
    {
      "cell_type": "code",
      "metadata": {
        "id": "D6ddhGKvwd0p",
        "colab_type": "code",
        "colab": {}
      },
      "source": [
        "#drop some coloumns, as we do not need it now.\n",
        "originaldf = pd.DataFrame(traindf)\n",
        "traindf = traindf.drop(['ProductId','UserId','ProfileName','HelpfulnessNumerator','HelpfulnessDenominator','Summary','Text'], axis = 1)"
      ],
      "execution_count": 0,
      "outputs": []
    },
    {
      "cell_type": "code",
      "metadata": {
        "id": "eGfz6XrXU0ix",
        "colab_type": "code",
        "outputId": "bc74dafa-2ffe-4e7d-fcf3-3caf11a0162c",
        "colab": {
          "base_uri": "https://localhost:8080/",
          "height": 197
        }
      },
      "source": [
        "traindf.head()"
      ],
      "execution_count": 44,
      "outputs": [
        {
          "output_type": "execute_result",
          "data": {
            "text/html": [
              "<div>\n",
              "<style scoped>\n",
              "    .dataframe tbody tr th:only-of-type {\n",
              "        vertical-align: middle;\n",
              "    }\n",
              "\n",
              "    .dataframe tbody tr th {\n",
              "        vertical-align: top;\n",
              "    }\n",
              "\n",
              "    .dataframe thead th {\n",
              "        text-align: right;\n",
              "    }\n",
              "</style>\n",
              "<table border=\"1\" class=\"dataframe\">\n",
              "  <thead>\n",
              "    <tr style=\"text-align: right;\">\n",
              "      <th></th>\n",
              "      <th>Id</th>\n",
              "      <th>Score</th>\n",
              "      <th>Time</th>\n",
              "      <th>Review</th>\n",
              "    </tr>\n",
              "  </thead>\n",
              "  <tbody>\n",
              "    <tr>\n",
              "      <th>109293</th>\n",
              "      <td>136323</td>\n",
              "      <td>5</td>\n",
              "      <td>1343088000</td>\n",
              "      <td>Great for the Price I have to say I was a litt...</td>\n",
              "    </tr>\n",
              "    <tr>\n",
              "      <th>70602</th>\n",
              "      <td>516062</td>\n",
              "      <td>5</td>\n",
              "      <td>1350086400</td>\n",
              "      <td>AWESOME Coffee Received my free K cups as a sa...</td>\n",
              "    </tr>\n",
              "    <tr>\n",
              "      <th>80036</th>\n",
              "      <td>516079</td>\n",
              "      <td>5</td>\n",
              "      <td>1345939200</td>\n",
              "      <td>Brooklyn Bean Roastery Breakfast Blend K Cups ...</td>\n",
              "    </tr>\n",
              "    <tr>\n",
              "      <th>89988</th>\n",
              "      <td>378693</td>\n",
              "      <td>3</td>\n",
              "      <td>1310601600</td>\n",
              "      <td>Some damage The shipment of the dog food was q...</td>\n",
              "    </tr>\n",
              "    <tr>\n",
              "      <th>5800</th>\n",
              "      <td>136545</td>\n",
              "      <td>1</td>\n",
              "      <td>1342483200</td>\n",
              "      <td>Less than satisfactory I gave the Brooklyn K C...</td>\n",
              "    </tr>\n",
              "  </tbody>\n",
              "</table>\n",
              "</div>"
            ],
            "text/plain": [
              "            Id  ...                                             Review\n",
              "109293  136323  ...  Great for the Price I have to say I was a litt...\n",
              "70602   516062  ...  AWESOME Coffee Received my free K cups as a sa...\n",
              "80036   516079  ...  Brooklyn Bean Roastery Breakfast Blend K Cups ...\n",
              "89988   378693  ...  Some damage The shipment of the dog food was q...\n",
              "5800    136545  ...  Less than satisfactory I gave the Brooklyn K C...\n",
              "\n",
              "[5 rows x 4 columns]"
            ]
          },
          "metadata": {
            "tags": []
          },
          "execution_count": 44
        }
      ]
    },
    {
      "cell_type": "code",
      "metadata": {
        "id": "hV0rVO69U8D2",
        "colab_type": "code",
        "outputId": "a1c7d0bb-d33e-485c-a4a4-0522c9c6bc5a",
        "colab": {
          "base_uri": "https://localhost:8080/",
          "height": 197
        }
      },
      "source": [
        "traindf.tail()"
      ],
      "execution_count": 45,
      "outputs": [
        {
          "output_type": "execute_result",
          "data": {
            "text/html": [
              "<div>\n",
              "<style scoped>\n",
              "    .dataframe tbody tr th:only-of-type {\n",
              "        vertical-align: middle;\n",
              "    }\n",
              "\n",
              "    .dataframe tbody tr th {\n",
              "        vertical-align: top;\n",
              "    }\n",
              "\n",
              "    .dataframe thead th {\n",
              "        text-align: right;\n",
              "    }\n",
              "</style>\n",
              "<table border=\"1\" class=\"dataframe\">\n",
              "  <thead>\n",
              "    <tr style=\"text-align: right;\">\n",
              "      <th></th>\n",
              "      <th>Id</th>\n",
              "      <th>Score</th>\n",
              "      <th>Time</th>\n",
              "      <th>Review</th>\n",
              "    </tr>\n",
              "  </thead>\n",
              "  <tbody>\n",
              "    <tr>\n",
              "      <th>206340</th>\n",
              "      <td>338489</td>\n",
              "      <td>5</td>\n",
              "      <td>1329436800</td>\n",
              "      <td>Just what I needed This is a great addition to...</td>\n",
              "    </tr>\n",
              "    <tr>\n",
              "      <th>423327</th>\n",
              "      <td>190698</td>\n",
              "      <td>5</td>\n",
              "      <td>1268179200</td>\n",
              "      <td>pretty amazing i ve wanted one of these since ...</td>\n",
              "    </tr>\n",
              "    <tr>\n",
              "      <th>369037</th>\n",
              "      <td>222781</td>\n",
              "      <td>5</td>\n",
              "      <td>1309737600</td>\n",
              "      <td>I Have Spoken All of the chocolate arrived wit...</td>\n",
              "    </tr>\n",
              "    <tr>\n",
              "      <th>425126</th>\n",
              "      <td>131469</td>\n",
              "      <td>5</td>\n",
              "      <td>1337472000</td>\n",
              "      <td>Amazing flavor I use this all the time Good fo...</td>\n",
              "    </tr>\n",
              "    <tr>\n",
              "      <th>162126</th>\n",
              "      <td>183897</td>\n",
              "      <td>2</td>\n",
              "      <td>1333497600</td>\n",
              "      <td>Disappointed I ordered this cereal based on th...</td>\n",
              "    </tr>\n",
              "  </tbody>\n",
              "</table>\n",
              "</div>"
            ],
            "text/plain": [
              "            Id  ...                                             Review\n",
              "206340  338489  ...  Just what I needed This is a great addition to...\n",
              "423327  190698  ...  pretty amazing i ve wanted one of these since ...\n",
              "369037  222781  ...  I Have Spoken All of the chocolate arrived wit...\n",
              "425126  131469  ...  Amazing flavor I use this all the time Good fo...\n",
              "162126  183897  ...  Disappointed I ordered this cereal based on th...\n",
              "\n",
              "[5 rows x 4 columns]"
            ]
          },
          "metadata": {
            "tags": []
          },
          "execution_count": 45
        }
      ]
    },
    {
      "cell_type": "code",
      "metadata": {
        "id": "6LF_ERJPGKHr",
        "colab_type": "code",
        "outputId": "95f39551-2c30-4df6-ebdf-33202aac9627",
        "colab": {
          "base_uri": "https://localhost:8080/",
          "height": 54
        }
      },
      "source": [
        "traindf.loc[1,'Review']"
      ],
      "execution_count": 46,
      "outputs": [
        {
          "output_type": "execute_result",
          "data": {
            "text/plain": [
              "'Organic Kosher Tasty Assortment of Premium Teas Teasans Numi s Collection Assortment Melange includes Herbal Teas caffeine free also called teasans Dry Desert Lime Lime Herbal Teasan Fields of Gold Lemongrass Herbal Teasan Red Mellow Bush Rooibos Herbal Teasan Bushmen s Brew Honeybush Herbal Teasan Simply Mint Moroccan Mint Green Teas lower in caffeine Temple of Heaven Gunpowder Green Tea Monkey King Jasmine Green Tea Black Teas contain caffeine Chinese Breakfast Yunnan Black Tea Smoky Tarry Lapsang Souchong Black TeaThis is a total of nine different teas two tea bags of each one in each box Numi teas are known for their high quality organic and kosher ingredients and in my opinion are some of the tastiest and best teas I have ever tried They do not include artificial ingredients or flavorings On the box the manufacturer writes From mist covered mountains to sun drenched deserts to fertile fields we proudly bring you our tea palette The flavors range from smooth earthiness and light floral scents to refreshingly sweet and sour notes What they all share is the recollection of how some Ancient One tamed fire and water to coexist harmoniously and steeped in them the gifts of Nature Since that distant past people have soothed roused healed explored and celebrated with these wonderful infusions We encourage you to do the same with Numi s finest The price is perfect a big savings over single boxes If you like Numi teas and want to sample a wonderful assortment get it you won t be sorry There may be some you like and others you don t but sampling them will be a delightful experience If you are new to Numi this is an excellent way to sample their high quality teas I do not think you could find a better source of premium tea than Numi Highly recommended '"
            ]
          },
          "metadata": {
            "tags": []
          },
          "execution_count": 46
        }
      ]
    },
    {
      "cell_type": "code",
      "metadata": {
        "id": "W10AxpjQGbZH",
        "colab_type": "code",
        "outputId": "71b48a68-482a-4aff-cbdc-130f448daa2f",
        "colab": {
          "base_uri": "https://localhost:8080/",
          "height": 54
        }
      },
      "source": [
        "traindf.loc[0,'Review']"
      ],
      "execution_count": 47,
      "outputs": [
        {
          "output_type": "execute_result",
          "data": {
            "text/plain": [
              "'Very Good I received this product early from the seller They are a very tastey a Great mid day snack I have shared them with my Glutten Free Friends they will be ordering this product more very soon '"
            ]
          },
          "metadata": {
            "tags": []
          },
          "execution_count": 47
        }
      ]
    },
    {
      "cell_type": "code",
      "metadata": {
        "id": "sD3jUHU6JMZP",
        "colab_type": "code",
        "colab": {}
      },
      "source": [
        "originaldf.to_csv(stemfile)"
      ],
      "execution_count": 0,
      "outputs": []
    },
    {
      "cell_type": "markdown",
      "metadata": {
        "id": "mRE-EkFeIY01",
        "colab_type": "text"
      },
      "source": [
        "**Lets see how many reviews available against the scrores** \n"
      ]
    },
    {
      "cell_type": "code",
      "metadata": {
        "id": "1Zo4QpacIwG5",
        "colab_type": "code",
        "outputId": "f34b80cb-c753-4f11-ac10-c93db8a24e3a",
        "colab": {
          "base_uri": "https://localhost:8080/",
          "height": 227
        }
      },
      "source": [
        "traindf.groupby('Score').count()"
      ],
      "execution_count": 49,
      "outputs": [
        {
          "output_type": "execute_result",
          "data": {
            "text/html": [
              "<div>\n",
              "<style scoped>\n",
              "    .dataframe tbody tr th:only-of-type {\n",
              "        vertical-align: middle;\n",
              "    }\n",
              "\n",
              "    .dataframe tbody tr th {\n",
              "        vertical-align: top;\n",
              "    }\n",
              "\n",
              "    .dataframe thead th {\n",
              "        text-align: right;\n",
              "    }\n",
              "</style>\n",
              "<table border=\"1\" class=\"dataframe\">\n",
              "  <thead>\n",
              "    <tr style=\"text-align: right;\">\n",
              "      <th></th>\n",
              "      <th>Id</th>\n",
              "      <th>Time</th>\n",
              "      <th>Review</th>\n",
              "    </tr>\n",
              "    <tr>\n",
              "      <th>Score</th>\n",
              "      <th></th>\n",
              "      <th></th>\n",
              "      <th></th>\n",
              "    </tr>\n",
              "  </thead>\n",
              "  <tbody>\n",
              "    <tr>\n",
              "      <th>1</th>\n",
              "      <td>28531</td>\n",
              "      <td>28531</td>\n",
              "      <td>28531</td>\n",
              "    </tr>\n",
              "    <tr>\n",
              "      <th>2</th>\n",
              "      <td>16290</td>\n",
              "      <td>16290</td>\n",
              "      <td>16290</td>\n",
              "    </tr>\n",
              "    <tr>\n",
              "      <th>3</th>\n",
              "      <td>23302</td>\n",
              "      <td>23302</td>\n",
              "      <td>23302</td>\n",
              "    </tr>\n",
              "    <tr>\n",
              "      <th>4</th>\n",
              "      <td>43879</td>\n",
              "      <td>43879</td>\n",
              "      <td>43879</td>\n",
              "    </tr>\n",
              "    <tr>\n",
              "      <th>5</th>\n",
              "      <td>197188</td>\n",
              "      <td>197188</td>\n",
              "      <td>197188</td>\n",
              "    </tr>\n",
              "  </tbody>\n",
              "</table>\n",
              "</div>"
            ],
            "text/plain": [
              "           Id    Time  Review\n",
              "Score                        \n",
              "1       28531   28531   28531\n",
              "2       16290   16290   16290\n",
              "3       23302   23302   23302\n",
              "4       43879   43879   43879\n",
              "5      197188  197188  197188"
            ]
          },
          "metadata": {
            "tags": []
          },
          "execution_count": 49
        }
      ]
    },
    {
      "cell_type": "markdown",
      "metadata": {
        "id": "qsnp81UK6udb",
        "colab_type": "text"
      },
      "source": [
        "## Enrich"
      ]
    },
    {
      "cell_type": "markdown",
      "metadata": {
        "id": "kOF5D8l-JXNT",
        "colab_type": "text"
      },
      "source": [
        "Introduce a new coloumn , so reviews with score more than 3 are positive, and below 3 are negative, 3 is neutral. Posive gets +1, negative -1 and neutral is 0"
      ]
    },
    {
      "cell_type": "code",
      "metadata": {
        "id": "HOBEe2-lJpWy",
        "colab_type": "code",
        "colab": {}
      },
      "source": [
        "traindf['Positivity'] = np.where(traindf['Score'] > 3, 1, np.where(traindf['Score'] < 3, -1, 0))"
      ],
      "execution_count": 0,
      "outputs": []
    },
    {
      "cell_type": "code",
      "metadata": {
        "id": "0oUmB3BgKjsV",
        "colab_type": "code",
        "outputId": "5f4353fd-6d35-4b61-dfe9-b39eea31f005",
        "colab": {
          "base_uri": "https://localhost:8080/",
          "height": 167
        }
      },
      "source": [
        "traindf.groupby('Positivity').count()"
      ],
      "execution_count": 51,
      "outputs": [
        {
          "output_type": "execute_result",
          "data": {
            "text/html": [
              "<div>\n",
              "<style scoped>\n",
              "    .dataframe tbody tr th:only-of-type {\n",
              "        vertical-align: middle;\n",
              "    }\n",
              "\n",
              "    .dataframe tbody tr th {\n",
              "        vertical-align: top;\n",
              "    }\n",
              "\n",
              "    .dataframe thead th {\n",
              "        text-align: right;\n",
              "    }\n",
              "</style>\n",
              "<table border=\"1\" class=\"dataframe\">\n",
              "  <thead>\n",
              "    <tr style=\"text-align: right;\">\n",
              "      <th></th>\n",
              "      <th>Id</th>\n",
              "      <th>Score</th>\n",
              "      <th>Time</th>\n",
              "      <th>Review</th>\n",
              "    </tr>\n",
              "    <tr>\n",
              "      <th>Positivity</th>\n",
              "      <th></th>\n",
              "      <th></th>\n",
              "      <th></th>\n",
              "      <th></th>\n",
              "    </tr>\n",
              "  </thead>\n",
              "  <tbody>\n",
              "    <tr>\n",
              "      <th>-1</th>\n",
              "      <td>44821</td>\n",
              "      <td>44821</td>\n",
              "      <td>44821</td>\n",
              "      <td>44821</td>\n",
              "    </tr>\n",
              "    <tr>\n",
              "      <th>0</th>\n",
              "      <td>23302</td>\n",
              "      <td>23302</td>\n",
              "      <td>23302</td>\n",
              "      <td>23302</td>\n",
              "    </tr>\n",
              "    <tr>\n",
              "      <th>1</th>\n",
              "      <td>241067</td>\n",
              "      <td>241067</td>\n",
              "      <td>241067</td>\n",
              "      <td>241067</td>\n",
              "    </tr>\n",
              "  </tbody>\n",
              "</table>\n",
              "</div>"
            ],
            "text/plain": [
              "                Id   Score    Time  Review\n",
              "Positivity                                \n",
              "-1           44821   44821   44821   44821\n",
              " 0           23302   23302   23302   23302\n",
              " 1          241067  241067  241067  241067"
            ]
          },
          "metadata": {
            "tags": []
          },
          "execution_count": 51
        }
      ]
    },
    {
      "cell_type": "code",
      "metadata": {
        "id": "TgYmQlGOC5hQ",
        "colab_type": "code",
        "outputId": "5f099888-783f-43a5-b774-b5ace00e5826",
        "colab": {
          "base_uri": "https://localhost:8080/",
          "height": 298
        }
      },
      "source": [
        "df = pd.DataFrame(data = traindf)\n",
        "df = df.replace(np.nan,0)\n",
        "df = df.groupby(['Positivity']).count()['Score']\n",
        "df.plot.bar()"
      ],
      "execution_count": 52,
      "outputs": [
        {
          "output_type": "execute_result",
          "data": {
            "text/plain": [
              "<matplotlib.axes._subplots.AxesSubplot at 0x7fa2b2c726d8>"
            ]
          },
          "metadata": {
            "tags": []
          },
          "execution_count": 52
        },
        {
          "output_type": "display_data",
          "data": {
            "image/png": "[encoded data removed]",
            "text/plain": [
              "<Figure size 432x288 with 1 Axes>"
            ]
          },
          "metadata": {
            "tags": []
          }
        }
      ]
    },
    {
      "cell_type": "markdown",
      "metadata": {
        "id": "JjD_LfGSOZIT",
        "colab_type": "text"
      },
      "source": [
        "##**Tokenizing**\n",
        "\n"
      ]
    },
    {
      "cell_type": "code",
      "metadata": {
        "id": "Kpmfj3VgHEzX",
        "colab_type": "code",
        "outputId": "aaefc8c6-23e8-49bc-bc34-cce939872459",
        "colab": {
          "base_uri": "https://localhost:8080/",
          "height": 197
        }
      },
      "source": [
        "traindf.head()"
      ],
      "execution_count": 53,
      "outputs": [
        {
          "output_type": "execute_result",
          "data": {
            "text/html": [
              "<div>\n",
              "<style scoped>\n",
              "    .dataframe tbody tr th:only-of-type {\n",
              "        vertical-align: middle;\n",
              "    }\n",
              "\n",
              "    .dataframe tbody tr th {\n",
              "        vertical-align: top;\n",
              "    }\n",
              "\n",
              "    .dataframe thead th {\n",
              "        text-align: right;\n",
              "    }\n",
              "</style>\n",
              "<table border=\"1\" class=\"dataframe\">\n",
              "  <thead>\n",
              "    <tr style=\"text-align: right;\">\n",
              "      <th></th>\n",
              "      <th>Id</th>\n",
              "      <th>Score</th>\n",
              "      <th>Time</th>\n",
              "      <th>Review</th>\n",
              "      <th>Positivity</th>\n",
              "    </tr>\n",
              "  </thead>\n",
              "  <tbody>\n",
              "    <tr>\n",
              "      <th>109293</th>\n",
              "      <td>136323</td>\n",
              "      <td>5</td>\n",
              "      <td>1343088000</td>\n",
              "      <td>Great for the Price I have to say I was a litt...</td>\n",
              "      <td>1</td>\n",
              "    </tr>\n",
              "    <tr>\n",
              "      <th>70602</th>\n",
              "      <td>516062</td>\n",
              "      <td>5</td>\n",
              "      <td>1350086400</td>\n",
              "      <td>AWESOME Coffee Received my free K cups as a sa...</td>\n",
              "      <td>1</td>\n",
              "    </tr>\n",
              "    <tr>\n",
              "      <th>80036</th>\n",
              "      <td>516079</td>\n",
              "      <td>5</td>\n",
              "      <td>1345939200</td>\n",
              "      <td>Brooklyn Bean Roastery Breakfast Blend K Cups ...</td>\n",
              "      <td>1</td>\n",
              "    </tr>\n",
              "    <tr>\n",
              "      <th>89988</th>\n",
              "      <td>378693</td>\n",
              "      <td>3</td>\n",
              "      <td>1310601600</td>\n",
              "      <td>Some damage The shipment of the dog food was q...</td>\n",
              "      <td>0</td>\n",
              "    </tr>\n",
              "    <tr>\n",
              "      <th>5800</th>\n",
              "      <td>136545</td>\n",
              "      <td>1</td>\n",
              "      <td>1342483200</td>\n",
              "      <td>Less than satisfactory I gave the Brooklyn K C...</td>\n",
              "      <td>-1</td>\n",
              "    </tr>\n",
              "  </tbody>\n",
              "</table>\n",
              "</div>"
            ],
            "text/plain": [
              "            Id  ...  Positivity\n",
              "109293  136323  ...           1\n",
              "70602   516062  ...           1\n",
              "80036   516079  ...           1\n",
              "89988   378693  ...           0\n",
              "5800    136545  ...          -1\n",
              "\n",
              "[5 rows x 5 columns]"
            ]
          },
          "metadata": {
            "tags": []
          },
          "execution_count": 53
        }
      ]
    },
    {
      "cell_type": "code",
      "metadata": {
        "id": "QU4LvjU_84X4",
        "colab_type": "code",
        "colab": {}
      },
      "source": [
        " stop_words = set(stopwords.words('english'))"
      ],
      "execution_count": 0,
      "outputs": []
    },
    {
      "cell_type": "code",
      "metadata": {
        "id": "d5Zq5y0p89CU",
        "colab_type": "code",
        "outputId": "bf6a2990-1e1f-42d5-96bc-4096d56b6d03",
        "colab": {
          "base_uri": "https://localhost:8080/",
          "height": 54
        }
      },
      "source": [
        "print(stop_words)"
      ],
      "execution_count": 55,
      "outputs": [
        {
          "output_type": "stream",
          "text": [
            "{'few', 'as', 'if', 'll', 'same', 'no', 'o', 'they', 's', \"it's\", 'further', 'in', 'him', \"weren't\", 'below', 'have', 'how', \"should've\", 'where', 'am', 'their', 'over', 'once', 'be', 'what', 'myself', 'ain', 'herself', 'itself', 'under', 'just', 'a', 're', \"shan't\", 'my', \"she's\", 'because', 'at', 'who', 'yourself', 'whom', \"you'd\", 'from', 'and', 'all', 'haven', 'most', 'needn', \"mustn't\", 'been', 'very', 'some', 've', 'when', \"mightn't\", 'are', 'by', 'on', \"you're\", 'himself', \"don't\", 'does', 'more', 'now', 'any', 'before', \"didn't\", 'his', 'the', 'he', 'shouldn', 'its', 'both', 'hers', 'out', 'but', 'each', \"you'll\", 'did', 'yourselves', 'will', \"couldn't\", \"aren't\", 'won', 'into', 'them', 'above', 'why', 'not', 'against', 'themselves', \"haven't\", 'only', 'here', 'your', \"that'll\", 'it', 'doing', 'until', 'own', 'is', 'hasn', 'of', 'mightn', 'theirs', 'we', 'or', \"you've\", 'do', 'yours', 'too', \"needn't\", \"won't\", \"wouldn't\", 'don', 'doesn', 'wouldn', 'other', 'than', 'didn', 'with', 'those', 'between', 'can', 'ma', \"hasn't\", \"wasn't\", 'down', 'you', 'to', 'our', 't', 'ourselves', \"isn't\", 'about', 'was', 'off', 'through', 'that', 'this', 'which', \"shouldn't\", 'hadn', 'has', 'd', \"hadn't\", 'isn', 'shan', 'again', 'were', 'during', 'having', 'me', 'these', 'up', 'y', 'mustn', 'had', 'she', 'so', 'there', 'weren', 'ours', 'then', 'for', 'such', 'm', 'nor', 'being', 'i', \"doesn't\", 'her', 'wasn', 'an', 'while', 'aren', 'couldn', 'after', 'should'}\n"
          ],
          "name": "stdout"
        }
      ]
    },
    {
      "cell_type": "code",
      "metadata": {
        "id": "ZMneD-wW9YRK",
        "colab_type": "code",
        "colab": {}
      },
      "source": [
        "#remove No, nor, not from Stop Words, as these are negative words and contribute to sentiment.\n",
        "neg_words = ['no','not','nor']\n",
        "for word in list(stop_words):  # iterating on a copy since removing will mess things up\n",
        "    if word in neg_words:\n",
        "        stop_words.remove(word)"
      ],
      "execution_count": 0,
      "outputs": []
    },
    {
      "cell_type": "code",
      "metadata": {
        "id": "L8SIZQwX93QO",
        "colab_type": "code",
        "outputId": "16aba2ec-2705-4af7-b951-d74e45c212e6",
        "colab": {
          "base_uri": "https://localhost:8080/",
          "height": 54
        }
      },
      "source": [
        "print(stop_words)"
      ],
      "execution_count": 57,
      "outputs": [
        {
          "output_type": "stream",
          "text": [
            "{'few', 'as', 'if', 'll', 'same', 'o', 'they', 's', \"it's\", 'further', 'in', 'him', \"weren't\", 'below', 'have', 'how', \"should've\", 'where', 'am', 'their', 'over', 'once', 'be', 'what', 'myself', 'ain', 'herself', 'itself', 'under', 'just', 'a', 're', \"shan't\", 'my', \"she's\", 'because', 'at', 'who', 'yourself', 'whom', \"you'd\", 'from', 'and', 'all', 'haven', 'most', 'needn', \"mustn't\", 'been', 'very', 'some', 've', 'when', \"mightn't\", 'are', 'by', 'on', \"you're\", 'himself', \"don't\", 'does', 'more', 'now', 'any', 'before', \"didn't\", 'his', 'the', 'he', 'shouldn', 'its', 'both', 'hers', 'out', 'but', 'each', \"you'll\", 'did', 'yourselves', 'will', \"couldn't\", \"aren't\", 'won', 'into', 'them', 'above', 'why', 'against', 'themselves', \"haven't\", 'only', 'here', 'your', \"that'll\", 'it', 'doing', 'until', 'own', 'is', 'hasn', 'of', 'mightn', 'theirs', 'we', 'or', \"you've\", 'do', 'yours', 'too', \"needn't\", \"won't\", \"wouldn't\", 'don', 'doesn', 'wouldn', 'other', 'than', 'didn', 'with', 'those', 'between', 'can', 'ma', \"hasn't\", \"wasn't\", 'down', 'you', 'to', 'our', 't', 'ourselves', \"isn't\", 'about', 'was', 'off', 'through', 'that', 'this', 'which', \"shouldn't\", 'hadn', 'has', 'd', \"hadn't\", 'isn', 'shan', 'again', 'were', 'during', 'having', 'me', 'these', 'up', 'y', 'mustn', 'had', 'she', 'so', 'there', 'weren', 'ours', 'then', 'for', 'such', 'm', 'being', 'i', \"doesn't\", 'her', 'wasn', 'an', 'while', 'aren', 'couldn', 'after', 'should'}\n"
          ],
          "name": "stdout"
        }
      ]
    },
    {
      "cell_type": "code",
      "metadata": {
        "id": "seu-Fe3IwNBU",
        "colab_type": "code",
        "colab": {}
      },
      "source": [
        "#tokenize and remove stop words\n",
        "def tokenize_wo_stop(text):\n",
        "  text1 = text\n",
        "  text1 = text1.lower()\n",
        "  words      = word_tokenize(text1)\n",
        "  filtered   = [] \n",
        "  #filter stop words from words\n",
        "  for word in words: \n",
        "    if word not in stop_words: \n",
        "        filtered.append(word) \n",
        "  \n",
        "  return filtered\n"
      ],
      "execution_count": 0,
      "outputs": []
    },
    {
      "cell_type": "code",
      "metadata": {
        "id": "y2N43mqwx5cA",
        "colab_type": "code",
        "outputId": "dfa71bb8-77ee-4e71-cd44-f971b14ff6f0",
        "colab": {
          "base_uri": "https://localhost:8080/",
          "height": 72
        }
      },
      "source": [
        "token1 = tokenize_wo_stop(traindf.loc[0,'Review'])\n",
        "print(traindf.loc[0,'Review'])\n",
        "print(token1)"
      ],
      "execution_count": 59,
      "outputs": [
        {
          "output_type": "stream",
          "text": [
            "Very Good I received this product early from the seller They are a very tastey a Great mid day snack I have shared them with my Glutten Free Friends they will be ordering this product more very soon \n",
            "['good', 'received', 'product', 'early', 'seller', 'tastey', 'great', 'mid', 'day', 'snack', 'shared', 'glutten', 'free', 'friends', 'ordering', 'product', 'soon']\n"
          ],
          "name": "stdout"
        }
      ]
    },
    {
      "cell_type": "code",
      "metadata": {
        "id": "I07yOfqTL2Yk",
        "colab_type": "code",
        "colab": {}
      },
      "source": [
        "traindf.Review.fillna(' ', inplace=True)"
      ],
      "execution_count": 0,
      "outputs": []
    },
    {
      "cell_type": "code",
      "metadata": {
        "id": "AiXTVYef3lFg",
        "colab_type": "code",
        "outputId": "6a0a90d2-2a4b-41ed-d7d1-2b64e80b15db",
        "colab": {
          "base_uri": "https://localhost:8080/",
          "height": 52
        }
      },
      "source": [
        "#Tokenize and Stem\n",
        "pandarallel.initialize()\n",
        "traindf['Tokens'] =  traindf.parallel_apply(lambda row: tokenize_wo_stop(row['Review']), axis=1)"
      ],
      "execution_count": 61,
      "outputs": [
        {
          "output_type": "stream",
          "text": [
            "INFO: Pandarallel will run on 4 workers.\n",
            "INFO: Pandarallel will use Memory file system to transfer data between the main process and workers.\n"
          ],
          "name": "stdout"
        }
      ]
    },
    {
      "cell_type": "code",
      "metadata": {
        "id": "u6AbDocJnUTp",
        "colab_type": "code",
        "outputId": "248f7fc9-b4c7-4b64-edb7-5673713f2082",
        "colab": {
          "base_uri": "https://localhost:8080/",
          "height": 123
        }
      },
      "source": [
        "traindf['Tokens'].head()"
      ],
      "execution_count": 62,
      "outputs": [
        {
          "output_type": "execute_result",
          "data": {
            "text/plain": [
              "109293    [great, price, say, little, apprehensive, buy,...\n",
              "70602     [awesome, coffee, received, free, k, cups, sam...\n",
              "80036     [brooklyn, bean, roastery, breakfast, blend, k...\n",
              "89988     [damage, shipment, dog, food, quick, however, ...\n",
              "5800      [less, satisfactory, gave, brooklyn, k, cups, ...\n",
              "Name: Tokens, dtype: object"
            ]
          },
          "metadata": {
            "tags": []
          },
          "execution_count": 62
        }
      ]
    },
    {
      "cell_type": "code",
      "metadata": {
        "id": "oCOavlPAPSJ_",
        "colab_type": "code",
        "colab": {}
      },
      "source": [
        "porter = PorterStemmer()\n",
        "lancaster=LancasterStemmer()\n",
        "snowball = SnowballStemmer('english')"
      ],
      "execution_count": 0,
      "outputs": []
    },
    {
      "cell_type": "markdown",
      "metadata": {
        "id": "ov_hHYXEmb0d",
        "colab_type": "text"
      },
      "source": [
        "###Stemming"
      ]
    },
    {
      "cell_type": "code",
      "metadata": {
        "id": "bWHe7KnUQV1I",
        "colab_type": "code",
        "colab": {}
      },
      "source": [
        "# Stemming the tokens\n",
        "def stem_sentence(words, use=1):\n",
        "  if use==1:\n",
        "    stemmedTokens = [porter.stem(word) for word in words]\n",
        "  elif use==2:\n",
        "    stemmedTokens = [lancaster.stem(word) for word in words]\n",
        "  else:\n",
        "    stemmedTokens = [snowball.stem(word) for word in words]\n",
        "  return ' '.join(stemmedTokens)\n"
      ],
      "execution_count": 0,
      "outputs": []
    },
    {
      "cell_type": "code",
      "metadata": {
        "id": "KFZWSNad1qJF",
        "colab_type": "code",
        "colab": {}
      },
      "source": [
        "#Apply various stemmers to the Tokens\n",
        "def portstem(df):\n",
        "   df['PortStem'] =  df.apply(lambda row: stem_sentence(row['Tokens'],1), axis=1)\n",
        "   return df\n",
        "def lanstem(df):\n",
        "  df['LancStem'] =  df.apply(lambda row: stem_sentence(row['Tokens'],2), axis=1)\n",
        "  return df\n",
        "def snowstem(df):\n",
        "  df['SnowStem'] =  df.apply(lambda row: stem_sentence(row['Tokens'],3), axis=1)\n",
        "  return df\n",
        "  "
      ],
      "execution_count": 0,
      "outputs": []
    },
    {
      "cell_type": "code",
      "metadata": {
        "id": "Wc458GNyPZ9P",
        "colab_type": "code",
        "colab": {}
      },
      "source": [
        "#Porters Stemmer\n",
        "traindf = execute_in_parallel(traindf, portstem, mp.cpu_count())"
      ],
      "execution_count": 0,
      "outputs": []
    },
    {
      "cell_type": "code",
      "metadata": {
        "id": "vqX52BUJP3De",
        "colab_type": "code",
        "colab": {}
      },
      "source": [
        "#Snowball Stemmer\n",
        "traindf = execute_in_parallel(traindf, snowstem, mp.cpu_count())"
      ],
      "execution_count": 0,
      "outputs": []
    },
    {
      "cell_type": "code",
      "metadata": {
        "id": "qO1RuIy8QAoP",
        "colab_type": "code",
        "colab": {}
      },
      "source": [
        "#Lancester Stemmer\n",
        "traindf = execute_in_parallel(traindf, lanstem, mp.cpu_count())"
      ],
      "execution_count": 0,
      "outputs": []
    },
    {
      "cell_type": "markdown",
      "metadata": {
        "id": "i78Tuo6eMiOG",
        "colab_type": "text"
      },
      "source": [
        "*Using parallel processing, the stemming took 160 seconds*"
      ]
    },
    {
      "cell_type": "markdown",
      "metadata": {
        "id": "192xOMVtlHJz",
        "colab_type": "text"
      },
      "source": [
        "\n",
        "0.   Tokenizing        : 160.94 Seconds (nltk word tokenizer)\n",
        "1.   Porters Stemmer   : 307.612 Seconds\n",
        "2.   Lancester Stemmer : 528.404 Seconds\n",
        "3.   Snowball Stemmer  : 415.476 Seconds\n",
        "\n"
      ]
    },
    {
      "cell_type": "markdown",
      "metadata": {
        "id": "hGKPeOQeJFNn",
        "colab_type": "text"
      },
      "source": [
        "Original Text looks like this:"
      ]
    },
    {
      "cell_type": "code",
      "metadata": {
        "id": "grNcN2-m8ONd",
        "colab_type": "code",
        "colab": {
          "base_uri": "https://localhost:8080/",
          "height": 54
        },
        "outputId": "ebd774d7-ec71-4bfb-9a34-155475efb43c"
      },
      "source": [
        "traindf.loc[1,'Review']"
      ],
      "execution_count": 88,
      "outputs": [
        {
          "output_type": "execute_result",
          "data": {
            "text/plain": [
              "'Organic Kosher Tasty Assortment of Premium Teas Teasans Numi s Collection Assortment Melange includes Herbal Teas caffeine free also called teasans Dry Desert Lime Lime Herbal Teasan Fields of Gold Lemongrass Herbal Teasan Red Mellow Bush Rooibos Herbal Teasan Bushmen s Brew Honeybush Herbal Teasan Simply Mint Moroccan Mint Green Teas lower in caffeine Temple of Heaven Gunpowder Green Tea Monkey King Jasmine Green Tea Black Teas contain caffeine Chinese Breakfast Yunnan Black Tea Smoky Tarry Lapsang Souchong Black TeaThis is a total of nine different teas two tea bags of each one in each box Numi teas are known for their high quality organic and kosher ingredients and in my opinion are some of the tastiest and best teas I have ever tried They do not include artificial ingredients or flavorings On the box the manufacturer writes From mist covered mountains to sun drenched deserts to fertile fields we proudly bring you our tea palette The flavors range from smooth earthiness and light floral scents to refreshingly sweet and sour notes What they all share is the recollection of how some Ancient One tamed fire and water to coexist harmoniously and steeped in them the gifts of Nature Since that distant past people have soothed roused healed explored and celebrated with these wonderful infusions We encourage you to do the same with Numi s finest The price is perfect a big savings over single boxes If you like Numi teas and want to sample a wonderful assortment get it you won t be sorry There may be some you like and others you don t but sampling them will be a delightful experience If you are new to Numi this is an excellent way to sample their high quality teas I do not think you could find a better source of premium tea than Numi Highly recommended '"
            ]
          },
          "metadata": {
            "tags": []
          },
          "execution_count": 88
        }
      ]
    },
    {
      "cell_type": "markdown",
      "metadata": {
        "id": "D1UxtRJdIxc5",
        "colab_type": "text"
      },
      "source": [
        "**PorterStemmer** uses Suffix Stripping to produce stems. \n",
        "\n",
        "\n",
        ">PorterStemmer algorithm does not follow linguistics rather a set of 05 rules for different cases that are applied in phases (step by step) to generate stems\n",
        "\n",
        "---\n",
        "\n",
        "*`PorterStemmer is known for its simplicity and speed. It is commonly useful in Information Retrieval Environments known as IR Environments for fast recall and fetching of search queries.\n",
        " In a typical IR, environment documents are represented as vectors of words or terms. `*\n",
        "\n"
      ]
    },
    {
      "cell_type": "code",
      "metadata": {
        "id": "a99UK91LPas7",
        "colab_type": "code",
        "colab": {}
      },
      "source": [
        "#traindf['PortStem'] =  traindf.apply(lambda row: stem_sentence(row['Review'],1), axis=1)\n"
      ],
      "execution_count": 0,
      "outputs": []
    },
    {
      "cell_type": "code",
      "metadata": {
        "id": "U1OD93OLmeFn",
        "colab_type": "code",
        "outputId": "7bfb9772-d0d3-460c-e727-cfe1bf2adae4",
        "colab": {
          "base_uri": "https://localhost:8080/",
          "height": 54
        }
      },
      "source": [
        "traindf.loc[1,'PortStem']"
      ],
      "execution_count": 69,
      "outputs": [
        {
          "output_type": "execute_result",
          "data": {
            "text/plain": [
              "'organ kosher tasti assort premium tea teasan numi collect assort melang includ herbal tea caffein free also call teasan dri desert lime lime herbal teasan field gold lemongrass herbal teasan red mellow bush rooibo herbal teasan bushmen brew honeybush herbal teasan simpli mint moroccan mint green tea lower caffein templ heaven gunpowd green tea monkey king jasmin green tea black tea contain caffein chines breakfast yunnan black tea smoki tarri lapsang souchong black teathi total nine differ tea two tea bag one box numi tea known high qualiti organ kosher ingredi opinion tastiest best tea ever tri not includ artifici ingredi flavor box manufactur write mist cover mountain sun drench desert fertil field proudli bring tea palett flavor rang smooth earthi light floral scent refreshingli sweet sour note share recollect ancient one tame fire water coexist harmoni steep gift natur sinc distant past peopl sooth rous heal explor celebr wonder infus encourag numi finest price perfect big save singl box like numi tea want sampl wonder assort get sorri may like other sampl delight experi new numi excel way sampl high qualiti tea not think could find better sourc premium tea numi highli recommend'"
            ]
          },
          "metadata": {
            "tags": []
          },
          "execution_count": 69
        }
      ]
    },
    {
      "cell_type": "markdown",
      "metadata": {
        "id": "xwfr6b1kJS4I",
        "colab_type": "text"
      },
      "source": [
        "**The LancasterStemmer** (Paice-Husk stemmer) is an iterative algorithm with rules saved externally. One table containing about 120 rules indexed by the last letter of a suffix.\n",
        "\n",
        ">   On each iteration, it tries to find an applicable rule by the last character of the word. Each rule specifies either a deletion or replacement of an ending. If there is no such rule, it terminates. It also terminates if a word starts with a vowel and there are only two letters left or if a word starts with a consonant and there are only three characters left. Otherwise, the rule is applied, and the process repeats.\n",
        "\n",
        "---\n",
        "\n",
        "*`LancasterStemmer is simple, but heavy stemming due to iterations and over-stemming may occur. Over-stemming causes the stems to be not linguistic, or they may have no meaning.`*\n",
        "\n"
      ]
    },
    {
      "cell_type": "code",
      "metadata": {
        "id": "e1xpKSjXTO-t",
        "colab_type": "code",
        "colab": {}
      },
      "source": [
        "#traindf['LancStem'] =  traindf.apply(lambda row: stem_sentence(row['Review'],2), axis=1)"
      ],
      "execution_count": 0,
      "outputs": []
    },
    {
      "cell_type": "code",
      "metadata": {
        "id": "ewdpu3Ndm8XR",
        "colab_type": "code",
        "outputId": "8710f2c6-7d5d-4050-e551-4002de8e8685",
        "colab": {
          "base_uri": "https://localhost:8080/",
          "height": 54
        }
      },
      "source": [
        "traindf.loc[1,'LancStem']"
      ],
      "execution_count": 71,
      "outputs": [
        {
          "output_type": "execute_result",
          "data": {
            "text/plain": [
              "'org kosh tasty assort prem tea teas num collect assort melang includ herb tea caffein fre also cal teas dry desert lim lim herb teas field gold lemongrass herb teas red mellow bush rooibo herb teas bushm brew honeybush herb teas simply mint morocc mint green tea low caffein templ heav gunpowd green tea monkey king jasmin green tea black tea contain caffein chines breakfast yun black tea smoky tarry lapsang souchong black teath tot nin diff tea two tea bag on box num tea known high qual org kosh ingredy opin tastiest best tea ev tri not includ art ingredy flav box manufact writ mist cov mountain sun drench desert fertil field proud bring tea palet flav rang smoo earthy light flor scent refresh sweet sour not shar recollect ant on tam fir wat coex harmony steep gift nat sint dist past peopl sooth rous heal expl celebr wond infus enco num finest pric perfect big sav singl box lik num tea want sampl wond assort get sorry may lik oth sampl delight expery new num excel way sampl high qual tea not think could find bet sourc prem tea num high recommend'"
            ]
          },
          "metadata": {
            "tags": []
          },
          "execution_count": 71
        }
      ]
    },
    {
      "cell_type": "code",
      "metadata": {
        "colab_type": "code",
        "id": "S0KtjTFBqY7L",
        "colab": {}
      },
      "source": [
        "#save the dataframe to csv\n",
        "traindf.to_csv(stemfile, index=False)  "
      ],
      "execution_count": 0,
      "outputs": []
    },
    {
      "cell_type": "markdown",
      "metadata": {
        "id": "2lSS7lQA7bdN",
        "colab_type": "text"
      },
      "source": [
        "**Conclusion:** All stemming functions seem to return stem of the word, but mostly do not make sense. For example, \"free\" was changed to \"fre\" and \"organic\" to \"organ\". We will try lemmatization"
      ]
    },
    {
      "cell_type": "markdown",
      "metadata": {
        "id": "EgqmnSKl4FTz",
        "colab_type": "text"
      },
      "source": [
        "## **Lemmatization**"
      ]
    },
    {
      "cell_type": "markdown",
      "metadata": {
        "id": "i4QnxIOJ0Gh0",
        "colab_type": "text"
      },
      "source": [
        "###Lemmatization using NLTK"
      ]
    },
    {
      "cell_type": "code",
      "metadata": {
        "id": "JHbPIRx82DCQ",
        "colab_type": "code",
        "colab": {}
      },
      "source": [
        "from nltk.stem import WordNetLemmatizer\n",
        "lemmatizer = WordNetLemmatizer() "
      ],
      "execution_count": 0,
      "outputs": []
    },
    {
      "cell_type": "code",
      "metadata": {
        "id": "7s77bg5a6oz3",
        "colab_type": "code",
        "colab": {}
      },
      "source": [
        "def get_pos_tag(nltk_tag):\n",
        "  if nltk_tag.startswith('J'):\n",
        "    return wordnet.ADJ\n",
        "  elif nltk_tag.startswith('V'):\n",
        "    return wordnet.VERB\n",
        "  elif nltk_tag.startswith('N'):\n",
        "    return wordnet.NOUN\n",
        "  elif nltk_tag.startswith('R'):\n",
        "    return wordnet.ADV\n",
        "  else:          \n",
        "    return None"
      ],
      "execution_count": 0,
      "outputs": []
    },
    {
      "cell_type": "code",
      "metadata": {
        "id": "C_RcNz6P6roW",
        "colab_type": "code",
        "colab": {}
      },
      "source": [
        "def lemmatize(tokens):\n",
        "  nltk_tagged = nltk.pos_tag(tokens)  \n",
        "  wn_tagged = map(lambda x: (x[0], get_pos_tag(x[1])), nltk_tagged)\n",
        "  lem_words = []\n",
        "  for word, tag in wn_tagged:\n",
        "    if tag is None:            \n",
        "      lem_words.append(word)\n",
        "    else:\n",
        "      lem_words.append(lemmatizer.lemmatize(word, tag))\n",
        "  return \" \".join(lem_words)"
      ],
      "execution_count": 0,
      "outputs": []
    },
    {
      "cell_type": "code",
      "metadata": {
        "id": "VGXnvUl2EFSU",
        "colab_type": "code",
        "colab": {}
      },
      "source": [
        "def lemmatize_df(df) :\n",
        "  df['Lemmat'] =  df.apply(lambda row: lemmatize(row['Tokens']), axis=1)  "
      ],
      "execution_count": 0,
      "outputs": []
    },
    {
      "cell_type": "code",
      "metadata": {
        "id": "pyrFVHeTRoOE",
        "colab_type": "code",
        "outputId": "326f3934-2032-4222-bc74-a2ad7235d2d3",
        "colab": {
          "base_uri": "https://localhost:8080/",
          "height": 54
        }
      },
      "source": [
        "sample = lemmatize(traindf.loc[1,'Tokens'])\n",
        "print(sample)"
      ],
      "execution_count": 77,
      "outputs": [
        {
          "output_type": "stream",
          "text": [
            "organic kosher tasty assortment premium tea teasans numi collection assortment melange include herbal tea caffeine free also call teasans dry desert lime lime herbal teasan field gold lemongrass herbal teasan red mellow bush rooibos herbal teasan bushman brew honeybush herbal teasan simply mint moroccan mint green tea low caffeine temple heaven gunpowder green tea monkey king jasmine green tea black tea contain caffeine chinese breakfast yunnan black tea smoky tarry lapsang souchong black teathis total nine different tea two tea bag one box numi tea know high quality organic kosher ingredient opinion tastiest best teas ever try not include artificial ingredient flavoring box manufacturer writes mist covered mountain sun drench desert fertile field proudly bring tea palette flavor range smooth earthiness light floral scent refreshingly sweet sour note share recollection ancient one tame fire water coexist harmoniously steep gift nature since distant past people soothe rouse heal explore celebrate wonderful infusion encourage numi fine price perfect big saving single box like numi tea want sample wonderful assortment get sorry may like others sample delightful experience new numi excellent way sample high quality tea not think could find good source premium tea numi highly recommend\n"
          ],
          "name": "stdout"
        }
      ]
    },
    {
      "cell_type": "code",
      "metadata": {
        "id": "J5TrleP-Eobl",
        "colab_type": "code",
        "outputId": "088668d3-f44d-4f0f-f7aa-57da7e20e811",
        "colab": {
          "base_uri": "https://localhost:8080/",
          "height": 52
        }
      },
      "source": [
        "#traindf = execute_in_parallel(traindf, lemmatize_df, mp.cpu_count())\n",
        "pandarallel.initialize()\n",
        "tokendf = traindf.Tokens.parallel_apply(lemmatize)"
      ],
      "execution_count": 78,
      "outputs": [
        {
          "output_type": "stream",
          "text": [
            "INFO: Pandarallel will run on 4 workers.\n",
            "INFO: Pandarallel will use Memory file system to transfer data between the main process and workers.\n"
          ],
          "name": "stdout"
        }
      ]
    },
    {
      "cell_type": "markdown",
      "metadata": {
        "id": "GH2BQFvUv95P",
        "colab_type": "text"
      },
      "source": [
        "Lemmatization Execution took 1377.13 Seconds"
      ]
    },
    {
      "cell_type": "code",
      "metadata": {
        "id": "IDkIC2OxfVGd",
        "colab_type": "code",
        "outputId": "d915123c-fa7d-4fe8-b786-b5140c40ecdf",
        "colab": {
          "base_uri": "https://localhost:8080/",
          "height": 105
        }
      },
      "source": [
        "tokendf.describe()"
      ],
      "execution_count": 79,
      "outputs": [
        {
          "output_type": "execute_result",
          "data": {
            "text/plain": [
              "count                                                309190\n",
              "unique                                               308725\n",
              "top       star hat tea whole life find republic tea flav...\n",
              "freq                                                      5\n",
              "Name: Tokens, dtype: object"
            ]
          },
          "metadata": {
            "tags": []
          },
          "execution_count": 79
        }
      ]
    },
    {
      "cell_type": "code",
      "metadata": {
        "id": "eQPuTenlE9IB",
        "colab_type": "code",
        "colab": {}
      },
      "source": [
        "tokendf['Tokens'] = pd.DataFrame(tokendf)\n",
        "tokendf['Score'] = traindf['Score']\n",
        "traindf['Lemmat'] = tokendf['Tokens']\n"
      ],
      "execution_count": 0,
      "outputs": []
    },
    {
      "cell_type": "code",
      "metadata": {
        "id": "XRtI8GclhJlR",
        "colab_type": "code",
        "colab": {}
      },
      "source": [
        "#save to lemfile, as input to next part\n",
        "traindf.to_csv(lemfile)"
      ],
      "execution_count": 0,
      "outputs": []
    },
    {
      "cell_type": "markdown",
      "metadata": {
        "id": "fiSGYxHbsnc-",
        "colab_type": "text"
      },
      "source": [
        "###Lemmatization using SpaCy"
      ]
    },
    {
      "cell_type": "code",
      "metadata": {
        "id": "P-cGg0ojsmri",
        "colab_type": "code",
        "colab": {}
      },
      "source": [
        "import spacy\n",
        "sp = spacy.load('en_core_web_sm')\n",
        "spacydf = pd.DataFrame(traindf['Review'])\n",
        "\n",
        "def spacyTokenize(text):\n",
        "  sentence = sp(text)\n",
        "  return sentence"
      ],
      "execution_count": 0,
      "outputs": []
    },
    {
      "cell_type": "code",
      "metadata": {
        "id": "Z0RUvHQbvWw6",
        "colab_type": "code",
        "outputId": "c6d4822d-56a9-4b17-b064-69fcb9b2d82f",
        "colab": {
          "base_uri": "https://localhost:8080/",
          "height": 54
        }
      },
      "source": [
        "#sample 1 record with spacy\n",
        "spacyTokenize(spacydf.loc[1,'Review'])"
      ],
      "execution_count": 83,
      "outputs": [
        {
          "output_type": "execute_result",
          "data": {
            "text/plain": [
              "Organic Kosher Tasty Assortment of Premium Teas Teasans Numi s Collection Assortment Melange includes Herbal Teas caffeine free also called teasans Dry Desert Lime Lime Herbal Teasan Fields of Gold Lemongrass Herbal Teasan Red Mellow Bush Rooibos Herbal Teasan Bushmen s Brew Honeybush Herbal Teasan Simply Mint Moroccan Mint Green Teas lower in caffeine Temple of Heaven Gunpowder Green Tea Monkey King Jasmine Green Tea Black Teas contain caffeine Chinese Breakfast Yunnan Black Tea Smoky Tarry Lapsang Souchong Black TeaThis is a total of nine different teas two tea bags of each one in each box Numi teas are known for their high quality organic and kosher ingredients and in my opinion are some of the tastiest and best teas I have ever tried They do not include artificial ingredients or flavorings On the box the manufacturer writes From mist covered mountains to sun drenched deserts to fertile fields we proudly bring you our tea palette The flavors range from smooth earthiness and light floral scents to refreshingly sweet and sour notes What they all share is the recollection of how some Ancient One tamed fire and water to coexist harmoniously and steeped in them the gifts of Nature Since that distant past people have soothed roused healed explored and celebrated with these wonderful infusions We encourage you to do the same with Numi s finest The price is perfect a big savings over single boxes If you like Numi teas and want to sample a wonderful assortment get it you won t be sorry There may be some you like and others you don t but sampling them will be a delightful experience If you are new to Numi this is an excellent way to sample their high quality teas I do not think you could find a better source of premium tea than Numi Highly recommended "
            ]
          },
          "metadata": {
            "tags": []
          },
          "execution_count": 83
        }
      ]
    },
    {
      "cell_type": "code",
      "metadata": {
        "id": "3JWd7TTNtOOA",
        "colab_type": "code",
        "colab": {}
      },
      "source": [
        "#Spacy is taking too long to run, so comment out for now\n",
        "#pandarallel.initialize()\n",
        "#spacytdf = spacydf.Review.parallel_apply(spacyTokenize)"
      ],
      "execution_count": 0,
      "outputs": []
    },
    {
      "cell_type": "markdown",
      "metadata": {
        "id": "gV5h1fTnpEut",
        "colab_type": "text"
      },
      "source": [
        "##Comparison:"
      ]
    },
    {
      "cell_type": "code",
      "metadata": {
        "id": "TCrhaW8pqxup",
        "colab_type": "code",
        "outputId": "77770433-24a8-4fc5-e007-66a6b24e54e0",
        "colab": {
          "base_uri": "https://localhost:8080/",
          "height": 283
        }
      },
      "source": [
        "traindf.info()"
      ],
      "execution_count": 85,
      "outputs": [
        {
          "output_type": "stream",
          "text": [
            "<class 'pandas.core.frame.DataFrame'>\n",
            "Int64Index: 309190 entries, 109293 to 162126\n",
            "Data columns (total 10 columns):\n",
            "Id            309190 non-null int64\n",
            "Score         309190 non-null int64\n",
            "Time          309190 non-null int64\n",
            "Review        309190 non-null object\n",
            "Positivity    309190 non-null int64\n",
            "Tokens        309190 non-null object\n",
            "PortStem      309190 non-null object\n",
            "SnowStem      309190 non-null object\n",
            "LancStem      309190 non-null object\n",
            "Lemmat        309190 non-null object\n",
            "dtypes: int64(4), object(6)\n",
            "memory usage: 35.9+ MB\n"
          ],
          "name": "stdout"
        }
      ]
    },
    {
      "cell_type": "code",
      "metadata": {
        "id": "tyBg4092pGGv",
        "colab_type": "code",
        "colab": {}
      },
      "source": [
        "def print_line(key, val):\n",
        "  #print(\"{:>10} | {:20.60} ..|\".format(key, val))\n",
        "  print('{:>10}  | {} ..|'.format(key, val))"
      ],
      "execution_count": 0,
      "outputs": []
    },
    {
      "cell_type": "code",
      "metadata": {
        "id": "3pxeAzQQ9-ns",
        "colab_type": "code",
        "colab": {}
      },
      "source": [
        "def compare_nmethod(indx=1):\n",
        "  print(\"Tokens from one of the Documents after stemming/lemmatization:\")\n",
        "  print(\"---------------------------------------------------------------------\")\n",
        "  print_line('Token', traindf.loc[indx,'Tokens'][:10])\n",
        "  print_line('P.Stemmer', traindf.loc[indx,'PortStem'][:60])\n",
        "  print_line('L.Stemmer', traindf.loc[indx,'LancStem'][:60])\n",
        "  print_line('S.Stemmer', traindf.loc[indx,'SnowStem'][:60])\n",
        "  print_line('NLTK Lemm.', traindf.loc[indx,'Lemmat'][:60])\n",
        "  spacyline = spacyTokenize(spacydf.loc[indx,'Review'][:60])\n",
        "  print_line('SpacyLemm.', spacyline.text[:60])\n",
        "  print(\"---------------------------------------------------------------------\")\n"
      ],
      "execution_count": 0,
      "outputs": []
    },
    {
      "cell_type": "code",
      "metadata": {
        "id": "Huuc_NfxqkFQ",
        "colab_type": "code",
        "outputId": "b17d62c6-4c0d-4365-c6f6-2203dc93eee1",
        "colab": {
          "base_uri": "https://localhost:8080/",
          "height": 176
        }
      },
      "source": [
        "compare_nmethod(0)"
      ],
      "execution_count": 137,
      "outputs": [
        {
          "output_type": "stream",
          "text": [
            "Tokens from one of the Documents after stemming/lemmatization:\n",
            "---------------------------------------------------------------------\n",
            "     Token  | ['good', 'received', 'product', 'early', 'seller', 'tastey', 'great', 'mid', 'day', 'snack'] ..|\n",
            " P.Stemmer  | good receiv product earli seller tastey great mid day snack  ..|\n",
            " L.Stemmer  | good receiv produc ear sel tastey gre mid day snack shar glu ..|\n",
            " S.Stemmer  | good receiv product earli seller tastey great mid day snack  ..|\n",
            "NLTK Lemm.  | good receive product early seller tastey great mid day snack ..|\n",
            "SpacyLemm.  | Very Good I received this product early from the seller They ..|\n",
            "---------------------------------------------------------------------\n"
          ],
          "name": "stdout"
        }
      ]
    },
    {
      "cell_type": "code",
      "metadata": {
        "id": "CXEwcnw0aTqq",
        "colab_type": "code",
        "outputId": "26d0d6c8-3048-4fe6-a5d3-0bf791b1295f",
        "colab": {
          "base_uri": "https://localhost:8080/",
          "height": 176
        }
      },
      "source": [
        "compare_nmethod(100)"
      ],
      "execution_count": 138,
      "outputs": [
        {
          "output_type": "stream",
          "text": [
            "Tokens from one of the Documents after stemming/lemmatization:\n",
            "---------------------------------------------------------------------\n",
            "     Token  | ['good', 'meat', 'snack', 'recommended', 'review', 'slim', 'jim', 'oz', 'pack', 'meat'] ..|\n",
            " P.Stemmer  | good meat snack recommend review slim jim oz pack meat snack ..|\n",
            " L.Stemmer  | good meat snack recommend review slim jim oz pack meat snack ..|\n",
            " S.Stemmer  | good meat snack recommend review slim jim oz pack meat snack ..|\n",
            "NLTK Lemm.  | good meat snack recommend review slim jim oz pack meat snack ..|\n",
            "SpacyLemm.  | Good Meat Snack Recommended This review is for the Slim Jim  ..|\n",
            "---------------------------------------------------------------------\n"
          ],
          "name": "stdout"
        }
      ]
    },
    {
      "cell_type": "markdown",
      "metadata": {
        "id": "hDCtTOXTBtTE",
        "colab_type": "text"
      },
      "source": [
        "**Conclusion:** Lemmatization produces more meaningful words than stemming. Spacy Lemmatizer happens to give the most meaningful sentences but, we are not able to execute it on the corpus as it take a long time to run. NLTK Word Lemmatizer also gives comparable output in lesser time. So we use Lemmatized text for further analysis"
      ]
    }
  ]
}