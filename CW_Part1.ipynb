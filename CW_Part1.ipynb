{
  "nbformat": 4,
  "nbformat_minor": 0,
  "metadata": {
    "colab": {
      "name": "CW_Part1.ipynb",
      "provenance": [],
      "collapsed_sections": [
        "ts8xvjHJcDwU"
      ],
      "machine_shape": "hm",
      "include_colab_link": true
    },
    "kernelspec": {
      "name": "python3",
      "display_name": "Python 3"
    },
    "accelerator": "GPU"
  },
  "cells": [
    {
      "cell_type": "markdown",
      "metadata": {
        "id": "view-in-github",
        "colab_type": "text"
      },
      "source": [
        "<a href=\"https://colab.research.google.com/github/Lamiv/nlp/blob/master/CW_Part1.ipynb\" target=\"_parent\"><img src=\"https://colab.research.google.com/assets/colab-badge.svg\" alt=\"Open In Colab\"/></a>"
      ]
    },
    {
      "cell_type": "markdown",
      "metadata": {
        "id": "ts8xvjHJcDwU",
        "colab_type": "text"
      },
      "source": [
        "<h1>Amazon fine foods review analysis"
      ]
    },
    {
      "cell_type": "markdown",
      "metadata": {
        "id": "tInQhod1dyJy",
        "colab_type": "text"
      },
      "source": [
        "Part 1 \n",
        "\n",
        "1.   Preprocessing\n",
        "2.   Normalization\n",
        "\n"
      ]
    },
    {
      "cell_type": "code",
      "metadata": {
        "id": "mUHYGVgNa56k",
        "colab_type": "code",
        "outputId": "14653055-b7f1-4b36-a912-000bdb9c3e5e",
        "colab": {
          "base_uri": "https://localhost:8080/",
          "height": 207
        }
      },
      "source": [
        "pip install pandarallel"
      ],
      "execution_count": 1,
      "outputs": [
        {
          "output_type": "stream",
          "text": [
            "Collecting pandarallel\n",
            "  Downloading https://files.pythonhosted.org/packages/5b/27/bfa87ad2c5c202834683db647084fe6908e5e6f54c67270fc3544beabffa/pandarallel-1.4.5.tar.gz\n",
            "Requirement already satisfied: dill in /usr/local/lib/python3.6/dist-packages (from pandarallel) (0.3.1.1)\n",
            "Building wheels for collected packages: pandarallel\n",
            "  Building wheel for pandarallel (setup.py) ... \u001b[?25l\u001b[?25hdone\n",
            "  Created wheel for pandarallel: filename=pandarallel-1.4.5-cp36-none-any.whl size=16025 sha256=9798a9e0a14c655c44b682226b11285710d630c4791283483fec42b8d5005742\n",
            "  Stored in directory: /root/.cache/pip/wheels/fa/70/d9/6a27d7fdddb6a7c10af68fffaf6f0a96846c750a840280f7bc\n",
            "Successfully built pandarallel\n",
            "Installing collected packages: pandarallel\n",
            "Successfully installed pandarallel-1.4.5\n"
          ],
          "name": "stdout"
        }
      ]
    },
    {
      "cell_type": "code",
      "metadata": {
        "id": "IkB-CbqM4V5W",
        "colab_type": "code",
        "outputId": "f51daaa5-d30f-455e-9ddd-005e27c82e1a",
        "colab": {
          "base_uri": "https://localhost:8080/",
          "height": 170
        }
      },
      "source": [
        "import nltk\n",
        "import re\n",
        "import numpy as np\n",
        "import sklearn\n",
        "import pandas as pd\n",
        "import matplotlib as mpl\n",
        "import matplotlib.pyplot as plt\n",
        "from sklearn.datasets import load_files\n",
        "\n",
        "nltk.download('stopwords')\n",
        "nltk.download('punkt')\n",
        "nltk.download('averaged_perceptron_tagger')\n",
        "nltk.download('wordnet')\n",
        "from nltk.corpus import stopwords\n",
        "from nltk.tokenize import word_tokenize \n",
        "from nltk.stem import PorterStemmer\n",
        "from nltk.stem import LancasterStemmer\n",
        "from nltk.stem import SnowballStemmer\n",
        "from multiprocessing import  Pool\n",
        "from nltk.corpus import wordnet\n",
        "\n",
        "from pandarallel import pandarallel"
      ],
      "execution_count": 2,
      "outputs": [
        {
          "output_type": "stream",
          "text": [
            "[nltk_data] Downloading package stopwords to /root/nltk_data...\n",
            "[nltk_data]   Unzipping corpora/stopwords.zip.\n",
            "[nltk_data] Downloading package punkt to /root/nltk_data...\n",
            "[nltk_data]   Unzipping tokenizers/punkt.zip.\n",
            "[nltk_data] Downloading package averaged_perceptron_tagger to\n",
            "[nltk_data]     /root/nltk_data...\n",
            "[nltk_data]   Unzipping taggers/averaged_perceptron_tagger.zip.\n",
            "[nltk_data] Downloading package wordnet to /root/nltk_data...\n",
            "[nltk_data]   Unzipping corpora/wordnet.zip.\n"
          ],
          "name": "stdout"
        }
      ]
    },
    {
      "cell_type": "code",
      "metadata": {
        "id": "BlMu77gehU3t",
        "colab_type": "code",
        "outputId": "1ef3d3a4-4a75-4e83-bf4d-87bbe0498c21",
        "colab": {
          "base_uri": "https://localhost:8080/",
          "height": 34
        }
      },
      "source": [
        "#Check number of processors.\n",
        "import multiprocessing as mp\n",
        "print(\"Number of processors: \", mp.cpu_count())"
      ],
      "execution_count": 3,
      "outputs": [
        {
          "output_type": "stream",
          "text": [
            "Number of processors:  4\n"
          ],
          "name": "stdout"
        }
      ]
    },
    {
      "cell_type": "code",
      "metadata": {
        "id": "Q3bduCy9hGaq",
        "colab_type": "code",
        "colab": {}
      },
      "source": [
        "# Function to run any function in parallel processing.\n",
        "def execute_in_parallel(df, func, n_cores=4):\n",
        "    df_split = np.array_split(df, n_cores)\n",
        "    pool = Pool(n_cores)\n",
        "    df = pd.concat(pool.map(func, df_split))\n",
        "    pool.close()\n",
        "    pool.join()\n",
        "    return df"
      ],
      "execution_count": 0,
      "outputs": []
    },
    {
      "cell_type": "markdown",
      "metadata": {
        "id": "dT7GNbw24Yle",
        "colab_type": "text"
      },
      "source": [
        "#**Data Loading and Exploration**"
      ]
    },
    {
      "cell_type": "markdown",
      "metadata": {
        "id": "c8h_1UnaOvCW",
        "colab_type": "text"
      },
      "source": [
        "### Load the data\n",
        "\n"
      ]
    },
    {
      "cell_type": "code",
      "metadata": {
        "id": "OmkqXxj4-eeb",
        "colab_type": "code",
        "colab": {}
      },
      "source": [
        "sourcefile = \"/content/drive/My Drive/Colab Notebooks/train.csv\"\n",
        "stemfile = \"/content/drive/My Drive/Colab Notebooks/train_stemmer.csv\"\n",
        "lemfile = \"/content/drive/My Drive/Colab Notebooks/train_lem.csv\""
      ],
      "execution_count": 0,
      "outputs": []
    },
    {
      "cell_type": "code",
      "metadata": {
        "id": "PJ5k4bimjPVU",
        "colab_type": "code",
        "colab": {}
      },
      "source": [
        "from google.colab import drive\n",
        "drive.mount('/content/drive')"
      ],
      "execution_count": 0,
      "outputs": []
    },
    {
      "cell_type": "code",
      "metadata": {
        "id": "kYr9ngWg9xWg",
        "colab_type": "code",
        "colab": {}
      },
      "source": [
        "traindf = pd.read_csv(sourcefile)"
      ],
      "execution_count": 0,
      "outputs": []
    },
    {
      "cell_type": "code",
      "metadata": {
        "id": "x1n4se189FN6",
        "colab_type": "code",
        "outputId": "1dc07a9e-b5a6-438e-a433-d28e1488aa57",
        "colab": {
          "base_uri": "https://localhost:8080/",
          "height": 34
        }
      },
      "source": [
        "print(\"Type of traindf\" , type(traindf))\n"
      ],
      "execution_count": 12,
      "outputs": [
        {
          "output_type": "stream",
          "text": [
            "Type of traindf <class 'pandas.core.frame.DataFrame'>\n"
          ],
          "name": "stdout"
        }
      ]
    },
    {
      "cell_type": "markdown",
      "metadata": {
        "id": "-4c9UGUZ7Xxb",
        "colab_type": "text"
      },
      "source": [
        "### Exploration"
      ]
    },
    {
      "cell_type": "code",
      "metadata": {
        "id": "qZitenolD8yo",
        "colab_type": "code",
        "outputId": "b0127c8d-b595-42f2-ca07-c9f44d5f2c4a",
        "colab": {
          "base_uri": "https://localhost:8080/",
          "height": 272
        }
      },
      "source": [
        "traindf.info()"
      ],
      "execution_count": 13,
      "outputs": [
        {
          "output_type": "stream",
          "text": [
            "<class 'pandas.core.frame.DataFrame'>\n",
            "RangeIndex: 426340 entries, 0 to 426339\n",
            "Data columns (total 10 columns):\n",
            "Id                        426340 non-null int64\n",
            "ProductId                 426340 non-null object\n",
            "UserId                    426340 non-null object\n",
            "ProfileName               426326 non-null object\n",
            "HelpfulnessNumerator      426340 non-null int64\n",
            "HelpfulnessDenominator    426340 non-null int64\n",
            "Score                     426340 non-null int64\n",
            "Time                      426340 non-null int64\n",
            "Summary                   426320 non-null object\n",
            "Text                      426340 non-null object\n",
            "dtypes: int64(5), object(5)\n",
            "memory usage: 32.5+ MB\n"
          ],
          "name": "stdout"
        }
      ]
    },
    {
      "cell_type": "code",
      "metadata": {
        "id": "UU4--3i0AC1G",
        "colab_type": "code",
        "outputId": "fef7f6a1-4b23-4573-f221-c0f188d48845",
        "colab": {
          "base_uri": "https://localhost:8080/",
          "height": 649
        }
      },
      "source": [
        "traindf.head()"
      ],
      "execution_count": 14,
      "outputs": [
        {
          "output_type": "execute_result",
          "data": {
            "text/html": [
              "<div>\n",
              "<style scoped>\n",
              "    .dataframe tbody tr th:only-of-type {\n",
              "        vertical-align: middle;\n",
              "    }\n",
              "\n",
              "    .dataframe tbody tr th {\n",
              "        vertical-align: top;\n",
              "    }\n",
              "\n",
              "    .dataframe thead th {\n",
              "        text-align: right;\n",
              "    }\n",
              "</style>\n",
              "<table border=\"1\" class=\"dataframe\">\n",
              "  <thead>\n",
              "    <tr style=\"text-align: right;\">\n",
              "      <th></th>\n",
              "      <th>Id</th>\n",
              "      <th>ProductId</th>\n",
              "      <th>UserId</th>\n",
              "      <th>ProfileName</th>\n",
              "      <th>HelpfulnessNumerator</th>\n",
              "      <th>HelpfulnessDenominator</th>\n",
              "      <th>Score</th>\n",
              "      <th>Time</th>\n",
              "      <th>Summary</th>\n",
              "      <th>Text</th>\n",
              "    </tr>\n",
              "  </thead>\n",
              "  <tbody>\n",
              "    <tr>\n",
              "      <th>0</th>\n",
              "      <td>220291</td>\n",
              "      <td>B0034EDLS2</td>\n",
              "      <td>AVF82BC7S0IO7</td>\n",
              "      <td>Kbrown</td>\n",
              "      <td>0</td>\n",
              "      <td>0</td>\n",
              "      <td>5</td>\n",
              "      <td>1332806400</td>\n",
              "      <td>Very Good</td>\n",
              "      <td>I received this product early from the seller!...</td>\n",
              "    </tr>\n",
              "    <tr>\n",
              "      <th>1</th>\n",
              "      <td>225833</td>\n",
              "      <td>B001I7HJE4</td>\n",
              "      <td>A1YUL9PCJR3JTY</td>\n",
              "      <td>O. Brown \"Ms. O. Khannah-Brown\"</td>\n",
              "      <td>1</td>\n",
              "      <td>1</td>\n",
              "      <td>5</td>\n",
              "      <td>1190160000</td>\n",
              "      <td>Organic, Kosher, Tasty Assortment of Premium T...</td>\n",
              "      <td>*****&lt;br /&gt;Numi's Collection Assortment Melang...</td>\n",
              "    </tr>\n",
              "    <tr>\n",
              "      <th>2</th>\n",
              "      <td>350901</td>\n",
              "      <td>B000LKTB90</td>\n",
              "      <td>A1BBPP1EC75JX4</td>\n",
              "      <td>Johan Bollen \"gekhond\"</td>\n",
              "      <td>0</td>\n",
              "      <td>0</td>\n",
              "      <td>5</td>\n",
              "      <td>1285977600</td>\n",
              "      <td>excellent gluten-free spaghetti: great taste, ...</td>\n",
              "      <td>I was very careful not to overcook this pasta,...</td>\n",
              "    </tr>\n",
              "    <tr>\n",
              "      <th>3</th>\n",
              "      <td>299801</td>\n",
              "      <td>B001HXJPS2</td>\n",
              "      <td>A5QSI9MNS8NMS</td>\n",
              "      <td>M. Esaili</td>\n",
              "      <td>0</td>\n",
              "      <td>0</td>\n",
              "      <td>5</td>\n",
              "      <td>1338163200</td>\n",
              "      <td>Lindt is Lindt</td>\n",
              "      <td>Buying this multi-pack I was misled by the pic...</td>\n",
              "    </tr>\n",
              "    <tr>\n",
              "      <th>4</th>\n",
              "      <td>48472</td>\n",
              "      <td>B006H34CUS</td>\n",
              "      <td>A20IBAIRSNBEAQ</td>\n",
              "      <td>Chelsea</td>\n",
              "      <td>0</td>\n",
              "      <td>0</td>\n",
              "      <td>5</td>\n",
              "      <td>1343606400</td>\n",
              "      <td>YUM!!!!!</td>\n",
              "      <td>These bars are so good! I loved them warmed up...</td>\n",
              "    </tr>\n",
              "  </tbody>\n",
              "</table>\n",
              "</div>"
            ],
            "text/plain": [
              "       Id  ...                                               Text\n",
              "0  220291  ...  I received this product early from the seller!...\n",
              "1  225833  ...  *****<br />Numi's Collection Assortment Melang...\n",
              "2  350901  ...  I was very careful not to overcook this pasta,...\n",
              "3  299801  ...  Buying this multi-pack I was misled by the pic...\n",
              "4   48472  ...  These bars are so good! I loved them warmed up...\n",
              "\n",
              "[5 rows x 10 columns]"
            ]
          },
          "metadata": {
            "tags": []
          },
          "execution_count": 14
        }
      ]
    },
    {
      "cell_type": "code",
      "metadata": {
        "id": "kN0MnYF-MIQ2",
        "colab_type": "code",
        "colab": {}
      },
      "source": [
        "\n"
      ],
      "execution_count": 0,
      "outputs": []
    },
    {
      "cell_type": "code",
      "metadata": {
        "id": "aaSBq7hnMzhj",
        "colab_type": "code",
        "outputId": "c4b05d11-7026-4ee9-c5f2-fbcaaa260651",
        "colab": {
          "base_uri": "https://localhost:8080/",
          "height": 272
        }
      },
      "source": [
        "traindf.info()"
      ],
      "execution_count": 15,
      "outputs": [
        {
          "output_type": "stream",
          "text": [
            "<class 'pandas.core.frame.DataFrame'>\n",
            "RangeIndex: 426340 entries, 0 to 426339\n",
            "Data columns (total 10 columns):\n",
            "Id                        426340 non-null int64\n",
            "ProductId                 426340 non-null object\n",
            "UserId                    426340 non-null object\n",
            "ProfileName               426326 non-null object\n",
            "HelpfulnessNumerator      426340 non-null int64\n",
            "HelpfulnessDenominator    426340 non-null int64\n",
            "Score                     426340 non-null int64\n",
            "Time                      426340 non-null int64\n",
            "Summary                   426320 non-null object\n",
            "Text                      426340 non-null object\n",
            "dtypes: int64(5), object(5)\n",
            "memory usage: 32.5+ MB\n"
          ],
          "name": "stdout"
        }
      ]
    },
    {
      "cell_type": "code",
      "metadata": {
        "id": "kJJ-gPcBFgod",
        "colab_type": "code",
        "outputId": "f9717039-f70a-47d4-a622-2f88681800f0",
        "colab": {
          "base_uri": "https://localhost:8080/",
          "height": 297
        }
      },
      "source": [
        "traindf.describe()"
      ],
      "execution_count": 16,
      "outputs": [
        {
          "output_type": "execute_result",
          "data": {
            "text/html": [
              "<div>\n",
              "<style scoped>\n",
              "    .dataframe tbody tr th:only-of-type {\n",
              "        vertical-align: middle;\n",
              "    }\n",
              "\n",
              "    .dataframe tbody tr th {\n",
              "        vertical-align: top;\n",
              "    }\n",
              "\n",
              "    .dataframe thead th {\n",
              "        text-align: right;\n",
              "    }\n",
              "</style>\n",
              "<table border=\"1\" class=\"dataframe\">\n",
              "  <thead>\n",
              "    <tr style=\"text-align: right;\">\n",
              "      <th></th>\n",
              "      <th>Id</th>\n",
              "      <th>HelpfulnessNumerator</th>\n",
              "      <th>HelpfulnessDenominator</th>\n",
              "      <th>Score</th>\n",
              "      <th>Time</th>\n",
              "    </tr>\n",
              "  </thead>\n",
              "  <tbody>\n",
              "    <tr>\n",
              "      <th>count</th>\n",
              "      <td>426340.000000</td>\n",
              "      <td>426340.000000</td>\n",
              "      <td>426340.000000</td>\n",
              "      <td>426340.000000</td>\n",
              "      <td>4.263400e+05</td>\n",
              "    </tr>\n",
              "    <tr>\n",
              "      <th>mean</th>\n",
              "      <td>284300.799618</td>\n",
              "      <td>1.733159</td>\n",
              "      <td>2.220244</td>\n",
              "      <td>4.183455</td>\n",
              "      <td>1.296222e+09</td>\n",
              "    </tr>\n",
              "    <tr>\n",
              "      <th>std</th>\n",
              "      <td>164012.600602</td>\n",
              "      <td>7.328184</td>\n",
              "      <td>8.014894</td>\n",
              "      <td>1.310577</td>\n",
              "      <td>4.808061e+07</td>\n",
              "    </tr>\n",
              "    <tr>\n",
              "      <th>min</th>\n",
              "      <td>1.000000</td>\n",
              "      <td>0.000000</td>\n",
              "      <td>0.000000</td>\n",
              "      <td>1.000000</td>\n",
              "      <td>9.408096e+08</td>\n",
              "    </tr>\n",
              "    <tr>\n",
              "      <th>25%</th>\n",
              "      <td>142363.750000</td>\n",
              "      <td>0.000000</td>\n",
              "      <td>0.000000</td>\n",
              "      <td>4.000000</td>\n",
              "      <td>1.271203e+09</td>\n",
              "    </tr>\n",
              "    <tr>\n",
              "      <th>50%</th>\n",
              "      <td>284308.500000</td>\n",
              "      <td>0.000000</td>\n",
              "      <td>1.000000</td>\n",
              "      <td>5.000000</td>\n",
              "      <td>1.311034e+09</td>\n",
              "    </tr>\n",
              "    <tr>\n",
              "      <th>75%</th>\n",
              "      <td>426183.250000</td>\n",
              "      <td>2.000000</td>\n",
              "      <td>2.000000</td>\n",
              "      <td>5.000000</td>\n",
              "      <td>1.332720e+09</td>\n",
              "    </tr>\n",
              "    <tr>\n",
              "      <th>max</th>\n",
              "      <td>568454.000000</td>\n",
              "      <td>844.000000</td>\n",
              "      <td>923.000000</td>\n",
              "      <td>5.000000</td>\n",
              "      <td>1.351210e+09</td>\n",
              "    </tr>\n",
              "  </tbody>\n",
              "</table>\n",
              "</div>"
            ],
            "text/plain": [
              "                  Id  HelpfulnessNumerator  ...          Score          Time\n",
              "count  426340.000000         426340.000000  ...  426340.000000  4.263400e+05\n",
              "mean   284300.799618              1.733159  ...       4.183455  1.296222e+09\n",
              "std    164012.600602              7.328184  ...       1.310577  4.808061e+07\n",
              "min         1.000000              0.000000  ...       1.000000  9.408096e+08\n",
              "25%    142363.750000              0.000000  ...       4.000000  1.271203e+09\n",
              "50%    284308.500000              0.000000  ...       5.000000  1.311034e+09\n",
              "75%    426183.250000              2.000000  ...       5.000000  1.332720e+09\n",
              "max    568454.000000            844.000000  ...       5.000000  1.351210e+09\n",
              "\n",
              "[8 rows x 5 columns]"
            ]
          },
          "metadata": {
            "tags": []
          },
          "execution_count": 16
        }
      ]
    },
    {
      "cell_type": "code",
      "metadata": {
        "id": "5n_YNkEe7owv",
        "colab_type": "code",
        "outputId": "4072e0c0-294a-4383-cfd5-441eb7654604",
        "colab": {
          "base_uri": "https://localhost:8080/",
          "height": 153
        }
      },
      "source": [
        "print(\"Number of Reviews per Score: \\n {}\".format(traindf.groupby(['Score'])['Id'].count()))\n",
        "#traindf.groupby(['Score'])['Id'].count()"
      ],
      "execution_count": 17,
      "outputs": [
        {
          "output_type": "stream",
          "text": [
            "Number of Reviews per Score: \n",
            " Score\n",
            "1     39193\n",
            "2     22353\n",
            "3     31993\n",
            "4     60309\n",
            "5    272492\n",
            "Name: Id, dtype: int64\n"
          ],
          "name": "stdout"
        }
      ]
    },
    {
      "cell_type": "code",
      "metadata": {
        "id": "nXZIbZqH8laU",
        "colab_type": "code",
        "outputId": "dd0f2447-256a-47db-f6fb-e8c0bd9c226d",
        "colab": {
          "base_uri": "https://localhost:8080/",
          "height": 351
        }
      },
      "source": [
        "#plot data\n",
        "fig, ax = plt.subplots(figsize=(7,5))\n",
        "traindf.groupby(['Score']).count()['Id'].plot(ax=ax)"
      ],
      "execution_count": 18,
      "outputs": [
        {
          "output_type": "execute_result",
          "data": {
            "text/plain": [
              "<matplotlib.axes._subplots.AxesSubplot at 0x7f467b930cc0>"
            ]
          },
          "metadata": {
            "tags": []
          },
          "execution_count": 18
        },
        {
          "output_type": "display_data",
          "data": {
            "image/png": "[encoded data removed]",
            "text/plain": [
              "<Figure size 504x360 with 1 Axes>"
            ]
          },
          "metadata": {
            "tags": []
          }
        }
      ]
    },
    {
      "cell_type": "code",
      "metadata": {
        "id": "beIXFECJ9wnU",
        "colab_type": "code",
        "outputId": "51212c10-3cbc-4cb0-ffe6-fdcfa211fd94",
        "colab": {
          "base_uri": "https://localhost:8080/",
          "height": 293
        }
      },
      "source": [
        "df = pd.DataFrame(data = traindf)\n",
        "df = df.replace(np.nan,0)\n",
        "df = df.groupby(['Score']).count()['Id']\n",
        "df.plot.bar()\n",
        "#ax = df.plot(kind='bar', figsize=(10,6), color=\"indigo\", fontsize=13);\n",
        "#ax.set_alpha(0.8)\n",
        "#ax.set_title(\"My Bar Plot\", fontsize=22)\n",
        "#ax.set_ylabel(\"Some Heading on Y-Axis\", fontsize=15);\n",
        "#plt.show()"
      ],
      "execution_count": 19,
      "outputs": [
        {
          "output_type": "execute_result",
          "data": {
            "text/plain": [
              "<matplotlib.axes._subplots.AxesSubplot at 0x7f46723e0eb8>"
            ]
          },
          "metadata": {
            "tags": []
          },
          "execution_count": 19
        },
        {
          "output_type": "display_data",
          "data": {
            "image/png": "[encoded data removed]",
            "text/plain": [
              "<Figure size 432x288 with 1 Axes>"
            ]
          },
          "metadata": {
            "tags": []
          }
        }
      ]
    },
    {
      "cell_type": "code",
      "metadata": {
        "id": "0AAyv17eChR3",
        "colab_type": "code",
        "outputId": "984c595a-f72d-45b9-8de4-84cf66fcfce2",
        "colab": {
          "base_uri": "https://localhost:8080/",
          "height": 54
        }
      },
      "source": [
        "traindf.loc[1,'Text']"
      ],
      "execution_count": 20,
      "outputs": [
        {
          "output_type": "execute_result",
          "data": {
            "text/plain": [
              "'*****<br />Numi\\'s Collection Assortment Melange includes:<br />5 Herbal Teas (caffeine-free, also called \"teasans\"):<br />* Dry Desert Lime: Lime Herbal Teasan<br />* Fields of Gold: Lemongrass Herbal Teasan<br />* Red Mellow Bush: Rooibos Herbal Teasan<br />* Bushmen\\'s Brew: Honeybush Herbal Teasan<br />* Simply Mint: Moroccan Mint<br /><br />2 Green Teas (lower in caffeine):<br />* Temple of Heaven: Gunpowder Green Tea<br />* Monkey King: Jasmine Green Tea<br /><br />2 Black Teas (contain caffeine):<br />* Chinese Breakfast: Yunnan Black Tea<br />* Smoky Tarry: Lapsang Souchong Black Tea<br /><br />This is a total of nine different teas, two tea bags of each one in each box. Numi teas are known for their high-quality, organic and kosher ingredients, and in my opinion, are some of the tastiest and best teas I have ever tried. They do not include artificial ingredients or flavorings.<br /><br />On the box, the manufacturer writes: \"From mist-covered mountains to sun-drenched deserts to fertile fields, we proudly bring you our tea palette. The flavors range from smooth earthiness, and light floral scents, to refreshingly sweet and sour notes. What they all share is the recollection of how some Ancient One tamed fire and water to coexist harmoniously, and steeped in them the gifts of Nature. Since that distant past, people have soothed, roused, healed, explored and celebrated with these wonderful infusions. We encourage you to do the same with Numi\\'s finest.\"<br /><br />The price is perfect, a big savings over single boxes. If you like Numi teas and want to sample a wonderful assortment, get it---you won\\'t be sorry. There may be some you like and others you don\\'t, but sampling them will be a delightful experience. If you are new to Numi this is an excellent way to sample their high-quality teas. I do not think you could find a better source of premium tea than Numi.<br /><br />Highly recommended.<br />*****'"
            ]
          },
          "metadata": {
            "tags": []
          },
          "execution_count": 20
        }
      ]
    },
    {
      "cell_type": "code",
      "metadata": {
        "id": "4N7EnrbvCshW",
        "colab_type": "code",
        "outputId": "6a454c38-c9f9-4cda-d078-4993ff80284e",
        "colab": {
          "base_uri": "https://localhost:8080/",
          "height": 54
        }
      },
      "source": [
        "traindf.loc[0,'Text']"
      ],
      "execution_count": 21,
      "outputs": [
        {
          "output_type": "execute_result",
          "data": {
            "text/plain": [
              "'I received this product early from the seller! They are a very tastey & a Great mid-day snack. I have shared them with my Glutten Free Friends & they will be ordering this product & more very soon.'"
            ]
          },
          "metadata": {
            "tags": []
          },
          "execution_count": 21
        }
      ]
    },
    {
      "cell_type": "code",
      "metadata": {
        "id": "yk7xQSojCu1G",
        "colab_type": "code",
        "outputId": "3d77e815-1bab-4251-dd1a-fc991dc41117",
        "colab": {
          "base_uri": "https://localhost:8080/",
          "height": 54
        }
      },
      "source": [
        "traindf.loc[100,'Text']"
      ],
      "execution_count": 22,
      "outputs": [
        {
          "output_type": "execute_result",
          "data": {
            "text/plain": [
              "'This review is for the Slim Jim .28oz (Pack of 100) Meat Snacks. Being a Type 2 diabetic, these are great snacks to have on hand since they are very low in carbs. The flavor is just spicy enough to make them interesting, but is certainly not overpowering.<br /><br />The casing is a little tough and it does seam a little more greasy than my favorite meat snack, <a href=\"http://www.amazon.com/gp/product/B000GW0UGG\">Jack Link\\'s X-Stick, Original, 0.5-Ounce X-Sticks (Pack of 50)</a>, but the smaller size makes Slim Jim good for a \"pocket snack\".<br /><br />Recommended!<br /><br />CFH'"
            ]
          },
          "metadata": {
            "tags": []
          },
          "execution_count": 22
        }
      ]
    },
    {
      "cell_type": "code",
      "metadata": {
        "id": "O9VFT1wNHxKC",
        "colab_type": "code",
        "outputId": "fe3a6c5f-4654-4d67-b3dc-c8c40196d226",
        "colab": {
          "base_uri": "https://localhost:8080/",
          "height": 51
        }
      },
      "source": [
        "print(\"Number of reviewed products: {}\".format(traindf[\"ProductId\"].nunique()))\n",
        "print(\"Number of users participated: {}\".format(traindf[\"UserId\"].nunique()))"
      ],
      "execution_count": 23,
      "outputs": [
        {
          "output_type": "stream",
          "text": [
            "Number of reviewed products: 65858\n",
            "Number of users participated: 210008\n"
          ],
          "name": "stdout"
        }
      ]
    },
    {
      "cell_type": "code",
      "metadata": {
        "id": "z1X5jER7IBb3",
        "colab_type": "code",
        "outputId": "6873b97e-fb05-46b7-f202-8947695e68a7",
        "colab": {
          "base_uri": "https://localhost:8080/",
          "height": 238
        }
      },
      "source": [
        "pcount = traindf.groupby(['ProductId'])['Id'].count()\n",
        "pcount.sort_values(axis=0, ascending=False )"
      ],
      "execution_count": 24,
      "outputs": [
        {
          "output_type": "execute_result",
          "data": {
            "text/plain": [
              "ProductId\n",
              "B007JFMH8M    667\n",
              "B002QWP89S    478\n",
              "B002QWP8H0    477\n",
              "B002QWHJOU    477\n",
              "B0026RQTGE    466\n",
              "             ... \n",
              "B002W8LMH8      1\n",
              "B002W5OA8Y      1\n",
              "B002W51EWY      1\n",
              "B002W4IZ4K      1\n",
              "B001TP0EBA      1\n",
              "Name: Id, Length: 65858, dtype: int64"
            ]
          },
          "metadata": {
            "tags": []
          },
          "execution_count": 24
        }
      ]
    },
    {
      "cell_type": "markdown",
      "metadata": {
        "id": "5w5qw1ffOMTJ",
        "colab_type": "text"
      },
      "source": [
        "#**Normalization** \n",
        "Cleanup the data, then enrich it , stemming and lematization\n",
        "\n",
        "\n",
        "\n"
      ]
    },
    {
      "cell_type": "markdown",
      "metadata": {
        "id": "BVnnX6RN6ee7",
        "colab_type": "text"
      },
      "source": [
        "## Cleanup"
      ]
    },
    {
      "cell_type": "code",
      "metadata": {
        "id": "JlfXADyOsXJo",
        "colab_type": "code",
        "outputId": "ffda50fb-e1c2-4e47-a90c-bcc0dce5a430",
        "colab": {
          "base_uri": "https://localhost:8080/",
          "height": 272
        }
      },
      "source": [
        "traindf.info()"
      ],
      "execution_count": 25,
      "outputs": [
        {
          "output_type": "stream",
          "text": [
            "<class 'pandas.core.frame.DataFrame'>\n",
            "RangeIndex: 426340 entries, 0 to 426339\n",
            "Data columns (total 10 columns):\n",
            "Id                        426340 non-null int64\n",
            "ProductId                 426340 non-null object\n",
            "UserId                    426340 non-null object\n",
            "ProfileName               426326 non-null object\n",
            "HelpfulnessNumerator      426340 non-null int64\n",
            "HelpfulnessDenominator    426340 non-null int64\n",
            "Score                     426340 non-null int64\n",
            "Time                      426340 non-null int64\n",
            "Summary                   426320 non-null object\n",
            "Text                      426340 non-null object\n",
            "dtypes: int64(5), object(5)\n",
            "memory usage: 32.5+ MB\n"
          ],
          "name": "stdout"
        }
      ]
    },
    {
      "cell_type": "code",
      "metadata": {
        "id": "TjLEwgQMsgUT",
        "colab_type": "code",
        "outputId": "fde21ca2-983c-4d08-d25f-77b065d22815",
        "colab": {
          "base_uri": "https://localhost:8080/",
          "height": 547
        }
      },
      "source": [
        "#sorting the data before removing duplicates\n",
        "sorted_data=traindf.sort_values([\"UserId\",\"Score\",\"Summary\",\"Text\"],ascending=True,inplace=False,kind='quicksort',na_position='last')\n",
        "sorted_data.head()\n"
      ],
      "execution_count": 26,
      "outputs": [
        {
          "output_type": "execute_result",
          "data": {
            "text/html": [
              "<div>\n",
              "<style scoped>\n",
              "    .dataframe tbody tr th:only-of-type {\n",
              "        vertical-align: middle;\n",
              "    }\n",
              "\n",
              "    .dataframe tbody tr th {\n",
              "        vertical-align: top;\n",
              "    }\n",
              "\n",
              "    .dataframe thead th {\n",
              "        text-align: right;\n",
              "    }\n",
              "</style>\n",
              "<table border=\"1\" class=\"dataframe\">\n",
              "  <thead>\n",
              "    <tr style=\"text-align: right;\">\n",
              "      <th></th>\n",
              "      <th>Id</th>\n",
              "      <th>ProductId</th>\n",
              "      <th>UserId</th>\n",
              "      <th>ProfileName</th>\n",
              "      <th>HelpfulnessNumerator</th>\n",
              "      <th>HelpfulnessDenominator</th>\n",
              "      <th>Score</th>\n",
              "      <th>Time</th>\n",
              "      <th>Summary</th>\n",
              "      <th>Text</th>\n",
              "    </tr>\n",
              "  </thead>\n",
              "  <tbody>\n",
              "    <tr>\n",
              "      <th>109293</th>\n",
              "      <td>136323</td>\n",
              "      <td>B006Q820X0</td>\n",
              "      <td>#oc-R103C0QSV1DF5E</td>\n",
              "      <td>C</td>\n",
              "      <td>1</td>\n",
              "      <td>2</td>\n",
              "      <td>5</td>\n",
              "      <td>1343088000</td>\n",
              "      <td>Great for the Price</td>\n",
              "      <td>I have to say I was a little apprehensive to b...</td>\n",
              "    </tr>\n",
              "    <tr>\n",
              "      <th>70602</th>\n",
              "      <td>516062</td>\n",
              "      <td>B008I1XPKA</td>\n",
              "      <td>#oc-R109MU5OBBZ59U</td>\n",
              "      <td>AayGee</td>\n",
              "      <td>0</td>\n",
              "      <td>1</td>\n",
              "      <td>5</td>\n",
              "      <td>1350086400</td>\n",
              "      <td>AWESOME Coffee!!!!</td>\n",
              "      <td>Received my free K cups as a sample promotion ...</td>\n",
              "    </tr>\n",
              "    <tr>\n",
              "      <th>80036</th>\n",
              "      <td>516079</td>\n",
              "      <td>B008I1XPKA</td>\n",
              "      <td>#oc-R10LFEMQEW6QGZ</td>\n",
              "      <td>Julie</td>\n",
              "      <td>0</td>\n",
              "      <td>1</td>\n",
              "      <td>5</td>\n",
              "      <td>1345939200</td>\n",
              "      <td>Brooklyn Bean Roastery Breakfast Blend K-Cups</td>\n",
              "      <td>Brooklyn Bean Roastery Blend K-Cups are great ...</td>\n",
              "    </tr>\n",
              "    <tr>\n",
              "      <th>89988</th>\n",
              "      <td>378693</td>\n",
              "      <td>B0026LJ3EA</td>\n",
              "      <td>#oc-R10LT57ZGIB140</td>\n",
              "      <td>dipr</td>\n",
              "      <td>0</td>\n",
              "      <td>0</td>\n",
              "      <td>3</td>\n",
              "      <td>1310601600</td>\n",
              "      <td>Some damage</td>\n",
              "      <td>The shipment of the dog food was quick.  Howev...</td>\n",
              "    </tr>\n",
              "    <tr>\n",
              "      <th>5800</th>\n",
              "      <td>136545</td>\n",
              "      <td>B006Q820X0</td>\n",
              "      <td>#oc-R10UA029WVWIUI</td>\n",
              "      <td>Kim D</td>\n",
              "      <td>0</td>\n",
              "      <td>0</td>\n",
              "      <td>1</td>\n",
              "      <td>1342483200</td>\n",
              "      <td>Less than satisfactory.  I gave the Brooklyn K...</td>\n",
              "      <td>Brooklyn \"French Roast\" K-Cup Coffee is not on...</td>\n",
              "    </tr>\n",
              "  </tbody>\n",
              "</table>\n",
              "</div>"
            ],
            "text/plain": [
              "            Id  ...                                               Text\n",
              "109293  136323  ...  I have to say I was a little apprehensive to b...\n",
              "70602   516062  ...  Received my free K cups as a sample promotion ...\n",
              "80036   516079  ...  Brooklyn Bean Roastery Blend K-Cups are great ...\n",
              "89988   378693  ...  The shipment of the dog food was quick.  Howev...\n",
              "5800    136545  ...  Brooklyn \"French Roast\" K-Cup Coffee is not on...\n",
              "\n",
              "[5 rows x 10 columns]"
            ]
          },
          "metadata": {
            "tags": []
          },
          "execution_count": 26
        }
      ]
    },
    {
      "cell_type": "markdown",
      "metadata": {
        "id": "pxJG7cmit0qy",
        "colab_type": "text"
      },
      "source": [
        "**1. De-Duplication**\n",
        "\n"
      ]
    },
    {
      "cell_type": "code",
      "metadata": {
        "id": "UI-95k0LsqQD",
        "colab_type": "code",
        "outputId": "87090845-af0c-4337-eacb-df6a66a3da54",
        "colab": {
          "base_uri": "https://localhost:8080/",
          "height": 51
        }
      },
      "source": [
        "#drop_duplicates \n",
        "# ignore product id, look at if same user gave same score with same text\n",
        "# same Score, userid and text can help\n",
        "final=sorted_data.drop_duplicates(subset={\"UserId\",\"Score\",\"Summary\",\"Text\"},keep='first',inplace=False)\n",
        "print(final.shape)\n",
        "final=final[final.HelpfulnessNumerator<=final.HelpfulnessDenominator]\n",
        "final.shape"
      ],
      "execution_count": 27,
      "outputs": [
        {
          "output_type": "stream",
          "text": [
            "(309191, 10)\n"
          ],
          "name": "stdout"
        },
        {
          "output_type": "execute_result",
          "data": {
            "text/plain": [
              "(309190, 10)"
            ]
          },
          "metadata": {
            "tags": []
          },
          "execution_count": 27
        }
      ]
    },
    {
      "cell_type": "code",
      "metadata": {
        "id": "tg2FyOafs_5a",
        "colab_type": "code",
        "outputId": "1e78e2f9-467b-4c13-d931-d1712f3357af",
        "colab": {
          "base_uri": "https://localhost:8080/",
          "height": 68
        }
      },
      "source": [
        "#percentage of data remaining after removing duplicates to the data we initially took.\n",
        "duplicates = (traindf['Id'].size*1.0) - (final['Id'].size*1.0)\n",
        "percent = (final['Id'].size*1.0)/(traindf['Id'].size*1.0)*100\n",
        "print('Duplicate records: ', duplicates)\n",
        "print('Unique ratio: ', percent)\n",
        "print('Deduplicated data set len: ', final['Id'].size*1.0)\n",
        "traindf = final"
      ],
      "execution_count": 28,
      "outputs": [
        {
          "output_type": "stream",
          "text": [
            "Duplicate records:  117150.0\n",
            "Unique ratio:  72.52193085330957\n",
            "Deduplicated data set len:  309190.0\n"
          ],
          "name": "stdout"
        }
      ]
    },
    {
      "cell_type": "markdown",
      "metadata": {
        "id": "SlCC0pANujLf",
        "colab_type": "text"
      },
      "source": [
        "**Handling** **NA** "
      ]
    },
    {
      "cell_type": "code",
      "metadata": {
        "id": "K1XAoSw9uhpq",
        "colab_type": "code",
        "colab": {}
      },
      "source": [
        "traindf.Summary.fillna(' ', inplace=True)\n",
        "traindf.Text.fillna(' ', inplace=True)"
      ],
      "execution_count": 0,
      "outputs": []
    },
    {
      "cell_type": "markdown",
      "metadata": {
        "id": "4b4sscVuvUCd",
        "colab_type": "text"
      },
      "source": [
        "Merge Text and Summary to Form \"REVIEW\", then do cleanup on REVIEW\n",
        "\n",
        "1.   Remove HTML tags\n",
        "2.   Remove numbers\n",
        "3.   Remove [] \n",
        "4.   Remove &, -, '_'\n",
        "\n",
        "\n",
        "\n"
      ]
    },
    {
      "cell_type": "code",
      "metadata": {
        "id": "rTJKW1TqOVnk",
        "colab_type": "code",
        "colab": {}
      },
      "source": [
        "def remove_html(text):\n",
        "    from bs4 import BeautifulSoup\n",
        "    soup = BeautifulSoup(text, \"html.parser\")\n",
        "    return soup.get_text()"
      ],
      "execution_count": 0,
      "outputs": []
    },
    {
      "cell_type": "code",
      "metadata": {
        "id": "v79-hohPOkrq",
        "colab_type": "code",
        "colab": {}
      },
      "source": [
        "def remove_square(text):\n",
        "  return re.sub('\\[[^]]*\\]', '', text)\n",
        "  "
      ],
      "execution_count": 0,
      "outputs": []
    },
    {
      "cell_type": "code",
      "metadata": {
        "id": "LuvRn6gaPIdm",
        "colab_type": "code",
        "colab": {}
      },
      "source": [
        "def remove_number(text):\n",
        "  return re.sub(r'\\d+', '', text)"
      ],
      "execution_count": 0,
      "outputs": []
    },
    {
      "cell_type": "code",
      "metadata": {
        "id": "1l89gH98pM0g",
        "colab_type": "code",
        "colab": {}
      },
      "source": [
        "def extract_alpha(text):\n",
        "  #return re.sub(r'\\W+',' ', text)\n",
        "  return re.sub(r'[^A-Za-z]+',' ', text)\n"
      ],
      "execution_count": 0,
      "outputs": []
    },
    {
      "cell_type": "code",
      "metadata": {
        "id": "3JjUBxO4q4Si",
        "colab_type": "code",
        "colab": {}
      },
      "source": [
        "def meaningful_sub(text):\n",
        "  return re.sub(r'(?<= )&(?= )', \"and\", text)"
      ],
      "execution_count": 0,
      "outputs": []
    },
    {
      "cell_type": "code",
      "metadata": {
        "id": "xayu9QDBPfxU",
        "colab_type": "code",
        "colab": {}
      },
      "source": [
        "def do_some_cleaning(text):\n",
        "  text = remove_html(text)\n",
        "  text = remove_square(text)\n",
        "  #text = meaningful_sub(text)\n",
        "  text = extract_alpha(text)\n",
        "  #text = remove_number(text)\n",
        "  return text\n"
      ],
      "execution_count": 0,
      "outputs": []
    },
    {
      "cell_type": "code",
      "metadata": {
        "id": "Qymm7ykuPxbL",
        "colab_type": "code",
        "colab": {}
      },
      "source": [
        "def merge_then_clean(df):\n",
        "  df['Review'] = traindf[traindf.columns[8:]].apply(\n",
        "    lambda x: ' '.join(x.astype(str)),\n",
        "    axis=1\n",
        ")\n",
        "  df['Review'] = df.apply(lambda row: do_some_cleaning(row['Review']), axis=1)\n",
        "  return df"
      ],
      "execution_count": 0,
      "outputs": []
    },
    {
      "cell_type": "code",
      "metadata": {
        "id": "DRGMwYU5iG7d",
        "colab_type": "code",
        "outputId": "11de96bd-7b20-4bf0-9400-80c59be8040c",
        "colab": {
          "base_uri": "https://localhost:8080/",
          "height": 51
        }
      },
      "source": [
        "#traindf = merge_then_clean(traindf)\n",
        "#traindf = execute_in_parallel(traindf, merge_then_clean, mp.cpu_count())\n",
        "pandarallel.initialize()\n",
        "traindf['Review'] = traindf[traindf.columns[8:]].parallel_apply(\n",
        "    lambda x: ' '.join(x.astype(str)),\n",
        "    axis=1\n",
        ")"
      ],
      "execution_count": 37,
      "outputs": [
        {
          "output_type": "stream",
          "text": [
            "INFO: Pandarallel will run on 4 workers.\n",
            "INFO: Pandarallel will use Memory file system to transfer data between the main process and workers.\n"
          ],
          "name": "stdout"
        }
      ]
    },
    {
      "cell_type": "code",
      "metadata": {
        "id": "JghmuvRUvLkH",
        "colab_type": "code",
        "outputId": "cfecc518-f9a2-44d2-9ca6-2cd0aa4e92d8",
        "colab": {
          "base_uri": "https://localhost:8080/",
          "height": 51
        }
      },
      "source": [
        "pandarallel.initialize()\n",
        "traindf['Review'] = traindf.parallel_apply(lambda row: do_some_cleaning(row['Review']), axis=1)"
      ],
      "execution_count": 38,
      "outputs": [
        {
          "output_type": "stream",
          "text": [
            "INFO: Pandarallel will run on 4 workers.\n",
            "INFO: Pandarallel will use Memory file system to transfer data between the main process and workers.\n"
          ],
          "name": "stdout"
        }
      ]
    },
    {
      "cell_type": "code",
      "metadata": {
        "id": "D6ddhGKvwd0p",
        "colab_type": "code",
        "colab": {}
      },
      "source": [
        "#drop some coloumns, as we do not need it now.\n",
        "originaldf = pd.DataFrame(traindf)\n",
        "traindf = traindf.drop(['ProductId','UserId','ProfileName','HelpfulnessNumerator','HelpfulnessDenominator','Summary','Text'], axis = 1)"
      ],
      "execution_count": 0,
      "outputs": []
    },
    {
      "cell_type": "code",
      "metadata": {
        "id": "eGfz6XrXU0ix",
        "colab_type": "code",
        "outputId": "fb4655ad-7090-4dc2-fc73-725054764f23",
        "colab": {
          "base_uri": "https://localhost:8080/",
          "height": 204
        }
      },
      "source": [
        "traindf.head()"
      ],
      "execution_count": 40,
      "outputs": [
        {
          "output_type": "execute_result",
          "data": {
            "text/html": [
              "<div>\n",
              "<style scoped>\n",
              "    .dataframe tbody tr th:only-of-type {\n",
              "        vertical-align: middle;\n",
              "    }\n",
              "\n",
              "    .dataframe tbody tr th {\n",
              "        vertical-align: top;\n",
              "    }\n",
              "\n",
              "    .dataframe thead th {\n",
              "        text-align: right;\n",
              "    }\n",
              "</style>\n",
              "<table border=\"1\" class=\"dataframe\">\n",
              "  <thead>\n",
              "    <tr style=\"text-align: right;\">\n",
              "      <th></th>\n",
              "      <th>Id</th>\n",
              "      <th>Score</th>\n",
              "      <th>Time</th>\n",
              "      <th>Review</th>\n",
              "    </tr>\n",
              "  </thead>\n",
              "  <tbody>\n",
              "    <tr>\n",
              "      <th>109293</th>\n",
              "      <td>136323</td>\n",
              "      <td>5</td>\n",
              "      <td>1343088000</td>\n",
              "      <td>Great for the Price I have to say I was a litt...</td>\n",
              "    </tr>\n",
              "    <tr>\n",
              "      <th>70602</th>\n",
              "      <td>516062</td>\n",
              "      <td>5</td>\n",
              "      <td>1350086400</td>\n",
              "      <td>AWESOME Coffee Received my free K cups as a sa...</td>\n",
              "    </tr>\n",
              "    <tr>\n",
              "      <th>80036</th>\n",
              "      <td>516079</td>\n",
              "      <td>5</td>\n",
              "      <td>1345939200</td>\n",
              "      <td>Brooklyn Bean Roastery Breakfast Blend K Cups ...</td>\n",
              "    </tr>\n",
              "    <tr>\n",
              "      <th>89988</th>\n",
              "      <td>378693</td>\n",
              "      <td>3</td>\n",
              "      <td>1310601600</td>\n",
              "      <td>Some damage The shipment of the dog food was q...</td>\n",
              "    </tr>\n",
              "    <tr>\n",
              "      <th>5800</th>\n",
              "      <td>136545</td>\n",
              "      <td>1</td>\n",
              "      <td>1342483200</td>\n",
              "      <td>Less than satisfactory I gave the Brooklyn K C...</td>\n",
              "    </tr>\n",
              "  </tbody>\n",
              "</table>\n",
              "</div>"
            ],
            "text/plain": [
              "            Id  ...                                             Review\n",
              "109293  136323  ...  Great for the Price I have to say I was a litt...\n",
              "70602   516062  ...  AWESOME Coffee Received my free K cups as a sa...\n",
              "80036   516079  ...  Brooklyn Bean Roastery Breakfast Blend K Cups ...\n",
              "89988   378693  ...  Some damage The shipment of the dog food was q...\n",
              "5800    136545  ...  Less than satisfactory I gave the Brooklyn K C...\n",
              "\n",
              "[5 rows x 4 columns]"
            ]
          },
          "metadata": {
            "tags": []
          },
          "execution_count": 40
        }
      ]
    },
    {
      "cell_type": "code",
      "metadata": {
        "id": "hV0rVO69U8D2",
        "colab_type": "code",
        "outputId": "37add8df-bf5d-4151-dbad-a69e19c192cb",
        "colab": {
          "base_uri": "https://localhost:8080/",
          "height": 204
        }
      },
      "source": [
        "traindf.tail()"
      ],
      "execution_count": 41,
      "outputs": [
        {
          "output_type": "execute_result",
          "data": {
            "text/html": [
              "<div>\n",
              "<style scoped>\n",
              "    .dataframe tbody tr th:only-of-type {\n",
              "        vertical-align: middle;\n",
              "    }\n",
              "\n",
              "    .dataframe tbody tr th {\n",
              "        vertical-align: top;\n",
              "    }\n",
              "\n",
              "    .dataframe thead th {\n",
              "        text-align: right;\n",
              "    }\n",
              "</style>\n",
              "<table border=\"1\" class=\"dataframe\">\n",
              "  <thead>\n",
              "    <tr style=\"text-align: right;\">\n",
              "      <th></th>\n",
              "      <th>Id</th>\n",
              "      <th>Score</th>\n",
              "      <th>Time</th>\n",
              "      <th>Review</th>\n",
              "    </tr>\n",
              "  </thead>\n",
              "  <tbody>\n",
              "    <tr>\n",
              "      <th>206340</th>\n",
              "      <td>338489</td>\n",
              "      <td>5</td>\n",
              "      <td>1329436800</td>\n",
              "      <td>Just what I needed This is a great addition to...</td>\n",
              "    </tr>\n",
              "    <tr>\n",
              "      <th>423327</th>\n",
              "      <td>190698</td>\n",
              "      <td>5</td>\n",
              "      <td>1268179200</td>\n",
              "      <td>pretty amazing i ve wanted one of these since ...</td>\n",
              "    </tr>\n",
              "    <tr>\n",
              "      <th>369037</th>\n",
              "      <td>222781</td>\n",
              "      <td>5</td>\n",
              "      <td>1309737600</td>\n",
              "      <td>I Have Spoken All of the chocolate arrived wit...</td>\n",
              "    </tr>\n",
              "    <tr>\n",
              "      <th>425126</th>\n",
              "      <td>131469</td>\n",
              "      <td>5</td>\n",
              "      <td>1337472000</td>\n",
              "      <td>Amazing flavor I use this all the time Good fo...</td>\n",
              "    </tr>\n",
              "    <tr>\n",
              "      <th>162126</th>\n",
              "      <td>183897</td>\n",
              "      <td>2</td>\n",
              "      <td>1333497600</td>\n",
              "      <td>Disappointed I ordered this cereal based on th...</td>\n",
              "    </tr>\n",
              "  </tbody>\n",
              "</table>\n",
              "</div>"
            ],
            "text/plain": [
              "            Id  ...                                             Review\n",
              "206340  338489  ...  Just what I needed This is a great addition to...\n",
              "423327  190698  ...  pretty amazing i ve wanted one of these since ...\n",
              "369037  222781  ...  I Have Spoken All of the chocolate arrived wit...\n",
              "425126  131469  ...  Amazing flavor I use this all the time Good fo...\n",
              "162126  183897  ...  Disappointed I ordered this cereal based on th...\n",
              "\n",
              "[5 rows x 4 columns]"
            ]
          },
          "metadata": {
            "tags": []
          },
          "execution_count": 41
        }
      ]
    },
    {
      "cell_type": "code",
      "metadata": {
        "id": "6LF_ERJPGKHr",
        "colab_type": "code",
        "outputId": "0d1efa2b-8e7a-4187-9998-4220b450c188",
        "colab": {
          "base_uri": "https://localhost:8080/",
          "height": 54
        }
      },
      "source": [
        "traindf.loc[1,'Review']"
      ],
      "execution_count": 42,
      "outputs": [
        {
          "output_type": "execute_result",
          "data": {
            "text/plain": [
              "'Organic Kosher Tasty Assortment of Premium Teas Teasans Numi s Collection Assortment Melange includes Herbal Teas caffeine free also called teasans Dry Desert Lime Lime Herbal Teasan Fields of Gold Lemongrass Herbal Teasan Red Mellow Bush Rooibos Herbal Teasan Bushmen s Brew Honeybush Herbal Teasan Simply Mint Moroccan Mint Green Teas lower in caffeine Temple of Heaven Gunpowder Green Tea Monkey King Jasmine Green Tea Black Teas contain caffeine Chinese Breakfast Yunnan Black Tea Smoky Tarry Lapsang Souchong Black TeaThis is a total of nine different teas two tea bags of each one in each box Numi teas are known for their high quality organic and kosher ingredients and in my opinion are some of the tastiest and best teas I have ever tried They do not include artificial ingredients or flavorings On the box the manufacturer writes From mist covered mountains to sun drenched deserts to fertile fields we proudly bring you our tea palette The flavors range from smooth earthiness and light floral scents to refreshingly sweet and sour notes What they all share is the recollection of how some Ancient One tamed fire and water to coexist harmoniously and steeped in them the gifts of Nature Since that distant past people have soothed roused healed explored and celebrated with these wonderful infusions We encourage you to do the same with Numi s finest The price is perfect a big savings over single boxes If you like Numi teas and want to sample a wonderful assortment get it you won t be sorry There may be some you like and others you don t but sampling them will be a delightful experience If you are new to Numi this is an excellent way to sample their high quality teas I do not think you could find a better source of premium tea than Numi Highly recommended '"
            ]
          },
          "metadata": {
            "tags": []
          },
          "execution_count": 42
        }
      ]
    },
    {
      "cell_type": "code",
      "metadata": {
        "id": "W10AxpjQGbZH",
        "colab_type": "code",
        "outputId": "542cd5de-b35f-47dd-920d-cac20eb3dd82",
        "colab": {
          "base_uri": "https://localhost:8080/",
          "height": 54
        }
      },
      "source": [
        "traindf.loc[0,'Review']"
      ],
      "execution_count": 43,
      "outputs": [
        {
          "output_type": "execute_result",
          "data": {
            "text/plain": [
              "'Very Good I received this product early from the seller They are a very tastey a Great mid day snack I have shared them with my Glutten Free Friends they will be ordering this product more very soon '"
            ]
          },
          "metadata": {
            "tags": []
          },
          "execution_count": 43
        }
      ]
    },
    {
      "cell_type": "code",
      "metadata": {
        "id": "sD3jUHU6JMZP",
        "colab_type": "code",
        "colab": {}
      },
      "source": [
        "originaldf.to_csv(stemfile)"
      ],
      "execution_count": 0,
      "outputs": []
    },
    {
      "cell_type": "markdown",
      "metadata": {
        "id": "mRE-EkFeIY01",
        "colab_type": "text"
      },
      "source": [
        "**Lets see how many reviews available against the scrores** \n"
      ]
    },
    {
      "cell_type": "code",
      "metadata": {
        "id": "1Zo4QpacIwG5",
        "colab_type": "code",
        "outputId": "bdfba345-28f3-4433-c63e-7236bce42ff6",
        "colab": {
          "base_uri": "https://localhost:8080/",
          "height": 235
        }
      },
      "source": [
        "traindf.groupby('Score').count()"
      ],
      "execution_count": 45,
      "outputs": [
        {
          "output_type": "execute_result",
          "data": {
            "text/html": [
              "<div>\n",
              "<style scoped>\n",
              "    .dataframe tbody tr th:only-of-type {\n",
              "        vertical-align: middle;\n",
              "    }\n",
              "\n",
              "    .dataframe tbody tr th {\n",
              "        vertical-align: top;\n",
              "    }\n",
              "\n",
              "    .dataframe thead th {\n",
              "        text-align: right;\n",
              "    }\n",
              "</style>\n",
              "<table border=\"1\" class=\"dataframe\">\n",
              "  <thead>\n",
              "    <tr style=\"text-align: right;\">\n",
              "      <th></th>\n",
              "      <th>Id</th>\n",
              "      <th>Time</th>\n",
              "      <th>Review</th>\n",
              "    </tr>\n",
              "    <tr>\n",
              "      <th>Score</th>\n",
              "      <th></th>\n",
              "      <th></th>\n",
              "      <th></th>\n",
              "    </tr>\n",
              "  </thead>\n",
              "  <tbody>\n",
              "    <tr>\n",
              "      <th>1</th>\n",
              "      <td>28531</td>\n",
              "      <td>28531</td>\n",
              "      <td>28531</td>\n",
              "    </tr>\n",
              "    <tr>\n",
              "      <th>2</th>\n",
              "      <td>16290</td>\n",
              "      <td>16290</td>\n",
              "      <td>16290</td>\n",
              "    </tr>\n",
              "    <tr>\n",
              "      <th>3</th>\n",
              "      <td>23302</td>\n",
              "      <td>23302</td>\n",
              "      <td>23302</td>\n",
              "    </tr>\n",
              "    <tr>\n",
              "      <th>4</th>\n",
              "      <td>43879</td>\n",
              "      <td>43879</td>\n",
              "      <td>43879</td>\n",
              "    </tr>\n",
              "    <tr>\n",
              "      <th>5</th>\n",
              "      <td>197188</td>\n",
              "      <td>197188</td>\n",
              "      <td>197188</td>\n",
              "    </tr>\n",
              "  </tbody>\n",
              "</table>\n",
              "</div>"
            ],
            "text/plain": [
              "           Id    Time  Review\n",
              "Score                        \n",
              "1       28531   28531   28531\n",
              "2       16290   16290   16290\n",
              "3       23302   23302   23302\n",
              "4       43879   43879   43879\n",
              "5      197188  197188  197188"
            ]
          },
          "metadata": {
            "tags": []
          },
          "execution_count": 45
        }
      ]
    },
    {
      "cell_type": "markdown",
      "metadata": {
        "id": "qsnp81UK6udb",
        "colab_type": "text"
      },
      "source": [
        "## Enrich"
      ]
    },
    {
      "cell_type": "markdown",
      "metadata": {
        "id": "kOF5D8l-JXNT",
        "colab_type": "text"
      },
      "source": [
        "Introduce a new coloumn , so reviews with score more than 3 are positive, and below 3 are negative, 3 is neutral. Posive gets +1, negative -1 and neutral is 0"
      ]
    },
    {
      "cell_type": "code",
      "metadata": {
        "id": "HOBEe2-lJpWy",
        "colab_type": "code",
        "colab": {}
      },
      "source": [
        "traindf['Positivity'] = np.where(traindf['Score'] > 3, 1, np.where(traindf['Score'] < 3, -1, 0))"
      ],
      "execution_count": 0,
      "outputs": []
    },
    {
      "cell_type": "code",
      "metadata": {
        "id": "0oUmB3BgKjsV",
        "colab_type": "code",
        "outputId": "59b954dc-e81f-4583-9214-fc2923ea9673",
        "colab": {
          "base_uri": "https://localhost:8080/",
          "height": 173
        }
      },
      "source": [
        "traindf.groupby('Positivity').count()"
      ],
      "execution_count": 47,
      "outputs": [
        {
          "output_type": "execute_result",
          "data": {
            "text/html": [
              "<div>\n",
              "<style scoped>\n",
              "    .dataframe tbody tr th:only-of-type {\n",
              "        vertical-align: middle;\n",
              "    }\n",
              "\n",
              "    .dataframe tbody tr th {\n",
              "        vertical-align: top;\n",
              "    }\n",
              "\n",
              "    .dataframe thead th {\n",
              "        text-align: right;\n",
              "    }\n",
              "</style>\n",
              "<table border=\"1\" class=\"dataframe\">\n",
              "  <thead>\n",
              "    <tr style=\"text-align: right;\">\n",
              "      <th></th>\n",
              "      <th>Id</th>\n",
              "      <th>Score</th>\n",
              "      <th>Time</th>\n",
              "      <th>Review</th>\n",
              "    </tr>\n",
              "    <tr>\n",
              "      <th>Positivity</th>\n",
              "      <th></th>\n",
              "      <th></th>\n",
              "      <th></th>\n",
              "      <th></th>\n",
              "    </tr>\n",
              "  </thead>\n",
              "  <tbody>\n",
              "    <tr>\n",
              "      <th>-1</th>\n",
              "      <td>44821</td>\n",
              "      <td>44821</td>\n",
              "      <td>44821</td>\n",
              "      <td>44821</td>\n",
              "    </tr>\n",
              "    <tr>\n",
              "      <th>0</th>\n",
              "      <td>23302</td>\n",
              "      <td>23302</td>\n",
              "      <td>23302</td>\n",
              "      <td>23302</td>\n",
              "    </tr>\n",
              "    <tr>\n",
              "      <th>1</th>\n",
              "      <td>241067</td>\n",
              "      <td>241067</td>\n",
              "      <td>241067</td>\n",
              "      <td>241067</td>\n",
              "    </tr>\n",
              "  </tbody>\n",
              "</table>\n",
              "</div>"
            ],
            "text/plain": [
              "                Id   Score    Time  Review\n",
              "Positivity                                \n",
              "-1           44821   44821   44821   44821\n",
              " 0           23302   23302   23302   23302\n",
              " 1          241067  241067  241067  241067"
            ]
          },
          "metadata": {
            "tags": []
          },
          "execution_count": 47
        }
      ]
    },
    {
      "cell_type": "code",
      "metadata": {
        "id": "TgYmQlGOC5hQ",
        "colab_type": "code",
        "outputId": "58288248-b8fe-4fdb-9e15-b5631ca8285b",
        "colab": {
          "base_uri": "https://localhost:8080/",
          "height": 298
        }
      },
      "source": [
        "df = pd.DataFrame(data = traindf)\n",
        "df = df.replace(np.nan,0)\n",
        "df = df.groupby(['Positivity']).count()['Score']\n",
        "df.plot.bar()"
      ],
      "execution_count": 48,
      "outputs": [
        {
          "output_type": "execute_result",
          "data": {
            "text/plain": [
              "<matplotlib.axes._subplots.AxesSubplot at 0x7f46769bf160>"
            ]
          },
          "metadata": {
            "tags": []
          },
          "execution_count": 48
        },
        {
          "output_type": "display_data",
          "data": {
            "image/png": "[encoded data removed]",
            "text/plain": [
              "<Figure size 432x288 with 1 Axes>"
            ]
          },
          "metadata": {
            "tags": []
          }
        }
      ]
    },
    {
      "cell_type": "code",
      "metadata": {
        "id": "iLQT9BVlDaE9",
        "colab_type": "code",
        "outputId": "7e62b447-73aa-4ee6-f6d8-0da2458e6e96",
        "colab": {
          "base_uri": "https://localhost:8080/",
          "height": 34
        }
      },
      "source": [
        "from numpy import array\n",
        "from sklearn.preprocessing import LabelEncoder\n",
        "from sklearn.preprocessing import OneHotEncoder\n",
        "\n",
        "positivity_label = ['Negative','Neutral','Positive']\n",
        "values = array(positivity_label)\n",
        "print(values)"
      ],
      "execution_count": 49,
      "outputs": [
        {
          "output_type": "stream",
          "text": [
            "['Negative' 'Neutral' 'Positive']\n"
          ],
          "name": "stdout"
        }
      ]
    },
    {
      "cell_type": "markdown",
      "metadata": {
        "id": "JjD_LfGSOZIT",
        "colab_type": "text"
      },
      "source": [
        "##**Tokenizing**\n",
        "\n"
      ]
    },
    {
      "cell_type": "code",
      "metadata": {
        "id": "Kpmfj3VgHEzX",
        "colab_type": "code",
        "outputId": "85b81e36-29ea-4ce6-80ff-83b0db5b11b7",
        "colab": {
          "base_uri": "https://localhost:8080/",
          "height": 204
        }
      },
      "source": [
        "traindf.head()"
      ],
      "execution_count": 56,
      "outputs": [
        {
          "output_type": "execute_result",
          "data": {
            "text/html": [
              "<div>\n",
              "<style scoped>\n",
              "    .dataframe tbody tr th:only-of-type {\n",
              "        vertical-align: middle;\n",
              "    }\n",
              "\n",
              "    .dataframe tbody tr th {\n",
              "        vertical-align: top;\n",
              "    }\n",
              "\n",
              "    .dataframe thead th {\n",
              "        text-align: right;\n",
              "    }\n",
              "</style>\n",
              "<table border=\"1\" class=\"dataframe\">\n",
              "  <thead>\n",
              "    <tr style=\"text-align: right;\">\n",
              "      <th></th>\n",
              "      <th>Id</th>\n",
              "      <th>Score</th>\n",
              "      <th>Time</th>\n",
              "      <th>Review</th>\n",
              "      <th>Positivity</th>\n",
              "    </tr>\n",
              "  </thead>\n",
              "  <tbody>\n",
              "    <tr>\n",
              "      <th>109293</th>\n",
              "      <td>136323</td>\n",
              "      <td>5</td>\n",
              "      <td>1343088000</td>\n",
              "      <td>Great for the Price I have to say I was a litt...</td>\n",
              "      <td>1</td>\n",
              "    </tr>\n",
              "    <tr>\n",
              "      <th>70602</th>\n",
              "      <td>516062</td>\n",
              "      <td>5</td>\n",
              "      <td>1350086400</td>\n",
              "      <td>AWESOME Coffee Received my free K cups as a sa...</td>\n",
              "      <td>1</td>\n",
              "    </tr>\n",
              "    <tr>\n",
              "      <th>80036</th>\n",
              "      <td>516079</td>\n",
              "      <td>5</td>\n",
              "      <td>1345939200</td>\n",
              "      <td>Brooklyn Bean Roastery Breakfast Blend K Cups ...</td>\n",
              "      <td>1</td>\n",
              "    </tr>\n",
              "    <tr>\n",
              "      <th>89988</th>\n",
              "      <td>378693</td>\n",
              "      <td>3</td>\n",
              "      <td>1310601600</td>\n",
              "      <td>Some damage The shipment of the dog food was q...</td>\n",
              "      <td>0</td>\n",
              "    </tr>\n",
              "    <tr>\n",
              "      <th>5800</th>\n",
              "      <td>136545</td>\n",
              "      <td>1</td>\n",
              "      <td>1342483200</td>\n",
              "      <td>Less than satisfactory I gave the Brooklyn K C...</td>\n",
              "      <td>-1</td>\n",
              "    </tr>\n",
              "  </tbody>\n",
              "</table>\n",
              "</div>"
            ],
            "text/plain": [
              "            Id  ...  Positivity\n",
              "109293  136323  ...           1\n",
              "70602   516062  ...           1\n",
              "80036   516079  ...           1\n",
              "89988   378693  ...           0\n",
              "5800    136545  ...          -1\n",
              "\n",
              "[5 rows x 5 columns]"
            ]
          },
          "metadata": {
            "tags": []
          },
          "execution_count": 56
        }
      ]
    },
    {
      "cell_type": "code",
      "metadata": {
        "id": "seu-Fe3IwNBU",
        "colab_type": "code",
        "colab": {}
      },
      "source": [
        "#tokenize and remove stop words\n",
        "def tokenize_wo_stop(text):\n",
        "  text1 = text\n",
        "  text1 = text1.lower()\n",
        "  stop_words = set(stopwords.words('english'))\n",
        "  words      = word_tokenize(text1)\n",
        "  filtered   = [] \n",
        "  #filter stop words from words\n",
        "  for word in words: \n",
        "    if word not in stop_words: \n",
        "        filtered.append(word) \n",
        "  \n",
        "  return words\n"
      ],
      "execution_count": 0,
      "outputs": []
    },
    {
      "cell_type": "code",
      "metadata": {
        "id": "y2N43mqwx5cA",
        "colab_type": "code",
        "outputId": "ae321d22-4073-4701-c8de-8b87c1d482ae",
        "colab": {
          "base_uri": "https://localhost:8080/",
          "height": 71
        }
      },
      "source": [
        "token1 = tokenize_wo_stop(traindf.loc[0,'Review'])\n",
        "print(traindf.loc[0,'Review'])\n",
        "print(token1)"
      ],
      "execution_count": 51,
      "outputs": [
        {
          "output_type": "stream",
          "text": [
            "Very Good I received this product early from the seller They are a very tastey a Great mid day snack I have shared them with my Glutten Free Friends they will be ordering this product more very soon \n",
            "['very', 'good', 'i', 'received', 'this', 'product', 'early', 'from', 'the', 'seller', 'they', 'are', 'a', 'very', 'tastey', 'a', 'great', 'mid', 'day', 'snack', 'i', 'have', 'shared', 'them', 'with', 'my', 'glutten', 'free', 'friends', 'they', 'will', 'be', 'ordering', 'this', 'product', 'more', 'very', 'soon']\n"
          ],
          "name": "stdout"
        }
      ]
    },
    {
      "cell_type": "code",
      "metadata": {
        "id": "I07yOfqTL2Yk",
        "colab_type": "code",
        "colab": {}
      },
      "source": [
        "traindf.Review.fillna(' ', inplace=True)"
      ],
      "execution_count": 0,
      "outputs": []
    },
    {
      "cell_type": "code",
      "metadata": {
        "id": "AiXTVYef3lFg",
        "colab_type": "code",
        "outputId": "e98b442d-5d55-497b-8dc1-43764a41eab8",
        "colab": {
          "base_uri": "https://localhost:8080/",
          "height": 51
        }
      },
      "source": [
        "#Tokenize and Stem\n",
        "pandarallel.initialize()\n",
        "traindf['Tokens'] =  traindf.parallel_apply(lambda row: tokenize_wo_stop(row['Review']), axis=1)"
      ],
      "execution_count": 57,
      "outputs": [
        {
          "output_type": "stream",
          "text": [
            "INFO: Pandarallel will run on 4 workers.\n",
            "INFO: Pandarallel will use Memory file system to transfer data between the main process and workers.\n"
          ],
          "name": "stdout"
        }
      ]
    },
    {
      "cell_type": "code",
      "metadata": {
        "id": "u6AbDocJnUTp",
        "colab_type": "code",
        "colab": {
          "base_uri": "https://localhost:8080/",
          "height": 119
        },
        "outputId": "a92f270c-b404-42f5-d2da-fb207d2cef4d"
      },
      "source": [
        "traindf['Tokens'].head()"
      ],
      "execution_count": 88,
      "outputs": [
        {
          "output_type": "execute_result",
          "data": {
            "text/plain": [
              "109293    [great, for, the, price, i, have, to, say, i, ...\n",
              "70602     [awesome, coffee, received, my, free, k, cups,...\n",
              "80036     [brooklyn, bean, roastery, breakfast, blend, k...\n",
              "89988     [some, damage, the, shipment, of, the, dog, fo...\n",
              "5800      [less, than, satisfactory, i, gave, the, brook...\n",
              "Name: Tokens, dtype: object"
            ]
          },
          "metadata": {
            "tags": []
          },
          "execution_count": 88
        }
      ]
    },
    {
      "cell_type": "code",
      "metadata": {
        "id": "uSDgZuQ_rprq",
        "colab_type": "code",
        "colab": {
          "base_uri": "https://localhost:8080/",
          "height": 1000
        },
        "outputId": "833420bd-57bd-4232-a1fc-7f94fd9c7840"
      },
      "source": [
        "stop_words = set(stopwords.words('english'))\n",
        "stop_words"
      ],
      "execution_count": 89,
      "outputs": [
        {
          "output_type": "execute_result",
          "data": {
            "text/plain": [
              "{'a',\n",
              " 'about',\n",
              " 'above',\n",
              " 'after',\n",
              " 'again',\n",
              " 'against',\n",
              " 'ain',\n",
              " 'all',\n",
              " 'am',\n",
              " 'an',\n",
              " 'and',\n",
              " 'any',\n",
              " 'are',\n",
              " 'aren',\n",
              " \"aren't\",\n",
              " 'as',\n",
              " 'at',\n",
              " 'be',\n",
              " 'because',\n",
              " 'been',\n",
              " 'before',\n",
              " 'being',\n",
              " 'below',\n",
              " 'between',\n",
              " 'both',\n",
              " 'but',\n",
              " 'by',\n",
              " 'can',\n",
              " 'couldn',\n",
              " \"couldn't\",\n",
              " 'd',\n",
              " 'did',\n",
              " 'didn',\n",
              " \"didn't\",\n",
              " 'do',\n",
              " 'does',\n",
              " 'doesn',\n",
              " \"doesn't\",\n",
              " 'doing',\n",
              " 'don',\n",
              " \"don't\",\n",
              " 'down',\n",
              " 'during',\n",
              " 'each',\n",
              " 'few',\n",
              " 'for',\n",
              " 'from',\n",
              " 'further',\n",
              " 'had',\n",
              " 'hadn',\n",
              " \"hadn't\",\n",
              " 'has',\n",
              " 'hasn',\n",
              " \"hasn't\",\n",
              " 'have',\n",
              " 'haven',\n",
              " \"haven't\",\n",
              " 'having',\n",
              " 'he',\n",
              " 'her',\n",
              " 'here',\n",
              " 'hers',\n",
              " 'herself',\n",
              " 'him',\n",
              " 'himself',\n",
              " 'his',\n",
              " 'how',\n",
              " 'i',\n",
              " 'if',\n",
              " 'in',\n",
              " 'into',\n",
              " 'is',\n",
              " 'isn',\n",
              " \"isn't\",\n",
              " 'it',\n",
              " \"it's\",\n",
              " 'its',\n",
              " 'itself',\n",
              " 'just',\n",
              " 'll',\n",
              " 'm',\n",
              " 'ma',\n",
              " 'me',\n",
              " 'mightn',\n",
              " \"mightn't\",\n",
              " 'more',\n",
              " 'most',\n",
              " 'mustn',\n",
              " \"mustn't\",\n",
              " 'my',\n",
              " 'myself',\n",
              " 'needn',\n",
              " \"needn't\",\n",
              " 'no',\n",
              " 'nor',\n",
              " 'not',\n",
              " 'now',\n",
              " 'o',\n",
              " 'of',\n",
              " 'off',\n",
              " 'on',\n",
              " 'once',\n",
              " 'only',\n",
              " 'or',\n",
              " 'other',\n",
              " 'our',\n",
              " 'ours',\n",
              " 'ourselves',\n",
              " 'out',\n",
              " 'over',\n",
              " 'own',\n",
              " 're',\n",
              " 's',\n",
              " 'same',\n",
              " 'shan',\n",
              " \"shan't\",\n",
              " 'she',\n",
              " \"she's\",\n",
              " 'should',\n",
              " \"should've\",\n",
              " 'shouldn',\n",
              " \"shouldn't\",\n",
              " 'so',\n",
              " 'some',\n",
              " 'such',\n",
              " 't',\n",
              " 'than',\n",
              " 'that',\n",
              " \"that'll\",\n",
              " 'the',\n",
              " 'their',\n",
              " 'theirs',\n",
              " 'them',\n",
              " 'themselves',\n",
              " 'then',\n",
              " 'there',\n",
              " 'these',\n",
              " 'they',\n",
              " 'this',\n",
              " 'those',\n",
              " 'through',\n",
              " 'to',\n",
              " 'too',\n",
              " 'under',\n",
              " 'until',\n",
              " 'up',\n",
              " 've',\n",
              " 'very',\n",
              " 'was',\n",
              " 'wasn',\n",
              " \"wasn't\",\n",
              " 'we',\n",
              " 'were',\n",
              " 'weren',\n",
              " \"weren't\",\n",
              " 'what',\n",
              " 'when',\n",
              " 'where',\n",
              " 'which',\n",
              " 'while',\n",
              " 'who',\n",
              " 'whom',\n",
              " 'why',\n",
              " 'will',\n",
              " 'with',\n",
              " 'won',\n",
              " \"won't\",\n",
              " 'wouldn',\n",
              " \"wouldn't\",\n",
              " 'y',\n",
              " 'you',\n",
              " \"you'd\",\n",
              " \"you'll\",\n",
              " \"you're\",\n",
              " \"you've\",\n",
              " 'your',\n",
              " 'yours',\n",
              " 'yourself',\n",
              " 'yourselves'}"
            ]
          },
          "metadata": {
            "tags": []
          },
          "execution_count": 89
        }
      ]
    },
    {
      "cell_type": "code",
      "metadata": {
        "id": "oCOavlPAPSJ_",
        "colab_type": "code",
        "colab": {}
      },
      "source": [
        "porter = PorterStemmer()\n",
        "lancaster=LancasterStemmer()\n",
        "snowball = SnowballStemmer('english')"
      ],
      "execution_count": 0,
      "outputs": []
    },
    {
      "cell_type": "markdown",
      "metadata": {
        "id": "ov_hHYXEmb0d",
        "colab_type": "text"
      },
      "source": [
        "###Stemming"
      ]
    },
    {
      "cell_type": "code",
      "metadata": {
        "id": "bWHe7KnUQV1I",
        "colab_type": "code",
        "colab": {}
      },
      "source": [
        "# Stemming the tokens\n",
        "def stem_sentence(words, use=1):\n",
        "  if use==1:\n",
        "    stemmedTokens = [porter.stem(word) for word in words]\n",
        "  elif use==2:\n",
        "    stemmedTokens = [lancaster.stem(word) for word in words]\n",
        "  else:\n",
        "    stemmedTokens = [snowball.stem(word) for word in words]\n",
        "  return ' '.join(stemmedTokens)\n"
      ],
      "execution_count": 0,
      "outputs": []
    },
    {
      "cell_type": "code",
      "metadata": {
        "id": "KFZWSNad1qJF",
        "colab_type": "code",
        "colab": {}
      },
      "source": [
        "#Apply various stemmers to the Tokens\n",
        "def portstem(df):\n",
        "   df['PortStem'] =  df.apply(lambda row: stem_sentence(row['Tokens'],1), axis=1)\n",
        "   return df\n",
        "def lanstem(df):\n",
        "  df['LancStem'] =  df.apply(lambda row: stem_sentence(row['Tokens'],2), axis=1)\n",
        "  return df\n",
        "def snowstem(df):\n",
        "  df['SnowStem'] =  df.apply(lambda row: stem_sentence(row['Tokens'],3), axis=1)\n",
        "  return df\n",
        "  "
      ],
      "execution_count": 0,
      "outputs": []
    },
    {
      "cell_type": "code",
      "metadata": {
        "id": "Wc458GNyPZ9P",
        "colab_type": "code",
        "colab": {}
      },
      "source": [
        "#Porters Stemmer\n",
        "traindf = execute_in_parallel(traindf, portstem, mp.cpu_count())"
      ],
      "execution_count": 0,
      "outputs": []
    },
    {
      "cell_type": "code",
      "metadata": {
        "id": "vqX52BUJP3De",
        "colab_type": "code",
        "colab": {}
      },
      "source": [
        "#Snowball Stemmer\n",
        "traindf = execute_in_parallel(traindf, snowstem, mp.cpu_count())"
      ],
      "execution_count": 0,
      "outputs": []
    },
    {
      "cell_type": "code",
      "metadata": {
        "id": "qO1RuIy8QAoP",
        "colab_type": "code",
        "colab": {}
      },
      "source": [
        "#Lancester Stemmer\n",
        "traindf = execute_in_parallel(traindf, lanstem, mp.cpu_count())"
      ],
      "execution_count": 0,
      "outputs": []
    },
    {
      "cell_type": "markdown",
      "metadata": {
        "id": "i78Tuo6eMiOG",
        "colab_type": "text"
      },
      "source": [
        "*Using parallel processing, the stemming took 773 seconds*"
      ]
    },
    {
      "cell_type": "markdown",
      "metadata": {
        "id": "192xOMVtlHJz",
        "colab_type": "text"
      },
      "source": [
        "\n",
        "0.   Tokenizing        : 160.4 Seconds (nltk word tokenizer)\n",
        "1.   Porters Stemmer   : 386.8 Seconds\n",
        "2.   Lancester Stemmer : 730.191 Seconds\n",
        "3.   Snowball Stemmer  : 550.1 Seconds\n",
        "\n"
      ]
    },
    {
      "cell_type": "markdown",
      "metadata": {
        "id": "hGKPeOQeJFNn",
        "colab_type": "text"
      },
      "source": [
        "Original Text looks like this:"
      ]
    },
    {
      "cell_type": "markdown",
      "metadata": {
        "id": "D1UxtRJdIxc5",
        "colab_type": "text"
      },
      "source": [
        "**PorterStemmer** uses Suffix Stripping to produce stems. \n",
        "\n",
        "\n",
        ">PorterStemmer algorithm does not follow linguistics rather a set of 05 rules for different cases that are applied in phases (step by step) to generate stems\n",
        "\n",
        "---\n",
        "\n",
        "*`PorterStemmer is known for its simplicity and speed. It is commonly useful in Information Retrieval Environments known as IR Environments for fast recall and fetching of search queries.\n",
        " In a typical IR, environment documents are represented as vectors of words or terms. `*\n",
        "\n"
      ]
    },
    {
      "cell_type": "code",
      "metadata": {
        "id": "a99UK91LPas7",
        "colab_type": "code",
        "colab": {}
      },
      "source": [
        "#traindf['PortStem'] =  traindf.apply(lambda row: stem_sentence(row['Review'],1), axis=1)\n"
      ],
      "execution_count": 0,
      "outputs": []
    },
    {
      "cell_type": "code",
      "metadata": {
        "id": "U1OD93OLmeFn",
        "colab_type": "code",
        "colab": {
          "base_uri": "https://localhost:8080/",
          "height": 54
        },
        "outputId": "d7e67ca9-ec3b-489e-8d6b-a5ff8656af5b"
      },
      "source": [
        "traindf.loc[1,'PortStem']"
      ],
      "execution_count": 61,
      "outputs": [
        {
          "output_type": "execute_result",
          "data": {
            "text/plain": [
              "'organ kosher tasti assort of premium tea teasan numi s collect assort melang includ herbal tea caffein free also call teasan dri desert lime lime herbal teasan field of gold lemongrass herbal teasan red mellow bush rooibo herbal teasan bushmen s brew honeybush herbal teasan simpli mint moroccan mint green tea lower in caffein templ of heaven gunpowd green tea monkey king jasmin green tea black tea contain caffein chines breakfast yunnan black tea smoki tarri lapsang souchong black teathi is a total of nine differ tea two tea bag of each one in each box numi tea are known for their high qualiti organ and kosher ingredi and in my opinion are some of the tastiest and best tea i have ever tri they do not includ artifici ingredi or flavor on the box the manufactur write from mist cover mountain to sun drench desert to fertil field we proudli bring you our tea palett the flavor rang from smooth earthi and light floral scent to refreshingli sweet and sour note what they all share is the recollect of how some ancient one tame fire and water to coexist harmoni and steep in them the gift of natur sinc that distant past peopl have sooth rous heal explor and celebr with these wonder infus we encourag you to do the same with numi s finest the price is perfect a big save over singl box if you like numi tea and want to sampl a wonder assort get it you won t be sorri there may be some you like and other you don t but sampl them will be a delight experi if you are new to numi thi is an excel way to sampl their high qualiti tea i do not think you could find a better sourc of premium tea than numi highli recommend'"
            ]
          },
          "metadata": {
            "tags": []
          },
          "execution_count": 61
        }
      ]
    },
    {
      "cell_type": "markdown",
      "metadata": {
        "id": "xwfr6b1kJS4I",
        "colab_type": "text"
      },
      "source": [
        "**The LancasterStemmer** (Paice-Husk stemmer) is an iterative algorithm with rules saved externally. One table containing about 120 rules indexed by the last letter of a suffix.\n",
        "\n",
        ">   On each iteration, it tries to find an applicable rule by the last character of the word. Each rule specifies either a deletion or replacement of an ending. If there is no such rule, it terminates. It also terminates if a word starts with a vowel and there are only two letters left or if a word starts with a consonant and there are only three characters left. Otherwise, the rule is applied, and the process repeats.\n",
        "\n",
        "---\n",
        "\n",
        "*`LancasterStemmer is simple, but heavy stemming due to iterations and over-stemming may occur. Over-stemming causes the stems to be not linguistic, or they may have no meaning.`*\n",
        "\n"
      ]
    },
    {
      "cell_type": "code",
      "metadata": {
        "id": "e1xpKSjXTO-t",
        "colab_type": "code",
        "colab": {}
      },
      "source": [
        "#traindf['LancStem'] =  traindf.apply(lambda row: stem_sentence(row['Review'],2), axis=1)"
      ],
      "execution_count": 0,
      "outputs": []
    },
    {
      "cell_type": "code",
      "metadata": {
        "id": "ewdpu3Ndm8XR",
        "colab_type": "code",
        "colab": {
          "base_uri": "https://localhost:8080/",
          "height": 54
        },
        "outputId": "c935a6d7-673b-41b9-8b01-1cf49310ad51"
      },
      "source": [
        "traindf.loc[1,'LancStem']"
      ],
      "execution_count": 63,
      "outputs": [
        {
          "output_type": "execute_result",
          "data": {
            "text/plain": [
              "'org kosh tasty assort of prem tea teas num s collect assort melang includ herb tea caffein fre also cal teas dry desert lim lim herb teas field of gold lemongrass herb teas red mellow bush rooibo herb teas bushm s brew honeybush herb teas simply mint morocc mint green tea low in caffein templ of heav gunpowd green tea monkey king jasmin green tea black tea contain caffein chines breakfast yun black tea smoky tarry lapsang souchong black teath is a tot of nin diff tea two tea bag of each on in each box num tea ar known for their high qual org and kosh ingredy and in my opin ar som of the tastiest and best tea i hav ev tri they do not includ art ingredy or flav on the box the manufact writ from mist cov mountain to sun drench desert to fertil field we proud bring you our tea palet the flav rang from smoo earthy and light flor scent to refresh sweet and sour not what they al shar is the recollect of how som ant on tam fir and wat to coex harmony and steep in them the gift of nat sint that dist past peopl hav sooth rous heal expl and celebr with thes wond infus we enco you to do the sam with num s finest the pric is perfect a big sav ov singl box if you lik num tea and want to sampl a wond assort get it you won t be sorry ther may be som you lik and oth you don t but sampl them wil be a delight expery if you ar new to num thi is an excel way to sampl their high qual tea i do not think you could find a bet sourc of prem tea than num high recommend'"
            ]
          },
          "metadata": {
            "tags": []
          },
          "execution_count": 63
        }
      ]
    },
    {
      "cell_type": "code",
      "metadata": {
        "id": "Bo-5ApV7bpAg",
        "colab_type": "code",
        "colab": {}
      },
      "source": [
        "#split trainset, test set for Lancaster Stemmer\n",
        "#from sklearn.model_selection import train_test_split\n",
        "#X_lstrain, X_lstest, y_lstrain, y_lstest = train_test_split(df['Lanctem'], df['Score'], random_state = 0)\n"
      ],
      "execution_count": 0,
      "outputs": []
    },
    {
      "cell_type": "code",
      "metadata": {
        "colab_type": "code",
        "id": "S0KtjTFBqY7L",
        "colab": {}
      },
      "source": [
        "#save the dataframe to csv\n",
        "traindf.to_csv(stemfile, index=False)  "
      ],
      "execution_count": 0,
      "outputs": []
    },
    {
      "cell_type": "markdown",
      "metadata": {
        "id": "EgqmnSKl4FTz",
        "colab_type": "text"
      },
      "source": [
        "## **Lemmatization**"
      ]
    },
    {
      "cell_type": "markdown",
      "metadata": {
        "id": "i4QnxIOJ0Gh0",
        "colab_type": "text"
      },
      "source": [
        "###Lemmatization using NLTK"
      ]
    },
    {
      "cell_type": "code",
      "metadata": {
        "id": "JHbPIRx82DCQ",
        "colab_type": "code",
        "colab": {}
      },
      "source": [
        "from nltk.stem import WordNetLemmatizer\n",
        "lemmatizer = WordNetLemmatizer() "
      ],
      "execution_count": 0,
      "outputs": []
    },
    {
      "cell_type": "code",
      "metadata": {
        "id": "7s77bg5a6oz3",
        "colab_type": "code",
        "colab": {}
      },
      "source": [
        "def get_pos_tag(nltk_tag):\n",
        "  if nltk_tag.startswith('J'):\n",
        "    return wordnet.ADJ\n",
        "  elif nltk_tag.startswith('V'):\n",
        "    return wordnet.VERB\n",
        "  elif nltk_tag.startswith('N'):\n",
        "    return wordnet.NOUN\n",
        "  elif nltk_tag.startswith('R'):\n",
        "    return wordnet.ADV\n",
        "  else:          \n",
        "    return None"
      ],
      "execution_count": 0,
      "outputs": []
    },
    {
      "cell_type": "code",
      "metadata": {
        "id": "C_RcNz6P6roW",
        "colab_type": "code",
        "colab": {}
      },
      "source": [
        "def lemmatize(tokens):\n",
        "  nltk_tagged = nltk.pos_tag(tokens)  \n",
        "  wn_tagged = map(lambda x: (x[0], get_pos_tag(x[1])), nltk_tagged)\n",
        "  lem_words = []\n",
        "  for word, tag in wn_tagged:\n",
        "    if tag is None:            \n",
        "      lem_words.append(word)\n",
        "    else:\n",
        "      lem_words.append(lemmatizer.lemmatize(word, tag))\n",
        "  return \" \".join(lem_words)"
      ],
      "execution_count": 0,
      "outputs": []
    },
    {
      "cell_type": "code",
      "metadata": {
        "id": "VGXnvUl2EFSU",
        "colab_type": "code",
        "colab": {}
      },
      "source": [
        "def lemmatize_df(df) :\n",
        "  df['Lemmat'] =  df.apply(lambda row: lemmatize(row['Tokens']), axis=1)  "
      ],
      "execution_count": 0,
      "outputs": []
    },
    {
      "cell_type": "code",
      "metadata": {
        "id": "pyrFVHeTRoOE",
        "colab_type": "code",
        "outputId": "7392cb17-5934-4473-871a-a648b676a6c8",
        "colab": {
          "base_uri": "https://localhost:8080/",
          "height": 54
        }
      },
      "source": [
        "sample = lemmatize(traindf.loc[1,'Tokens'])\n",
        "print(sample)"
      ],
      "execution_count": 69,
      "outputs": [
        {
          "output_type": "stream",
          "text": [
            "organic kosher tasty assortment of premium tea teasans numi s collection assortment melange include herbal tea caffeine free also call teasans dry desert lime lime herbal teasan field of gold lemongrass herbal teasan red mellow bush rooibos herbal teasan bushman s brew honeybush herbal teasan simply mint moroccan mint green tea lower in caffeine temple of heaven gunpowder green tea monkey king jasmine green tea black tea contain caffeine chinese breakfast yunnan black tea smoky tarry lapsang souchong black teathis be a total of nine different tea two tea bag of each one in each box numi tea be know for their high quality organic and kosher ingredient and in my opinion be some of the tastiest and best tea i have ever try they do not include artificial ingredient or flavoring on the box the manufacturer write from mist cover mountain to sun drenched desert to fertile field we proudly bring you our tea palette the flavor range from smooth earthiness and light floral scent to refreshingly sweet and sour note what they all share be the recollection of how some ancient one tame fire and water to coexist harmoniously and steep in them the gift of nature since that distant past people have soothe rouse heal explored and celebrate with these wonderful infusion we encourage you to do the same with numi s fine the price be perfect a big saving over single box if you like numi tea and want to sample a wonderful assortment get it you win t be sorry there may be some you like and others you don t but sample them will be a delightful experience if you be new to numi this be an excellent way to sample their high quality tea i do not think you could find a good source of premium tea than numi highly recommend\n"
          ],
          "name": "stdout"
        }
      ]
    },
    {
      "cell_type": "code",
      "metadata": {
        "id": "J5TrleP-Eobl",
        "colab_type": "code",
        "outputId": "ee280d53-2d7f-4c5a-f941-72711968f27d",
        "colab": {
          "base_uri": "https://localhost:8080/",
          "height": 51
        }
      },
      "source": [
        "#traindf = execute_in_parallel(traindf, lemmatize_df, mp.cpu_count())\n",
        "pandarallel.initialize()\n",
        "tokendf = traindf.Tokens.parallel_apply(lemmatize)"
      ],
      "execution_count": 70,
      "outputs": [
        {
          "output_type": "stream",
          "text": [
            "INFO: Pandarallel will run on 4 workers.\n",
            "INFO: Pandarallel will use Memory file system to transfer data between the main process and workers.\n"
          ],
          "name": "stdout"
        }
      ]
    },
    {
      "cell_type": "markdown",
      "metadata": {
        "id": "GH2BQFvUv95P",
        "colab_type": "text"
      },
      "source": [
        "Lemmatization Execution took 1377.13 Seconds"
      ]
    },
    {
      "cell_type": "code",
      "metadata": {
        "id": "IDkIC2OxfVGd",
        "colab_type": "code",
        "outputId": "bed28145-c928-4052-cb98-6d3a0e6a3dd9",
        "colab": {
          "base_uri": "https://localhost:8080/",
          "height": 102
        }
      },
      "source": [
        "tokendf.describe()"
      ],
      "execution_count": 71,
      "outputs": [
        {
          "output_type": "execute_result",
          "data": {
            "text/plain": [
              "count                                                309190\n",
              "unique                                               308794\n",
              "top       my th favorite flavor diamond almondsalmonds b...\n",
              "freq                                                      5\n",
              "Name: Tokens, dtype: object"
            ]
          },
          "metadata": {
            "tags": []
          },
          "execution_count": 71
        }
      ]
    },
    {
      "cell_type": "code",
      "metadata": {
        "id": "eQPuTenlE9IB",
        "colab_type": "code",
        "colab": {}
      },
      "source": [
        "tokendf['Tokens'] = pd.DataFrame(tokendf)\n",
        "tokendf['Score'] = traindf['Score']\n",
        "traindf['Lemmat'] = tokendf['Tokens']\n"
      ],
      "execution_count": 0,
      "outputs": []
    },
    {
      "cell_type": "code",
      "metadata": {
        "id": "XRtI8GclhJlR",
        "colab_type": "code",
        "colab": {}
      },
      "source": [
        "#save to lemfile, as input to next part\n",
        "#traindf.to_csv(lemfile)"
      ],
      "execution_count": 0,
      "outputs": []
    },
    {
      "cell_type": "markdown",
      "metadata": {
        "id": "fiSGYxHbsnc-",
        "colab_type": "text"
      },
      "source": [
        "###Lemmatization using SpaCy"
      ]
    },
    {
      "cell_type": "code",
      "metadata": {
        "id": "P-cGg0ojsmri",
        "colab_type": "code",
        "colab": {}
      },
      "source": [
        "import spacy\n",
        "sp = spacy.load('en_core_web_sm')\n",
        "spacydf['Review'] = pd.DataFrame(traindf['Review'])\n",
        "\n",
        "def spacyTokenize(text):\n",
        "  sentence = sp(text)\n",
        "  return sentence"
      ],
      "execution_count": 0,
      "outputs": []
    },
    {
      "cell_type": "code",
      "metadata": {
        "id": "Z0RUvHQbvWw6",
        "colab_type": "code",
        "colab": {
          "base_uri": "https://localhost:8080/",
          "height": 54
        },
        "outputId": "d395de7d-3a07-4e61-ec5f-ad3e2e69e63f"
      },
      "source": [
        "#sample 1 record with spacy\n",
        "spacyTokenize(spacydf.loc[1,'Review'])"
      ],
      "execution_count": 103,
      "outputs": [
        {
          "output_type": "execute_result",
          "data": {
            "text/plain": [
              "Organic Kosher Tasty Assortment of Premium Teas Teasans Numi s Collection Assortment Melange includes Herbal Teas caffeine free also called teasans Dry Desert Lime Lime Herbal Teasan Fields of Gold Lemongrass Herbal Teasan Red Mellow Bush Rooibos Herbal Teasan Bushmen s Brew Honeybush Herbal Teasan Simply Mint Moroccan Mint Green Teas lower in caffeine Temple of Heaven Gunpowder Green Tea Monkey King Jasmine Green Tea Black Teas contain caffeine Chinese Breakfast Yunnan Black Tea Smoky Tarry Lapsang Souchong Black TeaThis is a total of nine different teas two tea bags of each one in each box Numi teas are known for their high quality organic and kosher ingredients and in my opinion are some of the tastiest and best teas I have ever tried They do not include artificial ingredients or flavorings On the box the manufacturer writes From mist covered mountains to sun drenched deserts to fertile fields we proudly bring you our tea palette The flavors range from smooth earthiness and light floral scents to refreshingly sweet and sour notes What they all share is the recollection of how some Ancient One tamed fire and water to coexist harmoniously and steeped in them the gifts of Nature Since that distant past people have soothed roused healed explored and celebrated with these wonderful infusions We encourage you to do the same with Numi s finest The price is perfect a big savings over single boxes If you like Numi teas and want to sample a wonderful assortment get it you won t be sorry There may be some you like and others you don t but sampling them will be a delightful experience If you are new to Numi this is an excellent way to sample their high quality teas I do not think you could find a better source of premium tea than Numi Highly recommended "
            ]
          },
          "metadata": {
            "tags": []
          },
          "execution_count": 103
        }
      ]
    },
    {
      "cell_type": "code",
      "metadata": {
        "id": "3JWd7TTNtOOA",
        "colab_type": "code",
        "colab": {
          "base_uri": "https://localhost:8080/",
          "height": 51
        },
        "outputId": "b6d708c5-a791-42d2-b430-bc60efcd6173"
      },
      "source": [
        "pandarallel.initialize()\n",
        "spacytdf = spacydf.Review.parallel_apply(spacyTokenize)"
      ],
      "execution_count": 0,
      "outputs": [
        {
          "output_type": "stream",
          "text": [
            "INFO: Pandarallel will run on 4 workers.\n",
            "INFO: Pandarallel will use Memory file system to transfer data between the main process and workers.\n"
          ],
          "name": "stdout"
        }
      ]
    },
    {
      "cell_type": "markdown",
      "metadata": {
        "id": "gV5h1fTnpEut",
        "colab_type": "text"
      },
      "source": [
        "##Comparison:"
      ]
    },
    {
      "cell_type": "code",
      "metadata": {
        "id": "TCrhaW8pqxup",
        "colab_type": "code",
        "colab": {
          "base_uri": "https://localhost:8080/",
          "height": 272
        },
        "outputId": "769500d9-db56-4a0a-9351-c9b726879926"
      },
      "source": [
        "traindf.info()"
      ],
      "execution_count": 80,
      "outputs": [
        {
          "output_type": "stream",
          "text": [
            "<class 'pandas.core.frame.DataFrame'>\n",
            "Int64Index: 309190 entries, 109293 to 162126\n",
            "Data columns (total 10 columns):\n",
            "Id            309190 non-null int64\n",
            "Score         309190 non-null int64\n",
            "Time          309190 non-null int64\n",
            "Review        309190 non-null object\n",
            "Positivity    309190 non-null int64\n",
            "Tokens        309190 non-null object\n",
            "PortStem      309190 non-null object\n",
            "SnowStem      309190 non-null object\n",
            "LancStem      309190 non-null object\n",
            "Lemmat        309190 non-null object\n",
            "dtypes: int64(4), object(6)\n",
            "memory usage: 35.9+ MB\n"
          ],
          "name": "stdout"
        }
      ]
    },
    {
      "cell_type": "code",
      "metadata": {
        "id": "tyBg4092pGGv",
        "colab_type": "code",
        "colab": {}
      },
      "source": [
        "def print_line(key, val):\n",
        "  print(\"{:>10} | {:20} |\".format(key, val))\n",
        "\n",
        "def compare_nmethod(indx=1):\n",
        "  print(\"Tokens from one of the Documents after stemming/lemmatization:\\n\")\n",
        "  print(\"--------------------------------------------------------------\")\n",
        "  print_line('Token', traindf.loc[indx,'Tokens'])\n",
        "  print_line('P.Stemmer', traindf.loc[indx,'PortStem'])\n",
        "  print_line('L.Stemmer', traindf.loc[indx,'LancStem'])\n",
        "  print_line('S.Stemmer', traindf.loc[indx,'SnowStem'])\n",
        "  print_line('NLTK Lemm.', traindf.loc[indx,'Lemmat'])\n",
        "  print_line('SpacyLemm.', 'Did not complete')\n"
      ],
      "execution_count": 0,
      "outputs": []
    },
    {
      "cell_type": "code",
      "metadata": {
        "id": "Huuc_NfxqkFQ",
        "colab_type": "code",
        "colab": {
          "base_uri": "https://localhost:8080/",
          "height": 173
        },
        "outputId": "2cf05f52-64f2-40c3-872a-9cc8d0fa3841"
      },
      "source": [
        "compare_nmethod(0)"
      ],
      "execution_count": 84,
      "outputs": [
        {
          "output_type": "stream",
          "text": [
            "Tokens from one of the Documents after stemming/lemmatization:\n",
            "\n",
            "--------------------------------------------------------------\n",
            "Token    :  ['very', 'good', 'i', 'received', 'this', 'product', 'early', 'from', 'the', 'seller', 'they', 'are', 'a', 'very', 'tastey', 'a', 'great', 'mid', 'day', 'snack', 'i', 'have', 'shared', 'them', 'with', 'my', 'glutten', 'free', 'friends', 'they', 'will', 'be', 'ordering', 'this', 'product', 'more', 'very', 'soon']\n",
            "PStem    :  veri good i receiv thi product earli from the seller they are a veri tastey a great mid day snack i have share them with my glutten free friend they will be order thi product more veri soon\n",
            "LStem    :  very good i receiv thi produc ear from the sel they ar a very tastey a gre mid day snack i hav shar them with my glut fre friend they wil be ord thi produc mor very soon\n",
            "SStem    :  veri good i receiv this product earli from the seller they are a veri tastey a great mid day snack i have share them with my glutten free friend they will be order this product more veri soon\n",
            "Lemmat   :  very good i receive this product early from the seller they be a very tastey a great mid day snack i have share them with my glutten free friend they will be order this product more very soon\n"
          ],
          "name": "stdout"
        }
      ]
    }
  ]
}